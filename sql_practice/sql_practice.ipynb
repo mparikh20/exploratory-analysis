{
 "cells": [
  {
   "cell_type": "code",
   "execution_count": 1,
   "id": "c98d74fb-e337-4978-8c37-b0f5d1b4f954",
   "metadata": {},
   "outputs": [
    {
     "name": "stdout",
     "output_type": "stream",
     "text": [
      "Collecting mysql-connector-python\n",
      "  Downloading mysql_connector_python-9.1.0-py2.py3-none-any.whl.metadata (6.0 kB)\n",
      "Downloading mysql_connector_python-9.1.0-py2.py3-none-any.whl (381 kB)\n",
      "\u001b[2K   \u001b[90m━━━━━━━━━━━━━━━━━━━━━━━━━━━━━━━━━━━━━━━━\u001b[0m \u001b[32m381.1/381.1 kB\u001b[0m \u001b[31m5.4 MB/s\u001b[0m eta \u001b[36m0:00:00\u001b[0ma \u001b[36m0:00:01\u001b[0m\n",
      "\u001b[?25hInstalling collected packages: mysql-connector-python\n",
      "Successfully installed mysql-connector-python-9.1.0\n"
     ]
    }
   ],
   "source": [
    "! pip install mysql-connector-python"
   ]
  },
  {
   "cell_type": "code",
   "execution_count": 4,
   "id": "8ff798c9-43f5-4fee-8099-042b0c53a8c0",
   "metadata": {},
   "outputs": [],
   "source": [
    "import mysql\n",
    "import pandas as pd"
   ]
  },
  {
   "cell_type": "markdown",
   "id": "4b4bb3e2-bc3b-461c-931b-59dec4c99ff5",
   "metadata": {},
   "source": [
    "# Using python to connect to a MySQL server, execute query, and load into a df"
   ]
  },
  {
   "cell_type": "raw",
   "id": "73efe0dd-9e3a-442e-bdbf-3b4e8c7e9719",
   "metadata": {},
   "source": [
    "connection = mysql.connector.connect(host,port,user,password,database)\n",
    "# Cursor\n",
    "cursor = connection.cursor()\n",
    "\n",
    "# QUERY\n",
    "query = '''\n",
    "SELECT col1,col2\n",
    "FROM sometable\n",
    "WHERE col1 == somevalue\n",
    "'''\n",
    "\n",
    "# execute query\n",
    "cursor.execute(query)\n",
    "\n",
    "# get the records\n",
    "rows = cursor.fetchall()\n",
    "row = cursor.fetchone()\n",
    "columns = [col[0] for col in cursor.description]\n",
    "connection.close()\n",
    "\n",
    "# load in df\n",
    "df = pd.DataFrame(rows,columns=columns)"
   ]
  },
  {
   "cell_type": "markdown",
   "id": "ff8aea00-4ba9-4779-a0f4-b2ea3ce433d7",
   "metadata": {},
   "source": [
    "# Writing queries that handle variables"
   ]
  },
  {
   "cell_type": "code",
   "execution_count": 6,
   "id": "d52e330c-787a-4e66-8274-6d9b10056289",
   "metadata": {},
   "outputs": [],
   "source": [
    "query = '''\n",
    "SELECT *\n",
    "FROM sometable\n",
    "WHERE DATE > {date}\n",
    "LIMIT {n}\n",
    "'''"
   ]
  },
  {
   "cell_type": "code",
   "execution_count": 8,
   "id": "3d8519a4-24d8-4691-bbbb-9b123c63c5bb",
   "metadata": {},
   "outputs": [
    {
     "name": "stdout",
     "output_type": "stream",
     "text": [
      "\n",
      "SELECT *\n",
      "FROM sometable\n",
      "WHERE DATE > 2023-01-01\n",
      "LIMIT 3\n",
      "\n"
     ]
    }
   ],
   "source": [
    "print(query.format(date='2023-01-01',n=3))"
   ]
  },
  {
   "cell_type": "raw",
   "id": "bf9e79a0-9dd2-4696-8725-a20c1003b44a",
   "metadata": {},
   "source": [
    "Question 1:\n",
    "You have a table called employees with the following columns:\n",
    "\n",
    "employee_id (INT)\n",
    "name (VARCHAR)\n",
    "department (VARCHAR)\n",
    "salary (FLOAT)\n",
    "Write a query to fetch:\n",
    "\n",
    "All unique department names from the employees table.\n",
    "Sort the result alphabetically.\n",
    "\n",
    "SELECT DISTINCT department\n",
    "FROM employees\n",
    "ORDER BY 1 ASC\n",
    "\n",
    "SELECT salary, name, department\n",
    "FROM employees\n",
    "ORDER BY 1 DESC\n",
    "LIMIT 3\n",
    "\n",
    "\n",
    "# get top 2 salaries per dept\n",
    "SELECT\n",
    "FROM employees e\n",
    "RANK"
   ]
  },
  {
   "cell_type": "code",
   "execution_count": null,
   "id": "3b48deff-499b-4286-9fd4-02702562352a",
   "metadata": {},
   "outputs": [],
   "source": []
  }
 ],
 "metadata": {
  "kernelspec": {
   "display_name": "Python 3 (ipykernel)",
   "language": "python",
   "name": "python3"
  },
  "language_info": {
   "codemirror_mode": {
    "name": "ipython",
    "version": 3
   },
   "file_extension": ".py",
   "mimetype": "text/x-python",
   "name": "python",
   "nbconvert_exporter": "python",
   "pygments_lexer": "ipython3",
   "version": "3.12.4"
  }
 },
 "nbformat": 4,
 "nbformat_minor": 5
}
