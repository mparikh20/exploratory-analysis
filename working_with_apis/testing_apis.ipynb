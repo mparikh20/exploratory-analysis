{
 "cells": [
  {
   "cell_type": "markdown",
   "id": "260773fb",
   "metadata": {},
   "source": [
    "# Overview"
   ]
  },
  {
   "cell_type": "code",
   "execution_count": null,
   "id": "4b49ff0f",
   "metadata": {},
   "outputs": [],
   "source": []
  },
  {
   "cell_type": "markdown",
   "id": "1b5fb576",
   "metadata": {},
   "source": [
    "# Imports"
   ]
  },
  {
   "cell_type": "code",
   "execution_count": 1,
   "id": "61a35c7f",
   "metadata": {},
   "outputs": [],
   "source": [
    "import requests"
   ]
  },
  {
   "cell_type": "code",
   "execution_count": 2,
   "id": "b92a66c9",
   "metadata": {},
   "outputs": [
    {
     "data": {
      "text/plain": [
       "'2.31.0'"
      ]
     },
     "execution_count": 2,
     "metadata": {},
     "output_type": "execute_result"
    }
   ],
   "source": [
    "requests.__version__"
   ]
  },
  {
   "cell_type": "markdown",
   "id": "49d54837",
   "metadata": {},
   "source": [
    "# Example 1 - accessing drug adverse event data from the openFDA website"
   ]
  },
  {
   "cell_type": "markdown",
   "id": "bfe03f66",
   "metadata": {},
   "source": [
    "* This is the base API listed in their documentation."
   ]
  },
  {
   "cell_type": "code",
   "execution_count": 20,
   "id": "a2135226",
   "metadata": {},
   "outputs": [],
   "source": [
    "link = \"https://api.fda.gov/drug/label.json\""
   ]
  },
  {
   "cell_type": "code",
   "execution_count": 21,
   "id": "500ea9f2",
   "metadata": {
    "scrolled": false
   },
   "outputs": [],
   "source": [
    "response = requests.get(link)"
   ]
  },
  {
   "cell_type": "markdown",
   "id": "39314453",
   "metadata": {},
   "source": [
    "* We can see the status of the request from the response object"
   ]
  },
  {
   "cell_type": "code",
   "execution_count": 18,
   "id": "5d8f2cd7",
   "metadata": {},
   "outputs": [
    {
     "data": {
      "text/plain": [
       "200"
      ]
     },
     "execution_count": 18,
     "metadata": {},
     "output_type": "execute_result"
    }
   ],
   "source": [
    "# This code means the request was successful. There are different codes such as 400 which means bad request.\n",
    "response.status_code"
   ]
  },
  {
   "cell_type": "markdown",
   "id": "aa014f89",
   "metadata": {},
   "source": [
    "* The response object is a json "
   ]
  },
  {
   "cell_type": "code",
   "execution_count": 19,
   "id": "760b73d9",
   "metadata": {},
   "outputs": [
    {
     "data": {
      "text/plain": [
       "{'meta': {'disclaimer': 'Do not rely on openFDA to make decisions regarding medical care. While we make every effort to ensure that data is accurate, you should assume all results are unvalidated. We may limit or otherwise restrict your access to the API in line with our Terms of Service.',\n",
       "  'terms': 'https://open.fda.gov/terms/',\n",
       "  'license': 'https://open.fda.gov/license/',\n",
       "  'last_updated': '2024-01-25',\n",
       "  'results': {'skip': 0, 'limit': 2, 'total': 220227}},\n",
       " 'results': [{'effective_time': '20210902',\n",
       "   'inactive_ingredient': ['INACTIVE INGREDIENTS Sucrose'],\n",
       "   'purpose': ['USES USES: Temporary Relief - Acne, Boils* * Claims based on traditional homeopathic practice, not accepted medical evidence. Not FDA evaluated.'],\n",
       "   'keep_out_of_reach_of_children': ['Keep this and all medication out of reach of children'],\n",
       "   'warnings': ['WARNINGS This product is to be used for self-limiting conditions If symptoms do not improve in 4 days, or worsen, discontinue use and seek assistance of health professional. As with any drug, if you are pregnant, or nursing a baby, seek professional advice before taking this product. Keep this and all medication out of reach of children Do not use if capseal is broken or missing. Close the cap tightly after use.'],\n",
       "   'questions': ['QUESTIONS OR COMMENTS www.Rxhomeo.com | 1.888.2796642 | info@rxhomeo.com Rxhomeo, Inc 3200 Commander Dr, Ste 100-W1, Carrollton, TX 75006 USA'],\n",
       "   'spl_product_data_elements': ['SILICEA SILICEA SUCROSE SILICON DIOXIDE SILICON DIOXIDE'],\n",
       "   'openfda': {'brand_name': ['SILICEA'],\n",
       "    'generic_name': ['SILICEA'],\n",
       "    'manufacturer_name': ['Rxhomeo Private Limited d.b.a. Rxhomeo, Inc'],\n",
       "    'product_ndc': ['15631-0404'],\n",
       "    'product_type': ['HUMAN OTC DRUG'],\n",
       "    'route': ['ORAL'],\n",
       "    'substance_name': ['SILICON DIOXIDE'],\n",
       "    'spl_id': ['ca7bbcc8-2354-375c-e053-2995a90a72a0'],\n",
       "    'spl_set_id': ['0000025c-6dbf-4af7-a741-5cbacaed519a'],\n",
       "    'package_ndc': ['15631-0404-0',\n",
       "     '15631-0404-1',\n",
       "     '15631-0404-2',\n",
       "     '15631-0404-3',\n",
       "     '15631-0404-4',\n",
       "     '15631-0404-5',\n",
       "     '15631-0404-6',\n",
       "     '15631-0404-7'],\n",
       "    'is_original_packager': [True],\n",
       "    'upc': ['8907460005526'],\n",
       "    'unii': ['ETJ7Z6XBU4']},\n",
       "   'version': '2',\n",
       "   'dosage_and_administration': ['DOSAGE Adults- Take 4 or 6 Pellets by mouth, three times daily or as suggested by physician. Children 2 years and older- take 1/2 the adult dose.'],\n",
       "   'pregnancy_or_breast_feeding': ['As with any drug, if you are pregnant, or nursing a baby, seek professional advice before taking this product.'],\n",
       "   'stop_use': ['If symptoms do not improve in 4 days, or worsen, discontinue use and seek assistance of health professional.'],\n",
       "   'storage_and_handling': ['STORAGE Store in a cool dark place'],\n",
       "   'do_not_use': ['Do not use if capseal is broken or missing. Close the cap tightly after use.'],\n",
       "   'package_label_principal_display_panel': ['Mini-Label Label-Pellets Blister-Pack Carton-Pack'],\n",
       "   'indications_and_usage': ['INDICATIONS Condition listed above or as directed by the physician'],\n",
       "   'set_id': '0000025c-6dbf-4af7-a741-5cbacaed519a',\n",
       "   'id': 'ca7bbcc8-2354-375c-e053-2995a90a72a0',\n",
       "   'active_ingredient': ['ACTIVE INGREDIENT SILICEA HPUS 2X and higher']},\n",
       "  {'effective_time': '20150109',\n",
       "   'inactive_ingredient': ['INGREDIENTS: TALC, POLYMETHYL METHACRYLATE, VINYL DIMETHICONE/METHICONE SILSESQUIOXANE CROSSPOLYMER, CALCIUM SILICATE, TRIETHYLHEXANOIN, ALUMINUM HYDROXIDE, LAUROYL LYSINE, METHICONE, PHENOXYETHANOL, DIMETHICONE, ALUMINUM DIMYRISTATE, HYDROXYAPATITIE [+/-: MICA (CI77019), IRON OXIDES (CI 77491/CI 77492/CI 77499)]'],\n",
       "   'purpose': ['Purpose Sunscreen'],\n",
       "   'keep_out_of_reach_of_children': ['Keep out of reach of children If product is swallowed, get medical help or contact a Poison Control Center right away'],\n",
       "   'warnings': ['Warnings For external use only.'],\n",
       "   'when_using': ['When using this product keep out of eyes. Rinse with water to remove.'],\n",
       "   'spl_product_data_elements': ['CHANTECAILLE PROTECTION NATURELLE BRONZE SPF 46 TITANIUM DIOXIDE, OCTINOXATE, ZINC OXIDE TITANIUM DIOXIDE TITANIUM DIOXIDE OCTINOXATE OCTINOXATE ZINC OXIDE ZINC OXIDE TALC CALCIUM SILICATE TRIETHYLHEXANOIN ALUMINUM HYDROXIDE LAUROYL LYSINE PHENOXYETHANOL DIMETHICONE ALUMINUM DIMYRISTATE MICA FERRIC OXIDE RED'],\n",
       "   'openfda': {},\n",
       "   'version': '4',\n",
       "   'dosage_and_administration': ['Directions Protection Naturelle SPF 46 PA+++ Powder can be used on clean skin or over makeup. Shake lightly to activate the flow of powder. Sweep the brush all over the face to evenly distribute powder for immediate UVA/UVB protection.'],\n",
       "   'package_label_principal_display_panel': ['CHANTECAILLE Protection Naturelle SPF 46 PA+++ Powder NET WT. 0.088 OZ. 2.5g e',\n",
       "    'CHANTECAILLE PROTECTION NATURELLE BRONZE SPF 46 .088OZ/2.5g (42893-030-00) CHANTECAILLE PROTECTION NATURELLE SPF 46'],\n",
       "   'indications_and_usage': ['Uses Multi-purpose mineral powder provides broad-spectrum SPF 46 PA+++ protection. Leaves the skin flawless and protected.'],\n",
       "   'set_id': '0000076a-fc39-4208-ace8-6c2cb367904f',\n",
       "   'id': 'f229e866-5775-4e42-a316-8480dd92fec6',\n",
       "   'active_ingredient': ['BRONZE ACTIVE INGREDIENTS: TITANIUM DIOXIDE 2 %, ETHYLHEXYL METHOXYCINNAMATE 7%, ZINC OXIDE 24.5%']}]}"
      ]
     },
     "execution_count": 19,
     "metadata": {},
     "output_type": "execute_result"
    }
   ],
   "source": [
    "response.json()"
   ]
  },
  {
   "cell_type": "code",
   "execution_count": null,
   "id": "7d23c0b3",
   "metadata": {},
   "outputs": [],
   "source": []
  }
 ],
 "metadata": {
  "kernelspec": {
   "display_name": "Python 3 (ipykernel)",
   "language": "python",
   "name": "python3"
  },
  "language_info": {
   "codemirror_mode": {
    "name": "ipython",
    "version": 3
   },
   "file_extension": ".py",
   "mimetype": "text/x-python",
   "name": "python",
   "nbconvert_exporter": "python",
   "pygments_lexer": "ipython3",
   "version": "3.9.12"
  }
 },
 "nbformat": 4,
 "nbformat_minor": 5
}
