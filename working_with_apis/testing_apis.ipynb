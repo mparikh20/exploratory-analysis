{
 "cells": [
  {
   "cell_type": "markdown",
   "id": "6a63c821",
   "metadata": {},
   "source": [
    "# Overview"
   ]
  },
  {
   "cell_type": "code",
   "execution_count": null,
   "id": "83c95050",
   "metadata": {},
   "outputs": [],
   "source": []
  },
  {
   "cell_type": "markdown",
   "id": "230d45b1",
   "metadata": {},
   "source": [
    "# Imports"
   ]
  },
  {
   "cell_type": "code",
   "execution_count": 1,
   "id": "298e753f",
   "metadata": {},
   "outputs": [],
   "source": [
    "import requests"
   ]
  },
  {
   "cell_type": "code",
   "execution_count": 2,
   "id": "01cbcbf6",
   "metadata": {},
   "outputs": [
    {
     "data": {
      "text/plain": [
       "'2.31.0'"
      ]
     },
     "execution_count": 2,
     "metadata": {},
     "output_type": "execute_result"
    }
   ],
   "source": [
    "requests.__version__"
   ]
  },
  {
   "cell_type": "markdown",
   "id": "24578ca1",
   "metadata": {},
   "source": [
    "# Identifying the workflow for PubMed article abstract extraction using a small test case"
   ]
  },
  {
   "cell_type": "markdown",
   "id": "7f656b79",
   "metadata": {},
   "source": [
    "## Step 1 - querying PubMed and retrieving a list of IDs matching the search"
   ]
  },
  {
   "cell_type": "markdown",
   "id": "3c98d217",
   "metadata": {},
   "source": [
    "**References and guides**\n",
    "\n",
    "1. The base query, some example searches, and XML output parameters can be found here:\n",
    "https://www.ncbi.nlm.nih.gov/books/NBK25500/\n",
    "\n",
    "2. Parameters and syntax in depth:\n",
    "https://www.ncbi.nlm.nih.gov/books/NBK25499/\n",
    "\n",
    "3. These are the PubMed specific search term fields and their tags that should be used to construct the query:\n",
    "https://pubmed.ncbi.nlm.nih.gov/help/#tiab\n",
    "\n",
    "4. As seen in the url_suffix variable, it uses an 'Esearch' utility. There are a total of 9 functionalities under eutils (see base url). Others can be found here:\n",
    "https://www.ncbi.nlm.nih.gov/books/NBK25497/\n",
    "\n",
    "5. Alternative python package: https://www.ncbi.nlm.nih.gov/pmc/articles/PMC6821292/ (Not used here.)\n",
    "\n",
    "6. EDirect - for batch access using command line\n",
    "https://www.ncbi.nlm.nih.gov/books/NBK179288/"
   ]
  },
  {
   "cell_type": "markdown",
   "id": "7d7adbe0",
   "metadata": {},
   "source": [
    "**Notes**\n",
    "* This API returns an XML output and not a json. \n",
    "* By default, it will only return 20 IDs.\n",
    "* However, the Count parameter within the XML output shows the total number of records matching the search query.\n",
    "* To establish workflow, a small query was searched - papers with ALK and GBM in the title or abstract."
   ]
  },
  {
   "cell_type": "code",
   "execution_count": 3,
   "id": "f52b9276",
   "metadata": {},
   "outputs": [],
   "source": [
    "base_url = 'https://eutils.ncbi.nlm.nih.gov/entrez/eutils/'"
   ]
  },
  {
   "cell_type": "code",
   "execution_count": 29,
   "id": "64ac77bd",
   "metadata": {},
   "outputs": [],
   "source": [
    "# Specify search parameters\n",
    "database = 'pubmed'\n",
    "query = 'glioblastoma[tiab]+AND+ALK[tiab]'\n",
    "\n",
    "# index of the first record. When doing calls in a for loop, this number can be incremented by adding the maximum records being extracted\n",
    "retstart = '0'\n",
    "\n",
    "# max. number of records to obtain. The default is 20 and the max. allowable IDs returned are 10,000\n",
    "retmax = 100\n",
    "\n",
    "# output type. The default is XML.\n",
    "retmode = 'json'"
   ]
  },
  {
   "cell_type": "code",
   "execution_count": 30,
   "id": "2ea7f2da",
   "metadata": {},
   "outputs": [],
   "source": [
    "'''The usehistory = y means it will save the IDs from the search on the server \n",
    "so that these can then be used for a subsequent call to then extract the abstract using another utility like Efetch.'''\n",
    "\n",
    "search_suffix = f'esearch.fcgi?db={database}&term={query}&usehistory=y&retmode={retmode}&retstart={retstart}&retmax={retmax}'"
   ]
  },
  {
   "cell_type": "code",
   "execution_count": 31,
   "id": "d9c00be7",
   "metadata": {},
   "outputs": [],
   "source": [
    "search_url = base_url + search_suffix"
   ]
  },
  {
   "cell_type": "code",
   "execution_count": 32,
   "id": "7e83fa74",
   "metadata": {},
   "outputs": [
    {
     "data": {
      "text/plain": [
       "'https://eutils.ncbi.nlm.nih.gov/entrez/eutils/esearch.fcgi?db=pubmed&term=glioblastoma[tiab]+AND+ALK[tiab]&usehistory=y&retmode=json&retstart=0&retmax=100'"
      ]
     },
     "execution_count": 32,
     "metadata": {},
     "output_type": "execute_result"
    }
   ],
   "source": [
    "search_url"
   ]
  },
  {
   "cell_type": "code",
   "execution_count": 33,
   "id": "ff574307",
   "metadata": {},
   "outputs": [],
   "source": [
    "response = requests.get(search_url)"
   ]
  },
  {
   "cell_type": "markdown",
   "id": "98dc30ea",
   "metadata": {},
   "source": [
    "* This code means the request was successful. There are different codes such as 400 which means bad request."
   ]
  },
  {
   "cell_type": "code",
   "execution_count": 34,
   "id": "b2c117f4",
   "metadata": {},
   "outputs": [
    {
     "data": {
      "text/plain": [
       "200"
      ]
     },
     "execution_count": 34,
     "metadata": {},
     "output_type": "execute_result"
    }
   ],
   "source": [
    "response.status_code"
   ]
  },
  {
   "cell_type": "code",
   "execution_count": 35,
   "id": "7a8d19a1",
   "metadata": {},
   "outputs": [
    {
     "data": {
      "text/plain": [
       "'UTF-8'"
      ]
     },
     "execution_count": 35,
     "metadata": {},
     "output_type": "execute_result"
    }
   ],
   "source": [
    "response.encoding"
   ]
  },
  {
   "cell_type": "markdown",
   "id": "b43a10b7",
   "metadata": {},
   "source": [
    "* The default output is XML, however the retreival mode can be set to return a json.\n",
    "* Also, the number of records was confirmed by searching manually on PubMed: https://pubmed.ncbi.nlm.nih.gov/?term=%28ALK%5BTitle%2FAbstract%5D%29+AND+%28glioblastoma%5BTitle%2FAbstract%5D%29&sort="
   ]
  },
  {
   "cell_type": "code",
   "execution_count": 43,
   "id": "27c0702b",
   "metadata": {},
   "outputs": [
    {
     "data": {
      "text/plain": [
       "{'header': {'type': 'esearch', 'version': '0.3'},\n",
       " 'esearchresult': {'count': '76',\n",
       "  'retmax': '76',\n",
       "  'retstart': '0',\n",
       "  'querykey': '1',\n",
       "  'webenv': 'MCID_65badeba27a5c1011c1c31f8',\n",
       "  'idlist': ['38285799',\n",
       "   '37939020',\n",
       "   '37861443',\n",
       "   '37271069',\n",
       "   '37260294',\n",
       "   '37240478',\n",
       "   '37168365',\n",
       "   '36823756',\n",
       "   '36780194',\n",
       "   '36707425',\n",
       "   '35724395',\n",
       "   '35625997',\n",
       "   '35190826',\n",
       "   '34702773',\n",
       "   '34626238',\n",
       "   '34341009',\n",
       "   '34323181',\n",
       "   '34015889',\n",
       "   '33966367',\n",
       "   '33887544',\n",
       "   '33853673',\n",
       "   '33728771',\n",
       "   '33486679',\n",
       "   '33341678',\n",
       "   '33109342',\n",
       "   '32866816',\n",
       "   '32308772',\n",
       "   '31875306',\n",
       "   '31776900',\n",
       "   '31483918',\n",
       "   '31399568',\n",
       "   '30894200',\n",
       "   '30065256',\n",
       "   '29336268',\n",
       "   '28960893',\n",
       "   '28912153',\n",
       "   '28837676',\n",
       "   '28484053',\n",
       "   '28465216',\n",
       "   '28459464',\n",
       "   '28090572',\n",
       "   '28069875',\n",
       "   '27993946',\n",
       "   '27579614',\n",
       "   '27178681',\n",
       "   '27046135',\n",
       "   '26939704',\n",
       "   '26648752',\n",
       "   '26498130',\n",
       "   '26438251',\n",
       "   '26235020',\n",
       "   '26090865',\n",
       "   '25882777',\n",
       "   '25733882',\n",
       "   '25500544',\n",
       "   '25165192',\n",
       "   '24936972',\n",
       "   '24476492',\n",
       "   '24218589',\n",
       "   '23686309',\n",
       "   '23543207',\n",
       "   '23267434',\n",
       "   '22500682',\n",
       "   '19633684',\n",
       "   '19455469',\n",
       "   '19275511',\n",
       "   '19177199',\n",
       "   '17904822',\n",
       "   '17694547',\n",
       "   '17004103',\n",
       "   '16123598',\n",
       "   '15986444',\n",
       "   '15908427',\n",
       "   '12122009',\n",
       "   '12115586',\n",
       "   '11809760'],\n",
       "  'translationset': [],\n",
       "  'querytranslation': '\"glioblastoma\"[Title/Abstract] AND \"ALK\"[Title/Abstract]'}}"
      ]
     },
     "execution_count": 43,
     "metadata": {},
     "output_type": "execute_result"
    }
   ],
   "source": [
    "response.json()"
   ]
  },
  {
   "cell_type": "markdown",
   "id": "befe5376",
   "metadata": {},
   "source": [
    "## Step 2 - Extracting title and abstract for a given PubMed identifier - Get content for PMIDs using the efetch utility using IDs stored on the server."
   ]
  },
  {
   "cell_type": "markdown",
   "id": "fa5168ea",
   "metadata": {},
   "source": [
    "**Notes**\n",
    "\n",
    "* The esearch utility used above only returns a list of identifers matching the query terms.\n",
    "* In order to extract other information such as title, abstract, another utility called Efetch has to be used."
   ]
  },
  {
   "cell_type": "code",
   "execution_count": 89,
   "id": "36c7e00c",
   "metadata": {},
   "outputs": [
    {
     "data": {
      "text/plain": [
       "'https://eutils.ncbi.nlm.nih.gov/entrez/eutils/'"
      ]
     },
     "execution_count": 89,
     "metadata": {},
     "output_type": "execute_result"
    }
   ],
   "source": [
    "# The base url and database fields have already been defined above:\n",
    "base_url"
   ]
  },
  {
   "cell_type": "code",
   "execution_count": 45,
   "id": "eac4acc7",
   "metadata": {},
   "outputs": [
    {
     "data": {
      "text/plain": [
       "'pubmed'"
      ]
     },
     "execution_count": 45,
     "metadata": {},
     "output_type": "execute_result"
    }
   ],
   "source": [
    "database"
   ]
  },
  {
   "cell_type": "code",
   "execution_count": 80,
   "id": "f147f80d",
   "metadata": {},
   "outputs": [],
   "source": [
    "# Test one of the ids from the XML output above:\n",
    "\n",
    "rettype = 'abstract'\n",
    "retmode = 'text'"
   ]
  },
  {
   "cell_type": "code",
   "execution_count": 88,
   "id": "575a2263",
   "metadata": {},
   "outputs": [],
   "source": [
    "# fetchurl_suffix = f'efetch.fcgi?db={database}&id={ids_of_interest}&rettype={rettype}&retmode={retmode}'\n"
   ]
  },
  {
   "cell_type": "markdown",
   "id": "4d7f7301",
   "metadata": {},
   "source": [
    "* Alternatively, if ids are not stored on the server using the usehistory=y in esearch, then here the search term should then include 'ids=38285799,37939020'. A comma separated list of ids can be passed here. \n",
    "* However, storing the id list on the server and then retrieving the querykey and webenv values will enable storing all IDs and it's not necessary to pass a really long list in case of multiple IDs."
   ]
  },
  {
   "cell_type": "code",
   "execution_count": 81,
   "id": "ce80aa6a",
   "metadata": {},
   "outputs": [],
   "source": [
    "# The query_key and web_env values can be obtained from the Esearch result above. \n",
    "# This stores the ids on the server for subsequent access to be used in another functionality.\n",
    "query_key=response.json()['esearchresult']['querykey']\n",
    "web_env = response.json()['esearchresult']['webenv']\n",
    "\n",
    "fetchurl_suffix = f'efetch.fcgi?db={database}&query_key={query_key}&WebEnv={web_env}&rettype={rettype}&retmode={retmode}'\n"
   ]
  },
  {
   "cell_type": "code",
   "execution_count": 82,
   "id": "820b2f35",
   "metadata": {},
   "outputs": [
    {
     "data": {
      "text/plain": [
       "'https://eutils.ncbi.nlm.nih.gov/entrez/eutils/efetch.fcgi?db=pubmed&query_key=1&WebEnv=MCID_65badeba27a5c1011c1c31f8&rettype=abstract&retmode=text'"
      ]
     },
     "execution_count": 82,
     "metadata": {},
     "output_type": "execute_result"
    }
   ],
   "source": [
    "fetch_url = base_url + fetchurl_suffix\n",
    "fetch_url"
   ]
  },
  {
   "cell_type": "code",
   "execution_count": 83,
   "id": "9234d044",
   "metadata": {},
   "outputs": [],
   "source": [
    "fetch_response = requests.get(fetch_url)"
   ]
  },
  {
   "cell_type": "code",
   "execution_count": 84,
   "id": "a07bf3f7",
   "metadata": {},
   "outputs": [
    {
     "data": {
      "text/plain": [
       "200"
      ]
     },
     "execution_count": 84,
     "metadata": {},
     "output_type": "execute_result"
    }
   ],
   "source": [
    "fetch_response.status_code"
   ]
  },
  {
   "cell_type": "code",
   "execution_count": 85,
   "id": "b00257bd",
   "metadata": {},
   "outputs": [
    {
     "data": {
      "text/plain": [
       "str"
      ]
     },
     "execution_count": 85,
     "metadata": {},
     "output_type": "execute_result"
    }
   ],
   "source": [
    "type(fetch_response.text)"
   ]
  },
  {
   "cell_type": "markdown",
   "id": "af45dafe",
   "metadata": {},
   "source": [
    "* The first 3 abstracts are shown as an example output. But this variable holds a string containing all 76 IDs for papers for GBM and ALK terms.\n",
    "* Alternatively, if retmode=xml is set in the url then the output will be of XML format."
   ]
  },
  {
   "cell_type": "code",
   "execution_count": 87,
   "id": "82c3ab9f",
   "metadata": {
    "scrolled": false
   },
   "outputs": [
    {
     "name": "stdout",
     "output_type": "stream",
     "text": [
      "1. Asian Pac J Cancer Prev. 2024 Jan 1;25(1):317-323. doi: \n",
      "10.31557/APJCP.2024.25.1.317.\n",
      "\n",
      "Evaluation of Immunohistochemical Expression of ALK-1 in Gliomas, WHO Grade 4 \n",
      "and Its Correlation with IDH1-R132H Mutation Status.\n",
      "\n",
      "Khairy RA(1), Momtaz EM(1), Abd El Aziz AM(1), Shibel PEE(1).\n",
      "\n",
      "Author information:\n",
      "(1)Department of Pathology, Faculty of Medicine, Cairo University, Egypt.\n",
      "\n",
      "BACKGROUND: Glioblastoma (GB), a grade 4 glioma is the most common primary \n",
      "malignant brain tumor in adults. Recently, the mutation status of isocitrate \n",
      "dehydrogenase (IDH) has been crucial in the treatment of GB. IDH mutant cases \n",
      "display a more favorable prognosis than IDH-wild type ones. The anaplastic \n",
      "lymphoma kinase (ALK) is expressed as a receptor tyrosine kinase in both the \n",
      "developing central and peripheral nervous systems. Increasing lines of evidence \n",
      "suggest that ALK is over-expressed in GB and represents a potential therapeutic \n",
      "target.\n",
      "OBJECTIVES: The goal of the current study was to investigate ALK-1 \n",
      "immunohistochemical expression in gliomas, grade 4, besides its correlation with \n",
      "IDH1-R132H mutation status and the clinicopathological parameters of the tumors.\n",
      "MATERIAL AND METHODS: Seventy cases of gliomas, grade 4 were tested for \n",
      "immunohistochemical expression of ALK-1 & IDH1-R132H in the tumor cells.\n",
      "RESULTS: ALK-1 immunoexpression was detected in 22.9% of our cases and \n",
      "IDH1-R132H mutation was detected in 12.9% of them. ALK-1 expression (100%) was \n",
      "only detected in the more aggressive IDH R132H-negative GBs. ALK-1 expression \n",
      "was also noted in the larger-sized tumors, more in males and patients older than \n",
      "the mean age.  Conclusion: Our results suggest that mutations in ALK-1 may \n",
      "predict a more dismal prognosis since ALK expression was only noted in IDH-R132H \n",
      "negative GBs known to have a considerably poorer outcome compared to IDH-R132H \n",
      "mutant cases. GBs with detectable ALK-protein expression could potentially \n",
      "experience substantial clinical advantages through the utilization of newly \n",
      "introduced ALK inhibitors allowing personalized treatment to a subset of \n",
      "patients. Hence, future studies targeting ALK in IDH wildtype Glioblastomas \n",
      "including clinical trials on larger scales are recommended.\n",
      "\n",
      "DOI: 10.31557/APJCP.2024.25.1.317\n",
      "PMID: 38285799 [Indexed for MEDLINE]\n",
      "\n",
      "\n",
      "2. Mol Pharm. 2023 Dec 4;20(12):6140-6150. doi:\n",
      "10.1021/acs.molpharmaceut.3c00496.  Epub 2023 Nov 8.\n",
      "\n",
      "Cyanine Dye Conjugation Enhances Crizotinib Localization to Intracranial Tumors, \n",
      "Attenuating NF-κB-Inducing Kinase Activity and Glioma Progression.\n",
      "\n",
      "Pflug KM(1), Lee DW(1), Tripathi A(1), Bankaitis VA(1), Burgess K(2), Sitcheran \n",
      "R(1).\n",
      "\n",
      "Author information:\n",
      "(1)Department of Cellular Biology and Genetics, Texas A&M University Health \n",
      "Science Center , College Station, Texas 77807, United States.\n",
      "(2)Department of Chemistry, Texas A&M University, Box 30012, College Station, \n",
      "Texas 77842, United States.\n",
      "\n",
      "Glioblastoma (GBM) is a highly aggressive form of brain cancer with a poor \n",
      "prognosis and limited treatment options. The ALK and c-MET inhibitor Crizotinib \n",
      "has demonstrated preclinical therapeutic potential for newly diagnosed GBM, \n",
      "although its efficacy is limited by poor penetration of the blood brain barrier. \n",
      "Here, we identify Crizotinib as a novel inhibitor of nuclear factor-κB \n",
      "(NF-κB)-inducing kinase, which is a key regulator of GBM growth and \n",
      "proliferation. We further show that the conjugation of Crizotinib to a \n",
      "heptamethine cyanine dye, or a near-infrared dye (IR-Crizotinib), attenuated \n",
      "glioma cell proliferation and survival in vitro to a greater extent than \n",
      "unconjugated Crizotinib. Moreover, we observed increased IR-Crizotinib \n",
      "localization to orthotopic mouse xenograft GBM tumors, which resulted in \n",
      "impaired tumor growth in vivo. Overall, IR-Crizotinib exhibited improved \n",
      "intracranial chemotherapeutic delivery and tumor localization with concurrent \n",
      "inhibition of NIK and noncanonical NF-κB signaling, thereby reducing glioma \n",
      "growth in vitro, as well as in vivo, and increasing survival in a preclinical \n",
      "rodent model.\n",
      "\n",
      "DOI: 10.1021/acs.molpharmaceut.3c00496\n",
      "PMCID: PMC10698717\n",
      "PMID: 37939020 [Indexed for MEDLINE]\n",
      "\n",
      "Conflict of interest statement: The authors declare no competing financial \n",
      "interest.\n",
      "\n",
      "\n",
      "3. J Med Chem. 2023 Nov 9;66(21):14609-14622. doi: 10.1021/acs.jmedchem.3c01090. \n",
      "Epub 2023 Oct 20.\n",
      "\n",
      "Synthesis and Bioevaluation of 3-(Arylmethylene)indole Derivatives: Discovery of \n",
      "a Novel ALK Modulator with Antiglioblastoma Activities.\n",
      "\n",
      "Feng L(1), Chen X(1), Sheng G(1), Li Y(1), Li Y(1), Zhang Y(2), Yao K(3), Wu \n",
      "Z(1), Zhang R(1), Kiboku T(4), Kawasaki A(4), Horimoto K(4)(5), Tang Y(1), Sun \n",
      "M(6), Han F(1)(2)(7), Chen D(1).\n",
      "\n",
      "Author information:\n",
      "(1)Medical Basic Research Innovation Center for Cardiovascular and \n",
      "Cerebrovascular Diseases, Ministry of Education, China, International Joint \n",
      "Laboratory for Drug Target of Critical Illnesses, School of Pharmacy, Nanjing \n",
      "Medical University, Nanjing 211166, China.\n",
      "(2)Gusu School, Nanjing Medical Un\n"
     ]
    }
   ],
   "source": [
    "print(fetch_response.text[0:5000])"
   ]
  },
  {
   "cell_type": "code",
   "execution_count": null,
   "id": "d64b5609",
   "metadata": {},
   "outputs": [],
   "source": []
  },
  {
   "cell_type": "code",
   "execution_count": null,
   "id": "a6bafd83",
   "metadata": {},
   "outputs": [],
   "source": []
  }
 ],
 "metadata": {
  "kernelspec": {
   "display_name": "Python 3 (ipykernel)",
   "language": "python",
   "name": "python3"
  },
  "language_info": {
   "codemirror_mode": {
    "name": "ipython",
    "version": 3
   },
   "file_extension": ".py",
   "mimetype": "text/x-python",
   "name": "python",
   "nbconvert_exporter": "python",
   "pygments_lexer": "ipython3",
   "version": "3.9.12"
  }
 },
 "nbformat": 4,
 "nbformat_minor": 5
}
