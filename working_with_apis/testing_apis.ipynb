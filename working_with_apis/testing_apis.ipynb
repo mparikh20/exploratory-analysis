{
 "cells": [
  {
   "cell_type": "markdown",
   "id": "c50ac7d6",
   "metadata": {},
   "source": [
    "# Overview"
   ]
  },
  {
   "cell_type": "markdown",
   "id": "32e78f5e",
   "metadata": {},
   "source": [
    "changed"
   ]
  },
  {
   "cell_type": "markdown",
   "id": "b4ef0d29",
   "metadata": {},
   "source": [
    "# Identifying the workflow for PubMed article abstract extraction using a small test case"
   ]
  },
  {
   "cell_type": "markdown",
   "id": "bf7c6522",
   "metadata": {},
   "source": [
    "## Import the python request library"
   ]
  },
  {
   "cell_type": "code",
   "execution_count": 1,
   "id": "5da162fd",
   "metadata": {},
   "outputs": [],
   "source": [
    "import requests"
   ]
  },
  {
   "cell_type": "code",
   "execution_count": 2,
   "id": "dc11e560",
   "metadata": {},
   "outputs": [
    {
     "data": {
      "text/plain": [
       "'2.31.0'"
      ]
     },
     "execution_count": 2,
     "metadata": {},
     "output_type": "execute_result"
    }
   ],
   "source": [
    "requests.__version__"
   ]
  },
  {
   "cell_type": "markdown",
   "id": "1f6b80c7",
   "metadata": {},
   "source": [
    "## Step 1 - querying PubMed and retrieving a list of IDs matching the search"
   ]
  },
  {
   "cell_type": "markdown",
   "id": "326b9d18",
   "metadata": {},
   "source": [
    "**References and guides**\n",
    "\n",
    "1. The base query, some example searches, and XML output parameters can be found here:\n",
    "https://www.ncbi.nlm.nih.gov/books/NBK25500/\n",
    "\n",
    "2. Parameters and syntax in depth:\n",
    "https://www.ncbi.nlm.nih.gov/books/NBK25499/\n",
    "\n",
    "3. These are the PubMed specific search term fields and their tags that should be used to construct the query:\n",
    "https://pubmed.ncbi.nlm.nih.gov/help/#tiab\n",
    "\n",
    "4. As seen in the url_suffix variable, it uses an 'Esearch' utility. There are a total of 9 functionalities under eutils (see base url). Others can be found here:\n",
    "https://www.ncbi.nlm.nih.gov/books/NBK25497/\n",
    "\n",
    "5. Alternative python package: https://www.ncbi.nlm.nih.gov/pmc/articles/PMC6821292/ (Not used here.)\n",
    "\n",
    "6. EDirect - for batch access using command line\n",
    "https://www.ncbi.nlm.nih.gov/books/NBK179288/"
   ]
  },
  {
   "cell_type": "markdown",
   "id": "ec9e1a13",
   "metadata": {},
   "source": [
    "**Notes**\n",
    "* By default, it will only return 20 IDs.\n",
    "* However, the Count parameter within the XML output shows the total number of records matching the search query.\n",
    "* To establish workflow, a small query was searched - papers with ALK and GBM in the title or abstract."
   ]
  },
  {
   "cell_type": "code",
   "execution_count": 3,
   "id": "1d1f838a",
   "metadata": {},
   "outputs": [],
   "source": [
    "base_url = 'https://eutils.ncbi.nlm.nih.gov/entrez/eutils/'"
   ]
  },
  {
   "cell_type": "code",
   "execution_count": 4,
   "id": "1258be38",
   "metadata": {},
   "outputs": [],
   "source": [
    "# Specify search parameters\n",
    "database = 'pubmed'\n",
    "query = 'glioblastoma[tiab]+AND+ALK[tiab]'\n",
    "\n",
    "# index of the first record. When doing calls in a for loop, this number can be incremented by adding the maximum records being extracted\n",
    "retstart = '0'\n",
    "\n",
    "# max. number of records to obtain. The default is 20 and the max. allowable IDs returned are 10,000\n",
    "retmax = 100\n",
    "\n",
    "# output type. The default is XML.\n",
    "retmode = 'json'"
   ]
  },
  {
   "cell_type": "code",
   "execution_count": 5,
   "id": "ee101aa1",
   "metadata": {},
   "outputs": [],
   "source": [
    "'''The usehistory = y means it will save the IDs from the search on the server \n",
    "so that these can then be used for a subsequent call to then extract the abstract using another utility like Efetch.'''\n",
    "\n",
    "search_suffix = f'esearch.fcgi?db={database}&term={query}&usehistory=y&retmode={retmode}&retstart={retstart}&retmax={retmax}'"
   ]
  },
  {
   "cell_type": "code",
   "execution_count": 6,
   "id": "035c5902",
   "metadata": {},
   "outputs": [],
   "source": [
    "search_url = base_url + search_suffix"
   ]
  },
  {
   "cell_type": "code",
   "execution_count": 7,
   "id": "a276492d",
   "metadata": {},
   "outputs": [
    {
     "data": {
      "text/plain": [
       "'https://eutils.ncbi.nlm.nih.gov/entrez/eutils/esearch.fcgi?db=pubmed&term=glioblastoma[tiab]+AND+ALK[tiab]&usehistory=y&retmode=json&retstart=0&retmax=100'"
      ]
     },
     "execution_count": 7,
     "metadata": {},
     "output_type": "execute_result"
    }
   ],
   "source": [
    "search_url"
   ]
  },
  {
   "cell_type": "code",
   "execution_count": 8,
   "id": "5bf6a090",
   "metadata": {},
   "outputs": [],
   "source": [
    "response = requests.get(search_url)"
   ]
  },
  {
   "cell_type": "markdown",
   "id": "e7dc2de5",
   "metadata": {},
   "source": [
    "* This code means the request was successful. There are different codes such as 400 which means bad request."
   ]
  },
  {
   "cell_type": "code",
   "execution_count": 9,
   "id": "a852855b",
   "metadata": {},
   "outputs": [
    {
     "data": {
      "text/plain": [
       "200"
      ]
     },
     "execution_count": 9,
     "metadata": {},
     "output_type": "execute_result"
    }
   ],
   "source": [
    "response.status_code"
   ]
  },
  {
   "cell_type": "code",
   "execution_count": 10,
   "id": "cf410e44",
   "metadata": {},
   "outputs": [
    {
     "data": {
      "text/plain": [
       "'UTF-8'"
      ]
     },
     "execution_count": 10,
     "metadata": {},
     "output_type": "execute_result"
    }
   ],
   "source": [
    "response.encoding"
   ]
  },
  {
   "cell_type": "markdown",
   "id": "6f70bbc3",
   "metadata": {},
   "source": [
    "* The default output is XML, however the retreival mode can be set to return a json.\n",
    "* Also, the number of records was confirmed by searching manually on PubMed: https://pubmed.ncbi.nlm.nih.gov/?term=%28ALK%5BTitle%2FAbstract%5D%29+AND+%28glioblastoma%5BTitle%2FAbstract%5D%29&sort="
   ]
  },
  {
   "cell_type": "code",
   "execution_count": 11,
   "id": "55d90e19",
   "metadata": {},
   "outputs": [
    {
     "data": {
      "text/plain": [
       "{'header': {'type': 'esearch', 'version': '0.3'},\n",
       " 'esearchresult': {'count': '76',\n",
       "  'retmax': '76',\n",
       "  'retstart': '0',\n",
       "  'querykey': '1',\n",
       "  'webenv': 'MCID_65c2c81a67315d3455095fc3',\n",
       "  'idlist': ['38285799',\n",
       "   '37939020',\n",
       "   '37861443',\n",
       "   '37271069',\n",
       "   '37260294',\n",
       "   '37240478',\n",
       "   '37168365',\n",
       "   '36823756',\n",
       "   '36780194',\n",
       "   '36707425',\n",
       "   '35724395',\n",
       "   '35625997',\n",
       "   '35190826',\n",
       "   '34702773',\n",
       "   '34626238',\n",
       "   '34341009',\n",
       "   '34323181',\n",
       "   '34015889',\n",
       "   '33966367',\n",
       "   '33887544',\n",
       "   '33853673',\n",
       "   '33728771',\n",
       "   '33486679',\n",
       "   '33341678',\n",
       "   '33109342',\n",
       "   '32866816',\n",
       "   '32308772',\n",
       "   '31875306',\n",
       "   '31776900',\n",
       "   '31483918',\n",
       "   '31399568',\n",
       "   '30894200',\n",
       "   '30065256',\n",
       "   '29336268',\n",
       "   '28960893',\n",
       "   '28912153',\n",
       "   '28837676',\n",
       "   '28484053',\n",
       "   '28465216',\n",
       "   '28459464',\n",
       "   '28090572',\n",
       "   '28069875',\n",
       "   '27993946',\n",
       "   '27579614',\n",
       "   '27178681',\n",
       "   '27046135',\n",
       "   '26939704',\n",
       "   '26648752',\n",
       "   '26498130',\n",
       "   '26438251',\n",
       "   '26235020',\n",
       "   '26090865',\n",
       "   '25882777',\n",
       "   '25733882',\n",
       "   '25500544',\n",
       "   '25165192',\n",
       "   '24936972',\n",
       "   '24476492',\n",
       "   '24218589',\n",
       "   '23686309',\n",
       "   '23543207',\n",
       "   '23267434',\n",
       "   '22500682',\n",
       "   '19633684',\n",
       "   '19455469',\n",
       "   '19275511',\n",
       "   '19177199',\n",
       "   '17904822',\n",
       "   '17694547',\n",
       "   '17004103',\n",
       "   '16123598',\n",
       "   '15986444',\n",
       "   '15908427',\n",
       "   '12122009',\n",
       "   '12115586',\n",
       "   '11809760'],\n",
       "  'translationset': [],\n",
       "  'querytranslation': '\"glioblastoma\"[Title/Abstract] AND \"ALK\"[Title/Abstract]'}}"
      ]
     },
     "execution_count": 11,
     "metadata": {},
     "output_type": "execute_result"
    }
   ],
   "source": [
    "response.json()"
   ]
  },
  {
   "cell_type": "markdown",
   "id": "c7605706",
   "metadata": {},
   "source": [
    "## Step 2 - Extracting article information for a given PubMed identifier - Get content for PMIDs using the efetch utility using IDs stored on the server."
   ]
  },
  {
   "cell_type": "markdown",
   "id": "dd54d5df",
   "metadata": {},
   "source": [
    "**Notes**\n",
    "\n",
    "* The esearch utility used above only returns a list of identifers matching the query terms.\n",
    "* In order to extract other information such as title, abstract, another utility called Efetch has to be used."
   ]
  },
  {
   "cell_type": "code",
   "execution_count": 12,
   "id": "61d79165",
   "metadata": {},
   "outputs": [
    {
     "data": {
      "text/plain": [
       "'https://eutils.ncbi.nlm.nih.gov/entrez/eutils/'"
      ]
     },
     "execution_count": 12,
     "metadata": {},
     "output_type": "execute_result"
    }
   ],
   "source": [
    "# The base url and database fields have already been defined above:\n",
    "base_url"
   ]
  },
  {
   "cell_type": "code",
   "execution_count": 13,
   "id": "2c2faf5d",
   "metadata": {},
   "outputs": [
    {
     "data": {
      "text/plain": [
       "'pubmed'"
      ]
     },
     "execution_count": 13,
     "metadata": {},
     "output_type": "execute_result"
    }
   ],
   "source": [
    "database"
   ]
  },
  {
   "cell_type": "code",
   "execution_count": 14,
   "id": "d20bad4b",
   "metadata": {},
   "outputs": [],
   "source": [
    "# Test one of the ids from the XML output above:\n",
    "\n",
    "rettype = 'abstract'\n",
    "retmode = 'xml'"
   ]
  },
  {
   "cell_type": "code",
   "execution_count": 15,
   "id": "199e418c",
   "metadata": {},
   "outputs": [],
   "source": [
    "# fetchurl_suffix = f'efetch.fcgi?db={database}&id={ids_of_interest}&rettype={rettype}&retmode={retmode}'\n"
   ]
  },
  {
   "cell_type": "markdown",
   "id": "0bb53817",
   "metadata": {},
   "source": [
    "* Alternatively, if ids are not stored on the server using the usehistory=y in esearch, then here the search term should then include 'ids=38285799,37939020'. A comma separated list of ids can be passed here. \n",
    "* However, storing the id list on the server and then retrieving the querykey and webenv values will enable storing all IDs and it's not necessary to pass a really long list in case of multiple IDs."
   ]
  },
  {
   "cell_type": "code",
   "execution_count": 16,
   "id": "bfed24ea",
   "metadata": {},
   "outputs": [],
   "source": [
    "# The query_key and web_env values can be obtained from the Esearch result above. \n",
    "# This stores the ids on the server for subsequent access to be used in another functionality.\n",
    "query_key=response.json()['esearchresult']['querykey']\n",
    "web_env = response.json()['esearchresult']['webenv']\n",
    "\n",
    "fetchurl_suffix = f'efetch.fcgi?db={database}&query_key={query_key}&WebEnv={web_env}&rettype={rettype}&retmode={retmode}'\n"
   ]
  },
  {
   "cell_type": "code",
   "execution_count": 17,
   "id": "708d0fce",
   "metadata": {},
   "outputs": [
    {
     "data": {
      "text/plain": [
       "'https://eutils.ncbi.nlm.nih.gov/entrez/eutils/efetch.fcgi?db=pubmed&query_key=1&WebEnv=MCID_65c2c81a67315d3455095fc3&rettype=abstract&retmode=xml'"
      ]
     },
     "execution_count": 17,
     "metadata": {},
     "output_type": "execute_result"
    }
   ],
   "source": [
    "fetch_url = base_url + fetchurl_suffix\n",
    "fetch_url"
   ]
  },
  {
   "cell_type": "code",
   "execution_count": 18,
   "id": "03506b26",
   "metadata": {},
   "outputs": [],
   "source": [
    "fetch_response = requests.get(fetch_url)"
   ]
  },
  {
   "cell_type": "code",
   "execution_count": 19,
   "id": "9ebe2357",
   "metadata": {},
   "outputs": [
    {
     "data": {
      "text/plain": [
       "200"
      ]
     },
     "execution_count": 19,
     "metadata": {},
     "output_type": "execute_result"
    }
   ],
   "source": [
    "fetch_response.status_code"
   ]
  },
  {
   "cell_type": "code",
   "execution_count": 20,
   "id": "ab4c2174",
   "metadata": {},
   "outputs": [
    {
     "data": {
      "text/plain": [
       "str"
      ]
     },
     "execution_count": 20,
     "metadata": {},
     "output_type": "execute_result"
    }
   ],
   "source": [
    "type(fetch_response.text)"
   ]
  },
  {
   "cell_type": "markdown",
   "id": "27db556e",
   "metadata": {},
   "source": [
    "* The first 3 abstracts are shown as an example output. But this variable holds a string containing all 76 IDs for papers for GBM and ALK terms.\n",
    "* Alternatively, if retmode=xml is set in the url then the output will be of XML format."
   ]
  },
  {
   "cell_type": "code",
   "execution_count": 21,
   "id": "3b88494f",
   "metadata": {
    "scrolled": false
   },
   "outputs": [
    {
     "data": {
      "text/plain": [
       "<Response [200]>"
      ]
     },
     "execution_count": 21,
     "metadata": {},
     "output_type": "execute_result"
    }
   ],
   "source": [
    "fetch_response"
   ]
  },
  {
   "cell_type": "code",
   "execution_count": 22,
   "id": "e3f01ad6",
   "metadata": {
    "scrolled": false
   },
   "outputs": [
    {
     "name": "stdout",
     "output_type": "stream",
     "text": [
      "<?xml version=\"1.0\" ?>\n",
      "<!DOCTYPE PubmedArticleSet PUBLIC \"-//NLM//DTD PubMedArticle, 1st January 2024//EN\" \"https://dtd.nlm.nih.gov/ncbi/pubmed/out/pubmed_240101.dtd\">\n",
      "<PubmedArticleSet>\n",
      "<PubmedArticle><MedlineCitation Status=\"MEDLINE\" Owner=\"NLM\" IndexingMethod=\"Automated\"><PMID Version=\"1\">38285799</PMID><DateCompleted><Year>2024</Year><Month>01</Month><Day>31</Day></DateCompleted><DateRevised><Year>2024</Year><Month>01</Month><Day>31</Day></DateRevised><Article PubModel=\"Electronic\"><Journal><ISSN IssnType=\"Electronic\">2476-762X</ISSN><JournalIssue CitedMedium=\"Internet\"><Volume>25</Volume><Issue>1</Issue><PubDate><Year>2024</Year><Month>Jan</Month><Day>01</Day></PubDate></JournalIssue><Title>Asian Pacific journal of cancer prevention : APJCP</Title><ISOAbbreviation>Asian Pac J Cancer Prev</ISOAbbreviation></Journal><ArticleTitle>Evaluation of Immunohistochemical Expression of ALK-1 in Gliomas, WHO Grade 4 and Its Correlation with IDH1-R132H Mutation Status.</ArticleTitle><Pagination><StartPage>317</StartPage><EndPage>323</EndPage><MedlinePgn>317-323</MedlinePgn></Pagination><ELocationID EIdType=\"doi\" ValidYN=\"Y\">10.31557/APJCP.2024.25.1.317</ELocationID><ELocationID EIdType=\"pii\" ValidYN=\"Y\">90983</ELocationID><Abstract><AbstractText Label=\"BACKGROUND\" NlmCategory=\"BACKGROUND\">Glioblastoma (GB), a grade 4 glioma is the most common primary malignant brain tumor in adults. Recently, the mutation status of isocitrate dehydrogenase (IDH) has been crucial in the treatment of GB. IDH mutant cases display a more favorable prognosis than IDH-wild type ones. The anaplastic lymphoma kinase (ALK) is expressed as a receptor tyrosine kinase in both the developing central and peripheral nervous systems. Increasing lines of evidence suggest that ALK is over-expressed in GB and represents a potential therapeutic target.</AbstractText><AbstractText Label=\"OBJECTIVES\" NlmCategory=\"OBJECTIVE\">The goal of the current study was to investigate ALK-1 immunohistochemical expression in gliomas, grade 4, besides its correlation with IDH1-R132H mutation status and the clinicopathological parameters of the tumors.</AbstractText><AbstractText Label=\"MATERIAL AND METHODS\" NlmCategory=\"METHODS\">Seventy cases of gliomas, grade 4 were tested for immunohistochemical expression of ALK-1 &amp; IDH1-R132H in the tumor cells.</AbstractText><AbstractText Label=\"RESULTS\" NlmCategory=\"RESULTS\">ALK-1 immunoexpression was detected in 22.9% of our cases and IDH1-R132H mutation was detected in 12.9% of them. ALK-1 expression (100%) was only detected in the more aggressive IDH R132H-negative GBs. ALK-1 expression was also noted in the larger-sized tumors, more in males and patients older than the mean age. &#xa0;Conclusion: Our results suggest that mutations in ALK-1 may predict a more dismal prognosis since ALK expression was only noted in IDH-R132H negative GBs known to have a considerably poorer outcome compared to IDH-R132H mutant cases. GBs with detectable ALK-protein expression could potentially experience substantial clinical advantages through the utilization of newly introduced ALK inhibitors allowing personalized treatment to a subset of patients. Hence, future studies targeting ALK in IDH wildtype Glioblastomas including clinical trials on larger scales are recommended.</AbstractText></Abstract><AuthorList CompleteYN=\"Y\"><Author ValidYN=\"Y\"><LastName>Khairy</LastName><ForeName>Rasha Ahmed</ForeName><Initials>RA</Initials><Identifier Source=\"ORCID\">0000-0002-9373-354X</Identifier><AffiliationInfo><Affiliation>Department of Pathology, Faculty of Medicine, Cairo University, Egypt.</Affiliation></AffiliationInfo></Author><Author ValidYN=\"Y\"><LastName>Momtaz</LastName><ForeName>Eman Mohamed</ForeName><Initials>EM</Initials><AffiliationInfo><Affiliation>Department of Pathology, Faculty of Medicine, Cairo University, Egypt.</Affiliation></AffiliationInfo></Author><Author ValidYN=\"Y\"><LastName>Abd El Aziz</LastName><ForeName>Ahmed Mahmoud</ForeName><Initials>AM</Initials><AffiliationInfo><Affiliation>Department of Pathology, Faculty of Medicine, Cairo University, Egypt.</Affiliation></AffiliationInfo></Author><Author ValidYN=\"Y\"><LastName>Shibel</LastName><ForeName>Passant Essam Eldin</ForeName><Initials>PEE</Initials><Identifier Source=\"ORCID\">0000-0002-3132-170X</Identifier><AffiliationInfo><Affiliation>Department of Pathology, Faculty of Medicine, Cairo University, Egypt.</Affiliation></AffiliationInfo></Author></AuthorList><Language>eng</Language><PublicationTypeList><PublicationType UI=\"D016428\">Journal Article</PublicationType></PublicationTypeList><ArticleDate DateType=\"Electronic\"><Year>2024</Year><Month>01</Month><Day>01</Day></ArticleDate></Article><MedlineJournalInfo><Country>Thailand</Country><MedlineTA>Asian Pac J Cancer Prev</MedlineTA><NlmUniqueID>101130625</NlmUniqueID><ISSNLinking>1513-7368</ISSNLinking></MedlineJournalInfo><ChemicalList><Chemical><RegistryNumber>EC 2.7.10.1</RegistryNumber><NameOfSubstance UI=\"D000077548\">Anapl\n"
     ]
    }
   ],
   "source": [
    "print(fetch_response.text[0:5000])"
   ]
  },
  {
   "cell_type": "code",
   "execution_count": null,
   "id": "66db0fb8",
   "metadata": {},
   "outputs": [],
   "source": []
  },
  {
   "cell_type": "markdown",
   "id": "954d5aff",
   "metadata": {},
   "source": [
    "**Feasability**\n",
    "\n",
    "If the esearch and efetch steps are repeated over and over again to get all cancer related papers (cancer OR tumor OR tumour in the title/abstract), then how many loops of API calls and how much time would be required?\n",
    "\n",
    "* For bulk access, it might be better to use the command line EDirect utility. \n",
    "* However, for an application where gene and cancer specific searches are required, a real time extraction using these combined steps is feasible."
   ]
  },
  {
   "cell_type": "code",
   "execution_count": 23,
   "id": "916f0e5d",
   "metadata": {},
   "outputs": [],
   "source": [
    "# About 3 million records and 10000 records allowed per call.\n",
    "total_loops = 6e6 / 10000"
   ]
  },
  {
   "cell_type": "code",
   "execution_count": 24,
   "id": "442866d7",
   "metadata": {},
   "outputs": [],
   "source": [
    "# Estimating 2 seconds per call (1 esearch call and 1 efetch call)\n",
    "# Adding 3 seconds between each round of loop as a wait time\n",
    "\n",
    "time_sec = (2 * total_loops) + ((total_loops-1)*3)"
   ]
  },
  {
   "cell_type": "markdown",
   "id": "469971dd",
   "metadata": {},
   "source": [
    "Time to get all papers with the following as query: cancer OR tumor OR tumour"
   ]
  },
  {
   "cell_type": "code",
   "execution_count": 25,
   "id": "ad3fb450",
   "metadata": {
    "scrolled": true
   },
   "outputs": [
    {
     "data": {
      "text/plain": [
       "49.95"
      ]
     },
     "execution_count": 25,
     "metadata": {},
     "output_type": "execute_result"
    }
   ],
   "source": [
    "time_sec/60"
   ]
  },
  {
   "cell_type": "markdown",
   "id": "58b8eac5",
   "metadata": {},
   "source": [
    "## Step 3 - Converting an XML output obtained from PubMed efetch utilty to a df or a CSV"
   ]
  },
  {
   "cell_type": "markdown",
   "id": "898dd8e8",
   "metadata": {},
   "source": [
    "### Import the module that can parse or create XML format and test it on a small subset."
   ]
  },
  {
   "cell_type": "code",
   "execution_count": 26,
   "id": "37373f42",
   "metadata": {},
   "outputs": [],
   "source": [
    "import xml.etree.ElementTree as ET"
   ]
  },
  {
   "cell_type": "markdown",
   "id": "7d20f8c4",
   "metadata": {},
   "source": [
    "**This module can parse data from an XML file or from a string. First, obtain just 2-3 records from PubMed to see how the module works.**"
   ]
  },
  {
   "cell_type": "code",
   "execution_count": 27,
   "id": "c2bd7783",
   "metadata": {},
   "outputs": [
    {
     "data": {
      "text/plain": [
       "'https://eutils.ncbi.nlm.nih.gov/entrez/eutils/'"
      ]
     },
     "execution_count": 27,
     "metadata": {},
     "output_type": "execute_result"
    }
   ],
   "source": [
    "base_url"
   ]
  },
  {
   "cell_type": "markdown",
   "id": "1ce47e22",
   "metadata": {},
   "source": [
    "* The following are copied from steps 1 and 2 above."
   ]
  },
  {
   "cell_type": "code",
   "execution_count": 28,
   "id": "1bfb2922",
   "metadata": {},
   "outputs": [
    {
     "name": "stdout",
     "output_type": "stream",
     "text": [
      "https://eutils.ncbi.nlm.nih.gov/entrez/eutils/efetch.fcgi?db=pubmed&id=38285799,37939020,37861443&rettype=abstract&retmode=xml\n"
     ]
    }
   ],
   "source": [
    "# Specify search parameters\n",
    "database = 'pubmed'\n",
    "query = 'glioblastoma[tiab]+AND+ALK[tiab]'\n",
    "\n",
    "# index of the first record. When doing calls in a for loop, this number can be incremented by adding the maximum records being extracted\n",
    "retstart = '0'\n",
    "\n",
    "# max. number of records to obtain. The default is 20 and the max. allowable IDs returned are 10,000\n",
    "retmax = 3\n",
    "\n",
    "# output type. The default is XML.\n",
    "retmode = 'json'\n",
    "\n",
    "search_suffix = f'esearch.fcgi?db={database}&term={query}&usehistory=y&retmode={retmode}&retstart={retstart}&retmax={retmax}'\n",
    "\n",
    "search_url = base_url + search_suffix\n",
    "\n",
    "# Get the PMIDs first\n",
    "response = requests.get(search_url)\n",
    "esearch_result = response.json()\n",
    "\n",
    "# Extract the first 3 PMIDs from the esearch result and convert it to a string of comma separated ids\n",
    "\n",
    "ids_list = esearch_result['esearchresult']['idlist'][0:3]\n",
    "ids_str = ','.join(ids_list)\n",
    "\n",
    "# \n",
    "rettype = 'abstract'\n",
    "retmode = 'xml'\n",
    "\n",
    "fetchurl_suffix = f'efetch.fcgi?db={database}&id={ids_str}&rettype={rettype}&retmode={retmode}'\n",
    "\n",
    "fetch_url = base_url + fetchurl_suffix\n",
    "print(fetch_url)\n",
    "\n",
    "# Get the abstracts using the efetch utility\n",
    "fetch_response = requests.get(fetch_url)"
   ]
  },
  {
   "cell_type": "markdown",
   "id": "e4470160",
   "metadata": {},
   "source": [
    "* The esearch worked properly and obtained the first 3 PMIDs for papers where glioblatoma and ALK are listed in the title or abstract."
   ]
  },
  {
   "cell_type": "code",
   "execution_count": 29,
   "id": "365faa3e",
   "metadata": {
    "scrolled": true
   },
   "outputs": [
    {
     "data": {
      "text/plain": [
       "{'header': {'type': 'esearch', 'version': '0.3'},\n",
       " 'esearchresult': {'count': '76',\n",
       "  'retmax': '3',\n",
       "  'retstart': '0',\n",
       "  'querykey': '1',\n",
       "  'webenv': 'MCID_65c2c8e122f8c6029022d43c',\n",
       "  'idlist': ['38285799', '37939020', '37861443'],\n",
       "  'translationset': [],\n",
       "  'querytranslation': '\"glioblastoma\"[Title/Abstract] AND \"ALK\"[Title/Abstract]'}}"
      ]
     },
     "execution_count": 29,
     "metadata": {},
     "output_type": "execute_result"
    }
   ],
   "source": [
    "esearch_result"
   ]
  },
  {
   "cell_type": "markdown",
   "id": "7055d09e",
   "metadata": {},
   "source": [
    "* The efetch extracted the abstracts for the above 3 PMIDs and is present in an XML format as a string:"
   ]
  },
  {
   "cell_type": "code",
   "execution_count": 143,
   "id": "c09c8173",
   "metadata": {
    "scrolled": true
   },
   "outputs": [
    {
     "data": {
      "text/plain": [
       "'<?xml version=\"1.0\" ?>\\n<!DOCTYPE PubmedArticleSet PUBLIC \"-//NLM//DTD PubMedArticle, 1st January 2024//EN\" \"https://dtd.nlm.nih.gov/ncbi/pubmed/out/pubmed_240101.dtd\">\\n<PubmedArticleSet>\\n<PubmedArticle><MedlineCitation Status=\"MEDLINE\" Owner=\"NLM\" IndexingMethod=\"Automated\"><PMID Version=\"1\">38285799</PMID><DateCompleted><Year>2024</Year><Month>01</Month><Day>31</Day></DateCompleted><DateRevised><Year>2024</Year><Month>01</Month><Day>31</Day></DateRevised><Article PubModel=\"Electronic\"><Journal><ISSN IssnType=\"Electronic\">2476-762X</ISSN><JournalIssue CitedMedium=\"Internet\"><Volume>25</Volume><Issue>1</Issue><PubDate><Year>2024</Year><Month>Jan</Month><Day>01</Day></PubDate></JournalIssue><Title>Asian Pacific journal of cancer prevention : APJCP</Title><ISOAbbreviation>Asian Pac J Cancer Prev</ISOAbbreviation></Journal><ArticleTitle>Evaluation of Immunohistochemical Expression of ALK-1 in Gliomas, WHO Grade 4 and Its Correlation with IDH1-R132H Mutation Status.</ArticleTitle><Pagination><StartPage>317</StartPage><EndPage>323</EndPage><MedlinePgn>317-323</MedlinePgn></Pagination><ELocationID EIdType=\"doi\" ValidYN=\"Y\">10.31557/APJCP.2024.25.1.317</ELocationID><ELocationID EIdType=\"pii\" ValidYN=\"Y\">90983</ELocationID><Abstract><AbstractText Label=\"BACKGROUND\" NlmCategory=\"BACKGROUND\">Glioblastoma (GB), a grade 4 glioma is the most common primary malignant brain tumor in adults. Recently, the mutation status of isocitrate dehydrogenase (IDH) has been crucial in the treatment of GB. IDH mutant cases display a more favorable prognosis than IDH-wild type ones. The anaplastic lymphoma kinase (ALK) is expressed as a receptor tyrosine kinase in both the developing central and peripheral nervous systems. Increasing lines of evidence suggest that ALK is over-expressed in GB and represents a potential therapeutic target.</AbstractText><AbstractText Label=\"OBJECTIVES\" NlmCategory=\"OBJECTIVE\">The goal of the current study was to investigate ALK-1 immunohistochemical expression in gliomas, grade 4, besides its correlation with IDH1-R132H mutation status and the clinicopathological parameters of the tumors.</AbstractText><AbstractText Label=\"MATERIAL AND METHODS\" NlmCategory=\"METHODS\">Seventy cases of gliomas, grade 4 were tested for immunohistochemical expression of ALK-1 &amp; IDH1-R132H in the tumor cells.</AbstractText><AbstractText Label=\"RESULTS\" NlmCategory=\"RESULTS\">ALK-1 immunoexpression was detected in 22.9% of our cases and IDH1-R132H mutation was detected in 12.9% of them. ALK-1 expression (100%) was only detected in the more aggressive IDH R132H-negative GBs. ALK-1 expression was also noted in the larger-sized tumors, more in males and patients older than the mean age. &#xa0;Conclusion: Our results suggest that mutations in ALK-1 may predict a more dismal prognosis since ALK expression was only noted in IDH-R132H negative GBs known to have a considerably poorer outcome compared to IDH-R132H mutant cases. GBs with detectable ALK-protein expression could potentially experience substantial clinical advantages through the utilization of newly introduced ALK inhibitors allowing personalized treatment to a subset of patients. Hence, future studies targeting ALK in IDH wildtype Glioblastomas including clinical trials on larger scales are recommended.</AbstractText></Abstract><AuthorList CompleteYN=\"Y\"><Author ValidYN=\"Y\"><LastName>Khairy</LastName><ForeName>Rasha Ahmed</ForeName><Initials>RA</Initials><Identifier Source=\"ORCID\">0000-0002-9373-354X</Identifier><AffiliationInfo><Affiliation>Department of Pathology, Faculty of Medicine, Cairo University, Egypt.</Affiliation></AffiliationInfo></Author><Author ValidYN=\"Y\"><LastName>Momtaz</LastName><ForeName>Eman Mohamed</ForeName><Initials>EM</Initials><AffiliationInfo><Affiliation>Department of Pathology, Faculty of Medicine, Cairo University, Egypt.</Affiliation></AffiliationInfo></Author><Author ValidYN=\"Y\"><LastName>Abd El Aziz</LastName><ForeName>Ahmed Mahmoud</ForeName><Initials>AM</Initials><AffiliationInfo><Affiliation>Department of Pathology, Faculty of Medicine, Cairo University, Egypt.</Affiliation></AffiliationInfo></Author><Author ValidYN=\"Y\"><LastName>Shibel</LastName><ForeName>Passant Essam Eldin</ForeName><Initials>PEE</Initials><Identifier Source=\"ORCID\">0000-0002-3132-170X</Identifier><AffiliationInfo><Affiliation>Department of Pathology, Faculty of Medicine, Cairo University, Egypt.</Affiliation></AffiliationInfo></Author></AuthorList><Language>eng</Language><PublicationTypeList><PublicationType UI=\"D016428\">Journal Article</PublicationType></PublicationTypeList><ArticleDate DateType=\"Electronic\"><Year>2024</Year><Month>01</Month><Day>01</Day></ArticleDate></Article><MedlineJournalInfo><Country>Thailand</Country><MedlineTA>Asian Pac J Cancer Prev</MedlineTA><NlmUniqueID>101130625</NlmUniqueID><ISSNLinking>1513-7368</ISSNLinking></MedlineJournalInfo><ChemicalList><Chemical><RegistryNumber>EC 2.7.10.1</RegistryNumber><NameOfSubstance UI=\"D000077548\">Anaplastic Lymphoma Kinase</NameOfSubstance></Chemical><Chemical><RegistryNumber>EC 2.7.10.1</RegistryNumber><NameOfSubstance UI=\"D020794\">Receptor Protein-Tyrosine Kinases</NameOfSubstance></Chemical><Chemical><RegistryNumber>EC 1.1.1.41</RegistryNumber><NameOfSubstance UI=\"D007521\">Isocitrate Dehydrogenase</NameOfSubstance></Chemical><Chemical><RegistryNumber>EC 1.1.1.42.</RegistryNumber><NameOfSubstance UI=\"C543588\">IDH1 protein, human</NameOfSubstance></Chemical></ChemicalList><CitationSubset>IM</CitationSubset><MeshHeadingList><MeshHeading><DescriptorName UI=\"D008297\" MajorTopicYN=\"N\">Male</DescriptorName></MeshHeading><MeshHeading><DescriptorName UI=\"D000328\" MajorTopicYN=\"N\">Adult</DescriptorName></MeshHeading><MeshHeading><DescriptorName UI=\"D006801\" MajorTopicYN=\"N\">Humans</DescriptorName></MeshHeading><MeshHeading><DescriptorName UI=\"D005260\" MajorTopicYN=\"N\">Female</DescriptorName></MeshHeading><MeshHeading><DescriptorName UI=\"D001932\" MajorTopicYN=\"Y\">Brain Neoplasms</DescriptorName><QualifierName UI=\"Q000473\" MajorTopicYN=\"N\">pathology</QualifierName></MeshHeading><MeshHeading><DescriptorName UI=\"D000077548\" MajorTopicYN=\"N\">Anaplastic Lymphoma Kinase</DescriptorName><QualifierName UI=\"Q000235\" MajorTopicYN=\"N\">genetics</QualifierName></MeshHeading><MeshHeading><DescriptorName UI=\"D005910\" MajorTopicYN=\"Y\">Glioma</DescriptorName><QualifierName UI=\"Q000473\" MajorTopicYN=\"N\">pathology</QualifierName></MeshHeading><MeshHeading><DescriptorName UI=\"D005909\" MajorTopicYN=\"Y\">Glioblastoma</DescriptorName></MeshHeading><MeshHeading><DescriptorName UI=\"D009154\" MajorTopicYN=\"N\">Mutation</DescriptorName></MeshHeading><MeshHeading><DescriptorName UI=\"D020794\" MajorTopicYN=\"N\">Receptor Protein-Tyrosine Kinases</DescriptorName><QualifierName UI=\"Q000235\" MajorTopicYN=\"N\">genetics</QualifierName></MeshHeading><MeshHeading><DescriptorName UI=\"D014944\" MajorTopicYN=\"N\">World Health Organization</DescriptorName></MeshHeading><MeshHeading><DescriptorName UI=\"D007521\" MajorTopicYN=\"N\">Isocitrate Dehydrogenase</DescriptorName><QualifierName UI=\"Q000235\" MajorTopicYN=\"N\">genetics</QualifierName><QualifierName UI=\"Q000378\" MajorTopicYN=\"N\">metabolism</QualifierName></MeshHeading></MeshHeadingList><KeywordList Owner=\"NOTNLM\"><Keyword MajorTopicYN=\"N\">ALK-1</Keyword><Keyword MajorTopicYN=\"N\">Glioblastoma</Keyword><Keyword MajorTopicYN=\"N\">Glioma grade 4</Keyword><Keyword MajorTopicYN=\"N\">IDH-1</Keyword><Keyword MajorTopicYN=\"N\">immunohistochemistry</Keyword></KeywordList></MedlineCitation><PubmedData><History><PubMedPubDate PubStatus=\"received\"><Year>2023</Year><Month>10</Month><Day>2</Day></PubMedPubDate><PubMedPubDate PubStatus=\"medline\"><Year>2024</Year><Month>1</Month><Day>31</Day><Hour>6</Hour><Minute>42</Minute></PubMedPubDate><PubMedPubDate PubStatus=\"pubmed\"><Year>2024</Year><Month>1</Month><Day>29</Day><Hour>19</Hour><Minute>57</Minute></PubMedPubDate><PubMedPubDate PubStatus=\"entrez\"><Year>2024</Year><Month>1</Month><Day>29</Day><Hour>14</Hour><Minute>13</Minute></PubMedPubDate></History><PublicationStatus>epublish</PublicationStatus><ArticleIdList><ArticleId IdType=\"pubmed\">38285799</ArticleId><ArticleId IdType=\"doi\">10.31557/APJCP.2024.25.1.317</ArticleId><ArticleId IdType=\"pii\">90983</ArticleId></ArticleIdList></PubmedData></PubmedArticle><PubmedArticle><MedlineCitation Status=\"MEDLINE\" Owner=\"NLM\" IndexingMethod=\"Automated\"><PMID Version=\"1\">37939020</PMID><DateCompleted><Year>2023</Year><Month>12</Month><Day>05</Day></DateCompleted><DateRevised><Year>2023</Year><Month>12</Month><Day>13</Day></DateRevised><Article PubModel=\"Print-Electronic\"><Journal><ISSN IssnType=\"Electronic\">1543-8392</ISSN><JournalIssue CitedMedium=\"Internet\"><Volume>20</Volume><Issue>12</Issue><PubDate><Year>2023</Year><Month>Dec</Month><Day>04</Day></PubDate></JournalIssue><Title>Molecular pharmaceutics</Title><ISOAbbreviation>Mol Pharm</ISOAbbreviation></Journal><ArticleTitle>Cyanine Dye Conjugation Enhances Crizotinib Localization to Intracranial Tumors, Attenuating NF-&#x3ba;B-Inducing Kinase Activity and Glioma Progression.</ArticleTitle><Pagination><StartPage>6140</StartPage><EndPage>6150</EndPage><MedlinePgn>6140-6150</MedlinePgn></Pagination><ELocationID EIdType=\"doi\" ValidYN=\"Y\">10.1021/acs.molpharmaceut.3c00496</ELocationID><Abstract><AbstractText>Glioblastoma (GBM) is a highly aggressive form of brain cancer with a poor prognosis and limited treatment options. The ALK and c-MET inhibitor Crizotinib has demonstrated preclinical therapeutic potential for newly diagnosed GBM, although its efficacy is limited by poor penetration of the blood brain barrier. Here, we identify Crizotinib as a novel inhibitor of nuclear factor-&#x3ba;B (NF-&#x3ba;B)-inducing kinase, which is a key regulator of GBM growth and proliferation. We further show that the conjugation of Crizotinib to a heptamethine cyanine dye, or a near-infrared dye (IR-Crizotinib), attenuated glioma cell proliferation and survival <i>in vitro</i> to a greater extent than unconjugated Crizotinib. Moreover, we observed increased IR-Crizotinib localization to orthotopic mouse xenograft GBM tumors, which resulted in impaired tumor growth <i>in vivo</i>. Overall, IR-Crizotinib exhibited improved intracranial chemotherapeutic delivery and tumor localization with concurrent inhibition of NIK and noncanonical NF-&#x3ba;B signaling, thereby reducing glioma growth <i>in vitro</i>, as well as <i>in vivo</i>, and increasing survival in a preclinical rodent model.</AbstractText></Abstract><AuthorList CompleteYN=\"Y\"><Author ValidYN=\"Y\"><LastName>Pflug</LastName><ForeName>Kathryn M</ForeName><Initials>KM</Initials><AffiliationInfo><Affiliation>Department of Cellular Biology and Genetics, Texas A&amp;M University Health Science Center , College Station, Texas 77807, United States.</Affiliation></AffiliationInfo></Author><Author ValidYN=\"Y\"><LastName>Lee</LastName><ForeName>Dong W</ForeName><Initials>DW</Initials><Identifier Source=\"ORCID\">0000-0002-5937-6163</Identifier><AffiliationInfo><Affiliation>Department of Cellular Biology and Genetics, Texas A&amp;M University Health Science Center , College Station, Texas 77807, United States.</Affiliation></AffiliationInfo></Author><Author ValidYN=\"Y\"><LastName>Tripathi</LastName><ForeName>Ashutosh</ForeName><Initials>A</Initials><AffiliationInfo><Affiliation>Department of Cellular Biology and Genetics, Texas A&amp;M University Health Science Center , College Station, Texas 77807, United States.</Affiliation></AffiliationInfo></Author><Author ValidYN=\"Y\"><LastName>Bankaitis</LastName><ForeName>Vytas A</ForeName><Initials>VA</Initials><AffiliationInfo><Affiliation>Department of Cellular Biology and Genetics, Texas A&amp;M University Health Science Center , College Station, Texas 77807, United States.</Affiliation></AffiliationInfo></Author><Author ValidYN=\"Y\"><LastName>Burgess</LastName><ForeName>Kevin</ForeName><Initials>K</Initials><AffiliationInfo><Affiliation>Department of Chemistry, Texas A&amp;M University, Box 30012, College Station, Texas 77842, United States.</Affiliation></AffiliationInfo></Author><Author ValidYN=\"Y\"><LastName>Sitcheran</LastName><ForeName>Raquel</ForeName><Initials>R</Initials><Identifier Source=\"ORCID\">0000-0001-8916-9707</Identifier><AffiliationInfo><Affiliation>Department of Cellular Biology and Genetics, Texas A&amp;M University Health Science Center , College Station, Texas 77807, United States.</Affiliation></AffiliationInfo></Author></AuthorList><Language>eng</Language><GrantList CompleteYN=\"Y\"><Grant><GrantID>R01 NS082554</GrantID><Acronym>NS</Acronym><Agency>NINDS NIH HHS</Agency><Country>United States</Country></Grant><Grant><GrantID>R35 GM131804</GrantID><Acronym>GM</Acronym><Agency>NIGMS NIH HHS</Agency><Country>United States</Country></Grant></GrantList><PublicationTypeList><PublicationType UI=\"D016428\">Journal Article</PublicationType></PublicationTypeList><ArticleDate DateType=\"Electronic\"><Year>2023</Year><Month>11</Month><Day>08</Day></ArticleDate></Article><MedlineJournalInfo><Country>United States</Country><MedlineTA>Mol Pharm</MedlineTA><NlmUniqueID>101197791</NlmUniqueID><ISSNLinking>1543-8384</ISSNLinking></MedlineJournalInfo><ChemicalList><Chemical><RegistryNumber>53AH36668S</RegistryNumber><NameOfSubstance UI=\"D000077547\">Crizotinib</NameOfSubstance></Chemical><Chemical><RegistryNumber>0</RegistryNumber><NameOfSubstance UI=\"D016328\">NF-kappa B</NameOfSubstance></Chemical></ChemicalList><CitationSubset>IM</CitationSubset><MeshHeadingList><MeshHeading><DescriptorName UI=\"D051379\" MajorTopicYN=\"N\">Mice</DescriptorName></MeshHeading><MeshHeading><DescriptorName UI=\"D000818\" MajorTopicYN=\"N\">Animals</DescriptorName></MeshHeading><MeshHeading><DescriptorName UI=\"D006801\" MajorTopicYN=\"N\">Humans</DescriptorName></MeshHeading><MeshHeading><DescriptorName UI=\"D000077547\" MajorTopicYN=\"N\">Crizotinib</DescriptorName><QualifierName UI=\"Q000494\" MajorTopicYN=\"N\">pharmacology</QualifierName><QualifierName UI=\"Q000627\" MajorTopicYN=\"N\">therapeutic use</QualifierName></MeshHeading><MeshHeading><DescriptorName UI=\"D016328\" MajorTopicYN=\"N\">NF-kappa B</DescriptorName></MeshHeading><MeshHeading><DescriptorName UI=\"D045744\" MajorTopicYN=\"N\">Cell Line, Tumor</DescriptorName></MeshHeading><MeshHeading><DescriptorName UI=\"D005910\" MajorTopicYN=\"Y\">Glioma</DescriptorName><QualifierName UI=\"Q000188\" MajorTopicYN=\"N\">drug therapy</QualifierName><QualifierName UI=\"Q000473\" MajorTopicYN=\"N\">pathology</QualifierName></MeshHeading><MeshHeading><DescriptorName UI=\"D001932\" MajorTopicYN=\"Y\">Brain Neoplasms</DescriptorName><QualifierName UI=\"Q000188\" MajorTopicYN=\"N\">drug therapy</QualifierName><QualifierName UI=\"Q000473\" MajorTopicYN=\"N\">pathology</QualifierName></MeshHeading><MeshHeading><DescriptorName UI=\"D005909\" MajorTopicYN=\"Y\">Glioblastoma</DescriptorName><QualifierName UI=\"Q000188\" MajorTopicYN=\"N\">drug therapy</QualifierName></MeshHeading><MeshHeading><DescriptorName UI=\"D000097782\" MajorTopicYN=\"N\">NF-kappaB-Inducing Kinase</DescriptorName></MeshHeading></MeshHeadingList><KeywordList Owner=\"NOTNLM\"><Keyword MajorTopicYN=\"N\">Crizotinib</Keyword><Keyword MajorTopicYN=\"N\">GBM</Keyword><Keyword MajorTopicYN=\"N\">HMCD</Keyword><Keyword MajorTopicYN=\"N\">NF-&#x3ba;B-inducing kinase</Keyword><Keyword MajorTopicYN=\"N\">cyanine dye</Keyword><Keyword MajorTopicYN=\"N\">kinase inhibitor</Keyword></KeywordList><CoiStatement>The authors\\ndeclare no competing financial interest.</CoiStatement></MedlineCitation><PubmedData><History><PubMedPubDate PubStatus=\"medline\"><Year>2023</Year><Month>12</Month><Day>5</Day><Hour>12</Hour><Minute>43</Minute></PubMedPubDate><PubMedPubDate PubStatus=\"pubmed\"><Year>2023</Year><Month>11</Month><Day>8</Day><Hour>18</Hour><Minute>42</Minute></PubMedPubDate><PubMedPubDate PubStatus=\"entrez\"><Year>2023</Year><Month>11</Month><Day>8</Day><Hour>13</Hour><Minute>33</Minute></PubMedPubDate></History><PublicationStatus>ppublish</PublicationStatus><ArticleIdList><ArticleId IdType=\"pubmed\">37939020</ArticleId><ArticleId IdType=\"pmc\">PMC10698717</ArticleId><ArticleId IdType=\"doi\">10.1021/acs.molpharmaceut.3c00496</ArticleId></ArticleIdList><ReferenceList><Reference><Citation>Louis D. N.; et al. The 2007 WHO Classification of Tumours of the Central Nervous System. Acta Neuropathol 2007, 114, 97&#x2013;109. 10.1007/s00401-007-0243-4.</Citation><ArticleIdList><ArticleId IdType=\"doi\">10.1007/s00401-007-0243-4</ArticleId><ArticleId IdType=\"pmc\">PMC1929165</ArticleId><ArticleId IdType=\"pubmed\">17618441</ArticleId></ArticleIdList></Reference><Reference><Citation>McLendon R. E.; Halperin E. C. Is the long-term survival of patients with intracranial Glioblastoma multiforme overstated?. Cancer 2003, 98, 1745&#x2013;1748. 10.1002/cncr.11666.</Citation><ArticleIdList><ArticleId IdType=\"doi\">10.1002/cncr.11666</ArticleId><ArticleId IdType=\"pubmed\">14534892</ArticleId></ArticleIdList></Reference><Reference><Citation>Holland E. C. Glioblastoma multiforme: The terminator. Proc. Natl. Acad. Sci. U. S. A. 2000, 97, 6242&#x2013;6244. 10.1073/pnas.97.12.6242.</Citation><ArticleIdList><ArticleId IdType=\"doi\">10.1073/pnas.97.12.6242</ArticleId><ArticleId IdType=\"pmc\">PMC33993</ArticleId><ArticleId IdType=\"pubmed\">10841526</ArticleId></ArticleIdList></Reference><Reference><Citation>Yang X.; et al. Optical Imaging of Kidney Cancer with Novel Near Infrared Heptamethine Carbocyanine Fluorescent Dyes. Journal of Urology 2013, 189, 702&#x2013;710. 10.1016/j.juro.2012.09.056.</Citation><ArticleIdList><ArticleId IdType=\"doi\">10.1016/j.juro.2012.09.056</ArticleId><ArticleId IdType=\"pmc\">PMC4120709</ArticleId><ArticleId IdType=\"pubmed\">23000848</ArticleId></ArticleIdList></Reference><Reference><Citation>Yuan J.; et al. Near-infrared fluorescence imaging of prostate cancer using heptamethine carbocyanine dyes. Molecular Medicine Reports 2015, 11, 821&#x2013;828. 10.3892/mmr.2014.2815.</Citation><ArticleIdList><ArticleId IdType=\"doi\">10.3892/mmr.2014.2815</ArticleId><ArticleId IdType=\"pmc\">PMC4262509</ArticleId><ArticleId IdType=\"pubmed\">25354708</ArticleId></ArticleIdList></Reference><Reference><Citation>Zhao N.; et al. Optical imaging of gastric cancer with near-infrared heptamethine carbocyanine fluorescence dyes. Oncotarget 2016, 7, 57277&#x2013;57289. 10.18632/oncotarget.10031.</Citation><ArticleIdList><ArticleId IdType=\"doi\">10.18632/oncotarget.10031</ArticleId><ArticleId IdType=\"pmc\">PMC5302988</ArticleId><ArticleId IdType=\"pubmed\">27329598</ArticleId></ArticleIdList></Reference><Reference><Citation>Wu J. B.; et al. Near-infrared fluorescence heptamethine carbocyanine dyes mediate imaging and targeted drug delivery for human brain tumor. Biomaterials 2015, 67, 1&#x2013;10. 10.1016/j.biomaterials.2015.07.028.</Citation><ArticleIdList><ArticleId IdType=\"doi\">10.1016/j.biomaterials.2015.07.028</ArticleId><ArticleId IdType=\"pmc\">PMC4736505</ArticleId><ArticleId IdType=\"pubmed\">26197410</ArticleId></ArticleIdList></Reference><Reference><Citation>Usama S. M.; Burgess K. Hows and Whys of Tumor-Seeking Dyes. Acc. Chem. Res. 2021, 54, 2121&#x2013;2131. 10.1021/acs.accounts.0c00733.</Citation><ArticleIdList><ArticleId IdType=\"doi\">10.1021/acs.accounts.0c00733</ArticleId><ArticleId IdType=\"pubmed\">33877807</ArticleId></ArticleIdList></Reference><Reference><Citation>Usama S. M.; et al. Role of Albumin in Accumulation and Persistence of Tumor-Seeking Cyanine Dyes. Bioconjugate Chem. 2020, 31, 248&#x2013;259. 10.1021/acs.bioconjchem.9b00771.</Citation><ArticleIdList><ArticleId IdType=\"doi\">10.1021/acs.bioconjchem.9b00771</ArticleId><ArticleId IdType=\"pmc\">PMC7174984</ArticleId><ArticleId IdType=\"pubmed\">31909595</ArticleId></ArticleIdList></Reference><Reference><Citation>Usama S. M.; Lin C.-M.; Burgess K. On the Mechanisms of Uptake of Tumor-Seeking Cyanine Dyes. Bioconjugate Chem. 2018, 29, 3886&#x2013;3895. 10.1021/acs.bioconjchem.8b00708.</Citation><ArticleIdList><ArticleId IdType=\"doi\">10.1021/acs.bioconjchem.8b00708</ArticleId><ArticleId IdType=\"pubmed\">30354072</ArticleId></ArticleIdList></Reference><Reference><Citation>Cooper E.; et al. Elucidating the cellular uptake mechanisms of heptamethine cyanine dye analogues for their use as an anticancer drug-carrier molecule for the treatment of Glioblastoma. Chemical Biology &amp; Drug Design 2023, 101, 696&#x2013;716. 10.1111/cbdd.14171.</Citation><ArticleIdList><ArticleId IdType=\"doi\">10.1111/cbdd.14171</ArticleId><ArticleId IdType=\"pubmed\">36323652</ArticleId></ArticleIdList></Reference><Reference><Citation>Svoboda M.; Riha J.; Wlcek K.; Jaeger W.; Thalhammer T. Organic anion transporting polypeptides (OATPs): regulation of expression and function. Curr. Drug Metab 2011, 12, 139&#x2013;153. 10.2174/138920011795016863.</Citation><ArticleIdList><ArticleId IdType=\"doi\">10.2174/138920011795016863</ArticleId><ArticleId IdType=\"pubmed\">21395542</ArticleId></ArticleIdList></Reference><Reference><Citation>Gibbs S. L. Near infrared fluorescence for image-guided surgery. Quant Imaging Med. Surg 2012, 2, 177&#x2013;187. 10.3978/j.issn.2223-4292.2012.09.04.</Citation><ArticleIdList><ArticleId IdType=\"doi\">10.3978/j.issn.2223-4292.2012.09.04</ArticleId><ArticleId IdType=\"pmc\">PMC3496513</ArticleId><ArticleId IdType=\"pubmed\">23256079</ArticleId></ArticleIdList></Reference><Reference><Citation>Vahrmeijer A. L.; Hutteman M.; van der Vorst J. R.; van de Velde C. J. H.; Frangioni J. V. Image-guided cancer surgery using near-infrared fluorescence. Nat. Rev. Clin Oncol 2013, 10, 507&#x2013;518. 10.1038/nrclinonc.2013.123.</Citation><ArticleIdList><ArticleId IdType=\"doi\">10.1038/nrclinonc.2013.123</ArticleId><ArticleId IdType=\"pmc\">PMC3755013</ArticleId><ArticleId IdType=\"pubmed\">23881033</ArticleId></ArticleIdList></Reference><Reference><Citation>Cooper E.; et al. The Use of Heptamethine Cyanine Dyes as Drug-Conjugate Systems in the Treatment of Primary and Metastatic Brain Tumors. Front Oncol 2021, 11, 65492110.3389/fonc.2021.654921.</Citation><ArticleIdList><ArticleId IdType=\"doi\">10.3389/fonc.2021.654921</ArticleId><ArticleId IdType=\"pmc\">PMC8204086</ArticleId><ArticleId IdType=\"pubmed\">34141613</ArticleId></ArticleIdList></Reference><Reference><Citation>Cherry E. M.; Lee D. W.; Jung J. U.; Sitcheran R. Tumor necrosis factor-like weak inducer of apoptosis (TWEAK) promotes glioma cell invasion through induction of NF-&#x3ba;B-inducing kinase (NIK) and noncanonical NF-&#x3ba;B signaling. Mol. Cancer 2015, 14, 9.10.1186/s12943-014-0273-1.</Citation><ArticleIdList><ArticleId IdType=\"doi\">10.1186/s12943-014-0273-1</ArticleId><ArticleId IdType=\"pmc\">PMC4320546</ArticleId><ArticleId IdType=\"pubmed\">25622756</ArticleId></ArticleIdList></Reference><Reference><Citation>Duran C. L.; Lee D. W.; Jung J. U.; Ravi S.; Pogue C. B.; Toussaint L. G.; Bayless K. J.; Sitcheran R. NIK regulates MT1-MMP activity and promotes glioma cell invasion independently of the canonical NF-&#x3ba;B pathway. Oncogenesis 2016, 5, e23110.1038/oncsis.2016.39.</Citation><ArticleIdList><ArticleId IdType=\"doi\">10.1038/oncsis.2016.39</ArticleId><ArticleId IdType=\"pmc\">PMC4945740</ArticleId><ArticleId IdType=\"pubmed\">27270613</ArticleId></ArticleIdList></Reference><Reference><Citation>Matsushima A.; et al. Essential role of nuclear factor (NF)-kappaB-inducing kinase and inhibitor of kappaB (IkappaB) kinase alpha in NF-kappaB activation through lymphotoxin beta receptor, but not through tumor necrosis factor receptor I. J. Exp. Med. 2001, 193, 631&#x2013;636. 10.1084/jem.193.5.631.</Citation><ArticleIdList><ArticleId IdType=\"doi\">10.1084/jem.193.5.631</ArticleId><ArticleId IdType=\"pmc\">PMC2193391</ArticleId><ArticleId IdType=\"pubmed\">11238593</ArticleId></ArticleIdList></Reference><Reference><Citation>Qing G.; Qu Z.; Xiao G. Stabilization of Basally Translated NF-&#x3ba;B-inducing Kinase (NIK) Protein Functions as a Molecular Switch of Processing of NF-&#x3ba;B2 p100. J. Biol. Chem. 2005, 280, 40578&#x2013;40582. 10.1074/jbc.M508776200.</Citation><ArticleIdList><ArticleId IdType=\"doi\">10.1074/jbc.M508776200</ArticleId><ArticleId IdType=\"pubmed\">16223731</ArticleId></ArticleIdList></Reference><Reference><Citation>Ramakrishnan P.; Wang W.; Wallach D. Receptor-specific signaling for both the alternative and the canonical NF-kappaB activation pathways by NF-kappaB-inducing kinase. Immunity 2004, 21, 477&#x2013;489. 10.1016/j.immuni.2004.08.009.</Citation><ArticleIdList><ArticleId IdType=\"doi\">10.1016/j.immuni.2004.08.009</ArticleId><ArticleId IdType=\"pubmed\">15485626</ArticleId></ArticleIdList></Reference><Reference><Citation>Jung J. U.; et al. NIK/MAP3K14 Regulates Mitochondrial Dynamics and Trafficking to Promote Cell Invasion. Curr. Biol. 2016, 26, 3288&#x2013;3302. 10.1016/j.cub.2016.10.009.</Citation><ArticleIdList><ArticleId IdType=\"doi\">10.1016/j.cub.2016.10.009</ArticleId><ArticleId IdType=\"pmc\">PMC5702063</ArticleId><ArticleId IdType=\"pubmed\">27889261</ArticleId></ArticleIdList></Reference><Reference><Citation>Kamradt M. L.; Jung J. U.; Pflug K. M.; Lee D. W.; Fanniel V.; Sitcheran R.; et al. NIK promotes metabolic adaptation of Glioblastoma cells to bioenergetic stress. Cell Death Dis. 2021, 12, 1&#x2013;18. 10.1038/s41419-020-03383-z.</Citation><ArticleIdList><ArticleId IdType=\"doi\">10.1038/s41419-020-03383-z</ArticleId><ArticleId IdType=\"pmc\">PMC7960998</ArticleId><ArticleId IdType=\"pubmed\">33723235</ArticleId></ArticleIdList></Reference><Reference><Citation>Trott O.; Olson A. J. Autodock Vina: Improving the speed and accuracy of docking with a new scoring function, efficient optimization, and multithreading. J. Comput. Chem. 2010, 31, 455&#x2013;461. 10.1002/jcc.21334.</Citation><ArticleIdList><ArticleId IdType=\"doi\">10.1002/jcc.21334</ArticleId><ArticleId IdType=\"pmc\">PMC3041641</ArticleId><ArticleId IdType=\"pubmed\">19499576</ArticleId></ArticleIdList></Reference><Reference><Citation>Choi P. J.; et al. The synthesis of a novel Crizotinib heptamethine cyanine dye conjugate that potentiates the cytostatic and cytotoxic effects of Crizotinib in patient-derived Glioblastoma cell lines. Bioorg. Med. Chem. Lett. 2019, 29, 2617&#x2013;2621. 10.1016/j.bmcl.2019.07.051.</Citation><ArticleIdList><ArticleId IdType=\"doi\">10.1016/j.bmcl.2019.07.051</ArticleId><ArticleId IdType=\"pubmed\">31378572</ArticleId></ArticleIdList></Reference><Reference><Citation>Kelly J. J. P.; et al. Proliferation of Human Glioblastoma Stem Cells Occurs Independently of Exogenous Mitogens. Stem Cells 2009, 27, 1722&#x2013;1733. 10.1002/stem.98.</Citation><ArticleIdList><ArticleId IdType=\"doi\">10.1002/stem.98</ArticleId><ArticleId IdType=\"pubmed\">19544433</ArticleId></ArticleIdList></Reference><Reference><Citation>Cui J. J.; et al. Structure based drug design of crizotinib (PF-02341066), a potent and selective dual inhibitor of mesenchymal-epithelial transition factor (c-MET) kinase and anaplastic lymphoma kinase (ALK). J. Med. Chem. 2011, 54, 6342&#x2013;6363. 10.1021/jm2007613.</Citation><ArticleIdList><ArticleId IdType=\"doi\">10.1021/jm2007613</ArticleId><ArticleId IdType=\"pubmed\">21812414</ArticleId></ArticleIdList></Reference><Reference><Citation>Zou H. Y.; et al. An orally available small-molecule inhibitor of c-Met, PF-2341066, exhibits cytoreductive antitumor efficacy through antiproliferative and antiangiogenic mechanisms. Cancer Res. 2007, 67, 4408&#x2013;4417. 10.1158/0008-5472.CAN-06-4443.</Citation><ArticleIdList><ArticleId IdType=\"doi\">10.1158/0008-5472.CAN-06-4443</ArticleId><ArticleId IdType=\"pubmed\">17483355</ArticleId></ArticleIdList></Reference><Reference><Citation>Mart&#xed;nez-Garc&#xed;a M.; et al. Safety and Efficacy of Crizotinib in Combination with Temozolomide and Radiotherapy in Patients with Newly Diagnosed Glioblastoma: Phase Ib GEINO 1402 Trial. Cancers (Basel) 2022, 14, 2393.10.3390/cancers14102393.</Citation><ArticleIdList><ArticleId IdType=\"doi\">10.3390/cancers14102393</ArticleId><ArticleId IdType=\"pmc\">PMC9139576</ArticleId><ArticleId IdType=\"pubmed\">35625997</ArticleId></ArticleIdList></Reference><Reference><Citation>Le Rhun E.; et al. Patterns of response to crizotinib in recurrent Glioblastoma according to ALK and MET molecular profile in two patients. CNS Oncol 2015, 4, 381&#x2013;386. 10.2217/cns.15.30.</Citation><ArticleIdList><ArticleId IdType=\"doi\">10.2217/cns.15.30</ArticleId><ArticleId IdType=\"pmc\">PMC6083940</ArticleId><ArticleId IdType=\"pubmed\">26498130</ArticleId></ArticleIdList></Reference><Reference><Citation>Chaitanya G. V.; Alexander J. S.; Babu P. P. PARP-1 cleavage fragments: signatures of cell-death proteases in neurodegeneration. Cell Commun. Signal 2010, 8, 31.10.1186/1478-811X-8-31.</Citation><ArticleIdList><ArticleId IdType=\"doi\">10.1186/1478-811X-8-31</ArticleId><ArticleId IdType=\"pmc\">PMC3022541</ArticleId><ArticleId IdType=\"pubmed\">21176168</ArticleId></ArticleIdList></Reference><Reference><Citation>Mashimo M.; et al. The 89-kDa PARP1 cleavage fragment serves as a cytoplasmic PAR carrier to induce AIF-mediated apoptosis. J. Biol. Chem. 2021, 296, 100046.10.1074/jbc.RA120.014479.</Citation><ArticleIdList><ArticleId IdType=\"doi\">10.1074/jbc.RA120.014479</ArticleId><ArticleId IdType=\"pmc\">PMC7948984</ArticleId><ArticleId IdType=\"pubmed\">33168626</ArticleId></ArticleIdList></Reference><Reference><Citation>Chuang Y. C.; Huang B. Y.; Chang H. W.; Yang C. N. Molecular Modeling of ALK L1198F and/or G1202R Mutations to Determine Differential Crizotinib Sensitivity. Sci. Rep. 2019, 9, 11390.10.1038/s41598-019-46825-1.</Citation><ArticleIdList><ArticleId IdType=\"doi\">10.1038/s41598-019-46825-1</ArticleId><ArticleId IdType=\"pmc\">PMC6684801</ArticleId><ArticleId IdType=\"pubmed\">31388026</ArticleId></ArticleIdList></Reference><Reference><Citation>Kobe B.; Kemp B. E.. Chapter 74 - Principles of Kinase Regulation. in Handbook of Cell Signaling (SecondEdition) (eds. Bradshaw R. A.; Dennis E. A.. 559&#x2013;563Academic Press, 2010.</Citation></Reference><Reference><Citation>Knighton D. R.; et al. Crystal structure of the catalytic subunit of cyclic adenosine monophosphate-dependent protein kinase. Science 1991, 253, 407&#x2013;414. 10.1126/science.1862342.</Citation><ArticleIdList><ArticleId IdType=\"doi\">10.1126/science.1862342</ArticleId><ArticleId IdType=\"pubmed\">1862342</ArticleId></ArticleIdList></Reference><Reference><Citation>Davis M. I.; et al. Comprehensive analysis of kinase inhibitor selectivity. Nat. Biotechnol. 2011, 29, 1046&#x2013;1051. 10.1038/nbt.1990.</Citation><ArticleIdList><ArticleId IdType=\"doi\">10.1038/nbt.1990</ArticleId><ArticleId IdType=\"pubmed\">22037378</ArticleId></ArticleIdList></Reference><Reference><Citation>Harrison C. Analysing kinase inhibitor selectivity. Nat. Rev. Drug Discovery 2012, 11, 21&#x2013;21. 10.1038/nrd3647.</Citation><ArticleIdList><ArticleId IdType=\"doi\">10.1038/nrd3647</ArticleId></ArticleIdList></Reference><Reference><Citation>Sahu A.; Prabhash K.; Noronha V.; Joshi A.; Desai S. Crizotinib: A comprehensive review. South Asian J. Cancer 2013, 2, 91&#x2013;97. 10.4103/2278-330X.110506.</Citation><ArticleIdList><ArticleId IdType=\"doi\">10.4103/2278-330X.110506</ArticleId><ArticleId IdType=\"pmc\">PMC3876666</ArticleId><ArticleId IdType=\"pubmed\">24455567</ArticleId></ArticleIdList></Reference><Reference><Citation>Junca A.; et al. Crizotinib targets in Glioblastoma stem cells. Cancer Med. 2017, 6, 2625&#x2013;2634. 10.1002/cam4.1167.</Citation><ArticleIdList><ArticleId IdType=\"doi\">10.1002/cam4.1167</ArticleId><ArticleId IdType=\"pmc\">PMC5673924</ArticleId><ArticleId IdType=\"pubmed\">28960893</ArticleId></ArticleIdList></Reference><Reference><Citation>Goodwin C. R.; et al. Crizotinib and erlotinib inhibits growth of c-Met+/EGFRvIII+ primary human Glioblastoma xenografts. Clinical Neurology and Neurosurgery 2018, 171, 26&#x2013;33. 10.1016/j.clineuro.2018.02.041.</Citation><ArticleIdList><ArticleId IdType=\"doi\">10.1016/j.clineuro.2018.02.041</ArticleId><ArticleId IdType=\"pubmed\">29803091</ArticleId></ArticleIdList></Reference><Reference><Citation>Nehoff H.; Parayath N. N.; McConnell M. J.; Taurin S.; Greish K. A combination of tyrosine kinase inhibitors, crizotinib and dasatinib for the treatment of Glioblastoma multiforme. Oncotarget 2015, 6, 37948&#x2013;37964. 10.18632/oncotarget.5698.</Citation><ArticleIdList><ArticleId IdType=\"doi\">10.18632/oncotarget.5698</ArticleId><ArticleId IdType=\"pmc\">PMC4741976</ArticleId><ArticleId IdType=\"pubmed\">26517812</ArticleId></ArticleIdList></Reference><Reference><Citation>Grupo Espa&#xf1;ol de Investigaci&#xf3;n\\nen Neurooncolog&#xed;a . Phase Ib,\\nOpen-label, Multicenter, Dose-escalation Study Followed by an Extension\\nPhase to Evaluate the Safety and Activity of the Combination of Crizotinib\\nWith Temozolomide and Radiotherapy in Patients With Newly Diagnosed\\nGlioblastoma. https://clinicaltrials.gov/ct2/show/study/NCT02270034 (2021).</Citation></Reference><Reference><Citation>Broniscer A.; Jia S.; Mandrell B.; Hamideh D.; Huang J.; Onar-Thomas A.; Gajjar A.; Raimondi S. C.; Tatevossian R. G.; Stewart C. F. Phase 1 trial, pharmacokinetics, and pharmacodynamics of dasatinib combined with crizotinib in children with recurrent or progressive high-grade and diffuse intrinsic pontine glioma. Pediatr. Blood Cancer 2018, 65, e2703510.1002/pbc.27035.</Citation><ArticleIdList><ArticleId IdType=\"doi\">10.1002/pbc.27035</ArticleId><ArticleId IdType=\"pmc\">PMC5980705</ArticleId><ArticleId IdType=\"pubmed\">29512900</ArticleId></ArticleIdList></Reference><Reference><Citation>Gibson E. G.; Campagne O.; Selvo N. S.; Gajjar A.; Stewart C. F. Population pharmacokinetic analysis of crizotinib in children with progressive/recurrent high-grade and diffuse intrinsic pontine gliomas. Cancer Chemother Pharmacol 2021, 88, 1009&#x2013;1020. 10.1007/s00280-021-04357-4.</Citation><ArticleIdList><ArticleId IdType=\"doi\">10.1007/s00280-021-04357-4</ArticleId><ArticleId IdType=\"pmc\">PMC8561710</ArticleId><ArticleId IdType=\"pubmed\">34586478</ArticleId></ArticleIdList></Reference><Reference><Citation>Angeli E.; Bousquet G. Brain Metastasis Treatment: The Place of Tyrosine Kinase Inhibitors and How to Facilitate Their Diffusion across the Blood&#x2013;Brain Barrier. Pharmaceutics 2021, 13, 1446.10.3390/pharmaceutics13091446.</Citation><ArticleIdList><ArticleId IdType=\"doi\">10.3390/pharmaceutics13091446</ArticleId><ArticleId IdType=\"pmc\">PMC8468523</ArticleId><ArticleId IdType=\"pubmed\">34575525</ArticleId></ArticleIdList></Reference><Reference><Citation>Alexandru O.; et al. Receptor tyrosine kinase targeting in Glioblastoma: performance, limitations and future approaches. Contemp Oncol (Pozn) 2020, 24, 55&#x2013;66. 10.5114/wo.2020.94726.</Citation><ArticleIdList><ArticleId IdType=\"doi\">10.5114/wo.2020.94726</ArticleId><ArticleId IdType=\"pmc\">PMC7265959</ArticleId><ArticleId IdType=\"pubmed\">32514239</ArticleId></ArticleIdList></Reference><Reference><Citation>Reichel D.; et al. Near Infrared Fluorescent Nanoplatform for Targeted Intraoperative Resection and Chemotherapeutic Treatment of Glioblastoma. ACS Nano 2020, 14, 8392&#x2013;8408. 10.1021/acsnano.0c02509.</Citation><ArticleIdList><ArticleId IdType=\"doi\">10.1021/acsnano.0c02509</ArticleId><ArticleId IdType=\"pmc\">PMC7438253</ArticleId><ArticleId IdType=\"pubmed\">32551496</ArticleId></ArticleIdList></Reference><Reference><Citation>Wu J. B.; et al. Near-infrared fluorescence imaging of cancer mediated by tumor hypoxia and HIF1&#x3b1;/OATPs signaling axis. Biomaterials 2014, 35, 8175&#x2013;8185. 10.1016/j.biomaterials.2014.05.073.</Citation><ArticleIdList><ArticleId IdType=\"doi\">10.1016/j.biomaterials.2014.05.073</ArticleId><ArticleId IdType=\"pmc\">PMC4180424</ArticleId><ArticleId IdType=\"pubmed\">24957295</ArticleId></ArticleIdList></Reference><Reference><Citation>Guan Y.; et al. Synthesis and Biological Evaluation of Genistein-IR783 Conjugate: Cancer Cell Targeted Delivery in MCF-7 for Superior Anti-Cancer Therapy. Molecules 2019, 24, 4120.10.3390/molecules24224120.</Citation><ArticleIdList><ArticleId IdType=\"doi\">10.3390/molecules24224120</ArticleId><ArticleId IdType=\"pmc\">PMC6891397</ArticleId><ArticleId IdType=\"pubmed\">31739548</ArticleId></ArticleIdList></Reference><Reference><Citation>Li Y.; Zhou Q.; Deng Z.; Pan M.; Liu X.; Wu J.; Yan F.; Zheng H. IR-780 Dye as a Sonosensitizer for Sonodynamic Therapy of Breast Tumor. Sci. Rep. 2016, 6, 25968.10.1038/srep25968.</Citation><ArticleIdList><ArticleId IdType=\"doi\">10.1038/srep25968</ArticleId><ArticleId IdType=\"pmc\">PMC4865802</ArticleId><ArticleId IdType=\"pubmed\">27174006</ArticleId></ArticleIdList></Reference><Reference><Citation>Usama S. M.; Jiang Z.; Pflug K.; Sitcheran R.; Burgess K. Conjugation of Dasatinib with MHI-148 Has a Significant Advantageous Effect in Viability Assays for Glioblastoma Cells. ChemMedChem. 2019, 14, 1575&#x2013;1579. 10.1002/cmdc.201900356.</Citation><ArticleIdList><ArticleId IdType=\"doi\">10.1002/cmdc.201900356</ArticleId><ArticleId IdType=\"pubmed\">31322832</ArticleId></ArticleIdList></Reference><Reference><Citation>Singh N.; Miner A.; Hennis L.; Mittal S. Mechanisms of Temozolomide resistance in Glioblastoma - a comprehensive review. Cancer Drug Resist. 2020, 4, 17&#x2013;43. 10.20517/cdr.2020.79.</Citation><ArticleIdList><ArticleId IdType=\"doi\">10.20517/cdr.2020.79</ArticleId><ArticleId IdType=\"pmc\">PMC8319838</ArticleId><ArticleId IdType=\"pubmed\">34337348</ArticleId></ArticleIdList></Reference><Reference><Citation>Arora A.; Somasundaram K. Glioblastoma vs Temozolomide: can the red queen race be won?. Cancer Biol. Ther 2019, 20, 1083&#x2013;1090. 10.1080/15384047.2019.1599662.</Citation><ArticleIdList><ArticleId IdType=\"doi\">10.1080/15384047.2019.1599662</ArticleId><ArticleId IdType=\"pmc\">PMC6606031</ArticleId><ArticleId IdType=\"pubmed\">31068075</ArticleId></ArticleIdList></Reference><Reference><Citation>Lee S. Y. Temozolomide resistance in Glioblastoma multiforme. Genes Dis 2016, 3, 198&#x2013;210. 10.1016/j.gendis.2016.04.007.</Citation><ArticleIdList><ArticleId IdType=\"doi\">10.1016/j.gendis.2016.04.007</ArticleId><ArticleId IdType=\"pmc\">PMC6150109</ArticleId><ArticleId IdType=\"pubmed\">30258889</ArticleId></ArticleIdList></Reference></ReferenceList></PubmedData></PubmedArticle><PubmedArticle><MedlineCitation Status=\"MEDLINE\" Owner=\"NLM\" IndexingMethod=\"Automated\"><PMID Version=\"1\">37861443</PMID><DateCompleted><Year>2023</Year><Month>11</Month><Day>10</Day></DateCompleted><DateRevised><Year>2023</Year><Month>11</Month><Day>10</Day></DateRevised><Article PubModel=\"Print-Electronic\"><Journal><ISSN IssnType=\"Electronic\">1520-4804</ISSN><JournalIssue CitedMedium=\"Internet\"><Volume>66</Volume><Issue>21</Issue><PubDate><Year>2023</Year><Month>Nov</Month><Day>09</Day></PubDate></JournalIssue><Title>Journal of medicinal chemistry</Title><ISOAbbreviation>J Med Chem</ISOAbbreviation></Journal><ArticleTitle>Synthesis and Bioevaluation of 3-(Arylmethylene)indole Derivatives: Discovery of a Novel ALK Modulator with Antiglioblastoma Activities.</ArticleTitle><Pagination><StartPage>14609</StartPage><EndPage>14622</EndPage><MedlinePgn>14609-14622</MedlinePgn></Pagination><ELocationID EIdType=\"doi\" ValidYN=\"Y\">10.1021/acs.jmedchem.3c01090</ELocationID><Abstract><AbstractText>Glioblastoma is the most common brain tumor, with high recurrence and low survival rates. An integrative bioinformatics analysis demonstrated that anaplastic lymphoma kinase (ALK) is a promising therapeutic target for glioblastoma. We designed and synthesized a series of 3-(arylmethylene)indole derivatives, which were further evaluated for antiproliferative activity using glioma cell lines. Among them, compound <b>4a</b> significantly inhibited the viability of glioblastoma cells. With favorable pharmacokinetic characteristics and blood-brain barrier permeability, <b>4a</b> improved the survival rate and inhibited the growth of orthotopic glioblastoma. The Phospho-Totum system revealed that ALK was a potential target for the antiglioblastoma activity of <b>4a</b>. Further experiments indicated that <b>4a</b> might be a novel ALK modulator, which interacted with the extracellular ligand-binding domain of ALK, thus selectively induced ERK-mediated autophagy and apoptosis. Our findings provide an alternative ALK-based targeting strategy and a new drug candidate for glioblastoma therapy.</AbstractText></Abstract><AuthorList CompleteYN=\"Y\"><Author ValidYN=\"Y\"><LastName>Feng</LastName><ForeName>Lili</ForeName><Initials>L</Initials><AffiliationInfo><Affiliation>Medical Basic Research Innovation Center for Cardiovascular and Cerebrovascular Diseases, Ministry of Education, China, International Joint Laboratory for Drug Target of Critical Illnesses, School of Pharmacy, Nanjing Medical University, Nanjing 211166, China.</Affiliation></AffiliationInfo></Author><Author ValidYN=\"Y\"><LastName>Chen</LastName><ForeName>Xiang</ForeName><Initials>X</Initials><AffiliationInfo><Affiliation>Medical Basic Research Innovation Center for Cardiovascular and Cerebrovascular Diseases, Ministry of Education, China, International Joint Laboratory for Drug Target of Critical Illnesses, School of Pharmacy, Nanjing Medical University, Nanjing 211166, China.</Affiliation></AffiliationInfo></Author><Author ValidYN=\"Y\"><LastName>Sheng</LastName><ForeName>Gang</ForeName><Initials>G</Initials><AffiliationInfo><Affiliation>Medical Basic Research Innovation Center for Cardiovascular and Cerebrovascular Diseases, Ministry of Education, China, International Joint Laboratory for Drug Target of Critical Illnesses, School of Pharmacy, Nanjing Medical University, Nanjing 211166, China.</Affiliation></AffiliationInfo></Author><Author ValidYN=\"Y\"><LastName>Li</LastName><ForeName>Yingchun</ForeName><Initials>Y</Initials><AffiliationInfo><Affiliation>Medical Basic Research Innovation Center for Cardiovascular and Cerebrovascular Diseases, Ministry of Education, China, International Joint Laboratory for Drug Target of Critical Illnesses, School of Pharmacy, Nanjing Medical University, Nanjing 211166, China.</Affiliation></AffiliationInfo></Author><Author ValidYN=\"Y\"><LastName>Li</LastName><ForeName>Yingying</ForeName><Initials>Y</Initials><AffiliationInfo><Affiliation>Medical Basic Research Innovation Center for Cardiovascular and Cerebrovascular Diseases, Ministry of Education, China, International Joint Laboratory for Drug Target of Critical Illnesses, School of Pharmacy, Nanjing Medical University, Nanjing 211166, China.</Affiliation></AffiliationInfo></Author><Author ValidYN=\"Y\"><LastName>Zhang</LastName><ForeName>Yixuan</ForeName><Initials>Y</Initials><AffiliationInfo><Affiliation>Gusu School, Nanjing Medical University, Suzhou Municipal Hospital, The Affiliated Suzhou Hospital of Nanjing Medical University, Suzhou 215001, China.</Affiliation></AffiliationInfo></Author><Author ValidYN=\"Y\"><LastName>Yao</LastName><ForeName>Kun</ForeName><Initials>K</Initials><AffiliationInfo><Affiliation>Laboratory of Medicinal Chemical Biology, Department of Medicinal Chemistry, College of Pharmaceutical Sciences, Soochow University, Suzhou 215006, China.</Affiliation></AffiliationInfo></Author><Author ValidYN=\"Y\"><LastName>Wu</LastName><ForeName>Zhouyue</ForeName><Initials>Z</Initials><AffiliationInfo><Affiliation>Medical Basic Research Innovation Center for Cardiovascular and Cerebrovascular Diseases, Ministry of Education, China, International Joint Laboratory for Drug Target of Critical Illnesses, School of Pharmacy, Nanjing Medical University, Nanjing 211166, China.</Affiliation></AffiliationInfo></Author><Author ValidYN=\"Y\"><LastName>Zhang</LastName><ForeName>Rong</ForeName><Initials>R</Initials><AffiliationInfo><Affiliation>Medical Basic Research Innovation Center for Cardiovascular and Cerebrovascular Diseases, Ministry of Education, China, International Joint Laboratory for Drug Target of Critical Illnesses, School of Pharmacy, Nanjing Medical University, Nanjing 211166, China.</Affiliation></AffiliationInfo></Author><Author ValidYN=\"Y\"><LastName>Kiboku</LastName><ForeName>Takayuki</ForeName><Initials>T</Initials><AffiliationInfo><Affiliation>Socium Inc., Tokyo 1350064, Japan.</Affiliation></AffiliationInfo></Author><Author ValidYN=\"Y\"><LastName>Kawasaki</LastName><ForeName>Atsushi</ForeName><Initials>A</Initials><AffiliationInfo><Affiliation>Socium Inc., Tokyo 1350064, Japan.</Affiliation></AffiliationInfo></Author><Author ValidYN=\"Y\"><LastName>Horimoto</LastName><ForeName>Katsuhisa</ForeName><Initials>K</Initials><AffiliationInfo><Affiliation>Socium Inc., Tokyo 1350064, Japan.</Affiliation></AffiliationInfo><AffiliationInfo><Affiliation>Artificial Intelligence Research Center, National Institute of Advanced Industrial Science and Technology, Tokyo 1350064, Japan.</Affiliation></AffiliationInfo></Author><Author ValidYN=\"Y\"><LastName>Tang</LastName><ForeName>Yamin</ForeName><Initials>Y</Initials><AffiliationInfo><Affiliation>Medical Basic Research Innovation Center for Cardiovascular and Cerebrovascular Diseases, Ministry of Education, China, International Joint Laboratory for Drug Target of Critical Illnesses, School of Pharmacy, Nanjing Medical University, Nanjing 211166, China.</Affiliation></AffiliationInfo></Author><Author ValidYN=\"Y\"><LastName>Sun</LastName><ForeName>Meiling</ForeName><Initials>M</Initials><AffiliationInfo><Affiliation>Department of Physiology, School of Basic Medical Sciences, Nanjing Medical University, Nanjing 211166, China.</Affiliation></AffiliationInfo></Author><Author ValidYN=\"Y\"><LastName>Han</LastName><ForeName>Feng</ForeName><Initials>F</Initials><Identifier Source=\"ORCID\">0000-0002-7800-9852</Identifier><AffiliationInfo><Affiliation>Medical Basic Research Innovation Center for Cardiovascular and Cerebrovascular Diseases, Ministry of Education, China, International Joint Laboratory for Drug Target of Critical Illnesses, School of Pharmacy, Nanjing Medical University, Nanjing 211166, China.</Affiliation></AffiliationInfo><AffiliationInfo><Affiliation>Gusu School, Nanjing Medical University, Suzhou Municipal Hospital, The Affiliated Suzhou Hospital of Nanjing Medical University, Suzhou 215001, China.</Affiliation></AffiliationInfo><AffiliationInfo><Affiliation>Institute of Brain Science, The Affiliated Brain Hospital of Nanjing Medical University, Nanjing 210029, China.</Affiliation></AffiliationInfo></Author><Author ValidYN=\"Y\"><LastName>Chen</LastName><ForeName>Dongyin</ForeName><Initials>D</Initials><Identifier Source=\"ORCID\">0000-0002-7978-7429</Identifier><AffiliationInfo><Affiliation>Medical Basic Research Innovation Center for Cardiovascular and Cerebrovascular Diseases, Ministry of Education, China, International Joint Laboratory for Drug Target of Critical Illnesses, School of Pharmacy, Nanjing Medical University, Nanjing 211166, China.</Affiliation></AffiliationInfo></Author></AuthorList><Language>eng</Language><PublicationTypeList><PublicationType UI=\"D016428\">Journal Article</PublicationType><PublicationType UI=\"D013485\">Research Support, Non-U.S. Gov\\'t</PublicationType></PublicationTypeList><ArticleDate DateType=\"Electronic\"><Year>2023</Year><Month>10</Month><Day>20</Day></ArticleDate></Article><MedlineJournalInfo><Country>United States</Country><MedlineTA>J Med Chem</MedlineTA><NlmUniqueID>9716531</NlmUniqueID><ISSNLinking>0022-2623</ISSNLinking></MedlineJournalInfo><ChemicalList><Chemical><RegistryNumber>EC 2.7.10.1</RegistryNumber><NameOfSubstance UI=\"D000077548\">Anaplastic Lymphoma Kinase</NameOfSubstance></Chemical><Chemical><RegistryNumber>EC 2.7.10.1</RegistryNumber><NameOfSubstance UI=\"D020794\">Receptor Protein-Tyrosine Kinases</NameOfSubstance></Chemical><Chemical><RegistryNumber>0</RegistryNumber><NameOfSubstance UI=\"D007211\">Indoles</NameOfSubstance></Chemical><Chemical><RegistryNumber>0</RegistryNumber><NameOfSubstance UI=\"D047428\">Protein Kinase Inhibitors</NameOfSubstance></Chemical></ChemicalList><CitationSubset>IM</CitationSubset><MeshHeadingList><MeshHeading><DescriptorName UI=\"D006801\" MajorTopicYN=\"N\">Humans</DescriptorName></MeshHeading><MeshHeading><DescriptorName UI=\"D000077548\" MajorTopicYN=\"N\">Anaplastic Lymphoma Kinase</DescriptorName></MeshHeading><MeshHeading><DescriptorName UI=\"D020794\" MajorTopicYN=\"N\">Receptor Protein-Tyrosine Kinases</DescriptorName></MeshHeading><MeshHeading><DescriptorName UI=\"D005909\" MajorTopicYN=\"Y\">Glioblastoma</DescriptorName><QualifierName UI=\"Q000473\" MajorTopicYN=\"N\">pathology</QualifierName></MeshHeading><MeshHeading><DescriptorName UI=\"D005910\" MajorTopicYN=\"Y\">Glioma</DescriptorName></MeshHeading><MeshHeading><DescriptorName UI=\"D007211\" MajorTopicYN=\"N\">Indoles</DescriptorName><QualifierName UI=\"Q000494\" MajorTopicYN=\"N\">pharmacology</QualifierName><QualifierName UI=\"Q000627\" MajorTopicYN=\"N\">therapeutic use</QualifierName></MeshHeading><MeshHeading><DescriptorName UI=\"D045744\" MajorTopicYN=\"N\">Cell Line, Tumor</DescriptorName></MeshHeading><MeshHeading><DescriptorName UI=\"D047428\" MajorTopicYN=\"N\">Protein Kinase Inhibitors</DescriptorName><QualifierName UI=\"Q000494\" MajorTopicYN=\"N\">pharmacology</QualifierName><QualifierName UI=\"Q000627\" MajorTopicYN=\"N\">therapeutic use</QualifierName></MeshHeading><MeshHeading><DescriptorName UI=\"D049109\" MajorTopicYN=\"N\">Cell Proliferation</DescriptorName></MeshHeading></MeshHeadingList></MedlineCitation><PubmedData><History><PubMedPubDate PubStatus=\"medline\"><Year>2023</Year><Month>11</Month><Day>10</Day><Hour>6</Hour><Minute>45</Minute></PubMedPubDate><PubMedPubDate PubStatus=\"pubmed\"><Year>2023</Year><Month>10</Month><Day>20</Day><Hour>12</Hour><Minute>43</Minute></PubMedPubDate><PubMedPubDate PubStatus=\"entrez\"><Year>2023</Year><Month>10</Month><Day>20</Day><Hour>10</Hour><Minute>13</Minute></PubMedPubDate></History><PublicationStatus>ppublish</PublicationStatus><ArticleIdList><ArticleId IdType=\"pubmed\">37861443</ArticleId><ArticleId IdType=\"doi\">10.1021/acs.jmedchem.3c01090</ArticleId></ArticleIdList></PubmedData></PubmedArticle></PubmedArticleSet>'"
      ]
     },
     "execution_count": 143,
     "metadata": {},
     "output_type": "execute_result"
    }
   ],
   "source": [
    "fetch_response.text"
   ]
  },
  {
   "cell_type": "markdown",
   "id": "de16190b",
   "metadata": {
    "scrolled": true
   },
   "source": [
    "**PROBLEM - The result string has many special characters such as &#xa0 and &#x3ba. How to take care of decoding?**"
   ]
  },
  {
   "cell_type": "code",
   "execution_count": 57,
   "id": "37c0bea1",
   "metadata": {},
   "outputs": [
    {
     "name": "stdout",
     "output_type": "stream",
     "text": [
      "1\n",
      "10\n",
      "59\n"
     ]
    }
   ],
   "source": [
    "print(fetch_response.text.count(\"&#xa0\"))\n",
    "print(fetch_response.text.count(\"&#x3ba\"))\n",
    "print(fetch_response.text.count(\"&#\"))"
   ]
  },
  {
   "cell_type": "markdown",
   "id": "15151733",
   "metadata": {},
   "source": [
    "**This library can normalize the data. However it shows that the string is already in the normal form.**"
   ]
  },
  {
   "cell_type": "code",
   "execution_count": 42,
   "id": "1cf4bc2a",
   "metadata": {},
   "outputs": [],
   "source": [
    "import unicodedata"
   ]
  },
  {
   "cell_type": "code",
   "execution_count": 47,
   "id": "84f0cdf3",
   "metadata": {},
   "outputs": [
    {
     "data": {
      "text/plain": [
       "True"
      ]
     },
     "execution_count": 47,
     "metadata": {},
     "output_type": "execute_result"
    }
   ],
   "source": [
    "unicodedata.is_normalized(\"NFKD\", fetch_response.text)"
   ]
  },
  {
   "cell_type": "markdown",
   "id": "2b9db8e9",
   "metadata": {},
   "source": [
    "**Q - How to save the string to a file with the proper encoding?**"
   ]
  },
  {
   "cell_type": "raw",
   "id": "c78654b4",
   "metadata": {},
   "source": [
    "# to write to a file:\n",
    "# how to specify encoding? there are weird chars like &#xa0\n",
    "\n",
    "with open('newfile.xml','w') as f:\n",
    "    f.write(fetch_response.text)\n",
    "    \n",
    "    \n",
    "# read from file\n",
    "with open('newfile.xml') as f:\n",
    "    tree = ET.parse(f)\n",
    "    root = tree.getroot()\n",
    "    root_str = ET.tostring(root).decode(\"utf-8\").strip()"
   ]
  },
  {
   "cell_type": "markdown",
   "id": "1913ab29",
   "metadata": {},
   "source": [
    "**Try the html module to clean up the string containing html characters such as the one shown above.**"
   ]
  },
  {
   "cell_type": "code",
   "execution_count": 159,
   "id": "ebd5e38c",
   "metadata": {},
   "outputs": [],
   "source": [
    "import html"
   ]
  },
  {
   "cell_type": "code",
   "execution_count": 160,
   "id": "963c4aa7",
   "metadata": {},
   "outputs": [],
   "source": [
    "cleaned_response = html.unescape(fetch_response.text)"
   ]
  },
  {
   "cell_type": "code",
   "execution_count": 177,
   "id": "1ddba985",
   "metadata": {},
   "outputs": [
    {
     "name": "stdout",
     "output_type": "stream",
     "text": [
      "0\n",
      "0\n",
      "0\n"
     ]
    }
   ],
   "source": [
    "print(cleaned_response.count(\"&#xa0\"))\n",
    "print(cleaned_response.count(\"&#x3ba\"))\n",
    "print(cleaned_response.count(\"&#\"))"
   ]
  },
  {
   "cell_type": "markdown",
   "id": "303de1c1",
   "metadata": {},
   "source": [
    "**From above, although it looks like all HTML entities were taken care of, the string now has '\\xa0', which is a non breaking space character in unicode.**"
   ]
  },
  {
   "cell_type": "code",
   "execution_count": 188,
   "id": "dcdb07ed",
   "metadata": {
    "scrolled": false
   },
   "outputs": [
    {
     "data": {
      "text/plain": [
       "True"
      ]
     },
     "execution_count": 188,
     "metadata": {},
     "output_type": "execute_result"
    }
   ],
   "source": [
    "\"\\xa0\" in cleaned_response"
   ]
  },
  {
   "cell_type": "code",
   "execution_count": 185,
   "id": "fe36a654",
   "metadata": {},
   "outputs": [
    {
     "data": {
      "text/plain": [
       "' than the mean age. \\xa0Conclusion: Our res'"
      ]
     },
     "execution_count": 185,
     "metadata": {},
     "output_type": "execute_result"
    }
   ],
   "source": [
    "cleaned_response[cleaned_response.find(\"\\xa0\")-20 : cleaned_response.find(\"\\xa0\")+20]"
   ]
  },
  {
   "cell_type": "markdown",
   "id": "9c569ebf",
   "metadata": {},
   "source": [
    "**To resolve this possibility, this will be replaced by regular space characters.**"
   ]
  },
  {
   "cell_type": "code",
   "execution_count": 189,
   "id": "239f2eb5",
   "metadata": {},
   "outputs": [],
   "source": [
    "cleaned_response = html.unescape(fetch_response.text).replace('\\xa0', ' ')"
   ]
  },
  {
   "cell_type": "code",
   "execution_count": 191,
   "id": "8ad4e2bb",
   "metadata": {},
   "outputs": [
    {
     "data": {
      "text/plain": [
       "'than the mean age.  Conclusion: Our resu'"
      ]
     },
     "execution_count": 191,
     "metadata": {},
     "output_type": "execute_result"
    }
   ],
   "source": [
    "cleaned_response[cleaned_response.find(\"Conclusion\")-20 : cleaned_response.find(\"Conclusion\")+20]"
   ]
  },
  {
   "cell_type": "markdown",
   "id": "0b1ae79c",
   "metadata": {},
   "source": [
    "**Explore the XML module to see the different methods of getting fields or keys pertaining to all papers can be obtained.**"
   ]
  },
  {
   "cell_type": "markdown",
   "id": "32a96751",
   "metadata": {},
   "source": [
    "Element object"
   ]
  },
  {
   "cell_type": "code",
   "execution_count": 49,
   "id": "78803ebb",
   "metadata": {},
   "outputs": [],
   "source": [
    "root = ET.fromstring(fetch_response.text)"
   ]
  },
  {
   "cell_type": "markdown",
   "id": "220276b6",
   "metadata": {},
   "source": [
    "* Top level tag"
   ]
  },
  {
   "cell_type": "code",
   "execution_count": 54,
   "id": "eea0767b",
   "metadata": {},
   "outputs": [
    {
     "data": {
      "text/plain": [
       "'PubmedArticleSet'"
      ]
     },
     "execution_count": 54,
     "metadata": {},
     "output_type": "execute_result"
    }
   ],
   "source": [
    "root.tag"
   ]
  },
  {
   "cell_type": "markdown",
   "id": "06173395",
   "metadata": {},
   "source": [
    "**The root contains all 3 papers, each initializing as 'PubMedArticle'.**"
   ]
  },
  {
   "cell_type": "code",
   "execution_count": 59,
   "id": "9a429787",
   "metadata": {},
   "outputs": [
    {
     "data": {
      "text/plain": [
       "'PubmedArticleSet'"
      ]
     },
     "execution_count": 59,
     "metadata": {},
     "output_type": "execute_result"
    }
   ],
   "source": [
    "root.tag"
   ]
  },
  {
   "cell_type": "markdown",
   "id": "3d03231b",
   "metadata": {},
   "source": [
    "#### INDICES METHOD\n",
    "**Indices can be used to fetch fields however this can get very messy and unreliable.**"
   ]
  },
  {
   "cell_type": "markdown",
   "id": "475dbd91",
   "metadata": {},
   "source": [
    "Each of the 3 papers are children of the main root called PubMedArticleSet.\n",
    "The tag method gives the name of the tag or the field."
   ]
  },
  {
   "cell_type": "code",
   "execution_count": 62,
   "id": "98081f72",
   "metadata": {},
   "outputs": [
    {
     "name": "stdout",
     "output_type": "stream",
     "text": [
      "PubmedArticle\n",
      "PubmedArticle\n",
      "PubmedArticle\n"
     ]
    }
   ],
   "source": [
    "\n",
    "print(root[0].tag)\n",
    "print(root[1].tag)\n",
    "print(root[2].tag)"
   ]
  },
  {
   "cell_type": "markdown",
   "id": "f19a271f",
   "metadata": {},
   "source": [
    "The tree depth can be navigated by further specifying indices. EG. Children of PubMedArticle:"
   ]
  },
  {
   "cell_type": "code",
   "execution_count": 67,
   "id": "3fda62c5",
   "metadata": {},
   "outputs": [
    {
     "name": "stdout",
     "output_type": "stream",
     "text": [
      "MedlineCitation\n",
      "PubmedData\n"
     ]
    }
   ],
   "source": [
    "print(root[0][0].tag)\n",
    "print(root[0][1].tag)\n"
   ]
  },
  {
   "cell_type": "markdown",
   "id": "c22fe80d",
   "metadata": {},
   "source": [
    "Children of MedlineCitation:\n",
    "Bulk of the information like PMID, abtract text etc. will be contained here."
   ]
  },
  {
   "cell_type": "code",
   "execution_count": 76,
   "id": "f0df1aa0",
   "metadata": {},
   "outputs": [
    {
     "name": "stdout",
     "output_type": "stream",
     "text": [
      "PMID\n",
      "DateCompleted\n",
      "DateRevised\n",
      "Article\n",
      "MedlineJournalInfo\n",
      "ChemicalList\n",
      "CitationSubset\n",
      "MeshHeadingList\n",
      "KeywordList\n"
     ]
    }
   ],
   "source": [
    "for num in range(9):\n",
    "    print(root[0][0][num].tag)"
   ]
  },
  {
   "cell_type": "markdown",
   "id": "777f82dd",
   "metadata": {},
   "source": [
    "**Each of the above may have internal text or further sub-elements. So this is why it might get complex to use indices to get specific information.**"
   ]
  },
  {
   "cell_type": "markdown",
   "id": "1fba8bcb",
   "metadata": {},
   "source": [
    "For example, PMID has no sub-elements (hence, the IndexError). The actual ID is contained as text:"
   ]
  },
  {
   "cell_type": "code",
   "execution_count": 83,
   "id": "cc074f18",
   "metadata": {},
   "outputs": [
    {
     "ename": "IndexError",
     "evalue": "child index out of range",
     "output_type": "error",
     "traceback": [
      "\u001b[0;31m---------------------------------------------------------------------------\u001b[0m",
      "\u001b[0;31mIndexError\u001b[0m                                Traceback (most recent call last)",
      "\u001b[0;32m/var/folders/dk/wfg559q158x290pwcj2w20dc0000gp/T/ipykernel_21039/1422054819.py\u001b[0m in \u001b[0;36m<module>\u001b[0;34m\u001b[0m\n\u001b[0;32m----> 1\u001b[0;31m \u001b[0mprint\u001b[0m\u001b[0;34m(\u001b[0m\u001b[0mroot\u001b[0m\u001b[0;34m[\u001b[0m\u001b[0;36m0\u001b[0m\u001b[0;34m]\u001b[0m\u001b[0;34m[\u001b[0m\u001b[0;36m0\u001b[0m\u001b[0;34m]\u001b[0m\u001b[0;34m[\u001b[0m\u001b[0;36m0\u001b[0m\u001b[0;34m]\u001b[0m\u001b[0;34m[\u001b[0m\u001b[0;36m0\u001b[0m\u001b[0;34m]\u001b[0m\u001b[0;34m)\u001b[0m\u001b[0;34m\u001b[0m\u001b[0;34m\u001b[0m\u001b[0m\n\u001b[0m",
      "\u001b[0;31mIndexError\u001b[0m: child index out of range"
     ]
    }
   ],
   "source": [
    "print(root[0][0][0][0])"
   ]
  },
  {
   "cell_type": "markdown",
   "id": "c936fafe",
   "metadata": {},
   "source": [
    "The text method gives the actual text contained within the tag."
   ]
  },
  {
   "cell_type": "code",
   "execution_count": 88,
   "id": "3894c2b9",
   "metadata": {},
   "outputs": [
    {
     "name": "stdout",
     "output_type": "stream",
     "text": [
      "PMID\n",
      "38285799\n"
     ]
    }
   ],
   "source": [
    "# the PMID of the first paper\n",
    "print(root[0][0][0].tag)\n",
    "print(root[0][0][0].text)"
   ]
  },
  {
   "cell_type": "markdown",
   "id": "9a2fa8a1",
   "metadata": {},
   "source": [
    "The attrib method gives any attributes for an element or a tagname."
   ]
  },
  {
   "cell_type": "code",
   "execution_count": 89,
   "id": "813177a9",
   "metadata": {},
   "outputs": [
    {
     "name": "stdout",
     "output_type": "stream",
     "text": [
      "PMID\n",
      "{'Version': '1'}\n"
     ]
    }
   ],
   "source": [
    "print(root[0][0][0].tag)\n",
    "print(root[0][0][0].attrib)"
   ]
  },
  {
   "cell_type": "markdown",
   "id": "47e64cce",
   "metadata": {},
   "source": [
    "#### ITERATION METHOD\n",
    "Iteration tool to get information about a field from all papers.\n",
    "\n",
    "Following code pieces can be used to get information of interest.\n",
    "\n",
    "**Here the problem could be that if some paper doesn't have that piece of information, it will still skip it and then give the results.**"
   ]
  },
  {
   "cell_type": "code",
   "execution_count": 156,
   "id": "d1eabd32",
   "metadata": {},
   "outputs": [],
   "source": [
    "data = {'title': [],\n",
    "        'keywords':[]}\n",
    "\n",
    "for child in root.iter(\"PubmedArticle\"):\n",
    "    for title in child.iter(\"ArticleTitle\"):\n",
    "        \n",
    "        data['title'].append(title.text)\n",
    "        \n",
    "    keywords = \"\"\n",
    "    for keyword in child.iter(\"KeywordList\"):\n",
    "        keywords += \",\".join(keyword.itertext())\n",
    "    \n",
    "    data['keywords'].append(keywords)\n",
    "        "
   ]
  },
  {
   "cell_type": "code",
   "execution_count": 157,
   "id": "6722fd4e",
   "metadata": {},
   "outputs": [
    {
     "data": {
      "text/plain": [
       "{'title': ['Evaluation of Immunohistochemical Expression of ALK-1 in Gliomas, WHO Grade 4 and Its Correlation with IDH1-R132H Mutation Status.',\n",
       "  'Cyanine Dye Conjugation Enhances Crizotinib Localization to Intracranial Tumors, Attenuating NF-κB-Inducing Kinase Activity and Glioma Progression.',\n",
       "  'Synthesis and Bioevaluation of 3-(Arylmethylene)indole Derivatives: Discovery of a Novel ALK Modulator with Antiglioblastoma Activities.'],\n",
       " 'keywords': ['ALK-1,Glioblastoma,Glioma grade 4,IDH-1,immunohistochemistry',\n",
       "  'Crizotinib,GBM,HMCD,NF-κB-inducing kinase,cyanine dye,kinase inhibitor',\n",
       "  '']}"
      ]
     },
     "execution_count": 157,
     "metadata": {},
     "output_type": "execute_result"
    }
   ],
   "source": [
    "data"
   ]
  },
  {
   "cell_type": "markdown",
   "id": "696b8167",
   "metadata": {},
   "source": [
    "**Title of the paper**"
   ]
  },
  {
   "cell_type": "code",
   "execution_count": 97,
   "id": "9fc4b478",
   "metadata": {
    "scrolled": true
   },
   "outputs": [
    {
     "name": "stdout",
     "output_type": "stream",
     "text": [
      "tag: ArticleTitle\n",
      "attrib: {}\n",
      "text:Evaluation of Immunohistochemical Expression of ALK-1 in Gliomas, WHO Grade 4 and Its Correlation with IDH1-R132H Mutation Status.\n",
      "tag: ArticleTitle\n",
      "attrib: {}\n",
      "text:Cyanine Dye Conjugation Enhances Crizotinib Localization to Intracranial Tumors, Attenuating NF-κB-Inducing Kinase Activity and Glioma Progression.\n",
      "tag: ArticleTitle\n",
      "attrib: {}\n",
      "text:Synthesis and Bioevaluation of 3-(Arylmethylene)indole Derivatives: Discovery of a Novel ALK Modulator with Antiglioblastoma Activities.\n"
     ]
    }
   ],
   "source": [
    "for child in root.iter(\"ArticleTitle\"):\n",
    "    print(f'tag: {child.tag}')\n",
    "    print(f'attrib: {child.attrib}')\n",
    "    print(f'text:{child.text}')\n",
    "    "
   ]
  },
  {
   "cell_type": "markdown",
   "id": "892f633b",
   "metadata": {},
   "source": [
    "**Publication date.**\n",
    "\n",
    "Here, there are further tags like Year, Date, Month contained within the main PubDate tag. So, these can be obtained by using the itertext function that can gather all the text contained within all of the sub-elements."
   ]
  },
  {
   "cell_type": "code",
   "execution_count": 105,
   "id": "f870c3c7",
   "metadata": {},
   "outputs": [
    {
     "name": "stdout",
     "output_type": "stream",
     "text": [
      "tag: PubDate\n",
      "2024 Jan 01\n",
      "tag: PubDate\n",
      "2023 Dec 04\n",
      "tag: PubDate\n",
      "2023 Nov 09\n"
     ]
    }
   ],
   "source": [
    "for child in root.iter(\"PubDate\"):\n",
    "    print(f'tag: {child.tag}')\n",
    "    print(\" \".join(child.itertext()))"
   ]
  },
  {
   "cell_type": "markdown",
   "id": "c1e59ac5",
   "metadata": {},
   "source": [
    "**Journal name**"
   ]
  },
  {
   "cell_type": "code",
   "execution_count": 107,
   "id": "8b6bc04b",
   "metadata": {},
   "outputs": [
    {
     "name": "stdout",
     "output_type": "stream",
     "text": [
      "tag: Title\n",
      "text:Asian Pacific journal of cancer prevention : APJCP\n",
      "tag: Title\n",
      "text:Molecular pharmaceutics\n",
      "tag: Title\n",
      "text:Journal of medicinal chemistry\n"
     ]
    }
   ],
   "source": [
    "for child in root.iter(\"Title\"):\n",
    "    print(f'tag: {child.tag}')\n",
    "    print(f'text:{child.text}')"
   ]
  },
  {
   "cell_type": "markdown",
   "id": "f1c902a0",
   "metadata": {},
   "source": [
    "**Publication type ie. article or review, etc.**"
   ]
  },
  {
   "cell_type": "code",
   "execution_count": 123,
   "id": "1825cdf5",
   "metadata": {},
   "outputs": [
    {
     "name": "stdout",
     "output_type": "stream",
     "text": [
      "Journal Article\n",
      "Journal Article\n",
      "Journal Article Research Support, Non-U.S. Gov't\n"
     ]
    }
   ],
   "source": [
    "for child in root.iter(\"PublicationTypeList\"):\n",
    "    print(\" \".join(child.itertext()))"
   ]
  },
  {
   "cell_type": "markdown",
   "id": "246f4dda",
   "metadata": {},
   "source": [
    "**Keywords**\n",
    "\n",
    "Here, the last/third paper does not have any Keywords and hence KeywordList tag. But if the second paper didn't have it, there wouldn't have been a way to know."
   ]
  },
  {
   "cell_type": "code",
   "execution_count": 138,
   "id": "e82fd8fe",
   "metadata": {},
   "outputs": [
    {
     "name": "stdout",
     "output_type": "stream",
     "text": [
      "0\n",
      "tag: KeywordList\n",
      "ALK-1,Glioblastoma,Glioma grade 4,IDH-1,immunohistochemistry\n",
      "1\n",
      "tag: KeywordList\n",
      "Crizotinib,GBM,HMCD,NF-κB-inducing kinase,cyanine dye,kinase inhibitor\n"
     ]
    }
   ],
   "source": [
    "for count,child in enumerate(root.iter(\"KeywordList\")):\n",
    "    print(count)\n",
    "    print(f'tag: {child.tag}')\n",
    "    print(\",\".join(child.itertext()))\n",
    " "
   ]
  },
  {
   "cell_type": "markdown",
   "id": "a233279e",
   "metadata": {},
   "source": [
    "**Mesh headings**"
   ]
  },
  {
   "cell_type": "code",
   "execution_count": 137,
   "id": "665f68a9",
   "metadata": {},
   "outputs": [
    {
     "name": "stdout",
     "output_type": "stream",
     "text": [
      "0\n",
      "tag: MeshHeadingList\n",
      "Male,Adult,Humans,Female,Brain Neoplasms,pathology,Anaplastic Lymphoma Kinase,genetics,Glioma,pathology,Glioblastoma,Mutation,Receptor Protein-Tyrosine Kinases,genetics,World Health Organization,Isocitrate Dehydrogenase,genetics,metabolism\n",
      "1\n",
      "tag: MeshHeadingList\n",
      "Mice,Animals,Humans,Crizotinib,pharmacology,therapeutic use,NF-kappa B,Cell Line, Tumor,Glioma,drug therapy,pathology,Brain Neoplasms,drug therapy,pathology,Glioblastoma,drug therapy,NF-kappaB-Inducing Kinase\n",
      "2\n",
      "tag: MeshHeadingList\n",
      "Humans,Anaplastic Lymphoma Kinase,Receptor Protein-Tyrosine Kinases,Glioblastoma,pathology,Glioma,Indoles,pharmacology,therapeutic use,Cell Line, Tumor,Protein Kinase Inhibitors,pharmacology,therapeutic use,Cell Proliferation\n"
     ]
    }
   ],
   "source": [
    "for count,child in enumerate(root.iter(\"MeshHeadingList\")):\n",
    "    print(count)\n",
    "    print(f'tag: {child.tag}')\n",
    "    print(\",\".join(child.itertext()))\n",
    " "
   ]
  },
  {
   "cell_type": "markdown",
   "id": "2b966a6c",
   "metadata": {},
   "source": [
    "**Chemicals**"
   ]
  },
  {
   "cell_type": "code",
   "execution_count": 142,
   "id": "bb679ad0",
   "metadata": {},
   "outputs": [
    {
     "name": "stdout",
     "output_type": "stream",
     "text": [
      "0\n",
      "tag: ChemicalList\n",
      "attrib: {}\n",
      "EC 2.7.10.1,Anaplastic Lymphoma Kinase,EC 2.7.10.1,Receptor Protein-Tyrosine Kinases,EC 1.1.1.41,Isocitrate Dehydrogenase,EC 1.1.1.42.,IDH1 protein, human\n",
      "1\n",
      "tag: ChemicalList\n",
      "attrib: {}\n",
      "53AH36668S,Crizotinib,0,NF-kappa B\n",
      "2\n",
      "tag: ChemicalList\n",
      "attrib: {}\n",
      "EC 2.7.10.1,Anaplastic Lymphoma Kinase,EC 2.7.10.1,Receptor Protein-Tyrosine Kinases,0,Indoles,0,Protein Kinase Inhibitors\n"
     ]
    }
   ],
   "source": [
    "for count,child in enumerate(root.iter(\"ChemicalList\")):\n",
    "    print(count)\n",
    "    print(f'tag: {child.tag}')\n",
    "    print(f'attrib: {child.attrib}')\n",
    "    print(\",\".join(child.itertext()))"
   ]
  },
  {
   "cell_type": "code",
   "execution_count": null,
   "id": "9ae225d0",
   "metadata": {},
   "outputs": [],
   "source": []
  },
  {
   "cell_type": "code",
   "execution_count": 1049,
   "id": "650b1f54",
   "metadata": {},
   "outputs": [
    {
     "data": {
      "text/plain": [
       "'2024'"
      ]
     },
     "execution_count": 1049,
     "metadata": {},
     "output_type": "execute_result"
    }
   ],
   "source": [
    "val = root.find('PubmedArticle/MedlineCitation/Article/Journal/JournalIssue/PubDate/Year')\n",
    "val.text"
   ]
  },
  {
   "cell_type": "code",
   "execution_count": 1050,
   "id": "631d8ed4",
   "metadata": {
    "scrolled": true
   },
   "outputs": [
    {
     "data": {
      "text/plain": [
       "'<?xml version=\"1.0\" ?>\\n<!DOCTYPE PubmedArticleSet PUBLIC \"-//NLM//DTD PubMedArticle, 1st January 2024//EN\" \"https://dtd.nlm.nih.gov/ncbi/pubmed/out/pubmed_240101.dtd\">\\n<PubmedArticleSet>\\n<PubmedArticle><MedlineCitation Status=\"MEDLINE\" Owner=\"NLM\" IndexingMethod=\"Automated\"><PMID Version=\"1\">38285799</PMID><DateCompleted><Year>2024</Year><Month>01</Month><Day>31</Day></DateCompleted><DateRevised><Year>2024</Year><Month>01</Month><Day>31</Day></DateRevised><Article PubModel=\"Electronic\"><Journal><ISSN IssnType=\"Electronic\">2476-762X</ISSN><JournalIssue CitedMedium=\"Internet\"><Volume>25</Volume><Issue>1</Issue><PubDate><Year>2024</Year><Month>Jan</Month><Day>01</Day></PubDate></JournalIssue><Title>Asian Pacific journal of cancer prevention : APJCP</Title><ISOAbbreviation>Asian Pac J Cancer Prev</ISOAbbreviation></Journal><ArticleTitle>Evaluation of Immunohistochemical Expression of ALK-1 in Gliomas, WHO Grade 4 and Its Correlation with IDH1-R132H Mutation Status.</ArticleTitle><Pagination><StartPage>317</StartPage><EndPage>323</EndPage><MedlinePgn>317-323</MedlinePgn></Pagination><ELocationID EIdType=\"doi\" ValidYN=\"Y\">10.31557/APJCP.2024.25.1.317</ELocationID><ELocationID EIdType=\"pii\" ValidYN=\"Y\">90983</ELocationID><Abstract><AbstractText Label=\"BACKGROUND\" NlmCategory=\"BACKGROUND\">Glioblastoma (GB), a grade 4 glioma is the most common primary malignant brain tumor in adults. Recently, the mutation status of isocitrate dehydrogenase (IDH) has been crucial in the treatment of GB. IDH mutant cases display a more favorable prognosis than IDH-wild type ones. The anaplastic lymphoma kinase (ALK) is expressed as a receptor tyrosine kinase in both the developing central and peripheral nervous systems. Increasing lines of evidence suggest that ALK is over-expressed in GB and represents a potential therapeutic target.</AbstractText><AbstractText Label=\"OBJECTIVES\" NlmCategory=\"OBJECTIVE\">The goal of the current study was to investigate ALK-1 immunohistochemical expression in gliomas, grade 4, besides its correlation with IDH1-R132H mutation status and the clinicopathological parameters of the tumors.</AbstractText><AbstractText Label=\"MATERIAL AND METHODS\" NlmCategory=\"METHODS\">Seventy cases of gliomas, grade 4 were tested for immunohistochemical expression of ALK-1 &amp; IDH1-R132H in the tumor cells.</AbstractText><AbstractText Label=\"RESULTS\" NlmCategory=\"RESULTS\">ALK-1 immunoexpression was detected in 22.9% of our cases and IDH1-R132H mutation was detected in 12.9% of them. ALK-1 expression (100%) was only detected in the more aggressive IDH R132H-negative GBs. ALK-1 expression was also noted in the larger-sized tumors, more in males and patients older than the mean age. &#xa0;Conclusion: Our results suggest that mutations in ALK-1 may predict a more dismal prognosis since ALK expression was only noted in IDH-R132H negative GBs known to have a considerably poorer outcome compared to IDH-R132H mutant cases. GBs with detectable ALK-protein expression could potentially experience substantial clinical advantages through the utilization of newly introduced ALK inhibitors allowing personalized treatment to a subset of patients. Hence, future studies targeting ALK in IDH wildtype Glioblastomas including clinical trials on larger scales are recommended.</AbstractText></Abstract><AuthorList CompleteYN=\"Y\"><Author ValidYN=\"Y\"><LastName>Khairy</LastName><ForeName>Rasha Ahmed</ForeName><Initials>RA</Initials><Identifier Source=\"ORCID\">0000-0002-9373-354X</Identifier><AffiliationInfo><Affiliation>Department of Pathology, Faculty of Medicine, Cairo University, Egypt.</Affiliation></AffiliationInfo></Author><Author ValidYN=\"Y\"><LastName>Momtaz</LastName><ForeName>Eman Mohamed</ForeName><Initials>EM</Initials><AffiliationInfo><Affiliation>Department of Pathology, Faculty of Medicine, Cairo University, Egypt.</Affiliation></AffiliationInfo></Author><Author ValidYN=\"Y\"><LastName>Abd El Aziz</LastName><ForeName>Ahmed Mahmoud</ForeName><Initials>AM</Initials><AffiliationInfo><Affiliation>Department of Pathology, Faculty of Medicine, Cairo University, Egypt.</Affiliation></AffiliationInfo></Author><Author ValidYN=\"Y\"><LastName>Shibel</LastName><ForeName>Passant Essam Eldin</ForeName><Initials>PEE</Initials><Identifier Source=\"ORCID\">0000-0002-3132-170X</Identifier><AffiliationInfo><Affiliation>Department of Pathology, Faculty of Medicine, Cairo University, Egypt.</Affiliation></AffiliationInfo></Author></AuthorList><Language>eng</Language><PublicationTypeList><PublicationType UI=\"D016428\">Journal Article</PublicationType></PublicationTypeList><ArticleDate DateType=\"Electronic\"><Year>2024</Year><Month>01</Month><Day>01</Day></ArticleDate></Article><MedlineJournalInfo><Country>Thailand</Country><MedlineTA>Asian Pac J Cancer Prev</MedlineTA><NlmUniqueID>101130625</NlmUniqueID><ISSNLinking>1513-7368</ISSNLinking></MedlineJournalInfo><ChemicalList><Chemical><RegistryNumber>EC 2.7.10.1</RegistryNumber><NameOfSubstance UI=\"D000077548\">Anaplastic Lymphoma Kinase</NameOfSubstance></Chemical><Chemical><RegistryNumber>EC 2.7.10.1</RegistryNumber><NameOfSubstance UI=\"D020794\">Receptor Protein-Tyrosine Kinases</NameOfSubstance></Chemical><Chemical><RegistryNumber>EC 1.1.1.41</RegistryNumber><NameOfSubstance UI=\"D007521\">Isocitrate Dehydrogenase</NameOfSubstance></Chemical><Chemical><RegistryNumber>EC 1.1.1.42.</RegistryNumber><NameOfSubstance UI=\"C543588\">IDH1 protein, human</NameOfSubstance></Chemical></ChemicalList><CitationSubset>IM</CitationSubset><MeshHeadingList><MeshHeading><DescriptorName UI=\"D008297\" MajorTopicYN=\"N\">Male</DescriptorName></MeshHeading><MeshHeading><DescriptorName UI=\"D000328\" MajorTopicYN=\"N\">Adult</DescriptorName></MeshHeading><MeshHeading><DescriptorName UI=\"D006801\" MajorTopicYN=\"N\">Humans</DescriptorName></MeshHeading><MeshHeading><DescriptorName UI=\"D005260\" MajorTopicYN=\"N\">Female</DescriptorName></MeshHeading><MeshHeading><DescriptorName UI=\"D001932\" MajorTopicYN=\"Y\">Brain Neoplasms</DescriptorName><QualifierName UI=\"Q000473\" MajorTopicYN=\"N\">pathology</QualifierName></MeshHeading><MeshHeading><DescriptorName UI=\"D000077548\" MajorTopicYN=\"N\">Anaplastic Lymphoma Kinase</DescriptorName><QualifierName UI=\"Q000235\" MajorTopicYN=\"N\">genetics</QualifierName></MeshHeading><MeshHeading><DescriptorName UI=\"D005910\" MajorTopicYN=\"Y\">Glioma</DescriptorName><QualifierName UI=\"Q000473\" MajorTopicYN=\"N\">pathology</QualifierName></MeshHeading><MeshHeading><DescriptorName UI=\"D005909\" MajorTopicYN=\"Y\">Glioblastoma</DescriptorName></MeshHeading><MeshHeading><DescriptorName UI=\"D009154\" MajorTopicYN=\"N\">Mutation</DescriptorName></MeshHeading><MeshHeading><DescriptorName UI=\"D020794\" MajorTopicYN=\"N\">Receptor Protein-Tyrosine Kinases</DescriptorName><QualifierName UI=\"Q000235\" MajorTopicYN=\"N\">genetics</QualifierName></MeshHeading><MeshHeading><DescriptorName UI=\"D014944\" MajorTopicYN=\"N\">World Health Organization</DescriptorName></MeshHeading><MeshHeading><DescriptorName UI=\"D007521\" MajorTopicYN=\"N\">Isocitrate Dehydrogenase</DescriptorName><QualifierName UI=\"Q000235\" MajorTopicYN=\"N\">genetics</QualifierName><QualifierName UI=\"Q000378\" MajorTopicYN=\"N\">metabolism</QualifierName></MeshHeading></MeshHeadingList><KeywordList Owner=\"NOTNLM\"><Keyword MajorTopicYN=\"N\">ALK-1</Keyword><Keyword MajorTopicYN=\"N\">Glioblastoma</Keyword><Keyword MajorTopicYN=\"N\">Glioma grade 4</Keyword><Keyword MajorTopicYN=\"N\">IDH-1</Keyword><Keyword MajorTopicYN=\"N\">immunohistochemistry</Keyword></KeywordList></MedlineCitation><PubmedData><History><PubMedPubDate PubStatus=\"received\"><Year>2023</Year><Month>10</Month><Day>2</Day></PubMedPubDate><PubMedPubDate PubStatus=\"medline\"><Year>2024</Year><Month>1</Month><Day>31</Day><Hour>6</Hour><Minute>42</Minute></PubMedPubDate><PubMedPubDate PubStatus=\"pubmed\"><Year>2024</Year><Month>1</Month><Day>29</Day><Hour>19</Hour><Minute>57</Minute></PubMedPubDate><PubMedPubDate PubStatus=\"entrez\"><Year>2024</Year><Month>1</Month><Day>29</Day><Hour>14</Hour><Minute>13</Minute></PubMedPubDate></History><PublicationStatus>epublish</PublicationStatus><ArticleIdList><ArticleId IdType=\"pubmed\">38285799</ArticleId><ArticleId IdType=\"doi\">10.31557/APJCP.2024.25.1.317</ArticleId><ArticleId IdType=\"pii\">90983</ArticleId></ArticleIdList></PubmedData></PubmedArticle><PubmedArticle><MedlineCitation Status=\"MEDLINE\" Owner=\"NLM\" IndexingMethod=\"Automated\"><PMID Version=\"1\">37939020</PMID><DateCompleted><Year>2023</Year><Month>12</Month><Day>05</Day></DateCompleted><DateRevised><Year>2023</Year><Month>12</Month><Day>13</Day></DateRevised><Article PubModel=\"Print-Electronic\"><Journal><ISSN IssnType=\"Electronic\">1543-8392</ISSN><JournalIssue CitedMedium=\"Internet\"><Volume>20</Volume><Issue>12</Issue><PubDate><Year>2023</Year><Month>Dec</Month><Day>04</Day></PubDate></JournalIssue><Title>Molecular pharmaceutics</Title><ISOAbbreviation>Mol Pharm</ISOAbbreviation></Journal><ArticleTitle>Cyanine Dye Conjugation Enhances Crizotinib Localization to Intracranial Tumors, Attenuating NF-&#x3ba;B-Inducing Kinase Activity and Glioma Progression.</ArticleTitle><Pagination><StartPage>6140</StartPage><EndPage>6150</EndPage><MedlinePgn>6140-6150</MedlinePgn></Pagination><ELocationID EIdType=\"doi\" ValidYN=\"Y\">10.1021/acs.molpharmaceut.3c00496</ELocationID><Abstract><AbstractText>Glioblastoma (GBM) is a highly aggressive form of brain cancer with a poor prognosis and limited treatment options. The ALK and c-MET inhibitor Crizotinib has demonstrated preclinical therapeutic potential for newly diagnosed GBM, although its efficacy is limited by poor penetration of the blood brain barrier. Here, we identify Crizotinib as a novel inhibitor of nuclear factor-&#x3ba;B (NF-&#x3ba;B)-inducing kinase, which is a key regulator of GBM growth and proliferation. We further show that the conjugation of Crizotinib to a heptamethine cyanine dye, or a near-infrared dye (IR-Crizotinib), attenuated glioma cell proliferation and survival <i>in vitro</i> to a greater extent than unconjugated Crizotinib. Moreover, we observed increased IR-Crizotinib localization to orthotopic mouse xenograft GBM tumors, which resulted in impaired tumor growth <i>in vivo</i>. Overall, IR-Crizotinib exhibited improved intracranial chemotherapeutic delivery and tumor localization with concurrent inhibition of NIK and noncanonical NF-&#x3ba;B signaling, thereby reducing glioma growth <i>in vitro</i>, as well as <i>in vivo</i>, and increasing survival in a preclinical rodent model.</AbstractText></Abstract><AuthorList CompleteYN=\"Y\"><Author ValidYN=\"Y\"><LastName>Pflug</LastName><ForeName>Kathryn M</ForeName><Initials>KM</Initials><AffiliationInfo><Affiliation>Department of Cellular Biology and Genetics, Texas A&amp;M University Health Science Center , College Station, Texas 77807, United States.</Affiliation></AffiliationInfo></Author><Author ValidYN=\"Y\"><LastName>Lee</LastName><ForeName>Dong W</ForeName><Initials>DW</Initials><Identifier Source=\"ORCID\">0000-0002-5937-6163</Identifier><AffiliationInfo><Affiliation>Department of Cellular Biology and Genetics, Texas A&amp;M University Health Science Center , College Station, Texas 77807, United States.</Affiliation></AffiliationInfo></Author><Author ValidYN=\"Y\"><LastName>Tripathi</LastName><ForeName>Ashutosh</ForeName><Initials>A</Initials><AffiliationInfo><Affiliation>Department of Cellular Biology and Genetics, Texas A&amp;M University Health Science Center , College Station, Texas 77807, United States.</Affiliation></AffiliationInfo></Author><Author ValidYN=\"Y\"><LastName>Bankaitis</LastName><ForeName>Vytas A</ForeName><Initials>VA</Initials><AffiliationInfo><Affiliation>Department of Cellular Biology and Genetics, Texas A&amp;M University Health Science Center , College Station, Texas 77807, United States.</Affiliation></AffiliationInfo></Author><Author ValidYN=\"Y\"><LastName>Burgess</LastName><ForeName>Kevin</ForeName><Initials>K</Initials><AffiliationInfo><Affiliation>Department of Chemistry, Texas A&amp;M University, Box 30012, College Station, Texas 77842, United States.</Affiliation></AffiliationInfo></Author><Author ValidYN=\"Y\"><LastName>Sitcheran</LastName><ForeName>Raquel</ForeName><Initials>R</Initials><Identifier Source=\"ORCID\">0000-0001-8916-9707</Identifier><AffiliationInfo><Affiliation>Department of Cellular Biology and Genetics, Texas A&amp;M University Health Science Center , College Station, Texas 77807, United States.</Affiliation></AffiliationInfo></Author></AuthorList><Language>eng</Language><GrantList CompleteYN=\"Y\"><Grant><GrantID>R01 NS082554</GrantID><Acronym>NS</Acronym><Agency>NINDS NIH HHS</Agency><Country>United States</Country></Grant><Grant><GrantID>R35 GM131804</GrantID><Acronym>GM</Acronym><Agency>NIGMS NIH HHS</Agency><Country>United States</Country></Grant></GrantList><PublicationTypeList><PublicationType UI=\"D016428\">Journal Article</PublicationType></PublicationTypeList><ArticleDate DateType=\"Electronic\"><Year>2023</Year><Month>11</Month><Day>08</Day></ArticleDate></Article><MedlineJournalInfo><Country>United States</Country><MedlineTA>Mol Pharm</MedlineTA><NlmUniqueID>101197791</NlmUniqueID><ISSNLinking>1543-8384</ISSNLinking></MedlineJournalInfo><ChemicalList><Chemical><RegistryNumber>53AH36668S</RegistryNumber><NameOfSubstance UI=\"D000077547\">Crizotinib</NameOfSubstance></Chemical><Chemical><RegistryNumber>0</RegistryNumber><NameOfSubstance UI=\"D016328\">NF-kappa B</NameOfSubstance></Chemical></ChemicalList><CitationSubset>IM</CitationSubset><MeshHeadingList><MeshHeading><DescriptorName UI=\"D051379\" MajorTopicYN=\"N\">Mice</DescriptorName></MeshHeading><MeshHeading><DescriptorName UI=\"D000818\" MajorTopicYN=\"N\">Animals</DescriptorName></MeshHeading><MeshHeading><DescriptorName UI=\"D006801\" MajorTopicYN=\"N\">Humans</DescriptorName></MeshHeading><MeshHeading><DescriptorName UI=\"D000077547\" MajorTopicYN=\"N\">Crizotinib</DescriptorName><QualifierName UI=\"Q000494\" MajorTopicYN=\"N\">pharmacology</QualifierName><QualifierName UI=\"Q000627\" MajorTopicYN=\"N\">therapeutic use</QualifierName></MeshHeading><MeshHeading><DescriptorName UI=\"D016328\" MajorTopicYN=\"N\">NF-kappa B</DescriptorName></MeshHeading><MeshHeading><DescriptorName UI=\"D045744\" MajorTopicYN=\"N\">Cell Line, Tumor</DescriptorName></MeshHeading><MeshHeading><DescriptorName UI=\"D005910\" MajorTopicYN=\"Y\">Glioma</DescriptorName><QualifierName UI=\"Q000188\" MajorTopicYN=\"N\">drug therapy</QualifierName><QualifierName UI=\"Q000473\" MajorTopicYN=\"N\">pathology</QualifierName></MeshHeading><MeshHeading><DescriptorName UI=\"D001932\" MajorTopicYN=\"Y\">Brain Neoplasms</DescriptorName><QualifierName UI=\"Q000188\" MajorTopicYN=\"N\">drug therapy</QualifierName><QualifierName UI=\"Q000473\" MajorTopicYN=\"N\">pathology</QualifierName></MeshHeading><MeshHeading><DescriptorName UI=\"D005909\" MajorTopicYN=\"Y\">Glioblastoma</DescriptorName><QualifierName UI=\"Q000188\" MajorTopicYN=\"N\">drug therapy</QualifierName></MeshHeading><MeshHeading><DescriptorName UI=\"D000097782\" MajorTopicYN=\"N\">NF-kappaB-Inducing Kinase</DescriptorName></MeshHeading></MeshHeadingList><KeywordList Owner=\"NOTNLM\"><Keyword MajorTopicYN=\"N\">Crizotinib</Keyword><Keyword MajorTopicYN=\"N\">GBM</Keyword><Keyword MajorTopicYN=\"N\">HMCD</Keyword><Keyword MajorTopicYN=\"N\">NF-&#x3ba;B-inducing kinase</Keyword><Keyword MajorTopicYN=\"N\">cyanine dye</Keyword><Keyword MajorTopicYN=\"N\">kinase inhibitor</Keyword></KeywordList><CoiStatement>The authors\\ndeclare no competing financial interest.</CoiStatement></MedlineCitation><PubmedData><History><PubMedPubDate PubStatus=\"medline\"><Year>2023</Year><Month>12</Month><Day>5</Day><Hour>12</Hour><Minute>43</Minute></PubMedPubDate><PubMedPubDate PubStatus=\"pubmed\"><Year>2023</Year><Month>11</Month><Day>8</Day><Hour>18</Hour><Minute>42</Minute></PubMedPubDate><PubMedPubDate PubStatus=\"entrez\"><Year>2023</Year><Month>11</Month><Day>8</Day><Hour>13</Hour><Minute>33</Minute></PubMedPubDate></History><PublicationStatus>ppublish</PublicationStatus><ArticleIdList><ArticleId IdType=\"pubmed\">37939020</ArticleId><ArticleId IdType=\"pmc\">PMC10698717</ArticleId><ArticleId IdType=\"doi\">10.1021/acs.molpharmaceut.3c00496</ArticleId></ArticleIdList><ReferenceList><Reference><Citation>Louis D. N.; et al. The 2007 WHO Classification of Tumours of the Central Nervous System. Acta Neuropathol 2007, 114, 97&#x2013;109. 10.1007/s00401-007-0243-4.</Citation><ArticleIdList><ArticleId IdType=\"doi\">10.1007/s00401-007-0243-4</ArticleId><ArticleId IdType=\"pmc\">PMC1929165</ArticleId><ArticleId IdType=\"pubmed\">17618441</ArticleId></ArticleIdList></Reference><Reference><Citation>McLendon R. E.; Halperin E. C. Is the long-term survival of patients with intracranial Glioblastoma multiforme overstated?. Cancer 2003, 98, 1745&#x2013;1748. 10.1002/cncr.11666.</Citation><ArticleIdList><ArticleId IdType=\"doi\">10.1002/cncr.11666</ArticleId><ArticleId IdType=\"pubmed\">14534892</ArticleId></ArticleIdList></Reference><Reference><Citation>Holland E. C. Glioblastoma multiforme: The terminator. Proc. Natl. Acad. Sci. U. S. A. 2000, 97, 6242&#x2013;6244. 10.1073/pnas.97.12.6242.</Citation><ArticleIdList><ArticleId IdType=\"doi\">10.1073/pnas.97.12.6242</ArticleId><ArticleId IdType=\"pmc\">PMC33993</ArticleId><ArticleId IdType=\"pubmed\">10841526</ArticleId></ArticleIdList></Reference><Reference><Citation>Yang X.; et al. Optical Imaging of Kidney Cancer with Novel Near Infrared Heptamethine Carbocyanine Fluorescent Dyes. Journal of Urology 2013, 189, 702&#x2013;710. 10.1016/j.juro.2012.09.056.</Citation><ArticleIdList><ArticleId IdType=\"doi\">10.1016/j.juro.2012.09.056</ArticleId><ArticleId IdType=\"pmc\">PMC4120709</ArticleId><ArticleId IdType=\"pubmed\">23000848</ArticleId></ArticleIdList></Reference><Reference><Citation>Yuan J.; et al. Near-infrared fluorescence imaging of prostate cancer using heptamethine carbocyanine dyes. Molecular Medicine Reports 2015, 11, 821&#x2013;828. 10.3892/mmr.2014.2815.</Citation><ArticleIdList><ArticleId IdType=\"doi\">10.3892/mmr.2014.2815</ArticleId><ArticleId IdType=\"pmc\">PMC4262509</ArticleId><ArticleId IdType=\"pubmed\">25354708</ArticleId></ArticleIdList></Reference><Reference><Citation>Zhao N.; et al. Optical imaging of gastric cancer with near-infrared heptamethine carbocyanine fluorescence dyes. Oncotarget 2016, 7, 57277&#x2013;57289. 10.18632/oncotarget.10031.</Citation><ArticleIdList><ArticleId IdType=\"doi\">10.18632/oncotarget.10031</ArticleId><ArticleId IdType=\"pmc\">PMC5302988</ArticleId><ArticleId IdType=\"pubmed\">27329598</ArticleId></ArticleIdList></Reference><Reference><Citation>Wu J. B.; et al. Near-infrared fluorescence heptamethine carbocyanine dyes mediate imaging and targeted drug delivery for human brain tumor. Biomaterials 2015, 67, 1&#x2013;10. 10.1016/j.biomaterials.2015.07.028.</Citation><ArticleIdList><ArticleId IdType=\"doi\">10.1016/j.biomaterials.2015.07.028</ArticleId><ArticleId IdType=\"pmc\">PMC4736505</ArticleId><ArticleId IdType=\"pubmed\">26197410</ArticleId></ArticleIdList></Reference><Reference><Citation>Usama S. M.; Burgess K. Hows and Whys of Tumor-Seeking Dyes. Acc. Chem. Res. 2021, 54, 2121&#x2013;2131. 10.1021/acs.accounts.0c00733.</Citation><ArticleIdList><ArticleId IdType=\"doi\">10.1021/acs.accounts.0c00733</ArticleId><ArticleId IdType=\"pubmed\">33877807</ArticleId></ArticleIdList></Reference><Reference><Citation>Usama S. M.; et al. Role of Albumin in Accumulation and Persistence of Tumor-Seeking Cyanine Dyes. Bioconjugate Chem. 2020, 31, 248&#x2013;259. 10.1021/acs.bioconjchem.9b00771.</Citation><ArticleIdList><ArticleId IdType=\"doi\">10.1021/acs.bioconjchem.9b00771</ArticleId><ArticleId IdType=\"pmc\">PMC7174984</ArticleId><ArticleId IdType=\"pubmed\">31909595</ArticleId></ArticleIdList></Reference><Reference><Citation>Usama S. M.; Lin C.-M.; Burgess K. On the Mechanisms of Uptake of Tumor-Seeking Cyanine Dyes. Bioconjugate Chem. 2018, 29, 3886&#x2013;3895. 10.1021/acs.bioconjchem.8b00708.</Citation><ArticleIdList><ArticleId IdType=\"doi\">10.1021/acs.bioconjchem.8b00708</ArticleId><ArticleId IdType=\"pubmed\">30354072</ArticleId></ArticleIdList></Reference><Reference><Citation>Cooper E.; et al. Elucidating the cellular uptake mechanisms of heptamethine cyanine dye analogues for their use as an anticancer drug-carrier molecule for the treatment of Glioblastoma. Chemical Biology &amp; Drug Design 2023, 101, 696&#x2013;716. 10.1111/cbdd.14171.</Citation><ArticleIdList><ArticleId IdType=\"doi\">10.1111/cbdd.14171</ArticleId><ArticleId IdType=\"pubmed\">36323652</ArticleId></ArticleIdList></Reference><Reference><Citation>Svoboda M.; Riha J.; Wlcek K.; Jaeger W.; Thalhammer T. Organic anion transporting polypeptides (OATPs): regulation of expression and function. Curr. Drug Metab 2011, 12, 139&#x2013;153. 10.2174/138920011795016863.</Citation><ArticleIdList><ArticleId IdType=\"doi\">10.2174/138920011795016863</ArticleId><ArticleId IdType=\"pubmed\">21395542</ArticleId></ArticleIdList></Reference><Reference><Citation>Gibbs S. L. Near infrared fluorescence for image-guided surgery. Quant Imaging Med. Surg 2012, 2, 177&#x2013;187. 10.3978/j.issn.2223-4292.2012.09.04.</Citation><ArticleIdList><ArticleId IdType=\"doi\">10.3978/j.issn.2223-4292.2012.09.04</ArticleId><ArticleId IdType=\"pmc\">PMC3496513</ArticleId><ArticleId IdType=\"pubmed\">23256079</ArticleId></ArticleIdList></Reference><Reference><Citation>Vahrmeijer A. L.; Hutteman M.; van der Vorst J. R.; van de Velde C. J. H.; Frangioni J. V. Image-guided cancer surgery using near-infrared fluorescence. Nat. Rev. Clin Oncol 2013, 10, 507&#x2013;518. 10.1038/nrclinonc.2013.123.</Citation><ArticleIdList><ArticleId IdType=\"doi\">10.1038/nrclinonc.2013.123</ArticleId><ArticleId IdType=\"pmc\">PMC3755013</ArticleId><ArticleId IdType=\"pubmed\">23881033</ArticleId></ArticleIdList></Reference><Reference><Citation>Cooper E.; et al. The Use of Heptamethine Cyanine Dyes as Drug-Conjugate Systems in the Treatment of Primary and Metastatic Brain Tumors. Front Oncol 2021, 11, 65492110.3389/fonc.2021.654921.</Citation><ArticleIdList><ArticleId IdType=\"doi\">10.3389/fonc.2021.654921</ArticleId><ArticleId IdType=\"pmc\">PMC8204086</ArticleId><ArticleId IdType=\"pubmed\">34141613</ArticleId></ArticleIdList></Reference><Reference><Citation>Cherry E. M.; Lee D. W.; Jung J. U.; Sitcheran R. Tumor necrosis factor-like weak inducer of apoptosis (TWEAK) promotes glioma cell invasion through induction of NF-&#x3ba;B-inducing kinase (NIK) and noncanonical NF-&#x3ba;B signaling. Mol. Cancer 2015, 14, 9.10.1186/s12943-014-0273-1.</Citation><ArticleIdList><ArticleId IdType=\"doi\">10.1186/s12943-014-0273-1</ArticleId><ArticleId IdType=\"pmc\">PMC4320546</ArticleId><ArticleId IdType=\"pubmed\">25622756</ArticleId></ArticleIdList></Reference><Reference><Citation>Duran C. L.; Lee D. W.; Jung J. U.; Ravi S.; Pogue C. B.; Toussaint L. G.; Bayless K. J.; Sitcheran R. NIK regulates MT1-MMP activity and promotes glioma cell invasion independently of the canonical NF-&#x3ba;B pathway. Oncogenesis 2016, 5, e23110.1038/oncsis.2016.39.</Citation><ArticleIdList><ArticleId IdType=\"doi\">10.1038/oncsis.2016.39</ArticleId><ArticleId IdType=\"pmc\">PMC4945740</ArticleId><ArticleId IdType=\"pubmed\">27270613</ArticleId></ArticleIdList></Reference><Reference><Citation>Matsushima A.; et al. Essential role of nuclear factor (NF)-kappaB-inducing kinase and inhibitor of kappaB (IkappaB) kinase alpha in NF-kappaB activation through lymphotoxin beta receptor, but not through tumor necrosis factor receptor I. J. Exp. Med. 2001, 193, 631&#x2013;636. 10.1084/jem.193.5.631.</Citation><ArticleIdList><ArticleId IdType=\"doi\">10.1084/jem.193.5.631</ArticleId><ArticleId IdType=\"pmc\">PMC2193391</ArticleId><ArticleId IdType=\"pubmed\">11238593</ArticleId></ArticleIdList></Reference><Reference><Citation>Qing G.; Qu Z.; Xiao G. Stabilization of Basally Translated NF-&#x3ba;B-inducing Kinase (NIK) Protein Functions as a Molecular Switch of Processing of NF-&#x3ba;B2 p100. J. Biol. Chem. 2005, 280, 40578&#x2013;40582. 10.1074/jbc.M508776200.</Citation><ArticleIdList><ArticleId IdType=\"doi\">10.1074/jbc.M508776200</ArticleId><ArticleId IdType=\"pubmed\">16223731</ArticleId></ArticleIdList></Reference><Reference><Citation>Ramakrishnan P.; Wang W.; Wallach D. Receptor-specific signaling for both the alternative and the canonical NF-kappaB activation pathways by NF-kappaB-inducing kinase. Immunity 2004, 21, 477&#x2013;489. 10.1016/j.immuni.2004.08.009.</Citation><ArticleIdList><ArticleId IdType=\"doi\">10.1016/j.immuni.2004.08.009</ArticleId><ArticleId IdType=\"pubmed\">15485626</ArticleId></ArticleIdList></Reference><Reference><Citation>Jung J. U.; et al. NIK/MAP3K14 Regulates Mitochondrial Dynamics and Trafficking to Promote Cell Invasion. Curr. Biol. 2016, 26, 3288&#x2013;3302. 10.1016/j.cub.2016.10.009.</Citation><ArticleIdList><ArticleId IdType=\"doi\">10.1016/j.cub.2016.10.009</ArticleId><ArticleId IdType=\"pmc\">PMC5702063</ArticleId><ArticleId IdType=\"pubmed\">27889261</ArticleId></ArticleIdList></Reference><Reference><Citation>Kamradt M. L.; Jung J. U.; Pflug K. M.; Lee D. W.; Fanniel V.; Sitcheran R.; et al. NIK promotes metabolic adaptation of Glioblastoma cells to bioenergetic stress. Cell Death Dis. 2021, 12, 1&#x2013;18. 10.1038/s41419-020-03383-z.</Citation><ArticleIdList><ArticleId IdType=\"doi\">10.1038/s41419-020-03383-z</ArticleId><ArticleId IdType=\"pmc\">PMC7960998</ArticleId><ArticleId IdType=\"pubmed\">33723235</ArticleId></ArticleIdList></Reference><Reference><Citation>Trott O.; Olson A. J. Autodock Vina: Improving the speed and accuracy of docking with a new scoring function, efficient optimization, and multithreading. J. Comput. Chem. 2010, 31, 455&#x2013;461. 10.1002/jcc.21334.</Citation><ArticleIdList><ArticleId IdType=\"doi\">10.1002/jcc.21334</ArticleId><ArticleId IdType=\"pmc\">PMC3041641</ArticleId><ArticleId IdType=\"pubmed\">19499576</ArticleId></ArticleIdList></Reference><Reference><Citation>Choi P. J.; et al. The synthesis of a novel Crizotinib heptamethine cyanine dye conjugate that potentiates the cytostatic and cytotoxic effects of Crizotinib in patient-derived Glioblastoma cell lines. Bioorg. Med. Chem. Lett. 2019, 29, 2617&#x2013;2621. 10.1016/j.bmcl.2019.07.051.</Citation><ArticleIdList><ArticleId IdType=\"doi\">10.1016/j.bmcl.2019.07.051</ArticleId><ArticleId IdType=\"pubmed\">31378572</ArticleId></ArticleIdList></Reference><Reference><Citation>Kelly J. J. P.; et al. Proliferation of Human Glioblastoma Stem Cells Occurs Independently of Exogenous Mitogens. Stem Cells 2009, 27, 1722&#x2013;1733. 10.1002/stem.98.</Citation><ArticleIdList><ArticleId IdType=\"doi\">10.1002/stem.98</ArticleId><ArticleId IdType=\"pubmed\">19544433</ArticleId></ArticleIdList></Reference><Reference><Citation>Cui J. J.; et al. Structure based drug design of crizotinib (PF-02341066), a potent and selective dual inhibitor of mesenchymal-epithelial transition factor (c-MET) kinase and anaplastic lymphoma kinase (ALK). J. Med. Chem. 2011, 54, 6342&#x2013;6363. 10.1021/jm2007613.</Citation><ArticleIdList><ArticleId IdType=\"doi\">10.1021/jm2007613</ArticleId><ArticleId IdType=\"pubmed\">21812414</ArticleId></ArticleIdList></Reference><Reference><Citation>Zou H. Y.; et al. An orally available small-molecule inhibitor of c-Met, PF-2341066, exhibits cytoreductive antitumor efficacy through antiproliferative and antiangiogenic mechanisms. Cancer Res. 2007, 67, 4408&#x2013;4417. 10.1158/0008-5472.CAN-06-4443.</Citation><ArticleIdList><ArticleId IdType=\"doi\">10.1158/0008-5472.CAN-06-4443</ArticleId><ArticleId IdType=\"pubmed\">17483355</ArticleId></ArticleIdList></Reference><Reference><Citation>Mart&#xed;nez-Garc&#xed;a M.; et al. Safety and Efficacy of Crizotinib in Combination with Temozolomide and Radiotherapy in Patients with Newly Diagnosed Glioblastoma: Phase Ib GEINO 1402 Trial. Cancers (Basel) 2022, 14, 2393.10.3390/cancers14102393.</Citation><ArticleIdList><ArticleId IdType=\"doi\">10.3390/cancers14102393</ArticleId><ArticleId IdType=\"pmc\">PMC9139576</ArticleId><ArticleId IdType=\"pubmed\">35625997</ArticleId></ArticleIdList></Reference><Reference><Citation>Le Rhun E.; et al. Patterns of response to crizotinib in recurrent Glioblastoma according to ALK and MET molecular profile in two patients. CNS Oncol 2015, 4, 381&#x2013;386. 10.2217/cns.15.30.</Citation><ArticleIdList><ArticleId IdType=\"doi\">10.2217/cns.15.30</ArticleId><ArticleId IdType=\"pmc\">PMC6083940</ArticleId><ArticleId IdType=\"pubmed\">26498130</ArticleId></ArticleIdList></Reference><Reference><Citation>Chaitanya G. V.; Alexander J. S.; Babu P. P. PARP-1 cleavage fragments: signatures of cell-death proteases in neurodegeneration. Cell Commun. Signal 2010, 8, 31.10.1186/1478-811X-8-31.</Citation><ArticleIdList><ArticleId IdType=\"doi\">10.1186/1478-811X-8-31</ArticleId><ArticleId IdType=\"pmc\">PMC3022541</ArticleId><ArticleId IdType=\"pubmed\">21176168</ArticleId></ArticleIdList></Reference><Reference><Citation>Mashimo M.; et al. The 89-kDa PARP1 cleavage fragment serves as a cytoplasmic PAR carrier to induce AIF-mediated apoptosis. J. Biol. Chem. 2021, 296, 100046.10.1074/jbc.RA120.014479.</Citation><ArticleIdList><ArticleId IdType=\"doi\">10.1074/jbc.RA120.014479</ArticleId><ArticleId IdType=\"pmc\">PMC7948984</ArticleId><ArticleId IdType=\"pubmed\">33168626</ArticleId></ArticleIdList></Reference><Reference><Citation>Chuang Y. C.; Huang B. Y.; Chang H. W.; Yang C. N. Molecular Modeling of ALK L1198F and/or G1202R Mutations to Determine Differential Crizotinib Sensitivity. Sci. Rep. 2019, 9, 11390.10.1038/s41598-019-46825-1.</Citation><ArticleIdList><ArticleId IdType=\"doi\">10.1038/s41598-019-46825-1</ArticleId><ArticleId IdType=\"pmc\">PMC6684801</ArticleId><ArticleId IdType=\"pubmed\">31388026</ArticleId></ArticleIdList></Reference><Reference><Citation>Kobe B.; Kemp B. E.. Chapter 74 - Principles of Kinase Regulation. in Handbook of Cell Signaling (SecondEdition) (eds. Bradshaw R. A.; Dennis E. A.. 559&#x2013;563Academic Press, 2010.</Citation></Reference><Reference><Citation>Knighton D. R.; et al. Crystal structure of the catalytic subunit of cyclic adenosine monophosphate-dependent protein kinase. Science 1991, 253, 407&#x2013;414. 10.1126/science.1862342.</Citation><ArticleIdList><ArticleId IdType=\"doi\">10.1126/science.1862342</ArticleId><ArticleId IdType=\"pubmed\">1862342</ArticleId></ArticleIdList></Reference><Reference><Citation>Davis M. I.; et al. Comprehensive analysis of kinase inhibitor selectivity. Nat. Biotechnol. 2011, 29, 1046&#x2013;1051. 10.1038/nbt.1990.</Citation><ArticleIdList><ArticleId IdType=\"doi\">10.1038/nbt.1990</ArticleId><ArticleId IdType=\"pubmed\">22037378</ArticleId></ArticleIdList></Reference><Reference><Citation>Harrison C. Analysing kinase inhibitor selectivity. Nat. Rev. Drug Discovery 2012, 11, 21&#x2013;21. 10.1038/nrd3647.</Citation><ArticleIdList><ArticleId IdType=\"doi\">10.1038/nrd3647</ArticleId></ArticleIdList></Reference><Reference><Citation>Sahu A.; Prabhash K.; Noronha V.; Joshi A.; Desai S. Crizotinib: A comprehensive review. South Asian J. Cancer 2013, 2, 91&#x2013;97. 10.4103/2278-330X.110506.</Citation><ArticleIdList><ArticleId IdType=\"doi\">10.4103/2278-330X.110506</ArticleId><ArticleId IdType=\"pmc\">PMC3876666</ArticleId><ArticleId IdType=\"pubmed\">24455567</ArticleId></ArticleIdList></Reference><Reference><Citation>Junca A.; et al. Crizotinib targets in Glioblastoma stem cells. Cancer Med. 2017, 6, 2625&#x2013;2634. 10.1002/cam4.1167.</Citation><ArticleIdList><ArticleId IdType=\"doi\">10.1002/cam4.1167</ArticleId><ArticleId IdType=\"pmc\">PMC5673924</ArticleId><ArticleId IdType=\"pubmed\">28960893</ArticleId></ArticleIdList></Reference><Reference><Citation>Goodwin C. R.; et al. Crizotinib and erlotinib inhibits growth of c-Met+/EGFRvIII+ primary human Glioblastoma xenografts. Clinical Neurology and Neurosurgery 2018, 171, 26&#x2013;33. 10.1016/j.clineuro.2018.02.041.</Citation><ArticleIdList><ArticleId IdType=\"doi\">10.1016/j.clineuro.2018.02.041</ArticleId><ArticleId IdType=\"pubmed\">29803091</ArticleId></ArticleIdList></Reference><Reference><Citation>Nehoff H.; Parayath N. N.; McConnell M. J.; Taurin S.; Greish K. A combination of tyrosine kinase inhibitors, crizotinib and dasatinib for the treatment of Glioblastoma multiforme. Oncotarget 2015, 6, 37948&#x2013;37964. 10.18632/oncotarget.5698.</Citation><ArticleIdList><ArticleId IdType=\"doi\">10.18632/oncotarget.5698</ArticleId><ArticleId IdType=\"pmc\">PMC4741976</ArticleId><ArticleId IdType=\"pubmed\">26517812</ArticleId></ArticleIdList></Reference><Reference><Citation>Grupo Espa&#xf1;ol de Investigaci&#xf3;n\\nen Neurooncolog&#xed;a . Phase Ib,\\nOpen-label, Multicenter, Dose-escalation Study Followed by an Extension\\nPhase to Evaluate the Safety and Activity of the Combination of Crizotinib\\nWith Temozolomide and Radiotherapy in Patients With Newly Diagnosed\\nGlioblastoma. https://clinicaltrials.gov/ct2/show/study/NCT02270034 (2021).</Citation></Reference><Reference><Citation>Broniscer A.; Jia S.; Mandrell B.; Hamideh D.; Huang J.; Onar-Thomas A.; Gajjar A.; Raimondi S. C.; Tatevossian R. G.; Stewart C. F. Phase 1 trial, pharmacokinetics, and pharmacodynamics of dasatinib combined with crizotinib in children with recurrent or progressive high-grade and diffuse intrinsic pontine glioma. Pediatr. Blood Cancer 2018, 65, e2703510.1002/pbc.27035.</Citation><ArticleIdList><ArticleId IdType=\"doi\">10.1002/pbc.27035</ArticleId><ArticleId IdType=\"pmc\">PMC5980705</ArticleId><ArticleId IdType=\"pubmed\">29512900</ArticleId></ArticleIdList></Reference><Reference><Citation>Gibson E. G.; Campagne O.; Selvo N. S.; Gajjar A.; Stewart C. F. Population pharmacokinetic analysis of crizotinib in children with progressive/recurrent high-grade and diffuse intrinsic pontine gliomas. Cancer Chemother Pharmacol 2021, 88, 1009&#x2013;1020. 10.1007/s00280-021-04357-4.</Citation><ArticleIdList><ArticleId IdType=\"doi\">10.1007/s00280-021-04357-4</ArticleId><ArticleId IdType=\"pmc\">PMC8561710</ArticleId><ArticleId IdType=\"pubmed\">34586478</ArticleId></ArticleIdList></Reference><Reference><Citation>Angeli E.; Bousquet G. Brain Metastasis Treatment: The Place of Tyrosine Kinase Inhibitors and How to Facilitate Their Diffusion across the Blood&#x2013;Brain Barrier. Pharmaceutics 2021, 13, 1446.10.3390/pharmaceutics13091446.</Citation><ArticleIdList><ArticleId IdType=\"doi\">10.3390/pharmaceutics13091446</ArticleId><ArticleId IdType=\"pmc\">PMC8468523</ArticleId><ArticleId IdType=\"pubmed\">34575525</ArticleId></ArticleIdList></Reference><Reference><Citation>Alexandru O.; et al. Receptor tyrosine kinase targeting in Glioblastoma: performance, limitations and future approaches. Contemp Oncol (Pozn) 2020, 24, 55&#x2013;66. 10.5114/wo.2020.94726.</Citation><ArticleIdList><ArticleId IdType=\"doi\">10.5114/wo.2020.94726</ArticleId><ArticleId IdType=\"pmc\">PMC7265959</ArticleId><ArticleId IdType=\"pubmed\">32514239</ArticleId></ArticleIdList></Reference><Reference><Citation>Reichel D.; et al. Near Infrared Fluorescent Nanoplatform for Targeted Intraoperative Resection and Chemotherapeutic Treatment of Glioblastoma. ACS Nano 2020, 14, 8392&#x2013;8408. 10.1021/acsnano.0c02509.</Citation><ArticleIdList><ArticleId IdType=\"doi\">10.1021/acsnano.0c02509</ArticleId><ArticleId IdType=\"pmc\">PMC7438253</ArticleId><ArticleId IdType=\"pubmed\">32551496</ArticleId></ArticleIdList></Reference><Reference><Citation>Wu J. B.; et al. Near-infrared fluorescence imaging of cancer mediated by tumor hypoxia and HIF1&#x3b1;/OATPs signaling axis. Biomaterials 2014, 35, 8175&#x2013;8185. 10.1016/j.biomaterials.2014.05.073.</Citation><ArticleIdList><ArticleId IdType=\"doi\">10.1016/j.biomaterials.2014.05.073</ArticleId><ArticleId IdType=\"pmc\">PMC4180424</ArticleId><ArticleId IdType=\"pubmed\">24957295</ArticleId></ArticleIdList></Reference><Reference><Citation>Guan Y.; et al. Synthesis and Biological Evaluation of Genistein-IR783 Conjugate: Cancer Cell Targeted Delivery in MCF-7 for Superior Anti-Cancer Therapy. Molecules 2019, 24, 4120.10.3390/molecules24224120.</Citation><ArticleIdList><ArticleId IdType=\"doi\">10.3390/molecules24224120</ArticleId><ArticleId IdType=\"pmc\">PMC6891397</ArticleId><ArticleId IdType=\"pubmed\">31739548</ArticleId></ArticleIdList></Reference><Reference><Citation>Li Y.; Zhou Q.; Deng Z.; Pan M.; Liu X.; Wu J.; Yan F.; Zheng H. IR-780 Dye as a Sonosensitizer for Sonodynamic Therapy of Breast Tumor. Sci. Rep. 2016, 6, 25968.10.1038/srep25968.</Citation><ArticleIdList><ArticleId IdType=\"doi\">10.1038/srep25968</ArticleId><ArticleId IdType=\"pmc\">PMC4865802</ArticleId><ArticleId IdType=\"pubmed\">27174006</ArticleId></ArticleIdList></Reference><Reference><Citation>Usama S. M.; Jiang Z.; Pflug K.; Sitcheran R.; Burgess K. Conjugation of Dasatinib with MHI-148 Has a Significant Advantageous Effect in Viability Assays for Glioblastoma Cells. ChemMedChem. 2019, 14, 1575&#x2013;1579. 10.1002/cmdc.201900356.</Citation><ArticleIdList><ArticleId IdType=\"doi\">10.1002/cmdc.201900356</ArticleId><ArticleId IdType=\"pubmed\">31322832</ArticleId></ArticleIdList></Reference><Reference><Citation>Singh N.; Miner A.; Hennis L.; Mittal S. Mechanisms of Temozolomide resistance in Glioblastoma - a comprehensive review. Cancer Drug Resist. 2020, 4, 17&#x2013;43. 10.20517/cdr.2020.79.</Citation><ArticleIdList><ArticleId IdType=\"doi\">10.20517/cdr.2020.79</ArticleId><ArticleId IdType=\"pmc\">PMC8319838</ArticleId><ArticleId IdType=\"pubmed\">34337348</ArticleId></ArticleIdList></Reference><Reference><Citation>Arora A.; Somasundaram K. Glioblastoma vs Temozolomide: can the red queen race be won?. Cancer Biol. Ther 2019, 20, 1083&#x2013;1090. 10.1080/15384047.2019.1599662.</Citation><ArticleIdList><ArticleId IdType=\"doi\">10.1080/15384047.2019.1599662</ArticleId><ArticleId IdType=\"pmc\">PMC6606031</ArticleId><ArticleId IdType=\"pubmed\">31068075</ArticleId></ArticleIdList></Reference><Reference><Citation>Lee S. Y. Temozolomide resistance in Glioblastoma multiforme. Genes Dis 2016, 3, 198&#x2013;210. 10.1016/j.gendis.2016.04.007.</Citation><ArticleIdList><ArticleId IdType=\"doi\">10.1016/j.gendis.2016.04.007</ArticleId><ArticleId IdType=\"pmc\">PMC6150109</ArticleId><ArticleId IdType=\"pubmed\">30258889</ArticleId></ArticleIdList></Reference></ReferenceList></PubmedData></PubmedArticle><PubmedArticle><MedlineCitation Status=\"MEDLINE\" Owner=\"NLM\" IndexingMethod=\"Automated\"><PMID Version=\"1\">37861443</PMID><DateCompleted><Year>2023</Year><Month>11</Month><Day>10</Day></DateCompleted><DateRevised><Year>2023</Year><Month>11</Month><Day>10</Day></DateRevised><Article PubModel=\"Print-Electronic\"><Journal><ISSN IssnType=\"Electronic\">1520-4804</ISSN><JournalIssue CitedMedium=\"Internet\"><Volume>66</Volume><Issue>21</Issue><PubDate><Year>2023</Year><Month>Nov</Month><Day>09</Day></PubDate></JournalIssue><Title>Journal of medicinal chemistry</Title><ISOAbbreviation>J Med Chem</ISOAbbreviation></Journal><ArticleTitle>Synthesis and Bioevaluation of 3-(Arylmethylene)indole Derivatives: Discovery of a Novel ALK Modulator with Antiglioblastoma Activities.</ArticleTitle><Pagination><StartPage>14609</StartPage><EndPage>14622</EndPage><MedlinePgn>14609-14622</MedlinePgn></Pagination><ELocationID EIdType=\"doi\" ValidYN=\"Y\">10.1021/acs.jmedchem.3c01090</ELocationID><Abstract><AbstractText>Glioblastoma is the most common brain tumor, with high recurrence and low survival rates. An integrative bioinformatics analysis demonstrated that anaplastic lymphoma kinase (ALK) is a promising therapeutic target for glioblastoma. We designed and synthesized a series of 3-(arylmethylene)indole derivatives, which were further evaluated for antiproliferative activity using glioma cell lines. Among them, compound <b>4a</b> significantly inhibited the viability of glioblastoma cells. With favorable pharmacokinetic characteristics and blood-brain barrier permeability, <b>4a</b> improved the survival rate and inhibited the growth of orthotopic glioblastoma. The Phospho-Totum system revealed that ALK was a potential target for the antiglioblastoma activity of <b>4a</b>. Further experiments indicated that <b>4a</b> might be a novel ALK modulator, which interacted with the extracellular ligand-binding domain of ALK, thus selectively induced ERK-mediated autophagy and apoptosis. Our findings provide an alternative ALK-based targeting strategy and a new drug candidate for glioblastoma therapy.</AbstractText></Abstract><AuthorList CompleteYN=\"Y\"><Author ValidYN=\"Y\"><LastName>Feng</LastName><ForeName>Lili</ForeName><Initials>L</Initials><AffiliationInfo><Affiliation>Medical Basic Research Innovation Center for Cardiovascular and Cerebrovascular Diseases, Ministry of Education, China, International Joint Laboratory for Drug Target of Critical Illnesses, School of Pharmacy, Nanjing Medical University, Nanjing 211166, China.</Affiliation></AffiliationInfo></Author><Author ValidYN=\"Y\"><LastName>Chen</LastName><ForeName>Xiang</ForeName><Initials>X</Initials><AffiliationInfo><Affiliation>Medical Basic Research Innovation Center for Cardiovascular and Cerebrovascular Diseases, Ministry of Education, China, International Joint Laboratory for Drug Target of Critical Illnesses, School of Pharmacy, Nanjing Medical University, Nanjing 211166, China.</Affiliation></AffiliationInfo></Author><Author ValidYN=\"Y\"><LastName>Sheng</LastName><ForeName>Gang</ForeName><Initials>G</Initials><AffiliationInfo><Affiliation>Medical Basic Research Innovation Center for Cardiovascular and Cerebrovascular Diseases, Ministry of Education, China, International Joint Laboratory for Drug Target of Critical Illnesses, School of Pharmacy, Nanjing Medical University, Nanjing 211166, China.</Affiliation></AffiliationInfo></Author><Author ValidYN=\"Y\"><LastName>Li</LastName><ForeName>Yingchun</ForeName><Initials>Y</Initials><AffiliationInfo><Affiliation>Medical Basic Research Innovation Center for Cardiovascular and Cerebrovascular Diseases, Ministry of Education, China, International Joint Laboratory for Drug Target of Critical Illnesses, School of Pharmacy, Nanjing Medical University, Nanjing 211166, China.</Affiliation></AffiliationInfo></Author><Author ValidYN=\"Y\"><LastName>Li</LastName><ForeName>Yingying</ForeName><Initials>Y</Initials><AffiliationInfo><Affiliation>Medical Basic Research Innovation Center for Cardiovascular and Cerebrovascular Diseases, Ministry of Education, China, International Joint Laboratory for Drug Target of Critical Illnesses, School of Pharmacy, Nanjing Medical University, Nanjing 211166, China.</Affiliation></AffiliationInfo></Author><Author ValidYN=\"Y\"><LastName>Zhang</LastName><ForeName>Yixuan</ForeName><Initials>Y</Initials><AffiliationInfo><Affiliation>Gusu School, Nanjing Medical University, Suzhou Municipal Hospital, The Affiliated Suzhou Hospital of Nanjing Medical University, Suzhou 215001, China.</Affiliation></AffiliationInfo></Author><Author ValidYN=\"Y\"><LastName>Yao</LastName><ForeName>Kun</ForeName><Initials>K</Initials><AffiliationInfo><Affiliation>Laboratory of Medicinal Chemical Biology, Department of Medicinal Chemistry, College of Pharmaceutical Sciences, Soochow University, Suzhou 215006, China.</Affiliation></AffiliationInfo></Author><Author ValidYN=\"Y\"><LastName>Wu</LastName><ForeName>Zhouyue</ForeName><Initials>Z</Initials><AffiliationInfo><Affiliation>Medical Basic Research Innovation Center for Cardiovascular and Cerebrovascular Diseases, Ministry of Education, China, International Joint Laboratory for Drug Target of Critical Illnesses, School of Pharmacy, Nanjing Medical University, Nanjing 211166, China.</Affiliation></AffiliationInfo></Author><Author ValidYN=\"Y\"><LastName>Zhang</LastName><ForeName>Rong</ForeName><Initials>R</Initials><AffiliationInfo><Affiliation>Medical Basic Research Innovation Center for Cardiovascular and Cerebrovascular Diseases, Ministry of Education, China, International Joint Laboratory for Drug Target of Critical Illnesses, School of Pharmacy, Nanjing Medical University, Nanjing 211166, China.</Affiliation></AffiliationInfo></Author><Author ValidYN=\"Y\"><LastName>Kiboku</LastName><ForeName>Takayuki</ForeName><Initials>T</Initials><AffiliationInfo><Affiliation>Socium Inc., Tokyo 1350064, Japan.</Affiliation></AffiliationInfo></Author><Author ValidYN=\"Y\"><LastName>Kawasaki</LastName><ForeName>Atsushi</ForeName><Initials>A</Initials><AffiliationInfo><Affiliation>Socium Inc., Tokyo 1350064, Japan.</Affiliation></AffiliationInfo></Author><Author ValidYN=\"Y\"><LastName>Horimoto</LastName><ForeName>Katsuhisa</ForeName><Initials>K</Initials><AffiliationInfo><Affiliation>Socium Inc., Tokyo 1350064, Japan.</Affiliation></AffiliationInfo><AffiliationInfo><Affiliation>Artificial Intelligence Research Center, National Institute of Advanced Industrial Science and Technology, Tokyo 1350064, Japan.</Affiliation></AffiliationInfo></Author><Author ValidYN=\"Y\"><LastName>Tang</LastName><ForeName>Yamin</ForeName><Initials>Y</Initials><AffiliationInfo><Affiliation>Medical Basic Research Innovation Center for Cardiovascular and Cerebrovascular Diseases, Ministry of Education, China, International Joint Laboratory for Drug Target of Critical Illnesses, School of Pharmacy, Nanjing Medical University, Nanjing 211166, China.</Affiliation></AffiliationInfo></Author><Author ValidYN=\"Y\"><LastName>Sun</LastName><ForeName>Meiling</ForeName><Initials>M</Initials><AffiliationInfo><Affiliation>Department of Physiology, School of Basic Medical Sciences, Nanjing Medical University, Nanjing 211166, China.</Affiliation></AffiliationInfo></Author><Author ValidYN=\"Y\"><LastName>Han</LastName><ForeName>Feng</ForeName><Initials>F</Initials><Identifier Source=\"ORCID\">0000-0002-7800-9852</Identifier><AffiliationInfo><Affiliation>Medical Basic Research Innovation Center for Cardiovascular and Cerebrovascular Diseases, Ministry of Education, China, International Joint Laboratory for Drug Target of Critical Illnesses, School of Pharmacy, Nanjing Medical University, Nanjing 211166, China.</Affiliation></AffiliationInfo><AffiliationInfo><Affiliation>Gusu School, Nanjing Medical University, Suzhou Municipal Hospital, The Affiliated Suzhou Hospital of Nanjing Medical University, Suzhou 215001, China.</Affiliation></AffiliationInfo><AffiliationInfo><Affiliation>Institute of Brain Science, The Affiliated Brain Hospital of Nanjing Medical University, Nanjing 210029, China.</Affiliation></AffiliationInfo></Author><Author ValidYN=\"Y\"><LastName>Chen</LastName><ForeName>Dongyin</ForeName><Initials>D</Initials><Identifier Source=\"ORCID\">0000-0002-7978-7429</Identifier><AffiliationInfo><Affiliation>Medical Basic Research Innovation Center for Cardiovascular and Cerebrovascular Diseases, Ministry of Education, China, International Joint Laboratory for Drug Target of Critical Illnesses, School of Pharmacy, Nanjing Medical University, Nanjing 211166, China.</Affiliation></AffiliationInfo></Author></AuthorList><Language>eng</Language><PublicationTypeList><PublicationType UI=\"D016428\">Journal Article</PublicationType><PublicationType UI=\"D013485\">Research Support, Non-U.S. Gov\\'t</PublicationType></PublicationTypeList><ArticleDate DateType=\"Electronic\"><Year>2023</Year><Month>10</Month><Day>20</Day></ArticleDate></Article><MedlineJournalInfo><Country>United States</Country><MedlineTA>J Med Chem</MedlineTA><NlmUniqueID>9716531</NlmUniqueID><ISSNLinking>0022-2623</ISSNLinking></MedlineJournalInfo><ChemicalList><Chemical><RegistryNumber>EC 2.7.10.1</RegistryNumber><NameOfSubstance UI=\"D000077548\">Anaplastic Lymphoma Kinase</NameOfSubstance></Chemical><Chemical><RegistryNumber>EC 2.7.10.1</RegistryNumber><NameOfSubstance UI=\"D020794\">Receptor Protein-Tyrosine Kinases</NameOfSubstance></Chemical><Chemical><RegistryNumber>0</RegistryNumber><NameOfSubstance UI=\"D007211\">Indoles</NameOfSubstance></Chemical><Chemical><RegistryNumber>0</RegistryNumber><NameOfSubstance UI=\"D047428\">Protein Kinase Inhibitors</NameOfSubstance></Chemical></ChemicalList><CitationSubset>IM</CitationSubset><MeshHeadingList><MeshHeading><DescriptorName UI=\"D006801\" MajorTopicYN=\"N\">Humans</DescriptorName></MeshHeading><MeshHeading><DescriptorName UI=\"D000077548\" MajorTopicYN=\"N\">Anaplastic Lymphoma Kinase</DescriptorName></MeshHeading><MeshHeading><DescriptorName UI=\"D020794\" MajorTopicYN=\"N\">Receptor Protein-Tyrosine Kinases</DescriptorName></MeshHeading><MeshHeading><DescriptorName UI=\"D005909\" MajorTopicYN=\"Y\">Glioblastoma</DescriptorName><QualifierName UI=\"Q000473\" MajorTopicYN=\"N\">pathology</QualifierName></MeshHeading><MeshHeading><DescriptorName UI=\"D005910\" MajorTopicYN=\"Y\">Glioma</DescriptorName></MeshHeading><MeshHeading><DescriptorName UI=\"D007211\" MajorTopicYN=\"N\">Indoles</DescriptorName><QualifierName UI=\"Q000494\" MajorTopicYN=\"N\">pharmacology</QualifierName><QualifierName UI=\"Q000627\" MajorTopicYN=\"N\">therapeutic use</QualifierName></MeshHeading><MeshHeading><DescriptorName UI=\"D045744\" MajorTopicYN=\"N\">Cell Line, Tumor</DescriptorName></MeshHeading><MeshHeading><DescriptorName UI=\"D047428\" MajorTopicYN=\"N\">Protein Kinase Inhibitors</DescriptorName><QualifierName UI=\"Q000494\" MajorTopicYN=\"N\">pharmacology</QualifierName><QualifierName UI=\"Q000627\" MajorTopicYN=\"N\">therapeutic use</QualifierName></MeshHeading><MeshHeading><DescriptorName UI=\"D049109\" MajorTopicYN=\"N\">Cell Proliferation</DescriptorName></MeshHeading></MeshHeadingList></MedlineCitation><PubmedData><History><PubMedPubDate PubStatus=\"medline\"><Year>2023</Year><Month>11</Month><Day>10</Day><Hour>6</Hour><Minute>45</Minute></PubMedPubDate><PubMedPubDate PubStatus=\"pubmed\"><Year>2023</Year><Month>10</Month><Day>20</Day><Hour>12</Hour><Minute>43</Minute></PubMedPubDate><PubMedPubDate PubStatus=\"entrez\"><Year>2023</Year><Month>10</Month><Day>20</Day><Hour>10</Hour><Minute>13</Minute></PubMedPubDate></History><PublicationStatus>ppublish</PublicationStatus><ArticleIdList><ArticleId IdType=\"pubmed\">37861443</ArticleId><ArticleId IdType=\"doi\">10.1021/acs.jmedchem.3c01090</ArticleId></ArticleIdList></PubmedData></PubmedArticle></PubmedArticleSet>'"
      ]
     },
     "execution_count": 1050,
     "metadata": {},
     "output_type": "execute_result"
    }
   ],
   "source": [
    "fetch_response.text.strip()"
   ]
  },
  {
   "cell_type": "code",
   "execution_count": null,
   "id": "dbec4c4b",
   "metadata": {},
   "outputs": [],
   "source": []
  },
  {
   "cell_type": "code",
   "execution_count": 1157,
   "id": "26a6feb6",
   "metadata": {},
   "outputs": [
    {
     "data": {
      "text/plain": [
       "'<Abstract><AbstractText Label=\"BACKGROUND\" NlmCategory=\"BACKGROUND\">Glioblastoma (GB), a grade 4 glioma is the most common primary malignant brain tumor in adults. Recently, the mutation status of isocitrate dehydrogenase (IDH) has been crucial in the treatment of GB. IDH mutant cases display a more favorable prognosis than IDH-wild type ones. The anaplastic lymphoma kinase (ALK) is expressed as a receptor tyrosine kinase in both the developing central and peripheral nervous systems. Increasing lines of evidence suggest that ALK is over-expressed in GB and represents a potential therapeutic target.</AbstractText><AbstractText Label=\"OBJECTIVES\" NlmCategory=\"OBJECTIVE\">The goal of the current study was to investigate ALK-1 immunohistochemical expression in gliomas, grade 4, besides its correlation with IDH1-R132H mutation status and the clinicopathological parameters of the tumors.</AbstractText><AbstractText Label=\"MATERIAL AND METHODS\" NlmCategory=\"METHODS\">Seventy cases of gliomas, grade 4 were tested for immunohistochemical expression of ALK-1 &amp; IDH1-R132H in the tumor cells.</AbstractText><AbstractText Label=\"RESULTS\" NlmCategory=\"RESULTS\">ALK-1 immunoexpression was detected in 22.9% of our cases and IDH1-R132H mutation was detected in 12.9% of them. ALK-1 expression (100%) was only detected in the more aggressive IDH R132H-negative GBs. ALK-1 expression was also noted in the larger-sized tumors, more in males and patients older than the mean age. &#160;Conclusion: Our results suggest that mutations in ALK-1 may predict a more dismal prognosis since ALK expression was only noted in IDH-R132H negative GBs known to have a considerably poorer outcome compared to IDH-R132H mutant cases. GBs with detectable ALK-protein expression could potentially experience substantial clinical advantages through the utilization of newly introduced ALK inhibitors allowing personalized treatment to a subset of patients. Hence, future studies targeting ALK in IDH wildtype Glioblastomas including clinical trials on larger scales are recommended.</AbstractText>'"
      ]
     },
     "execution_count": 1157,
     "metadata": {},
     "output_type": "execute_result"
    }
   ],
   "source": [
    "root_str2[root_str2.find(\"<Abstract>\"):root_str2.find(\"</Abstract>\")]"
   ]
  },
  {
   "cell_type": "code",
   "execution_count": null,
   "id": "77005d04",
   "metadata": {},
   "outputs": [],
   "source": []
  },
  {
   "cell_type": "code",
   "execution_count": null,
   "id": "113f3d10",
   "metadata": {},
   "outputs": [],
   "source": []
  },
  {
   "cell_type": "code",
   "execution_count": null,
   "id": "c1cee840",
   "metadata": {},
   "outputs": [],
   "source": []
  },
  {
   "cell_type": "code",
   "execution_count": null,
   "id": "861aece6",
   "metadata": {},
   "outputs": [],
   "source": []
  },
  {
   "cell_type": "code",
   "execution_count": null,
   "id": "72c81eaf",
   "metadata": {},
   "outputs": [],
   "source": []
  },
  {
   "cell_type": "raw",
   "id": "ac53ab7d",
   "metadata": {},
   "source": [
    "# Index notes\n",
    "\n",
    "root = PubMedArticleSet\n",
    "root[0],1,2...  will be each paper\n",
    "root[0][0] = MedLineCitation and bulk of the info is contained here.\n",
    "root"
   ]
  },
  {
   "cell_type": "code",
   "execution_count": null,
   "id": "eb2d1ce7",
   "metadata": {},
   "outputs": [],
   "source": []
  },
  {
   "cell_type": "code",
   "execution_count": 158,
   "id": "2761b97c",
   "metadata": {},
   "outputs": [
    {
     "name": "stdout",
     "output_type": "stream",
     "text": [
      "Glioblastoma (GB), a grade 4 glioma is the most common primary malignant brain tumor in adults. Recently, the mutation status of isocitrate dehydrogenase (IDH) has been crucial in the treatment of GB. IDH mutant cases display a more favorable prognosis than IDH-wild type ones. The anaplastic lymphoma kinase (ALK) is expressed as a receptor tyrosine kinase in both the developing central and peripheral nervous systems. Increasing lines of evidence suggest that ALK is over-expressed in GB and represents a potential therapeutic target.\n",
      "The goal of the current study was to investigate ALK-1 immunohistochemical expression in gliomas, grade 4, besides its correlation with IDH1-R132H mutation status and the clinicopathological parameters of the tumors.\n",
      "Seventy cases of gliomas, grade 4 were tested for immunohistochemical expression of ALK-1 & IDH1-R132H in the tumor cells.\n",
      "ALK-1 immunoexpression was detected in 22.9% of our cases and IDH1-R132H mutation was detected in 12.9% of them. ALK-1 expression (100%) was only detected in the more aggressive IDH R132H-negative GBs. ALK-1 expression was also noted in the larger-sized tumors, more in males and patients older than the mean age.  Conclusion: Our results suggest that mutations in ALK-1 may predict a more dismal prognosis since ALK expression was only noted in IDH-R132H negative GBs known to have a considerably poorer outcome compared to IDH-R132H mutant cases. GBs with detectable ALK-protein expression could potentially experience substantial clinical advantages through the utilization of newly introduced ALK inhibitors allowing personalized treatment to a subset of patients. Hence, future studies targeting ALK in IDH wildtype Glioblastomas including clinical trials on larger scales are recommended.\n",
      "Glioblastoma (GBM) is a highly aggressive form of brain cancer with a poor prognosis and limited treatment options. The ALK and c-MET inhibitor Crizotinib has demonstrated preclinical therapeutic potential for newly diagnosed GBM, although its efficacy is limited by poor penetration of the blood brain barrier. Here, we identify Crizotinib as a novel inhibitor of nuclear factor-κB (NF-κB)-inducing kinase, which is a key regulator of GBM growth and proliferation. We further show that the conjugation of Crizotinib to a heptamethine cyanine dye, or a near-infrared dye (IR-Crizotinib), attenuated glioma cell proliferation and survival in vitro to a greater extent than unconjugated Crizotinib. Moreover, we observed increased IR-Crizotinib localization to orthotopic mouse xenograft GBM tumors, which resulted in impaired tumor growth in vivo. Overall, IR-Crizotinib exhibited improved intracranial chemotherapeutic delivery and tumor localization with concurrent inhibition of NIK and noncanonical NF-κB signaling, thereby reducing glioma growth in vitro, as well as in vivo, and increasing survival in a preclinical rodent model.\n",
      "Glioblastoma is the most common brain tumor, with high recurrence and low survival rates. An integrative bioinformatics analysis demonstrated that anaplastic lymphoma kinase (ALK) is a promising therapeutic target for glioblastoma. We designed and synthesized a series of 3-(arylmethylene)indole derivatives, which were further evaluated for antiproliferative activity using glioma cell lines. Among them, compound 4a significantly inhibited the viability of glioblastoma cells. With favorable pharmacokinetic characteristics and blood-brain barrier permeability, 4a improved the survival rate and inhibited the growth of orthotopic glioblastoma. The Phospho-Totum system revealed that ALK was a potential target for the antiglioblastoma activity of 4a. Further experiments indicated that 4a might be a novel ALK modulator, which interacted with the extracellular ligand-binding domain of ALK, thus selectively induced ERK-mediated autophagy and apoptosis. Our findings provide an alternative ALK-based targeting strategy and a new drug candidate for glioblastoma therapy.\n"
     ]
    }
   ],
   "source": [
    "# Here, the &#xa0 and similar others don't appear. However, they do appear if the content is read from a file.\n",
    "\n",
    "for child in root.iter(\"AbstractText\"):\n",
    "#     print(f'tag: {child.tag}')\n",
    "#     print(f'attrib: {child.attrib.get(\"Label\")}')\n",
    "#     print(child.text)\n",
    "    print(\"\".join(child.itertext()))\n",
    "    "
   ]
  },
  {
   "cell_type": "code",
   "execution_count": 1076,
   "id": "bcf6b968",
   "metadata": {},
   "outputs": [
    {
     "name": "stdout",
     "output_type": "stream",
     "text": [
      "tag: KeywordList\n",
      "attrib: None\n",
      "ALK-1,Glioblastoma,Glioma grade 4,IDH-1,immunohistochemistry\n",
      "tag: KeywordList\n",
      "attrib: None\n",
      "Crizotinib,GBM,HMCD,NF-κB-inducing kinase,cyanine dye,kinase inhibitor\n"
     ]
    }
   ],
   "source": [
    "for child in root.iter(\"KeywordList\"):\n",
    "    print(f'tag: {child.tag}')\n",
    "    print(f'attrib: {child.attrib.get(\"Label\")}')\n",
    "#     print(child.text)\n",
    "    print(\",\".join(child.itertext()))\n",
    " "
   ]
  },
  {
   "cell_type": "code",
   "execution_count": 1074,
   "id": "cb8c6e2c",
   "metadata": {},
   "outputs": [
    {
     "data": {
      "text/plain": [
       "['some', 'string']"
      ]
     },
     "execution_count": 1074,
     "metadata": {},
     "output_type": "execute_result"
    }
   ],
   "source": [
    "a = 'some,string'\n",
    "a.split(\",\")"
   ]
  },
  {
   "cell_type": "code",
   "execution_count": 862,
   "id": "b7b06acb",
   "metadata": {
    "scrolled": false
   },
   "outputs": [
    {
     "name": "stdout",
     "output_type": "stream",
     "text": [
      "0\n",
      "tag: PublicationType\n",
      "attrib: {'UI': 'D016428'}\n",
      "text:Journal Article\n",
      "Journal Article\n",
      "1\n",
      "tag: PublicationType\n",
      "attrib: {'UI': 'D016428'}\n",
      "text:Journal Article\n",
      "Journal Article\n",
      "2\n",
      "tag: PublicationType\n",
      "attrib: {'UI': 'D016428'}\n",
      "text:Journal Article\n",
      "Journal Article\n",
      "3\n",
      "tag: PublicationType\n",
      "attrib: {'UI': 'D013485'}\n",
      "text:Research Support, Non-U.S. Gov't\n",
      "Research Support, Non-U.S. Gov't\n"
     ]
    }
   ],
   "source": [
    "for count,child in enumerate(root.iter(\"PublicationType\")):\n",
    "    print(count)\n",
    "    print(f'tag: {child.tag}')\n",
    "    print(f'attrib: {child.attrib}')\n",
    "    print(f'text:{child.text}')\n",
    "    print(\"\".join(child.itertext()))\n",
    "    "
   ]
  },
  {
   "cell_type": "code",
   "execution_count": null,
   "id": "6d8325e7",
   "metadata": {},
   "outputs": [],
   "source": []
  },
  {
   "cell_type": "code",
   "execution_count": 815,
   "id": "52a7a963",
   "metadata": {},
   "outputs": [
    {
     "name": "stdout",
     "output_type": "stream",
     "text": [
      "PMID\n",
      "{'Version': '1'}\n",
      "38285799\n",
      "38285799\n",
      "PMID\n",
      "{'Version': '1'}\n",
      "37939020\n",
      "37939020\n",
      "PMID\n",
      "{'Version': '1'}\n",
      "37861443\n",
      "37861443\n"
     ]
    }
   ],
   "source": [
    "content_type = \"PMID\"\n",
    "\n",
    "for child in root.iter(content_type):\n",
    "    print(child.tag)\n",
    "    print(child.attrib)\n",
    "    print(child.text)\n",
    "    print(\"\".join(child.itertext()))"
   ]
  },
  {
   "cell_type": "code",
   "execution_count": 783,
   "id": "9c7eeb4b",
   "metadata": {},
   "outputs": [
    {
     "name": "stdout",
     "output_type": "stream",
     "text": [
      "PubDate\n",
      "{}\n",
      "None\n",
      "2024Jan01\n",
      "[]\n",
      "PubDate\n",
      "{}\n",
      "None\n",
      "2023Dec04\n",
      "[]\n",
      "PubDate\n",
      "{}\n",
      "None\n",
      "2023Nov09\n",
      "[]\n"
     ]
    }
   ],
   "source": [
    "content_type = \"PubDate\"\n",
    "\n",
    "for child in root.iter(content_type):\n",
    "    print(child.tag)\n",
    "    print(child.attrib)\n",
    "    print(child.text)\n",
    "    print(\"\".join(child.itertext()))"
   ]
  },
  {
   "cell_type": "code",
   "execution_count": 868,
   "id": "016a84c0",
   "metadata": {},
   "outputs": [
    {
     "data": {
      "text/plain": [
       "[]"
      ]
     },
     "execution_count": 868,
     "metadata": {},
     "output_type": "execute_result"
    }
   ],
   "source": [
    "root.findall(\"./PubMedArticle/Authors\")"
   ]
  },
  {
   "cell_type": "code",
   "execution_count": null,
   "id": "45ef5378",
   "metadata": {},
   "outputs": [],
   "source": []
  },
  {
   "cell_type": "code",
   "execution_count": 785,
   "id": "05969f78",
   "metadata": {},
   "outputs": [
    {
     "name": "stdout",
     "output_type": "stream",
     "text": [
      "PubmedArticle {}\n",
      "PubmedArticle {}\n",
      "PubmedArticle {}\n"
     ]
    }
   ],
   "source": [
    "for child in root:\n",
    "    print(child.tag, child.attrib)"
   ]
  },
  {
   "cell_type": "code",
   "execution_count": 803,
   "id": "88a54bba",
   "metadata": {},
   "outputs": [],
   "source": [
    "test_string = '''<?xml version=\"1.0\"?>\n",
    "<data>\n",
    "    <country name=\"Liechtenstein\">\n",
    "        <rank>1</rank>\n",
    "        <year>2008</year>\n",
    "        <gdppc>141100</gdppc>\n",
    "        <neighbor name=\"Austria\" direction=\"E\"/>\n",
    "        <neighbor name=\"Switzerland\" direction=\"W\"/>\n",
    "    </country>\n",
    "    <country name=\"Singapore\">\n",
    "        <rank>4</rank>\n",
    "        <year>2011</year>\n",
    "        <gdppc>59900</gdppc>\n",
    "        <neighbor name=\"Malaysia\" direction=\"N\"/>\n",
    "    </country>\n",
    "    <country name=\"Panama\">\n",
    "        <rank>68</rank>\n",
    "        <year>2011</year>\n",
    "        <gdppc>13600</gdppc>\n",
    "        <neighbor name=\"Costa Rica\" direction=\"W\"/>\n",
    "        <neighbor name=\"Colombia\" direction=\"E\"/>\n",
    "    </country>\n",
    "</data>'''"
   ]
  },
  {
   "cell_type": "code",
   "execution_count": 804,
   "id": "f8980769",
   "metadata": {},
   "outputs": [],
   "source": [
    "root = ET.fromstring(test_string)"
   ]
  },
  {
   "cell_type": "code",
   "execution_count": 805,
   "id": "fd482131",
   "metadata": {},
   "outputs": [
    {
     "name": "stdout",
     "output_type": "stream",
     "text": [
      "{'name': 'Liechtenstein'}\n",
      "{'name': 'Singapore'}\n",
      "{'name': 'Panama'}\n"
     ]
    }
   ],
   "source": [
    "for child in root:\n",
    "    print(child.attrib)"
   ]
  },
  {
   "cell_type": "code",
   "execution_count": 806,
   "id": "e207d476",
   "metadata": {},
   "outputs": [
    {
     "name": "stdout",
     "output_type": "stream",
     "text": [
      "country\n",
      "country\n",
      "country\n"
     ]
    }
   ],
   "source": [
    "for child in root:\n",
    "    print(child.tag)"
   ]
  },
  {
   "cell_type": "code",
   "execution_count": 810,
   "id": "93950b3c",
   "metadata": {},
   "outputs": [
    {
     "name": "stdout",
     "output_type": "stream",
     "text": [
      "{}\n",
      "1\n",
      "{}\n",
      "4\n",
      "{}\n",
      "68\n"
     ]
    }
   ],
   "source": [
    "for rank in root.iter('rank'):\n",
    "    print(rank.attrib)\n",
    "    print(rank.text)"
   ]
  },
  {
   "cell_type": "code",
   "execution_count": null,
   "id": "172a3f08",
   "metadata": {},
   "outputs": [],
   "source": []
  },
  {
   "cell_type": "code",
   "execution_count": 730,
   "id": "7011486d",
   "metadata": {},
   "outputs": [
    {
     "name": "stdout",
     "output_type": "stream",
     "text": [
      "{'Version': '1'}\n",
      "<Element 'PMID' at 0x10b8c5400>\n",
      "{'Version': '1'}\n",
      "<Element 'PMID' at 0x10ba25720>\n",
      "{'Version': '1'}\n",
      "<Element 'PMID' at 0x10bb3c2c0>\n"
     ]
    }
   ],
   "source": [
    "for child in root.iter(\"PMID\"):\n",
    "    print(child.attrib)\n",
    "    print(child)"
   ]
  },
  {
   "cell_type": "markdown",
   "id": "c62ee8fc",
   "metadata": {},
   "source": [
    "* The 3 papers would start at root[0], root[1], root[2].."
   ]
  },
  {
   "cell_type": "code",
   "execution_count": 732,
   "id": "919f6e97",
   "metadata": {},
   "outputs": [
    {
     "name": "stdout",
     "output_type": "stream",
     "text": [
      "PubmedArticle\n",
      "PubmedArticle\n",
      "PubmedArticle\n"
     ]
    }
   ],
   "source": [
    "root[paper_index]\n",
    "for paper_index in range(3):\n",
    "    print(root[paper_index].tag)"
   ]
  },
  {
   "cell_type": "code",
   "execution_count": 876,
   "id": "6ef2352e",
   "metadata": {
    "scrolled": false
   },
   "outputs": [
    {
     "name": "stdout",
     "output_type": "stream",
     "text": [
      "PubDate\n",
      "PubDate\n",
      "PubDate\n"
     ]
    }
   ],
   "source": [
    "paper_1 = root[0]\n",
    "\n",
    "paper_1.attrib\n",
    "\n",
    "\n",
    "for date in root.iter(\"PubDate\"):\n",
    "    print(date.tag)"
   ]
  },
  {
   "cell_type": "code",
   "execution_count": 734,
   "id": "69fbe147",
   "metadata": {},
   "outputs": [
    {
     "name": "stdout",
     "output_type": "stream",
     "text": [
      "PMID\n",
      "DateCompleted\n",
      "DateRevised\n",
      "Article\n",
      "MedlineJournalInfo\n",
      "ChemicalList\n",
      "CitationSubset\n",
      "MeshHeadingList\n",
      "KeywordList\n"
     ]
    }
   ],
   "source": [
    "\n",
    "for child in paper_1[0]:\n",
    "    print(child.tag)"
   ]
  },
  {
   "cell_type": "code",
   "execution_count": 735,
   "id": "c67252f2",
   "metadata": {},
   "outputs": [
    {
     "data": {
      "text/plain": [
       "'PubmedArticle'"
      ]
     },
     "execution_count": 735,
     "metadata": {},
     "output_type": "execute_result"
    }
   ],
   "source": [
    "root[0].tag"
   ]
  },
  {
   "cell_type": "code",
   "execution_count": 736,
   "id": "5c6e6552",
   "metadata": {},
   "outputs": [
    {
     "data": {
      "text/plain": [
       "'MedlineCitation'"
      ]
     },
     "execution_count": 736,
     "metadata": {},
     "output_type": "execute_result"
    }
   ],
   "source": [
    "root[0][0].tag"
   ]
  },
  {
   "cell_type": "code",
   "execution_count": 737,
   "id": "726c4ecf",
   "metadata": {},
   "outputs": [
    {
     "data": {
      "text/plain": [
       "'PMID'"
      ]
     },
     "execution_count": 737,
     "metadata": {},
     "output_type": "execute_result"
    }
   ],
   "source": [
    "root[0][0][0].tag"
   ]
  },
  {
   "cell_type": "code",
   "execution_count": 738,
   "id": "ae9d4590",
   "metadata": {},
   "outputs": [
    {
     "ename": "IndexError",
     "evalue": "child index out of range",
     "output_type": "error",
     "traceback": [
      "\u001b[0;31m---------------------------------------------------------------------------\u001b[0m",
      "\u001b[0;31mIndexError\u001b[0m                                Traceback (most recent call last)",
      "\u001b[0;32m/var/folders/dk/wfg559q158x290pwcj2w20dc0000gp/T/ipykernel_75603/537642999.py\u001b[0m in \u001b[0;36m<module>\u001b[0;34m\u001b[0m\n\u001b[0;32m----> 1\u001b[0;31m \u001b[0mroot\u001b[0m\u001b[0;34m[\u001b[0m\u001b[0;36m0\u001b[0m\u001b[0;34m]\u001b[0m\u001b[0;34m[\u001b[0m\u001b[0;36m0\u001b[0m\u001b[0;34m]\u001b[0m\u001b[0;34m[\u001b[0m\u001b[0;36m0\u001b[0m\u001b[0;34m]\u001b[0m\u001b[0;34m[\u001b[0m\u001b[0;36m0\u001b[0m\u001b[0;34m]\u001b[0m\u001b[0;34m.\u001b[0m\u001b[0mtag\u001b[0m\u001b[0;34m\u001b[0m\u001b[0;34m\u001b[0m\u001b[0m\n\u001b[0m",
      "\u001b[0;31mIndexError\u001b[0m: child index out of range"
     ]
    }
   ],
   "source": [
    "root[0][0][0][0].tag"
   ]
  },
  {
   "cell_type": "code",
   "execution_count": 739,
   "id": "d72922d3",
   "metadata": {},
   "outputs": [
    {
     "name": "stdout",
     "output_type": "stream",
     "text": [
      "MedlineCitation\n",
      "PMID\n",
      "DateCompleted\n",
      "DateRevised\n",
      "Article\n",
      "MedlineJournalInfo\n",
      "ChemicalList\n",
      "CitationSubset\n",
      "MeshHeadingList\n",
      "KeywordList\n"
     ]
    },
    {
     "ename": "IndexError",
     "evalue": "child index out of range",
     "output_type": "error",
     "traceback": [
      "\u001b[0;31m---------------------------------------------------------------------------\u001b[0m",
      "\u001b[0;31mIndexError\u001b[0m                                Traceback (most recent call last)",
      "\u001b[0;32m/var/folders/dk/wfg559q158x290pwcj2w20dc0000gp/T/ipykernel_75603/3458345020.py\u001b[0m in \u001b[0;36m<module>\u001b[0;34m\u001b[0m\n\u001b[1;32m      3\u001b[0m \u001b[0;34m\u001b[0m\u001b[0m\n\u001b[1;32m      4\u001b[0m \u001b[0;34m\u001b[0m\u001b[0m\n\u001b[0;32m----> 5\u001b[0;31m     \u001b[0mprint\u001b[0m\u001b[0;34m(\u001b[0m\u001b[0mroot\u001b[0m\u001b[0;34m[\u001b[0m\u001b[0;36m0\u001b[0m\u001b[0;34m]\u001b[0m\u001b[0;34m[\u001b[0m\u001b[0;36m0\u001b[0m\u001b[0;34m]\u001b[0m\u001b[0;34m[\u001b[0m\u001b[0mcount\u001b[0m\u001b[0;34m]\u001b[0m\u001b[0;34m.\u001b[0m\u001b[0mtag\u001b[0m\u001b[0;34m)\u001b[0m\u001b[0;34m\u001b[0m\u001b[0;34m\u001b[0m\u001b[0m\n\u001b[0m",
      "\u001b[0;31mIndexError\u001b[0m: child index out of range"
     ]
    }
   ],
   "source": [
    "print(root[0][0].tag)\n",
    "for count in range(10):\n",
    "    \n",
    "\n",
    "    print(root[0][0][count].tag)"
   ]
  },
  {
   "cell_type": "code",
   "execution_count": 740,
   "id": "59cf29db",
   "metadata": {},
   "outputs": [
    {
     "data": {
      "text/plain": [
       "<Element 'PubmedArticle' at 0x10b8c5540>"
      ]
     },
     "execution_count": 740,
     "metadata": {},
     "output_type": "execute_result"
    }
   ],
   "source": [
    "root[0]"
   ]
  },
  {
   "cell_type": "code",
   "execution_count": 741,
   "id": "a75ea73f",
   "metadata": {},
   "outputs": [
    {
     "data": {
      "text/plain": [
       "<Element 'MedlineCitation' at 0x10b8c5f40>"
      ]
     },
     "execution_count": 741,
     "metadata": {},
     "output_type": "execute_result"
    }
   ],
   "source": [
    "root[0][0]"
   ]
  },
  {
   "cell_type": "code",
   "execution_count": 742,
   "id": "0d784ab8",
   "metadata": {},
   "outputs": [
    {
     "data": {
      "text/plain": [
       "<Element 'PMID' at 0x10b8c5400>"
      ]
     },
     "execution_count": 742,
     "metadata": {},
     "output_type": "execute_result"
    }
   ],
   "source": [
    "root[0][0][0]"
   ]
  },
  {
   "cell_type": "code",
   "execution_count": 762,
   "id": "eb2095b1",
   "metadata": {},
   "outputs": [],
   "source": [
    "def get_children(parent,label=None):\n",
    "    a = {}\n",
    "    tags = []\n",
    "    attributes = []\n",
    "    text = []\n",
    "    for count,x in enumerate(parent.iter(label)):\n",
    "        \n",
    "    # the actual root.iter tag\n",
    "        if count==0:\n",
    "            parent_name = x.tag\n",
    "            key_1 = parent_name + '_children'\n",
    "            key_2 = parent_name + '_attr'\n",
    "            key_3 = parent_name + '_text'\n",
    "            \n",
    "            try:\n",
    "                a[key_2] = x.attrib\n",
    "            except:\n",
    "                a[key_2]= 'No attribute'\n",
    "            try:\n",
    "                \n",
    "                a[key_3] = x.text\n",
    "            except:\n",
    "                a[key_3] = 'No text'\n",
    "        else:\n",
    "            # get all children\n",
    "            \n",
    "            tags.append(x.tag)\n",
    "    a[key_1] = tags\n",
    "\n",
    "    return a\n",
    "    "
   ]
  },
  {
   "cell_type": "code",
   "execution_count": 946,
   "id": "48e33db1",
   "metadata": {
    "scrolled": true
   },
   "outputs": [
    {
     "data": {
      "text/plain": [
       "{'MedlineCitation_attr': {'Status': 'MEDLINE',\n",
       "  'Owner': 'NLM',\n",
       "  'IndexingMethod': 'Automated'},\n",
       " 'MedlineCitation_text': None,\n",
       " 'MedlineCitation_children': ['PMID',\n",
       "  'DateCompleted',\n",
       "  'Year',\n",
       "  'Month',\n",
       "  'Day',\n",
       "  'DateRevised',\n",
       "  'Year',\n",
       "  'Month',\n",
       "  'Day',\n",
       "  'Article',\n",
       "  'Journal',\n",
       "  'ISSN',\n",
       "  'JournalIssue',\n",
       "  'Volume',\n",
       "  'Issue',\n",
       "  'PubDate',\n",
       "  'Year',\n",
       "  'Month',\n",
       "  'Day',\n",
       "  'Title',\n",
       "  'ISOAbbreviation',\n",
       "  'ArticleTitle',\n",
       "  'Pagination',\n",
       "  'StartPage',\n",
       "  'EndPage',\n",
       "  'MedlinePgn',\n",
       "  'ELocationID',\n",
       "  'Abstract',\n",
       "  'AbstractText',\n",
       "  'i',\n",
       "  'i',\n",
       "  'i',\n",
       "  'i',\n",
       "  'AuthorList',\n",
       "  'Author',\n",
       "  'LastName',\n",
       "  'ForeName',\n",
       "  'Initials',\n",
       "  'AffiliationInfo',\n",
       "  'Affiliation',\n",
       "  'Author',\n",
       "  'LastName',\n",
       "  'ForeName',\n",
       "  'Initials',\n",
       "  'Identifier',\n",
       "  'AffiliationInfo',\n",
       "  'Affiliation',\n",
       "  'Author',\n",
       "  'LastName',\n",
       "  'ForeName',\n",
       "  'Initials',\n",
       "  'AffiliationInfo',\n",
       "  'Affiliation',\n",
       "  'Author',\n",
       "  'LastName',\n",
       "  'ForeName',\n",
       "  'Initials',\n",
       "  'AffiliationInfo',\n",
       "  'Affiliation',\n",
       "  'Author',\n",
       "  'LastName',\n",
       "  'ForeName',\n",
       "  'Initials',\n",
       "  'AffiliationInfo',\n",
       "  'Affiliation',\n",
       "  'Author',\n",
       "  'LastName',\n",
       "  'ForeName',\n",
       "  'Initials',\n",
       "  'Identifier',\n",
       "  'AffiliationInfo',\n",
       "  'Affiliation',\n",
       "  'Language',\n",
       "  'GrantList',\n",
       "  'Grant',\n",
       "  'GrantID',\n",
       "  'Acronym',\n",
       "  'Agency',\n",
       "  'Country',\n",
       "  'Grant',\n",
       "  'GrantID',\n",
       "  'Acronym',\n",
       "  'Agency',\n",
       "  'Country',\n",
       "  'PublicationTypeList',\n",
       "  'PublicationType',\n",
       "  'ArticleDate',\n",
       "  'Year',\n",
       "  'Month',\n",
       "  'Day',\n",
       "  'MedlineJournalInfo',\n",
       "  'Country',\n",
       "  'MedlineTA',\n",
       "  'NlmUniqueID',\n",
       "  'ISSNLinking',\n",
       "  'ChemicalList',\n",
       "  'Chemical',\n",
       "  'RegistryNumber',\n",
       "  'NameOfSubstance',\n",
       "  'Chemical',\n",
       "  'RegistryNumber',\n",
       "  'NameOfSubstance',\n",
       "  'CitationSubset',\n",
       "  'MeshHeadingList',\n",
       "  'MeshHeading',\n",
       "  'DescriptorName',\n",
       "  'MeshHeading',\n",
       "  'DescriptorName',\n",
       "  'MeshHeading',\n",
       "  'DescriptorName',\n",
       "  'MeshHeading',\n",
       "  'DescriptorName',\n",
       "  'QualifierName',\n",
       "  'QualifierName',\n",
       "  'MeshHeading',\n",
       "  'DescriptorName',\n",
       "  'MeshHeading',\n",
       "  'DescriptorName',\n",
       "  'MeshHeading',\n",
       "  'DescriptorName',\n",
       "  'QualifierName',\n",
       "  'QualifierName',\n",
       "  'MeshHeading',\n",
       "  'DescriptorName',\n",
       "  'QualifierName',\n",
       "  'QualifierName',\n",
       "  'MeshHeading',\n",
       "  'DescriptorName',\n",
       "  'QualifierName',\n",
       "  'MeshHeading',\n",
       "  'DescriptorName',\n",
       "  'KeywordList',\n",
       "  'Keyword',\n",
       "  'Keyword',\n",
       "  'Keyword',\n",
       "  'Keyword',\n",
       "  'Keyword',\n",
       "  'Keyword',\n",
       "  'CoiStatement']}"
      ]
     },
     "execution_count": 946,
     "metadata": {},
     "output_type": "execute_result"
    }
   ],
   "source": [
    "get_children(root[1][0])"
   ]
  },
  {
   "cell_type": "code",
   "execution_count": null,
   "id": "7bab588a",
   "metadata": {},
   "outputs": [],
   "source": []
  },
  {
   "cell_type": "code",
   "execution_count": null,
   "id": "1657b824",
   "metadata": {},
   "outputs": [],
   "source": []
  },
  {
   "cell_type": "code",
   "execution_count": null,
   "id": "785ac175",
   "metadata": {},
   "outputs": [],
   "source": []
  },
  {
   "cell_type": "code",
   "execution_count": null,
   "id": "bd4baacc",
   "metadata": {},
   "outputs": [],
   "source": []
  },
  {
   "cell_type": "code",
   "execution_count": null,
   "id": "c4bc6095",
   "metadata": {},
   "outputs": [],
   "source": []
  },
  {
   "cell_type": "code",
   "execution_count": 761,
   "id": "3bf0dfe6",
   "metadata": {},
   "outputs": [
    {
     "name": "stdout",
     "output_type": "stream",
     "text": [
      "{'Version': '1'}\n"
     ]
    }
   ],
   "source": [
    "for x in root[0][0].iter(\"PMID\"):\n",
    "    print(x.attrib)"
   ]
  },
  {
   "cell_type": "code",
   "execution_count": null,
   "id": "9f9efcea",
   "metadata": {},
   "outputs": [],
   "source": []
  },
  {
   "cell_type": "code",
   "execution_count": null,
   "id": "a8e3d7a3",
   "metadata": {},
   "outputs": [],
   "source": []
  },
  {
   "cell_type": "code",
   "execution_count": null,
   "id": "4597f10b",
   "metadata": {},
   "outputs": [],
   "source": []
  },
  {
   "cell_type": "raw",
   "id": "e8e1d16c",
   "metadata": {},
   "source": [
    "Df columns:\n",
    "\n",
    "PMID\n",
    "\n",
    "ArticleTitle\n",
    "\n",
    "Abstract\n",
    "\n",
    "Publication date\n",
    "\n",
    "Authors\n",
    "\n",
    "Journal\n",
    "\n",
    "Keywords"
   ]
  },
  {
   "cell_type": "code",
   "execution_count": null,
   "id": "d66a64b4",
   "metadata": {},
   "outputs": [],
   "source": []
  }
 ],
 "metadata": {
  "kernelspec": {
   "display_name": "Python 3 (ipykernel)",
   "language": "python",
   "name": "python3"
  },
  "language_info": {
   "codemirror_mode": {
    "name": "ipython",
    "version": 3
   },
   "file_extension": ".py",
   "mimetype": "text/x-python",
   "name": "python",
   "nbconvert_exporter": "python",
   "pygments_lexer": "ipython3",
   "version": "3.9.12"
  }
 },
 "nbformat": 4,
 "nbformat_minor": 5
}
