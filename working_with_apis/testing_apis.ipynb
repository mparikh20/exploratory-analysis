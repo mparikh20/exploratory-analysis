{
 "cells": [
  {
   "cell_type": "markdown",
   "id": "80b043d7",
   "metadata": {},
   "source": [
    "# Overview"
   ]
  },
  {
   "cell_type": "code",
   "execution_count": null,
   "id": "8bea58b0",
   "metadata": {},
   "outputs": [],
   "source": []
  },
  {
   "cell_type": "markdown",
   "id": "0ba885c1",
   "metadata": {},
   "source": [
    "# Imports"
   ]
  },
  {
   "cell_type": "code",
   "execution_count": 1,
   "id": "aee04dd0",
   "metadata": {},
   "outputs": [],
   "source": [
    "import requests"
   ]
  },
  {
   "cell_type": "code",
   "execution_count": 2,
   "id": "6b9cc0dc",
   "metadata": {},
   "outputs": [
    {
     "data": {
      "text/plain": [
       "'2.31.0'"
      ]
     },
     "execution_count": 2,
     "metadata": {},
     "output_type": "execute_result"
    }
   ],
   "source": [
    "requests.__version__"
   ]
  },
  {
   "cell_type": "markdown",
   "id": "d41d5dee",
   "metadata": {},
   "source": [
    "# Example 1 - accessing drug adverse event data from the openFDA website"
   ]
  },
  {
   "cell_type": "markdown",
   "id": "a285fbb5",
   "metadata": {},
   "source": [
    "* This is the base API listed in their documentation."
   ]
  },
  {
   "cell_type": "code",
   "execution_count": 20,
   "id": "acf39a4d",
   "metadata": {},
   "outputs": [],
   "source": [
    "link = \"https://api.fda.gov/drug/label.json\""
   ]
  },
  {
   "cell_type": "code",
   "execution_count": 21,
   "id": "915c1a2b",
   "metadata": {
    "scrolled": false
   },
   "outputs": [],
   "source": [
    "response = requests.get(link)"
   ]
  },
  {
   "cell_type": "markdown",
   "id": "66a513f9",
   "metadata": {},
   "source": [
    "* We can see the status of the request from the response object"
   ]
  },
  {
   "cell_type": "code",
   "execution_count": 18,
   "id": "889c1497",
   "metadata": {},
   "outputs": [
    {
     "data": {
      "text/plain": [
       "200"
      ]
     },
     "execution_count": 18,
     "metadata": {},
     "output_type": "execute_result"
    }
   ],
   "source": [
    "# This code means the request was successful. There are different codes such as 400 which means bad request.\n",
    "response.status_code"
   ]
  },
  {
   "cell_type": "markdown",
   "id": "bdb672b3",
   "metadata": {},
   "source": [
    "* The response object is a json "
   ]
  },
  {
   "cell_type": "code",
   "execution_count": 22,
   "id": "e569ea6b",
   "metadata": {},
   "outputs": [
    {
     "data": {
      "text/plain": [
       "{'meta': {'disclaimer': 'Do not rely on openFDA to make decisions regarding medical care. While we make every effort to ensure that data is accurate, you should assume all results are unvalidated. We may limit or otherwise restrict your access to the API in line with our Terms of Service.',\n",
       "  'terms': 'https://open.fda.gov/terms/',\n",
       "  'license': 'https://open.fda.gov/license/',\n",
       "  'last_updated': '2024-01-25',\n",
       "  'results': {'skip': 0, 'limit': 1, 'total': 220227}},\n",
       " 'results': [{'effective_time': '20210902',\n",
       "   'inactive_ingredient': ['INACTIVE INGREDIENTS Sucrose'],\n",
       "   'purpose': ['USES USES: Temporary Relief - Acne, Boils* * Claims based on traditional homeopathic practice, not accepted medical evidence. Not FDA evaluated.'],\n",
       "   'keep_out_of_reach_of_children': ['Keep this and all medication out of reach of children'],\n",
       "   'warnings': ['WARNINGS This product is to be used for self-limiting conditions If symptoms do not improve in 4 days, or worsen, discontinue use and seek assistance of health professional. As with any drug, if you are pregnant, or nursing a baby, seek professional advice before taking this product. Keep this and all medication out of reach of children Do not use if capseal is broken or missing. Close the cap tightly after use.'],\n",
       "   'questions': ['QUESTIONS OR COMMENTS www.Rxhomeo.com | 1.888.2796642 | info@rxhomeo.com Rxhomeo, Inc 3200 Commander Dr, Ste 100-W1, Carrollton, TX 75006 USA'],\n",
       "   'spl_product_data_elements': ['SILICEA SILICEA SUCROSE SILICON DIOXIDE SILICON DIOXIDE'],\n",
       "   'openfda': {'brand_name': ['SILICEA'],\n",
       "    'generic_name': ['SILICEA'],\n",
       "    'manufacturer_name': ['Rxhomeo Private Limited d.b.a. Rxhomeo, Inc'],\n",
       "    'product_ndc': ['15631-0404'],\n",
       "    'product_type': ['HUMAN OTC DRUG'],\n",
       "    'route': ['ORAL'],\n",
       "    'substance_name': ['SILICON DIOXIDE'],\n",
       "    'spl_id': ['ca7bbcc8-2354-375c-e053-2995a90a72a0'],\n",
       "    'spl_set_id': ['0000025c-6dbf-4af7-a741-5cbacaed519a'],\n",
       "    'package_ndc': ['15631-0404-0',\n",
       "     '15631-0404-1',\n",
       "     '15631-0404-2',\n",
       "     '15631-0404-3',\n",
       "     '15631-0404-4',\n",
       "     '15631-0404-5',\n",
       "     '15631-0404-6',\n",
       "     '15631-0404-7'],\n",
       "    'is_original_packager': [True],\n",
       "    'upc': ['8907460005526'],\n",
       "    'unii': ['ETJ7Z6XBU4']},\n",
       "   'version': '2',\n",
       "   'dosage_and_administration': ['DOSAGE Adults- Take 4 or 6 Pellets by mouth, three times daily or as suggested by physician. Children 2 years and older- take 1/2 the adult dose.'],\n",
       "   'pregnancy_or_breast_feeding': ['As with any drug, if you are pregnant, or nursing a baby, seek professional advice before taking this product.'],\n",
       "   'stop_use': ['If symptoms do not improve in 4 days, or worsen, discontinue use and seek assistance of health professional.'],\n",
       "   'storage_and_handling': ['STORAGE Store in a cool dark place'],\n",
       "   'do_not_use': ['Do not use if capseal is broken or missing. Close the cap tightly after use.'],\n",
       "   'package_label_principal_display_panel': ['Mini-Label Label-Pellets Blister-Pack Carton-Pack'],\n",
       "   'indications_and_usage': ['INDICATIONS Condition listed above or as directed by the physician'],\n",
       "   'set_id': '0000025c-6dbf-4af7-a741-5cbacaed519a',\n",
       "   'id': 'ca7bbcc8-2354-375c-e053-2995a90a72a0',\n",
       "   'active_ingredient': ['ACTIVE INGREDIENT SILICEA HPUS 2X and higher']}]}"
      ]
     },
     "execution_count": 22,
     "metadata": {},
     "output_type": "execute_result"
    }
   ],
   "source": [
    "response.json()"
   ]
  },
  {
   "cell_type": "code",
   "execution_count": null,
   "id": "15b683d7",
   "metadata": {},
   "outputs": [],
   "source": []
  }
 ],
 "metadata": {
  "kernelspec": {
   "display_name": "Python 3 (ipykernel)",
   "language": "python",
   "name": "python3"
  },
  "language_info": {
   "codemirror_mode": {
    "name": "ipython",
    "version": 3
   },
   "file_extension": ".py",
   "mimetype": "text/x-python",
   "name": "python",
   "nbconvert_exporter": "python",
   "pygments_lexer": "ipython3",
   "version": "3.9.12"
  }
 },
 "nbformat": 4,
 "nbformat_minor": 5
}
