{
 "cells": [
  {
   "cell_type": "markdown",
   "id": "ed6bfd9d",
   "metadata": {},
   "source": [
    "# Overview"
   ]
  },
  {
   "cell_type": "code",
   "execution_count": null,
   "id": "d8e9524d",
   "metadata": {},
   "outputs": [],
   "source": []
  },
  {
   "cell_type": "markdown",
   "id": "7978f6b4",
   "metadata": {},
   "source": [
    "# Imports"
   ]
  },
  {
   "cell_type": "code",
   "execution_count": 1,
   "id": "031885d2",
   "metadata": {},
   "outputs": [],
   "source": [
    "import requests"
   ]
  },
  {
   "cell_type": "code",
   "execution_count": 2,
   "id": "01dbd389",
   "metadata": {},
   "outputs": [
    {
     "data": {
      "text/plain": [
       "'2.31.0'"
      ]
     },
     "execution_count": 2,
     "metadata": {},
     "output_type": "execute_result"
    }
   ],
   "source": [
    "requests.__version__"
   ]
  },
  {
   "cell_type": "markdown",
   "id": "ab244e61",
   "metadata": {},
   "source": [
    "# Example 1 - querying PubMed and retrieving a list of IDs matching the search"
   ]
  },
  {
   "cell_type": "markdown",
   "id": "9e93fcf3",
   "metadata": {},
   "source": [
    "**References and guides**\n",
    "\n",
    "1. The base query, some example searches, and XML output parameters can be found here:\n",
    "https://www.ncbi.nlm.nih.gov/books/NBK25500/\n",
    "\n",
    "2. Parameters and syntax in depth:\n",
    "https://www.ncbi.nlm.nih.gov/books/NBK25499/\n",
    "\n",
    "3. These are the PubMed specific search term fields and their tags that should be used to construct the query:\n",
    "https://pubmed.ncbi.nlm.nih.gov/help/#tiab\n",
    "\n",
    "4. As seen in the url_suffix variable, it uses an 'Esearch' utility. There are a total of 9 functionalities under eutils (see base url). Others can be found here:\n",
    "https://www.ncbi.nlm.nih.gov/books/NBK25497/"
   ]
  },
  {
   "cell_type": "markdown",
   "id": "50e5cc3e",
   "metadata": {},
   "source": [
    "**Notes**\n",
    "* This API returns an XML output and not a json. \n",
    "* By default, it will only return 20 IDs.\n",
    "* The Count parameter within the XML output shows the total number of records matching the search query."
   ]
  },
  {
   "cell_type": "code",
   "execution_count": 30,
   "id": "fc734816",
   "metadata": {},
   "outputs": [],
   "source": [
    "base_url = 'https://eutils.ncbi.nlm.nih.gov/entrez/eutils/'"
   ]
  },
  {
   "cell_type": "code",
   "execution_count": 35,
   "id": "558c472f",
   "metadata": {},
   "outputs": [],
   "source": [
    "database = 'pubmed'"
   ]
  },
  {
   "cell_type": "code",
   "execution_count": 41,
   "id": "73f70a4a",
   "metadata": {},
   "outputs": [],
   "source": [
    "query = 'glioblastoma[tiab]+AND+ALK[tiab]'"
   ]
  },
  {
   "cell_type": "code",
   "execution_count": 42,
   "id": "f79da640",
   "metadata": {},
   "outputs": [],
   "source": [
    "url_suffix = f'esearch.fcgi?db={database}&term={query}'"
   ]
  },
  {
   "cell_type": "code",
   "execution_count": 43,
   "id": "bc4a62b3",
   "metadata": {},
   "outputs": [
    {
     "data": {
      "text/plain": [
       "'esearch.fcgi?db=pubmed&term=glioblastoma[tiab]+AND+ALK[tiab]'"
      ]
     },
     "execution_count": 43,
     "metadata": {},
     "output_type": "execute_result"
    }
   ],
   "source": [
    "url_suffix"
   ]
  },
  {
   "cell_type": "code",
   "execution_count": 44,
   "id": "3329495f",
   "metadata": {},
   "outputs": [],
   "source": [
    "final_url = base_url + url_suffix"
   ]
  },
  {
   "cell_type": "code",
   "execution_count": 45,
   "id": "26be1589",
   "metadata": {},
   "outputs": [
    {
     "data": {
      "text/plain": [
       "'https://eutils.ncbi.nlm.nih.gov/entrez/eutils/esearch.fcgi?db=pubmed&term=glioblastoma[tiab]+AND+ALK[tiab]'"
      ]
     },
     "execution_count": 45,
     "metadata": {},
     "output_type": "execute_result"
    }
   ],
   "source": [
    "final_url"
   ]
  },
  {
   "cell_type": "code",
   "execution_count": 46,
   "id": "efafaa4b",
   "metadata": {},
   "outputs": [],
   "source": [
    "response = requests.get(final_url)"
   ]
  },
  {
   "cell_type": "markdown",
   "id": "9d1d19bd",
   "metadata": {},
   "source": [
    "* This code means the request was successful. There are different codes such as 400 which means bad request."
   ]
  },
  {
   "cell_type": "code",
   "execution_count": 47,
   "id": "589ac874",
   "metadata": {},
   "outputs": [
    {
     "data": {
      "text/plain": [
       "200"
      ]
     },
     "execution_count": 47,
     "metadata": {},
     "output_type": "execute_result"
    }
   ],
   "source": [
    "response.status_code"
   ]
  },
  {
   "cell_type": "code",
   "execution_count": 50,
   "id": "67c66614",
   "metadata": {},
   "outputs": [
    {
     "data": {
      "text/plain": [
       "'UTF-8'"
      ]
     },
     "execution_count": 50,
     "metadata": {},
     "output_type": "execute_result"
    }
   ],
   "source": [
    "response.encoding"
   ]
  },
  {
   "cell_type": "markdown",
   "id": "348f68aa",
   "metadata": {},
   "source": [
    "* As expected, it gives an XML output.\n",
    "* Also, the number of records was confirmed by searching manually on PubMed: https://pubmed.ncbi.nlm.nih.gov/?term=%28ALK%5BTitle%2FAbstract%5D%29+AND+%28glioblastoma%5BTitle%2FAbstract%5D%29&sort="
   ]
  },
  {
   "cell_type": "code",
   "execution_count": 55,
   "id": "823c2271",
   "metadata": {},
   "outputs": [
    {
     "name": "stdout",
     "output_type": "stream",
     "text": [
      "<?xml version=\"1.0\" encoding=\"UTF-8\" ?>\n",
      "<!DOCTYPE eSearchResult PUBLIC \"-//NLM//DTD esearch 20060628//EN\" \"https://eutils.ncbi.nlm.nih.gov/eutils/dtd/20060628/esearch.dtd\">\n",
      "<eSearchResult><Count>76</Count><RetMax>20</RetMax><RetStart>0</RetStart><IdList>\n",
      "<Id>38285799</Id>\n",
      "<Id>37939020</Id>\n",
      "<Id>37861443</Id>\n",
      "<Id>37271069</Id>\n",
      "<Id>37260294</Id>\n",
      "<Id>37240478</Id>\n",
      "<Id>37168365</Id>\n",
      "<Id>36823756</Id>\n",
      "<Id>36780194</Id>\n",
      "<Id>36707425</Id>\n",
      "<Id>35724395</Id>\n",
      "<Id>35625997</Id>\n",
      "<Id>35190826</Id>\n",
      "<Id>34702773</Id>\n",
      "<Id>34626238</Id>\n",
      "<Id>34341009</Id>\n",
      "<Id>34323181</Id>\n",
      "<Id>34015889</Id>\n",
      "<Id>33966367</Id>\n",
      "<Id>33887544</Id>\n",
      "</IdList><TranslationSet/><QueryTranslation>\"glioblastoma\"[Title/Abstract] AND \"ALK\"[Title/Abstract]</QueryTranslation></eSearchResult>\n",
      "\n"
     ]
    }
   ],
   "source": [
    "print(response.text)"
   ]
  },
  {
   "cell_type": "code",
   "execution_count": null,
   "id": "f0ea1df4",
   "metadata": {},
   "outputs": [],
   "source": []
  }
 ],
 "metadata": {
  "kernelspec": {
   "display_name": "Python 3 (ipykernel)",
   "language": "python",
   "name": "python3"
  },
  "language_info": {
   "codemirror_mode": {
    "name": "ipython",
    "version": 3
   },
   "file_extension": ".py",
   "mimetype": "text/x-python",
   "name": "python",
   "nbconvert_exporter": "python",
   "pygments_lexer": "ipython3",
   "version": "3.9.12"
  }
 },
 "nbformat": 4,
 "nbformat_minor": 5
}
