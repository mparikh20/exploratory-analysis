{
 "cells": [
  {
   "cell_type": "markdown",
   "metadata": {},
   "source": [
    "### About the dataset - U.S. Clinical Trials (2000-2020)\n",
    "\n",
    "This dataset was obtained from https://clinicaltrials.gov/ct2/results?cond=&term=&cntry=US&state=&city=&dist= .\n",
    "\n",
    "Useful links defining the terms within the dataset: \n",
    "https://clinicaltrials.gov/ct2/manage-recs/resources#DataElement\n",
    "https://prsinfo.clinicaltrials.gov/definitions.html#PrimaryCompletionDate"
   ]
  },
  {
   "cell_type": "markdown",
   "metadata": {},
   "source": [
    "## PREDICTION OF CLINICAL TRIAL DURATION"
   ]
  },
  {
   "cell_type": "markdown",
   "metadata": {},
   "source": [
    "## Table of Contents"
   ]
  },
  {
   "cell_type": "markdown",
   "metadata": {},
   "source": [
    "* [1-Imports](#first-bullet)\n",
    "* [2 - Preparation and inspection of the dataframe](#second-bullet)\n",
    "* [3-What is the operating and recruitment status of clinical trials?](#third-bullet)\n",
    "* [4 - Clinical trial duration](#fourth-bullet)\n",
    "* [5 - What indications are trials focusing on?](#fifth-bullet)\n",
    "* [6 - FEATURE ENGINEERING FOR PREDICTION OF TRIAL DURATION](#sixth-bullet)\n",
    "* [7 - MODELS](#seventh-bullet)\n"
   ]
  },
  {
   "cell_type": "markdown",
   "metadata": {},
   "source": [
    "## 1 - Imports <a class=\"anchor\" id=\"first-bullet\"></a>"
   ]
  },
  {
   "cell_type": "code",
   "execution_count": 1,
   "metadata": {},
   "outputs": [],
   "source": [
    "import pandas as pd\n",
    "import glob\n",
    "import seaborn as sns\n",
    "from matplotlib import pyplot as plt\n",
    "import string\n",
    "import numpy as np\n",
    "\n",
    "from sklearn.linear_model import LinearRegression\n",
    "\n",
    "from sklearn.model_selection import train_test_split\n",
    "\n",
    "from sklearn.neighbors import KNeighborsRegressor\n",
    "\n",
    "from sklearn.neighbors import KNeighborsClassifier\n",
    "\n",
    "from sklearn.metrics import accuracy_score, recall_score, precision_score, f1_score\n",
    "\n",
    "from sklearn.linear_model import LogisticRegression\n",
    "\n",
    "from sklearn.svm import SVC\n",
    "\n",
    "from sklearn.svm import LinearSVC\n",
    "\n",
    "from sklearn.ensemble import RandomForestClassifier"
   ]
  },
  {
   "cell_type": "markdown",
   "metadata": {},
   "source": [
    "## 2 - Preparation and inspection of the dataframe <a class=\"anchor\" id=\"second-bullet\"></a>"
   ]
  },
  {
   "cell_type": "code",
   "execution_count": 2,
   "metadata": {},
   "outputs": [],
   "source": [
    "# Each .csv file consists of data from a year. This code concatenates dataframe from all 20 years.\n",
    "\n",
    "files = glob.glob('20*_SearchResults.csv')\n",
    "df_list = []\n",
    "for file in files:\n",
    "    df = pd.read_csv(file)\n",
    "    df_list.append(df)\n",
    "\n",
    "trials_df = pd.concat(df_list, ignore_index=True)   "
   ]
  },
  {
   "cell_type": "markdown",
   "metadata": {},
   "source": [
    "#### Total number of records in the dataframe : 122731"
   ]
  },
  {
   "cell_type": "code",
   "execution_count": 3,
   "metadata": {},
   "outputs": [
    {
     "data": {
      "text/plain": [
       "122731"
      ]
     },
     "execution_count": 3,
     "metadata": {},
     "output_type": "execute_result"
    }
   ],
   "source": [
    "len(trials_df)"
   ]
  },
  {
   "cell_type": "code",
   "execution_count": 4,
   "metadata": {},
   "outputs": [
    {
     "data": {
      "text/html": [
       "<div>\n",
       "<style scoped>\n",
       "    .dataframe tbody tr th:only-of-type {\n",
       "        vertical-align: middle;\n",
       "    }\n",
       "\n",
       "    .dataframe tbody tr th {\n",
       "        vertical-align: top;\n",
       "    }\n",
       "\n",
       "    .dataframe thead th {\n",
       "        text-align: right;\n",
       "    }\n",
       "</style>\n",
       "<table border=\"1\" class=\"dataframe\">\n",
       "  <thead>\n",
       "    <tr style=\"text-align: right;\">\n",
       "      <th></th>\n",
       "      <th>Rank</th>\n",
       "      <th>NCT Number</th>\n",
       "      <th>Title</th>\n",
       "      <th>Acronym</th>\n",
       "      <th>Status</th>\n",
       "      <th>Study Results</th>\n",
       "      <th>Conditions</th>\n",
       "      <th>Interventions</th>\n",
       "      <th>Outcome Measures</th>\n",
       "      <th>Sponsor/Collaborators</th>\n",
       "      <th>...</th>\n",
       "      <th>Other IDs</th>\n",
       "      <th>Start Date</th>\n",
       "      <th>Primary Completion Date</th>\n",
       "      <th>Completion Date</th>\n",
       "      <th>First Posted</th>\n",
       "      <th>Results First Posted</th>\n",
       "      <th>Last Update Posted</th>\n",
       "      <th>Locations</th>\n",
       "      <th>Study Documents</th>\n",
       "      <th>URL</th>\n",
       "    </tr>\n",
       "  </thead>\n",
       "  <tbody>\n",
       "    <tr>\n",
       "      <th>0</th>\n",
       "      <td>1</td>\n",
       "      <td>NCT04296266</td>\n",
       "      <td>Human Salivary Gland Disposition of Alda-341 i...</td>\n",
       "      <td>NaN</td>\n",
       "      <td>Completed</td>\n",
       "      <td>No Results Available</td>\n",
       "      <td>Submandibular Gland Tumor|Parotid Gland Tumor</td>\n",
       "      <td>Drug: Alda-341</td>\n",
       "      <td>Bioavailability of Alda-341 in salivary gland ...</td>\n",
       "      <td>Stanford University</td>\n",
       "      <td>...</td>\n",
       "      <td>IRB-32994</td>\n",
       "      <td>February 2016</td>\n",
       "      <td>December 18, 2017</td>\n",
       "      <td>December 21, 2017</td>\n",
       "      <td>March 5, 2020</td>\n",
       "      <td>NaN</td>\n",
       "      <td>March 5, 2020</td>\n",
       "      <td>Stanford University, Stanford, California, Uni...</td>\n",
       "      <td>NaN</td>\n",
       "      <td>https://ClinicalTrials.gov/show/NCT04296266</td>\n",
       "    </tr>\n",
       "    <tr>\n",
       "      <th>1</th>\n",
       "      <td>2</td>\n",
       "      <td>NCT04294303</td>\n",
       "      <td>Use of Telemonitoring System in Heart Failure ...</td>\n",
       "      <td>I get better</td>\n",
       "      <td>Completed</td>\n",
       "      <td>No Results Available</td>\n",
       "      <td>Heart Failure|Quality of Life</td>\n",
       "      <td>Other: web based telemonitoring system|Other: ...</td>\n",
       "      <td>Rate of hospital readmission for heart failure...</td>\n",
       "      <td>Danbury Hospital</td>\n",
       "      <td>...</td>\n",
       "      <td>15-608</td>\n",
       "      <td>February 3, 2016</td>\n",
       "      <td>April 11, 2018</td>\n",
       "      <td>January 29, 2020</td>\n",
       "      <td>March 4, 2020</td>\n",
       "      <td>NaN</td>\n",
       "      <td>March 5, 2020</td>\n",
       "      <td>Danbury Hospital, Danbury, Connecticut, United...</td>\n",
       "      <td>NaN</td>\n",
       "      <td>https://ClinicalTrials.gov/show/NCT04294303</td>\n",
       "    </tr>\n",
       "    <tr>\n",
       "      <th>2</th>\n",
       "      <td>3</td>\n",
       "      <td>NCT04284930</td>\n",
       "      <td>Comparison of Local Anesthetic Infusion Pump V...</td>\n",
       "      <td>NaN</td>\n",
       "      <td>Completed</td>\n",
       "      <td>No Results Available</td>\n",
       "      <td>Pain, Postoperative</td>\n",
       "      <td>Drug: Depobupivacaine|Drug: OnQ pump|Drug: 0.2...</td>\n",
       "      <td>6 Hour Post-op Pain Morphine or Hydromorphone ...</td>\n",
       "      <td>The Cleveland Clinic</td>\n",
       "      <td>...</td>\n",
       "      <td>15-1535</td>\n",
       "      <td>February 2016</td>\n",
       "      <td>November 2017</td>\n",
       "      <td>November 2017</td>\n",
       "      <td>February 26, 2020</td>\n",
       "      <td>NaN</td>\n",
       "      <td>February 26, 2020</td>\n",
       "      <td>Cleveland Clinic Foundation, Cleveland, Ohio, ...</td>\n",
       "      <td>NaN</td>\n",
       "      <td>https://ClinicalTrials.gov/show/NCT04284930</td>\n",
       "    </tr>\n",
       "  </tbody>\n",
       "</table>\n",
       "<p>3 rows × 27 columns</p>\n",
       "</div>"
      ],
      "text/plain": [
       "   Rank   NCT Number                                              Title  \\\n",
       "0     1  NCT04296266  Human Salivary Gland Disposition of Alda-341 i...   \n",
       "1     2  NCT04294303  Use of Telemonitoring System in Heart Failure ...   \n",
       "2     3  NCT04284930  Comparison of Local Anesthetic Infusion Pump V...   \n",
       "\n",
       "        Acronym     Status         Study Results  \\\n",
       "0           NaN  Completed  No Results Available   \n",
       "1  I get better  Completed  No Results Available   \n",
       "2           NaN  Completed  No Results Available   \n",
       "\n",
       "                                      Conditions  \\\n",
       "0  Submandibular Gland Tumor|Parotid Gland Tumor   \n",
       "1                  Heart Failure|Quality of Life   \n",
       "2                            Pain, Postoperative   \n",
       "\n",
       "                                       Interventions  \\\n",
       "0                                     Drug: Alda-341   \n",
       "1  Other: web based telemonitoring system|Other: ...   \n",
       "2  Drug: Depobupivacaine|Drug: OnQ pump|Drug: 0.2...   \n",
       "\n",
       "                                    Outcome Measures Sponsor/Collaborators  \\\n",
       "0  Bioavailability of Alda-341 in salivary gland ...   Stanford University   \n",
       "1  Rate of hospital readmission for heart failure...      Danbury Hospital   \n",
       "2  6 Hour Post-op Pain Morphine or Hydromorphone ...  The Cleveland Clinic   \n",
       "\n",
       "   ...  Other IDs        Start Date Primary Completion Date  \\\n",
       "0  ...  IRB-32994     February 2016       December 18, 2017   \n",
       "1  ...     15-608  February 3, 2016          April 11, 2018   \n",
       "2  ...    15-1535     February 2016           November 2017   \n",
       "\n",
       "     Completion Date       First Posted Results First Posted  \\\n",
       "0  December 21, 2017      March 5, 2020                  NaN   \n",
       "1   January 29, 2020      March 4, 2020                  NaN   \n",
       "2      November 2017  February 26, 2020                  NaN   \n",
       "\n",
       "  Last Update Posted                                          Locations  \\\n",
       "0      March 5, 2020  Stanford University, Stanford, California, Uni...   \n",
       "1      March 5, 2020  Danbury Hospital, Danbury, Connecticut, United...   \n",
       "2  February 26, 2020  Cleveland Clinic Foundation, Cleveland, Ohio, ...   \n",
       "\n",
       "  Study Documents                                          URL  \n",
       "0             NaN  https://ClinicalTrials.gov/show/NCT04296266  \n",
       "1             NaN  https://ClinicalTrials.gov/show/NCT04294303  \n",
       "2             NaN  https://ClinicalTrials.gov/show/NCT04284930  \n",
       "\n",
       "[3 rows x 27 columns]"
      ]
     },
     "execution_count": 4,
     "metadata": {},
     "output_type": "execute_result"
    }
   ],
   "source": [
    "trials_df.head(3)"
   ]
  },
  {
   "cell_type": "markdown",
   "metadata": {},
   "source": [
    "## 3 - What is the operating and recruitment status of clinical trials? <a class=\"anchor\" id=\"third-bullet\"></a>"
   ]
  },
  {
   "cell_type": "code",
   "execution_count": 5,
   "metadata": {},
   "outputs": [
    {
     "data": {
      "text/plain": [
       "array(['Completed', 'Recruiting', 'Active, not recruiting', 'Terminated',\n",
       "       'Enrolling by invitation', 'Withdrawn', 'Unknown status',\n",
       "       'Suspended', 'Not yet recruiting', 'No longer available',\n",
       "       'Approved for marketing', 'Available'], dtype=object)"
      ]
     },
     "execution_count": 5,
     "metadata": {},
     "output_type": "execute_result"
    }
   ],
   "source": [
    "trials_df['Status'].unique()"
   ]
  },
  {
   "cell_type": "code",
   "execution_count": 6,
   "metadata": {},
   "outputs": [
    {
     "data": {
      "text/plain": [
       "Text(0.5, 1.0, 'Figure 1 - Status of clinical trials')"
      ]
     },
     "execution_count": 6,
     "metadata": {},
     "output_type": "execute_result"
    },
    {
     "data": {
      "image/png": "[encoded data removed]",
      "text/plain": [
       "<Figure size 720x720 with 1 Axes>"
      ]
     },
     "metadata": {
      "needs_background": "light"
     },
     "output_type": "display_data"
    }
   ],
   "source": [
    "status_bar = trials_df['Status'].value_counts()\n",
    "plt.figure(figsize=(10,10))\n",
    "ax1 = plt.subplot()\n",
    "x_labels = status_bar.index\n",
    "y_values = status_bar.values\n",
    "plt.bar(x_labels, y_values)\n",
    "ax1.set_xticks(range(len(status_bar)))\n",
    "ax1.set_xticklabels(x_labels, rotation=90, fontsize=15)\n",
    "plt.xlabel('', fontsize=20)\n",
    "plt.ylabel('Number of trials', fontsize=20)\n",
    "plt.title('Figure 1 - Status of clinical trials', fontsize = 25)"
   ]
  },
  {
   "cell_type": "markdown",
   "metadata": {},
   "source": [
    "## What are the participant age-groups ?"
   ]
  },
  {
   "cell_type": "code",
   "execution_count": 7,
   "metadata": {},
   "outputs": [
    {
     "data": {
      "text/plain": [
       "array([99170, 16399,  7162])"
      ]
     },
     "execution_count": 7,
     "metadata": {},
     "output_type": "execute_result"
    }
   ],
   "source": [
    "# Take the Age column and further split it into 'Age range', 'Demographic'. eg. Demographic would be either 'Mixed',\n",
    "#'Adult', or 'Child'\n",
    "\n",
    "def age_assess(age_string):\n",
    "    if 'Child' in age_string and 'Adult' not in age_string:\n",
    "        return 'Pediatric'\n",
    "    elif 'Child' in age_string and 'Adult' in age_string:\n",
    "        return 'Mixed'\n",
    "    else:\n",
    "        return 'Adult'\n",
    "    \n",
    "trials_df['age_group'] = trials_df['Age'].apply(age_assess)\n",
    "trials_df['age_group'].value_counts().values"
   ]
  },
  {
   "cell_type": "code",
   "execution_count": 8,
   "metadata": {},
   "outputs": [
    {
     "data": {
      "image/png": "[encoded data removed]",
      "text/plain": [
       "<Figure size 360x360 with 1 Axes>"
      ]
     },
     "metadata": {},
     "output_type": "display_data"
    }
   ],
   "source": [
    "plt.figure(figsize=(5,5))\n",
    "plt.subplot()\n",
    "plt.pie(trials_df['age_group'].value_counts().values, labels = trials_df['age_group'].value_counts().index, autopct = '%0.1f%%', textprops={'fontsize': 20})\n",
    "plt.axis('equal')\n",
    "plt.title('Figure 2 - Classification of clinical trials by age groups of participants', fontsize=20)\n",
    "plt.show()"
   ]
  },
  {
   "cell_type": "markdown",
   "metadata": {},
   "source": [
    "## 4 - Clinical trial duration <a class=\"anchor\" id=\"fourth-bullet\"></a>\n",
    "\n",
    "(4.1) New column 'trial_duration' was added to calculate trial duration using Start Date and Completion Date.\n",
    "Trial records with null duration values were dropped."
   ]
  },
  {
   "cell_type": "code",
   "execution_count": 10,
   "metadata": {},
   "outputs": [
    {
     "data": {
      "text/plain": [
       "count    117349.000000\n",
       "mean       1283.588688\n",
       "std        1225.149900\n",
       "min           1.000000\n",
       "25%         515.000000\n",
       "50%        1004.000000\n",
       "75%        1706.000000\n",
       "max       35794.000000\n",
       "Name: duration_days, dtype: float64"
      ]
     },
     "execution_count": 10,
     "metadata": {},
     "output_type": "execute_result"
    }
   ],
   "source": [
    "\n",
    "trials_df['Start Date'] = pd.to_datetime(trials_df['Start Date'])\n",
    "trials_df['Completion Date'] = pd.to_datetime(trials_df['Completion Date'])\n",
    "trials_df['trial_duration'] = trials_df['Completion Date']-trials_df['Start Date']\n",
    "trials_df = trials_df.dropna(subset=['trial_duration'])\n",
    "\n",
    "# Added a new column 'duration_days' that has only numerical data.\n",
    "trials_df['duration_days'] = trials_df['trial_duration'].dt.days\n",
    "trials_df = trials_df[trials_df['duration_days'] != 0]\n",
    "trials_df['duration_days'].describe()\n"
   ]
  },
  {
   "cell_type": "code",
   "execution_count": 11,
   "metadata": {},
   "outputs": [
    {
     "data": {
      "text/plain": [
       "array([1.000000e+00, 1.790650e+03, 3.580300e+03, 5.369950e+03,\n",
       "       7.159600e+03, 8.949250e+03, 1.073890e+04, 1.252855e+04,\n",
       "       1.431820e+04, 1.610785e+04, 1.789750e+04, 1.968715e+04,\n",
       "       2.147680e+04, 2.326645e+04, 2.505610e+04, 2.684575e+04,\n",
       "       2.863540e+04, 3.042505e+04, 3.221470e+04, 3.400435e+04,\n",
       "       3.579400e+04])"
      ]
     },
     "execution_count": 11,
     "metadata": {},
     "output_type": "execute_result"
    }
   ],
   "source": [
    "trials_df['duration_days'].mean()\n",
    "frequency, bins = np.histogram(trials_df['duration_days'], bins=20) #, bins=20, #range=[100, 4000])\n",
    "frequency\n",
    "bins\n",
    "# Maximum frequency is 280 and the corresponding duration is 685 days. "
   ]
  },
  {
   "cell_type": "code",
   "execution_count": 12,
   "metadata": {},
   "outputs": [
    {
     "data": {
      "image/png": "[encoded data removed]",
      "text/plain": [
       "<Figure size 720x720 with 1 Axes>"
      ]
     },
     "metadata": {
      "needs_background": "light"
     },
     "output_type": "display_data"
    }
   ],
   "source": [
    "\n",
    "f2, ax2 = plt.subplots(figsize=(10,10))\n",
    "ax2 = plt.hist(trials_df['duration_days'], bins = 20, color = 'c', edgecolor='black')\n",
    "plt.xlabel('Trial Duration (Days)', fontsize=20)\n",
    "plt.ylabel('Number of trials', fontsize=20)\n",
    "plt.axvline(trials_df['duration_days'].mean(), color='k', linestyle='dashed', linewidth=2)\n",
    "plt.axvline(trials_df['duration_days'].median(),linewidth=2)\n",
    "plt.title('Figure 3 - Histogram Showing the Duration for Clinical Trials\\n' r'$\\mu$' '='+ str(trials_df['duration_days'].mean()), fontsize=20)\n",
    "plt.show()"
   ]
  },
  {
   "cell_type": "code",
   "execution_count": 13,
   "metadata": {},
   "outputs": [
    {
     "data": {
      "image/png": "[encoded data removed]",
      "text/plain": [
       "<Figure size 720x720 with 1 Axes>"
      ]
     },
     "metadata": {
      "needs_background": "light"
     },
     "output_type": "display_data"
    }
   ],
   "source": [
    "f4, ax4 = plt.subplots(figsize=(10,10))\n",
    "ax4 = plt.hist(trials_df['duration_days'], range = (0,3000), bins = 40, color = 'c', edgecolor='black')\n",
    "plt.xlabel('Trial Duration (Days)', fontsize=20)\n",
    "plt.ylabel('Number of trials', fontsize=20)\n",
    "plt.axvline(trials_df['duration_days'].mean(), color='k', linestyle='dashed', linewidth=2)\n",
    "plt.axvline(trials_df['duration_days'].median(),linewidth=2)\n",
    "plt.title('Figure 4 - Histogram Showing Clinical Trial Duration Within 3000 days\\n' r'$\\mu$' '='+ str(trials_df['duration_days'].mean()), fontsize=20)\n",
    "plt.show()"
   ]
  },
  {
   "cell_type": "markdown",
   "metadata": {},
   "source": [
    "### >>> INSIGHT : Trial duration is skewed and since there are trials that are taking longer than 10 years to complete, these dat points might affect prediction."
   ]
  },
  {
   "cell_type": "markdown",
   "metadata": {},
   "source": [
    "## 5 - What indications are trials focusing on? <a class=\"anchor\" id=\"fifth-bullet\"></a>\n",
    "\n",
    "(5.1) This question required a lot of data extraction and classification. First, a master dictionary of terms specific to each indication or major body systems was created. Then the 'Conditions' column was used to extract all possible disorders covered within the trial. The main challenge was that trials were rarely exclusive to 1 condition. Eg. trial looking at amnesia in lung cancer patients."
   ]
  },
  {
   "cell_type": "markdown",
   "metadata": {},
   "source": [
    "### EXAMPLE: \n",
    "Benign Cysts Ovarian|Cystectomy|Torsion|Malignant Cysts Ovarian\n",
    "\n",
    "Sleep Disordered Breathing|Sleep Hypopnea|Sleep Apnea|Sleep Apnea, Obstructive|Snoring\n",
    "\n",
    "#### PROCESSED TO:\n",
    "['cancer']\n",
    "\n",
    "['sleep', 'ent']"
   ]
  },
  {
   "cell_type": "markdown",
   "metadata": {},
   "source": [
    "#### Create a dictionary with a broad category as the key and a list of corresponding terms as the values."
   ]
  },
  {
   "cell_type": "code",
   "execution_count": 14,
   "metadata": {},
   "outputs": [],
   "source": [
    "master_dict = {'cardiac': ['cardiovascular', 'mitral','aortic','coronary', 'heart', 'cardio',\n",
    "                           'cardiac', 'arrhythmia', 'afib','fibrillation','tachycardia', 'myocardial'],\n",
    "               \n",
    "               'cancer' : ['cancer', 'cancers', 'tumors','tumour', 'tumours','malignant', 'oncogenic', 'oncology',\n",
    "                           'neoplasms', 'neoplasm','malignancy', 'leukemia', 'oma', 'leukaemia',\n",
    "                           'tumor', 'aml', 'cml','chemotherapy', 'metastases','nsclc', 'malignancies'],\n",
    "               \n",
    "               'accident' : ['accident', 'accidental','fall'],\n",
    "               \n",
    "               'respiratory' : ['respiratory', 'copd', 'bronchitis', 'emphysema', 'crd', 'asthma',\n",
    "                                        'lung', 'pulmonary', 'pleural',\n",
    "                                        'airway', 'lung'],\n",
    "               \n",
    "               'stroke' : ['cerebrovascular', 'stroke', 'ischemic', 'tia', 'attack','hemorrhage', 'cerebral'],\n",
    "               \n",
    "               'alzheimers disease' : ['alzheimer\\'s', 'dementia', 'alzheimer','alzheimers'],\n",
    "               \n",
    "               'diabetes' : ['diabetes', 'diabetic', 'insulin','mellitus','Type1diabetes'],\n",
    "               \n",
    "               'influenza/pneumonia' : ['influenza', 'pneumonia','flu'],\n",
    "               \n",
    "               'kidney/urinary' : ['nephritis', 'nephrosis', 'nephrotic', 'kidney','renal', 'urethra', 'urethral',\n",
    "                                     'urologic','urinary','bladder', 'catheter', 'catheterization', 'incontinence'],\n",
    "               \n",
    "               'suicide' : ['suicide', 'suicidal'], \n",
    "               \n",
    "              'mental health': ['psychological','mental','depression', 'anxiety', 'bipolar', 'dementia', 'dementias', \n",
    "                                'schizophrenia', 'violence','emotion','emotional','empathy', 'burnout', 'psychiatric',\n",
    "                                'ataxia','delirium','ocd','psychotic', 'eating', 'compulsive', 'autism', 'behavioral', 'adhd',\n",
    "                                'psychosis', 'mood', 'personality', 'bulimia', 'binge', 'anorexia', 'stress', 'psychological',\n",
    "                                'behavior', 'cognition', 'cognitive', 'depressive','ptsd','attention','autistic'],\n",
    "               \n",
    "              'pregnancy': ['pregnant', 'pregnancy','gestational','birth','fetal', 'fetus','labor', 'placental', 'placenta',\n",
    "                            'breastfeeding','abortion','postpartum', 'prenatal', 'umbilical', 'amniotic', 'gestation','eclampsia'],\n",
    "               \n",
    "              'addiction': ['abuse','alcohol', 'drinking', 'tobacco', 'drug', 'opioid', 'narcotic', 'alcoholic', 'cig',\n",
    "                        'smoking', 'hookah', 'cannabis', 'gambling', 'vaping', 'opiate', 'cocaine', 'substance',\n",
    "                        'cbd', 'marijuana', 'cigarette', 'cigarettes','intoxication','alcoholism','nicotine','smoker','smokers'],\n",
    "               \n",
    "              'sleep': ['sleep', 'insomnia', 'sleepiness', 'circadian'],\n",
    "               \n",
    "              'obesity': ['obesity','obese','overweight'],\n",
    "               \n",
    "              'pain/injury': ['trauma', 'injury', 'pain', 'injuries','tear','fracture','fractures',\n",
    "                              'burn','burns','wound','rotator','acl', 'concussion'],\n",
    "               \n",
    "              'nervous system/muscular': ['fibromyalgia','neuropathy','neural','parkinson\\'s', 'musculo', 'myasthenia',\n",
    "                                          'parkinson','sclerosis', 'muscle', 'spinal', 'carpal', 'neuro', 'nerve',\n",
    "                                          'tremor','spine','neurological','neuromuscular','muscular', 'headache', 'brain', \n",
    "                                          'migraine','reflex','als','epilepsy','cervical','dystrophy','csf', 'lumbar'],\n",
    "               \n",
    "              'infection/immunity': ['infections', 'infection', 'infectious', 'bacteria', 'bacterial', 'viral', 'tuberculosis',\n",
    "                            'sepsis','mrsa','transplant', 'gvhd','hiv', 'aids','virus', 'fungal', 'fungus', 'dengue',\n",
    "                            'septic', 'itis','malaria','typhoid','lyme','gonorrhea','pathogen', 'diphtheria', 'thymus', 'thymic', 'spleen',\n",
    "                            'pathogenic','pathogens','graft','lupus', 'allergy', 'allergic', 'herpes', 'marrow', 'vaccine',\n",
    "                                  'splenic', 'hypersensitivity','inflammation', 'inflammatory','clostridium', 'hpv', 'staphylococcus', \n",
    "                                    'pox', 'strep', 'immune', 'immunity', 'autoimmune', 'antibody', 'vaccination'],\n",
    "               \n",
    "              'gastrointestinal/digestive': ['constipation', 'ulcer', 'gastrointestinal', 'gastro', 'intestinal', 'colonoscopy',\n",
    "                                   'bowel','colonic', 'gastric','crohn', 'crohn\\'s', 'celiac', 'diarrhea', 'stool',\n",
    "                                  'digestive', 'digestion', 'colorectal', 'rectal', 'anal'],\n",
    "               \n",
    "               'endocrine' : ['endocrine', 'hormone', 'hormonal', 'paracrine', 'pituitary', 'thyroid', 'adrenal', \n",
    "                              'pancreas', 'pancreatic'],\n",
    "               \n",
    "              'healthy volunteers': ['healthy','health','normal'],\n",
    "               \n",
    "              'blood/hematological': ['blood','heme', 'hematologic', 'plasma', 'anemia', 'hemophilia', 'artery', 'arteries',\n",
    "                                      'pvd', 'vascular', 'venous','vein','veins','arterial','endothelial', 'dvt', 'vessel',\n",
    "                                      'bleeding','hypertension','sickle','thrombosis','thrombocythemia',\n",
    "                                     'willebrand','eosinophil','eosinophils','neutrophils','neutrophil', 'myelodysplastic'],\n",
    "               \n",
    "              'hepatic': ['liver', 'hepatitis','hepatic','nafld','cirrhosis'],\n",
    "               \n",
    "               'skeletal' : ['arthritis', 'rheumatoid','knee', 'bone', 'joint', 'bones', 'joints', 'osteo', 'skeletal', 'cranium',\n",
    "                            'cranial', 'skull'],\n",
    "               \n",
    "              'aging': ['aging', 'age', 'age-related','hospice'],\n",
    "               \n",
    "              'skin': ['skin','psoriasis','acne','eczema','rosacea', 'wrinkle', 'keratin', 'hair', 'alopecia'],\n",
    "               \n",
    "              'metabolic': ['metabolic','metabolism','fructose','hypoglycemia',\n",
    "                            'hyperlipidemia','glucose','lactose'],\n",
    "               \n",
    "              'genetic disorders': ['cystic', 'down', 'down\\'s','genetic'],\n",
    "               \n",
    "              'deficiency/nutritional': ['deficiency', 'diet', 'dietary', 'nutrition', 'nutritional'],\n",
    "               \n",
    "              'eye disorders': ['eye', 'myopic','vision','blindness','cataract','astigmatism', 'refractive', \n",
    "                                'ocular', 'cornea', 'corneal'],\n",
    "               \n",
    "              'dental': ['dental', 'tooth', 'teeth', 'enamel','gingival','root'],\n",
    "               \n",
    "              'reproductive/gender-specific': ['fertility', 'infertility','pcos','ovary','uterus', 'uterine',\n",
    "                               'endometriosis','menopause','menopausal','contraceptive','contraception', \n",
    "                                               'vaginal','prostatic', 'prostate', 'testes', 'testicular',\n",
    "                                               'contraceptive','penile','erectile','sexual'],\n",
    "               \n",
    "              'ent': ['ear','hearing','motion','abdominal','cochlear','nasal','sinusitis','apnea', 'blind', 'blindness',\n",
    "                      'thyroid','oral','vocal','nausea','thorax','thoracic','lip','sinus', 'throat', 'nose', 'deaf', 'deafness'],\n",
    "                              \n",
    "              'pediatric/infant': ['infant', 'infants','infantile','pediatric','neonatal','congenital']}\n"
   ]
  },
  {
   "cell_type": "markdown",
   "metadata": {},
   "source": [
    "#### Swap the previous dictionary key-value pairs i.e. each term now points to a disease category."
   ]
  },
  {
   "cell_type": "code",
   "execution_count": 15,
   "metadata": {},
   "outputs": [],
   "source": [
    "# Create a dictionary with different alternative/keywords corresponding to the main classifying disease.\n",
    "\n",
    "#coi = condition of interest\n",
    "\n",
    "disease_dictionary = {}\n",
    "\n",
    "for coi,terms in master_dict.items():\n",
    "    disease_value = coi\n",
    "    for term in terms:\n",
    "        disease_dictionary[term] = disease_value"
   ]
  },
  {
   "cell_type": "markdown",
   "metadata": {},
   "source": [
    "#### A function that takes a single word as a query and tags it with the main disease category."
   ]
  },
  {
   "cell_type": "code",
   "execution_count": 16,
   "metadata": {},
   "outputs": [
    {
     "name": "stdout",
     "output_type": "stream",
     "text": [
      "{'skeletal', 'blood/hematological'}\n"
     ]
    }
   ],
   "source": [
    "# Write a function that takes a single word as a query and classifies it \n",
    "# Ignores hyphenated words\n",
    "# Only handles words - will not handle 'anxiety,depression'\n",
    "\n",
    "def word_to_disease(query_word, source_dict):\n",
    "    empty_set = set()\n",
    "    ignore_words = ['the', 'on', 'of', 'to', 'like', 'in', 'for']\n",
    "    query_word = query_word.strip(string.punctuation)\n",
    "    if query_word in source_dict:\n",
    "        empty_set.add(source_dict.get(query_word))\n",
    "    elif query_word in ignore_words:\n",
    "        return empty_set\n",
    "    elif query_word.rstrip('s') in source_dict:\n",
    "        empty_set.add(source_dict.get(query_word.rstrip('s')))\n",
    "    elif query_word[-3:]=='oma' or query_word.rstrip('s')[-3:] == 'oma':\n",
    "        empty_set.add(source_dict.get('oma'))\n",
    "    elif query_word[-4:] == 'itis':\n",
    "        empty_set.add(source_dict.get('itis'))\n",
    "    elif 'osteo' in query_word:\n",
    "        empty_set.add(source_dict.get('osteo'))\n",
    "    elif 'gastro' in query_word:\n",
    "        empty_set.add(source_dict.get('gastro'))\n",
    "    elif 'hepato' in query_word:\n",
    "        empty_set.add(source_dict.get('hepatic'))\n",
    "    elif 'laryngo' in query_word or 'broncho' in query_word:\n",
    "        empty_set.add(source_dict.get('lung'))\n",
    "    elif 'angio' in query_word or 'thrombo' in query_word:\n",
    "        empty_set.add(source_dict.get('blood'))\n",
    "    elif 'cardio' in query_word or 'cardiac' in query_word:\n",
    "        empty_set.add(source_dict.get('heart'))\n",
    "    elif 'neuro' in query_word:\n",
    "        empty_set.add(source_dict.get('neuro'))\n",
    "    elif 'cranial' in query_word or 'cranio' in query_word:\n",
    "        empty_set.add(source_dict.get('cranial'))\n",
    "    elif 'thyroid' in query_word:\n",
    "        empty_set.add(source_dict.get('thyroid'))\n",
    "    return empty_set\n",
    "        \n",
    "# TEST/EXAMPLE:        \n",
    "result1 = word_to_disease('intracranial', disease_dictionary)   \n",
    "result2 = word_to_disease('thrombocytopenia', disease_dictionary)\n",
    "print(result1.union(result2))"
   ]
  },
  {
   "cell_type": "markdown",
   "metadata": {},
   "source": [
    "#### A function that assesses a string and uses the 'word_to_disease' function to arrive at a set consisting of main disease categories."
   ]
  },
  {
   "cell_type": "code",
   "execution_count": 17,
   "metadata": {},
   "outputs": [
    {
     "data": {
      "text/plain": [
       "['nervous system/muscular']"
      ]
     },
     "execution_count": 17,
     "metadata": {},
     "output_type": "execute_result"
    }
   ],
   "source": [
    "# Improvement of the previous classifier disease_classifier1\n",
    "\n",
    "# Disregard hyphenated words - don't split them as there is a higher chance of false positives if the word is split.\n",
    "# DISEASE CLASSIFIER 2\n",
    "# This function requires : IMPORT string\n",
    "# Moral Injury|Anxiety|Depression|Burn-Out Acromegaly\n",
    "                                                                                           \n",
    "def disease_classifier2(query_string):\n",
    "    classified_set = set() # Create an empty set???\n",
    "    cleaned_query = query_string.replace('|', ' ').replace(',', ' ').replace(';', ' ').replace(':', ' ').replace('/', ' ').replace('-', ' ').lower()\n",
    "    cleaned_string = cleaned_query.lower().split(' ') # Creates a list of entries ['moral', injury', 'cancer', 'burn-out acromegaly']\n",
    "    for word in cleaned_string:\n",
    "        x = word_to_disease(word, disease_dictionary)\n",
    "        classified_set = classified_set.union(x)       \n",
    "    if len(classified_set) == 0:\n",
    "        classified_set.add('not classified')\n",
    "        return list(classified_set)\n",
    "    else:\n",
    "        return list(classified_set)\n",
    "        \n",
    "# TEST/EXAMPLE:\n",
    "disease_classifier2('neuropathy')"
   ]
  },
  {
   "cell_type": "markdown",
   "metadata": {},
   "source": [
    "### Add a new column that mentions a list of disease categories. "
   ]
  },
  {
   "cell_type": "code",
   "execution_count": 18,
   "metadata": {},
   "outputs": [],
   "source": [
    "# Add a new column to the raw_trials dataframe. This column should specify a broader disease category.\n",
    "trials_df['disease_classification'] = trials_df['Conditions'].apply(disease_classifier2)\n"
   ]
  },
  {
   "cell_type": "code",
   "execution_count": 19,
   "metadata": {},
   "outputs": [],
   "source": [
    "# Expands the list from each 'disease_classified' row:\n",
    "\n",
    "disease_categories = trials_df['disease_classification'].explode()\n",
    "\n",
    "#set1 = {'cancer', 'heart', 'obesity'}\n",
    "\n",
    "diseases_counts = disease_categories.value_counts()\n",
    "#diseases_bar = diseases_counts.head(11)\n",
    "\n",
    "#diseases_x = diseases_counts.index\n",
    "#diseases_y = diseases_counts.values\n",
    "\n",
    "disease_labels = diseases_counts[diseases_counts.index != 'not classified'].index\n",
    "# for label in disease_labels:\n",
    "#     print(label)\n",
    "    "
   ]
  },
  {
   "cell_type": "code",
   "execution_count": 20,
   "metadata": {},
   "outputs": [
    {
     "data": {
      "image/png": "[encoded data removed]",
      "text/plain": [
       "<Figure size 1080x720 with 1 Axes>"
      ]
     },
     "metadata": {
      "needs_background": "light"
     },
     "output_type": "display_data"
    }
   ],
   "source": [
    "# Write a function that tags the disease categories that include the top ten causes of death (CDC) as red. \n",
    "# Don't plot categoies that are not classified.\n",
    "#diseases_counts is a Series\n",
    "# cdc_topten is a list of top leading causes of death, 2017\n",
    "\n",
    "cdc_topten = ['cancer', 'cardiac', 'respiratory', 'kidney/urinary', 'stroke', 'alzheimers disease', 'suicide', 'influenza/pneumonia', 'accident']\n",
    "\n",
    "# PREPARE INPUTS AND PARAMETERS FOR THE BAR GRAPH:\n",
    "\n",
    "# Y values are the number of trials\n",
    "trial_values = diseases_counts[diseases_counts.index != 'not classified'].values\n",
    "\n",
    "# X values are range of the number of categories\n",
    "disease_values = range(len(trial_values))\n",
    "\n",
    "# X labels are disease labels\n",
    "disease_labels = diseases_counts[diseases_counts.index != 'not classified'].index\n",
    "\n",
    "# A lambda function for assigning blue if the category contains one of the top ten leading causes of death.\n",
    "disease_color = ['blue' if disease in cdc_topten else 'orange' for disease in disease_labels]\n",
    "\n",
    "# MAKE THE PLOT:\n",
    "plt.figure(figsize=(15,10))\n",
    "ax3 = plt.subplot()\n",
    "plt.bar(disease_labels, trial_values, color = disease_color)\n",
    "ax3.set_xticks(disease_values)\n",
    "ax3.set_xticklabels(disease_labels, rotation=90, fontsize = 12)\n",
    "plt.xlabel('Classified disease category', fontsize=20)\n",
    "plt.ylabel('Number of trials', fontsize=20)\n",
    "plt.title('Number of Trials by Disease Categories', fontsize = 20)\n",
    "plt.legend(['Leading Cause of Death in 2017 (Ref: CDC)', 'XYZ'])\n",
    "plt.show()"
   ]
  },
  {
   "cell_type": "markdown",
   "metadata": {},
   "source": [
    "## 6 - FEATURE ENGINEERING FOR PREDICTION OF TRIAL DURATION <a class=\"anchor\" id=\"sixth-bullet\"></a>"
   ]
  },
  {
   "cell_type": "markdown",
   "metadata": {},
   "source": [
    "### Features\n",
    "\n",
    "#### Number of participants (numerical)\n",
    "#### Participant demographic (age - adult/pediatric, male/female ---> converted to binary data)\n",
    "#### Disease/Body systems involved (Based on the classification performed above ---> classified as 1 or 0)\n",
    "#### Type of interventions tested (Drug/device/Biological/Dietary Supplement/Radiation, etc. ---> classified as 1 or 0)\n",
    "#### Number of outcomes that are measured (Complex strings --> numerical data ---> z score normalization)\n",
    "#### Phase number (Phase 0/1/2/3/4 ---> classified as 1 or 0)\n"
   ]
  },
  {
   "cell_type": "markdown",
   "metadata": {},
   "source": [
    "#### 6.1 - Feature engineering - Interventions"
   ]
  },
  {
   "cell_type": "code",
   "execution_count": 21,
   "metadata": {},
   "outputs": [],
   "source": [
    "\n",
    "def intervention_classifier(string):\n",
    "    int_set = set()\n",
    "    if string == 'none':\n",
    "        int_set.add('none')\n",
    "        return list(int_set)\n",
    "    string_list = string.split('|') \n",
    "    for element in string_list:\n",
    "        if ':' in element:            \n",
    "            keyword = element[:element.find(':')]\n",
    "            int_set.add(keyword.lower())\n",
    "        else:\n",
    "            int_set.add('none')\n",
    "    if len(int_set) == 0:\n",
    "        int_set.add('none')\n",
    "        return list(int_set)\n",
    "    return list(int_set)\n",
    "    "
   ]
  },
  {
   "cell_type": "code",
   "execution_count": 22,
   "metadata": {},
   "outputs": [],
   "source": [
    "trials_df['Interventions'] = trials_df['Interventions'].fillna('none')\n",
    "trials_df['int_classification'] = trials_df['Interventions'].apply(intervention_classifier)\n"
   ]
  },
  {
   "cell_type": "code",
   "execution_count": 44,
   "metadata": {},
   "outputs": [],
   "source": [
    "int_columnnames = ['drug', 'device', 'procedure', 'biological', 'radiation', 'diagnostic', 'behavioral', 'dietary', 'other']\n",
    "for keyword in int_columnnames:\n",
    "    name = 'is_' + keyword\n",
    "    if keyword == 'dietary':\n",
    "        trials_df[name] = trials_df['int_classification'].apply(lambda x: 1 if 'dietary supplement' in x else 0)\n",
    "    elif keyword == 'diagnostic':\n",
    "        trials_df[name] = trials_df['int_classification'].apply(lambda x: 1 if 'diagnostic test' in x else 0)\n",
    "    else:\n",
    "        trials_df[name] = trials_df['int_classification'].apply(lambda x: 1 if keyword in x else 0)"
   ]
  },
  {
   "cell_type": "markdown",
   "metadata": {},
   "source": [
    "#### 6.2 - Feature engineering - Gender"
   ]
  },
  {
   "cell_type": "code",
   "execution_count": 45,
   "metadata": {},
   "outputs": [
    {
     "data": {
      "text/plain": [
       "All       101729\n",
       "Female     11013\n",
       "Male        4544\n",
       "all           63\n",
       "Name: Gender, dtype: int64"
      ]
     },
     "execution_count": 45,
     "metadata": {},
     "output_type": "execute_result"
    }
   ],
   "source": [
    "trials_df['Gender'] = trials_df['Gender'].fillna('all')\n",
    "trials_df['Gender'].value_counts()"
   ]
  },
  {
   "cell_type": "code",
   "execution_count": 46,
   "metadata": {},
   "outputs": [],
   "source": [
    "trials_df['is_male'] = trials_df['Gender'].apply(lambda x: 1 if x == 'Male' or x == 'all' or x == 'All' else 0)\n",
    "trials_df['is_female'] = trials_df['Gender'].apply(lambda x: 1 if x == 'Female' or x == 'all' or x == 'All' else 0)"
   ]
  },
  {
   "cell_type": "code",
   "execution_count": 47,
   "metadata": {},
   "outputs": [],
   "source": [
    "trials_df['is_adult'] = trials_df['age_group'].apply(lambda x: 1 if x == 'Adult' or x == 'Mixed' else 0)\n",
    "trials_df['is_pediatric'] = trials_df['age_group'].apply(lambda x: 1 if x == 'Pediatric' or x == 'Mixed' else 0)"
   ]
  },
  {
   "cell_type": "markdown",
   "metadata": {},
   "source": [
    "#### 6.3 - Feature engineering - Number of outcomes measured"
   ]
  },
  {
   "cell_type": "code",
   "execution_count": 48,
   "metadata": {},
   "outputs": [],
   "source": [
    "trials_df['Outcome Measures'] = trials_df['Outcome Measures'].fillna('none')"
   ]
  },
  {
   "cell_type": "code",
   "execution_count": 49,
   "metadata": {},
   "outputs": [],
   "source": [
    "def count_outcomes(string):\n",
    "    count = 0\n",
    "    if string == 'none':\n",
    "        return 0\n",
    "    elif '|' not in string:\n",
    "        return 1\n",
    "    elif '|' in string:\n",
    "        return string.count('|') + 1\n"
   ]
  },
  {
   "cell_type": "code",
   "execution_count": 50,
   "metadata": {},
   "outputs": [],
   "source": [
    "trials_df['number_outcomes'] = trials_df['Outcome Measures'].apply(count_outcomes)"
   ]
  },
  {
   "cell_type": "markdown",
   "metadata": {},
   "source": [
    "#### 6.4 - Feature engineering - Phase of study"
   ]
  },
  {
   "cell_type": "code",
   "execution_count": 51,
   "metadata": {},
   "outputs": [],
   "source": [
    "trials_df['Phases'] = trials_df['Phases'].fillna('none')"
   ]
  },
  {
   "cell_type": "code",
   "execution_count": 52,
   "metadata": {},
   "outputs": [],
   "source": [
    "\n",
    "phase_dictionary = {'is_phase0': 'Early Phase 1','is_phase1' : 'Phase 1', 'is_phase2' : 'Phase 2', 'is_phase3' : 'Phase 3', 'is_phase4' : 'Phase 4'}\n",
    "\n",
    "def phase_subcolumns(phase_dictionary, df):\n",
    "    for subcolumn in phase_dictionary.keys():\n",
    "        df[subcolumn] = df['Phases'].apply(lambda x: 1 if phase_dictionary.get(subcolumn) in x else 0)\n",
    "phase_subcolumns(phase_dictionary, trials_df)\n"
   ]
  },
  {
   "cell_type": "markdown",
   "metadata": {},
   "source": [
    "#### 6.5 - Feature engineering -Number of people enrolled/required"
   ]
  },
  {
   "cell_type": "code",
   "execution_count": 53,
   "metadata": {},
   "outputs": [],
   "source": [
    "trials_df['Enrollment'] = trials_df['Enrollment'].fillna(trials_df['Enrollment'].median())"
   ]
  },
  {
   "cell_type": "markdown",
   "metadata": {},
   "source": [
    "#### 6.6 - Feature engineering - diseases/body systems involved"
   ]
  },
  {
   "cell_type": "code",
   "execution_count": 54,
   "metadata": {},
   "outputs": [],
   "source": [
    "disease_columnnames = list(master_dict.keys())\n",
    "for keyword in disease_columnnames:\n",
    "    name = 'is_' + keyword\n",
    "    trials_df[name] = trials_df['disease_classification'].apply(lambda x: 1 if keyword in x else 0)"
   ]
  },
  {
   "cell_type": "markdown",
   "metadata": {},
   "source": [
    "#### 6.7 - Normalization\n"
   ]
  },
  {
   "cell_type": "code",
   "execution_count": 55,
   "metadata": {},
   "outputs": [],
   "source": [
    "# Enrollment\n",
    "trials_df['Enrollment'].isna().value_counts()\n",
    "enrollment_mean = trials_df['Enrollment'].mean()\n",
    "enrollment_std = trials_df['Enrollment'].std()\n",
    "\n",
    "trials_df['normalized_enrollment'] = trials_df['Enrollment'].apply(lambda x: (x-enrollment_mean)/enrollment_std)\n"
   ]
  },
  {
   "cell_type": "code",
   "execution_count": 56,
   "metadata": {},
   "outputs": [],
   "source": [
    "# number_outcomes\n",
    "trials_df['number_outcomes'].isna().value_counts()\n",
    "numoutcomes_mean = trials_df['number_outcomes'].mean()\n",
    "numoutcomes_std = trials_df['number_outcomes'].std()\n",
    "\n",
    "trials_df['normalized_numoutcomes'] = trials_df['number_outcomes'].apply(lambda x: (x-numoutcomes_mean)/numoutcomes_std)\n"
   ]
  },
  {
   "cell_type": "markdown",
   "metadata": {},
   "source": [
    "## 7 - MODELS <a class=\"anchor\" id=\"seventh-bullet\"></a>"
   ]
  },
  {
   "cell_type": "markdown",
   "metadata": {},
   "source": [
    "#### Feature combinations"
   ]
  },
  {
   "cell_type": "code",
   "execution_count": 57,
   "metadata": {},
   "outputs": [],
   "source": [
    "features_all = ['is_male', 'is_female', 'is_phase0', 'is_phase1', 'is_phase2', 'is_phase3', \n",
    "              'is_phase4', 'is_adult', 'is_pediatric', 'is_cardiac', 'is_cancer',\n",
    "       'is_accident', 'is_respiratory', 'is_stroke', 'is_alzheimers disease',\n",
    "       'is_diabetes', 'is_influenza/pneumonia', 'is_kidney/urinary',\n",
    "       'is_suicide', 'is_mental health', 'is_pregnancy', 'is_addiction',\n",
    "       'is_sleep', 'is_obesity', 'is_pain/injury',\n",
    "       'is_nervous system/muscular', 'is_infection/immunity',\n",
    "       'is_gastrointestinal/digestive', 'is_endocrine',\n",
    "       'is_healthy volunteers', 'is_blood/hematological', 'is_hepatic',\n",
    "       'is_skeletal', 'is_aging', 'is_skin', 'is_metabolic',\n",
    "       'is_genetic disorders', 'is_deficiency/nutritional', 'is_eye disorders',\n",
    "       'is_dental', 'is_reproductive/gender-specific', 'is_ent',\n",
    "       'is_pediatric/infant', 'is_drug', 'is_device', 'is_procedure',\n",
    "       'is_biological', 'is_radiation', 'is_diagnostic', 'is_behavioral',\n",
    "       'is_dietary', 'is_other']\n",
    "\n",
    "features_nodiseases = ['is_male', 'is_female', 'is_phase0', 'is_phase1', 'is_phase2', 'is_phase3', \n",
    "              'is_phase4', 'is_adult', 'is_pediatric', 'is_drug', 'is_device', 'is_procedure',\n",
    "       'is_biological', 'is_radiation', 'is_diagnostic', 'is_behavioral',\n",
    "       'is_dietary', 'is_other']\n",
    "\n",
    "features_onlydiseases = ['is_cardiac', 'is_cancer',\n",
    "       'is_accident', 'is_respiratory', 'is_stroke', 'is_alzheimers disease',\n",
    "       'is_diabetes', 'is_influenza/pneumonia', 'is_kidney/urinary',\n",
    "       'is_suicide', 'is_mental health', 'is_pregnancy', 'is_addiction',\n",
    "       'is_sleep', 'is_obesity', 'is_pain/injury',\n",
    "       'is_nervous system/muscular', 'is_infection/immunity',\n",
    "       'is_gastrointestinal/digestive', 'is_endocrine',\n",
    "       'is_healthy volunteers', 'is_blood/hematological', 'is_hepatic',\n",
    "       'is_skeletal', 'is_aging', 'is_skin', 'is_metabolic',\n",
    "       'is_genetic disorders', 'is_deficiency/nutritional', 'is_eye disorders',\n",
    "       'is_dental', 'is_reproductive/gender-specific', 'is_ent',\n",
    "       'is_pediatric/infant']\n",
    "\n",
    "features_allnormalized = ['is_male', 'is_female', 'is_phase0', 'is_phase1', 'is_phase2', 'is_phase3', \n",
    "              'is_phase4', 'is_adult', 'is_pediatric', 'is_cardiac', 'is_cancer',\n",
    "       'is_accident', 'is_respiratory', 'is_stroke', 'is_alzheimers disease',\n",
    "       'is_diabetes', 'is_influenza/pneumonia', 'is_kidney/urinary',\n",
    "       'is_suicide', 'is_mental health', 'is_pregnancy', 'is_addiction',\n",
    "       'is_sleep', 'is_obesity', 'is_pain/injury',\n",
    "       'is_nervous system/muscular', 'is_infection/immunity',\n",
    "       'is_gastrointestinal/digestive', 'is_endocrine',\n",
    "       'is_healthy volunteers', 'is_blood/hematological', 'is_hepatic',\n",
    "       'is_skeletal', 'is_aging', 'is_skin', 'is_metabolic',\n",
    "       'is_genetic disorders', 'is_deficiency/nutritional', 'is_eye disorders',\n",
    "       'is_dental', 'is_reproductive/gender-specific', 'is_ent',\n",
    "       'is_pediatric/infant', 'is_drug', 'is_device', 'is_procedure',\n",
    "       'is_biological', 'is_radiation', 'is_diagnostic', 'is_behavioral',\n",
    "       'is_dietary', 'is_other', 'normalized_enrollment', 'normalized_numoutcomes']\n",
    "\n",
    "features_normalized_top3 = ['is_cancer', 'normalized_enrollment', 'normalized_numoutcomes']"
   ]
  },
  {
   "cell_type": "markdown",
   "metadata": {},
   "source": [
    "#### Split the dataset into training and test set"
   ]
  },
  {
   "cell_type": "code",
   "execution_count": 58,
   "metadata": {},
   "outputs": [],
   "source": [
    "x = trials_df[['Enrollment','is_male', 'is_female', 'number_outcomes', 'is_phase0', 'is_phase1', 'is_phase2', 'is_phase3', \n",
    "              'is_phase4', 'is_adult', 'is_pediatric', 'is_cardiac', 'is_cancer',\n",
    "       'is_accident', 'is_respiratory', 'is_stroke', 'is_alzheimers disease',\n",
    "       'is_diabetes', 'is_influenza/pneumonia', 'is_kidney/urinary',\n",
    "       'is_suicide', 'is_mental health', 'is_pregnancy', 'is_addiction',\n",
    "       'is_sleep', 'is_obesity', 'is_pain/injury',\n",
    "       'is_nervous system/muscular', 'is_infection/immunity',\n",
    "       'is_gastrointestinal/digestive', 'is_endocrine',\n",
    "       'is_healthy volunteers', 'is_blood/hematological', 'is_hepatic',\n",
    "       'is_skeletal', 'is_aging', 'is_skin', 'is_metabolic',\n",
    "       'is_genetic disorders', 'is_deficiency/nutritional', 'is_eye disorders',\n",
    "       'is_dental', 'is_reproductive/gender-specific', 'is_ent',\n",
    "       'is_pediatric/infant', 'is_drug', 'is_device', 'is_procedure',\n",
    "       'is_biological', 'is_radiation', 'is_diagnostic', 'is_behavioral',\n",
    "       'is_dietary', 'is_other']]\n",
    "y = trials_df['duration_days']\n",
    "x_train, x_test, y_train, y_test = train_test_split(x, y, train_size=0.8, test_size=0.2, random_state = 5)"
   ]
  },
  {
   "cell_type": "markdown",
   "metadata": {},
   "source": [
    "#### Linear Regression"
   ]
  },
  {
   "cell_type": "code",
   "execution_count": 59,
   "metadata": {},
   "outputs": [
    {
     "data": {
      "text/plain": [
       "LinearRegression(copy_X=True, fit_intercept=True, n_jobs=None, normalize=False)"
      ]
     },
     "execution_count": 59,
     "metadata": {},
     "output_type": "execute_result"
    }
   ],
   "source": [
    "model = LinearRegression()\n",
    "model.fit(x_train, y_train)"
   ]
  },
  {
   "cell_type": "code",
   "execution_count": 60,
   "metadata": {},
   "outputs": [],
   "source": [
    "y_predicted = model.predict(x_test)"
   ]
  },
  {
   "cell_type": "code",
   "execution_count": 61,
   "metadata": {},
   "outputs": [
    {
     "data": {
      "text/plain": [
       "0.10888027414639945"
      ]
     },
     "execution_count": 61,
     "metadata": {},
     "output_type": "execute_result"
    }
   ],
   "source": [
    "model.score(x_train, y_train)"
   ]
  },
  {
   "cell_type": "code",
   "execution_count": 62,
   "metadata": {},
   "outputs": [
    {
     "data": {
      "text/plain": [
       "0.11047879625429735"
      ]
     },
     "execution_count": 62,
     "metadata": {},
     "output_type": "execute_result"
    }
   ],
   "source": [
    "model.score(x_test, y_test)"
   ]
  },
  {
   "cell_type": "code",
   "execution_count": 76,
   "metadata": {},
   "outputs": [
    {
     "data": {
      "image/png": "[encoded data removed]",
      "text/plain": [
       "<Figure size 432x288 with 1 Axes>"
      ]
     },
     "metadata": {
      "needs_background": "light"
     },
     "output_type": "display_data"
    }
   ],
   "source": [
    "\n",
    "plt.scatter(y_test, y_predicted)\n",
    "plt.xlabel('Actual Trial Duration', fontsize=15)\n",
    "plt.ylabel('Predicted Trial Duration', fontsize=15)\n",
    "plt.show()"
   ]
  },
  {
   "cell_type": "code",
   "execution_count": 77,
   "metadata": {},
   "outputs": [],
   "source": [
    "y_log = np.log(trials_df['duration_days'])\n",
    "\n",
    "x_train, x_test, ylog_train, ylog_test = train_test_split(x, y_log, train_size=0.8, test_size=0.2, random_state = 5)\n"
   ]
  },
  {
   "cell_type": "code",
   "execution_count": 78,
   "metadata": {},
   "outputs": [
    {
     "data": {
      "text/plain": [
       "LinearRegression(copy_X=True, fit_intercept=True, n_jobs=None, normalize=False)"
      ]
     },
     "execution_count": 78,
     "metadata": {},
     "output_type": "execute_result"
    }
   ],
   "source": [
    "model = LinearRegression()\n",
    "model.fit(x_train, ylog_train)"
   ]
  },
  {
   "cell_type": "code",
   "execution_count": 79,
   "metadata": {},
   "outputs": [],
   "source": [
    "ylog_predicted = model.predict(x_test)"
   ]
  },
  {
   "cell_type": "code",
   "execution_count": 80,
   "metadata": {},
   "outputs": [
    {
     "data": {
      "text/plain": [
       "0.17312014582341828"
      ]
     },
     "execution_count": 80,
     "metadata": {},
     "output_type": "execute_result"
    }
   ],
   "source": [
    "model.score(x_train, ylog_train)"
   ]
  },
  {
   "cell_type": "code",
   "execution_count": 81,
   "metadata": {},
   "outputs": [
    {
     "data": {
      "text/plain": [
       "0.17588378024527174"
      ]
     },
     "execution_count": 81,
     "metadata": {},
     "output_type": "execute_result"
    }
   ],
   "source": [
    "model.score(x_test, ylog_test)"
   ]
  },
  {
   "cell_type": "code",
   "execution_count": 83,
   "metadata": {},
   "outputs": [
    {
     "data": {
      "image/png": "[encoded data removed]",
      "text/plain": [
       "<Figure size 432x288 with 1 Axes>"
      ]
     },
     "metadata": {
      "needs_background": "light"
     },
     "output_type": "display_data"
    }
   ],
   "source": [
    "plt.scatter(ylog_test, ylog_predicted)\n",
    "plt.xlabel('Actual Trial Duration (Log)', fontsize=15)\n",
    "plt.ylabel('Predicted Trial Duration (Log)', fontsize=15)\n",
    "plt.show()"
   ]
  },
  {
   "cell_type": "markdown",
   "metadata": {},
   "source": [
    "#### Logistic Regression"
   ]
  },
  {
   "cell_type": "code",
   "execution_count": 90,
   "metadata": {},
   "outputs": [],
   "source": [
    "# Trial duration set to 1 or 0. \n",
    "trials_df['duration_classified'] = trials_df['duration_days'].apply(lambda x: 1 if x >= 1004 else 0)\n"
   ]
  },
  {
   "cell_type": "code",
   "execution_count": 91,
   "metadata": {},
   "outputs": [],
   "source": [
    "x_logistic = trials_df[features_allnormalized]\n",
    "y_logistic = trials_df['duration_classified']\n",
    "\n",
    "xlogistic_train, xlogistic_test, ylogistic_train, ylogistic_test = train_test_split(x_logistic, y_logistic, train_size=0.8, test_size=0.2, random_state = 5)\n"
   ]
  },
  {
   "cell_type": "code",
   "execution_count": 92,
   "metadata": {},
   "outputs": [],
   "source": [
    "model = LogisticRegression()\n",
    "model.fit(xlogistic_train, ylogistic_train)\n",
    "ylogistic_predicted = model.predict(xlogistic_test)"
   ]
  },
  {
   "cell_type": "code",
   "execution_count": 93,
   "metadata": {},
   "outputs": [
    {
     "data": {
      "text/plain": [
       "0.6323245880335325"
      ]
     },
     "execution_count": 93,
     "metadata": {},
     "output_type": "execute_result"
    }
   ],
   "source": [
    "model.score(xlogistic_train, ylogistic_train)"
   ]
  },
  {
   "cell_type": "code",
   "execution_count": 94,
   "metadata": {},
   "outputs": [
    {
     "data": {
      "text/plain": [
       "0.6354069024286323"
      ]
     },
     "execution_count": 94,
     "metadata": {},
     "output_type": "execute_result"
    }
   ],
   "source": [
    "model.score(xlogistic_test, ylogistic_test)"
   ]
  },
  {
   "cell_type": "code",
   "execution_count": 95,
   "metadata": {},
   "outputs": [
    {
     "name": "stdout",
     "output_type": "stream",
     "text": [
      "0.6354069024286323\n",
      "0.6549917531774522\n",
      "0.5744554118447924\n",
      "0.6120857699805068\n"
     ]
    }
   ],
   "source": [
    "print(accuracy_score(ylogistic_test, ylogistic_predicted))\n",
    "\n",
    "print(precision_score(ylogistic_test, ylogistic_predicted))\n",
    "\n",
    "print(recall_score(ylogistic_test, ylogistic_predicted))\n",
    "\n",
    "print(f1_score(ylogistic_test, ylogistic_predicted))"
   ]
  },
  {
   "cell_type": "markdown",
   "metadata": {},
   "source": [
    "#### Support Vector Machine"
   ]
  },
  {
   "cell_type": "code",
   "execution_count": 98,
   "metadata": {},
   "outputs": [
    {
     "name": "stdout",
     "output_type": "stream",
     "text": [
      "0.6337878142309331\n",
      "0.6558704453441295\n",
      "0.5651803948264126\n",
      "0.6071575483340189\n"
     ]
    },
    {
     "name": "stderr",
     "output_type": "stream",
     "text": [
      "//anaconda3/lib/python3.7/site-packages/sklearn/svm/_base.py:947: ConvergenceWarning: Liblinear failed to converge, increase the number of iterations.\n",
      "  \"the number of iterations.\", ConvergenceWarning)\n"
     ]
    }
   ],
   "source": [
    "classifier = LinearSVC()\n",
    "classifier.fit(xlogistic_train, ylogistic_train)\n",
    "\n",
    "ylogistic_predicted = classifier.predict(xlogistic_test)\n",
    "classifier.score(xlogistic_train, ylogistic_train)\n",
    "classifier.score(xlogistic_test, ylogistic_test)\n",
    "\n",
    "print(accuracy_score(ylogistic_test, ylogistic_predicted))\n",
    "\n",
    "print(precision_score(ylogistic_test, ylogistic_predicted))\n",
    "\n",
    "print(recall_score(ylogistic_test, ylogistic_predicted))\n",
    "\n",
    "print(f1_score(ylogistic_test, ylogistic_predicted))"
   ]
  },
  {
   "cell_type": "markdown",
   "metadata": {},
   "source": [
    "#### Random forest"
   ]
  },
  {
   "cell_type": "code",
   "execution_count": 97,
   "metadata": {},
   "outputs": [
    {
     "name": "stdout",
     "output_type": "stream",
     "text": [
      "[0.01451042 0.00723578 0.00339662 0.01418866 0.01441226 0.01090984\n",
      " 0.00758776 0.00644851 0.01325149 0.00848768 0.06024288 0.00105295\n",
      " 0.01136071 0.00483334 0.00288343 0.0081411  0.00340413 0.00951872\n",
      " 0.00106355 0.01048527 0.00429822 0.00792123 0.00439892 0.00648967\n",
      " 0.01098732 0.01101777 0.01484379 0.00894583 0.00363029 0.00995561\n",
      " 0.01253269 0.00607186 0.00723246 0.00315837 0.00503082 0.00360189\n",
      " 0.00246332 0.00373064 0.00416668 0.00169328 0.00571782 0.00696884\n",
      " 0.00345349 0.01628989 0.0112677  0.00941131 0.00800641 0.00597353\n",
      " 0.00321961 0.01073316 0.00550288 0.01693739 0.37965523 0.17127699]\n",
      "0.6521942905837239\n",
      "0.6548985757444972\n",
      "0.6455922396187883\n",
      "0.650212109525646\n"
     ]
    }
   ],
   "source": [
    "clf = RandomForestClassifier(random_state=0)\n",
    "clf.fit(xlogistic_train, ylogistic_train)\n",
    "print(clf.feature_importances_)\n",
    "ylogistic_predicted = clf.predict(xlogistic_test)\n",
    "clf.score(xlogistic_train, ylogistic_train)\n",
    "clf.score(xlogistic_test, ylogistic_test)\n",
    "\n",
    "print(accuracy_score(ylogistic_test, ylogistic_predicted))\n",
    "\n",
    "print(precision_score(ylogistic_test, ylogistic_predicted))\n",
    "\n",
    "print(recall_score(ylogistic_test, ylogistic_predicted))\n",
    "\n",
    "print(f1_score(ylogistic_test, ylogistic_predicted))"
   ]
  },
  {
   "cell_type": "code",
   "execution_count": null,
   "metadata": {},
   "outputs": [],
   "source": []
  }
 ],
 "metadata": {
  "kernelspec": {
   "display_name": "Python 3",
   "language": "python",
   "name": "python3"
  },
  "language_info": {
   "codemirror_mode": {
    "name": "ipython",
    "version": 3
   },
   "file_extension": ".py",
   "mimetype": "text/x-python",
   "name": "python",
   "nbconvert_exporter": "python",
   "pygments_lexer": "ipython3",
   "version": "3.7.3"
  }
 },
 "nbformat": 4,
 "nbformat_minor": 4
}
