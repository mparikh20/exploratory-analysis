{
 "cells": [
  {
   "cell_type": "markdown",
   "id": "e1ebdcac-5ec3-489d-b564-67454d30a0b4",
   "metadata": {},
   "source": [
    "# Overview"
   ]
  },
  {
   "cell_type": "markdown",
   "id": "79af0ce6-14e0-4be7-98d8-0d1458a5fdc1",
   "metadata": {},
   "source": [
    "Notebook to explore the TCGA metadata datasets and clean some of them for accurate upload in BigQuery."
   ]
  },
  {
   "cell_type": "markdown",
   "id": "a699220e-8220-47cd-a57f-5f714cacad3a",
   "metadata": {},
   "source": [
    "# Imports"
   ]
  },
  {
   "cell_type": "code",
   "execution_count": 3,
   "id": "3d1dfa7f-c688-4be7-98b5-d9e63fe06ba7",
   "metadata": {},
   "outputs": [],
   "source": [
    "import sys\n",
    "#add the data path\n",
    "sys.path.append('../data')"
   ]
  },
  {
   "cell_type": "code",
   "execution_count": 79,
   "id": "b20be2de-69ed-499b-903e-f08257f0bee5",
   "metadata": {},
   "outputs": [],
   "source": [
    "import numpy as np\n",
    "import pandas as pd\n",
    "from pathlib import Path"
   ]
  },
  {
   "cell_type": "markdown",
   "id": "f18412be-9b2a-48b2-8926-0a5f657fc2af",
   "metadata": {},
   "source": [
    "# File paths"
   ]
  },
  {
   "cell_type": "code",
   "execution_count": 20,
   "id": "33b08340-632f-4cd4-abad-b69173384907",
   "metadata": {},
   "outputs": [],
   "source": [
    "data_dir = Path('../data/')"
   ]
  },
  {
   "cell_type": "code",
   "execution_count": 21,
   "id": "434efa0d-ff15-4cbc-8fa5-726f925cd89a",
   "metadata": {},
   "outputs": [],
   "source": [
    "samples_path = Path(data_dir / 'sample.tsv')\n",
    "slides_path = Path(data_dir / 'slide.tsv')"
   ]
  },
  {
   "cell_type": "markdown",
   "id": "a46580b0-9d19-49bb-85cb-a1540391c4f0",
   "metadata": {},
   "source": [
    "# EDA and cleanup of samples metadata"
   ]
  },
  {
   "cell_type": "code",
   "execution_count": 23,
   "id": "a2cb5ebd-ab77-418f-b290-97a1faf536f1",
   "metadata": {},
   "outputs": [],
   "source": [
    "sample_df = pd.read_csv(samples_path, sep='\\t')"
   ]
  },
  {
   "cell_type": "code",
   "execution_count": 30,
   "id": "86e45d15-adb3-4be9-a332-5f7f5df04314",
   "metadata": {},
   "outputs": [
    {
     "data": {
      "text/html": [
       "<div>\n",
       "<style scoped>\n",
       "    .dataframe tbody tr th:only-of-type {\n",
       "        vertical-align: middle;\n",
       "    }\n",
       "\n",
       "    .dataframe tbody tr th {\n",
       "        vertical-align: top;\n",
       "    }\n",
       "\n",
       "    .dataframe thead th {\n",
       "        text-align: right;\n",
       "    }\n",
       "</style>\n",
       "<table border=\"1\" class=\"dataframe\">\n",
       "  <thead>\n",
       "    <tr style=\"text-align: right;\">\n",
       "      <th></th>\n",
       "      <th>project.project_id</th>\n",
       "      <th>cases.case_id</th>\n",
       "      <th>cases.submitter_id</th>\n",
       "      <th>samples.biospecimen_anatomic_site</th>\n",
       "      <th>samples.biospecimen_laterality</th>\n",
       "      <th>samples.catalog_reference</th>\n",
       "      <th>samples.composition</th>\n",
       "      <th>samples.current_weight</th>\n",
       "      <th>samples.days_to_collection</th>\n",
       "      <th>samples.days_to_sample_procurement</th>\n",
       "      <th>...</th>\n",
       "      <th>samples.specimen_type</th>\n",
       "      <th>samples.state</th>\n",
       "      <th>samples.submitter_id</th>\n",
       "      <th>samples.time_between_clamping_and_freezing</th>\n",
       "      <th>samples.time_between_excision_and_freezing</th>\n",
       "      <th>samples.tissue_collection_type</th>\n",
       "      <th>samples.tissue_type</th>\n",
       "      <th>samples.tumor_code</th>\n",
       "      <th>samples.tumor_code_id</th>\n",
       "      <th>samples.tumor_descriptor</th>\n",
       "    </tr>\n",
       "  </thead>\n",
       "  <tbody>\n",
       "    <tr>\n",
       "      <th>0</th>\n",
       "      <td>TARGET-AML</td>\n",
       "      <td>69b4ad12-4436-53bf-a552-cee9a1ae4025</td>\n",
       "      <td>TARGET-20-PATETC</td>\n",
       "      <td>'--</td>\n",
       "      <td>'--</td>\n",
       "      <td>'--</td>\n",
       "      <td>'--</td>\n",
       "      <td>'--</td>\n",
       "      <td>'--</td>\n",
       "      <td>'--</td>\n",
       "      <td>...</td>\n",
       "      <td>Bone Marrow NOS</td>\n",
       "      <td>released</td>\n",
       "      <td>TARGET-20-PATETC-09A</td>\n",
       "      <td>'--</td>\n",
       "      <td>'--</td>\n",
       "      <td>'--</td>\n",
       "      <td>Tumor</td>\n",
       "      <td>Acute myeloid leukemia (AML)</td>\n",
       "      <td>20</td>\n",
       "      <td>Primary</td>\n",
       "    </tr>\n",
       "    <tr>\n",
       "      <th>1</th>\n",
       "      <td>BEATAML1.0-COHORT</td>\n",
       "      <td>4bcb5c53-d625-43ac-9448-ebe07b9d705f</td>\n",
       "      <td>2829</td>\n",
       "      <td>'--</td>\n",
       "      <td>'--</td>\n",
       "      <td>'--</td>\n",
       "      <td>'--</td>\n",
       "      <td>'--</td>\n",
       "      <td>'--</td>\n",
       "      <td>'--</td>\n",
       "      <td>...</td>\n",
       "      <td>Solid Tissue</td>\n",
       "      <td>released</td>\n",
       "      <td>BA3442D</td>\n",
       "      <td>'--</td>\n",
       "      <td>'--</td>\n",
       "      <td>'--</td>\n",
       "      <td>Normal</td>\n",
       "      <td>'--</td>\n",
       "      <td>'--</td>\n",
       "      <td>Not Applicable</td>\n",
       "    </tr>\n",
       "    <tr>\n",
       "      <th>2</th>\n",
       "      <td>BEATAML1.0-COHORT</td>\n",
       "      <td>4bcb5c53-d625-43ac-9448-ebe07b9d705f</td>\n",
       "      <td>2829</td>\n",
       "      <td>'--</td>\n",
       "      <td>'--</td>\n",
       "      <td>'--</td>\n",
       "      <td>'--</td>\n",
       "      <td>'--</td>\n",
       "      <td>'--</td>\n",
       "      <td>'--</td>\n",
       "      <td>...</td>\n",
       "      <td>Peripheral Blood NOS</td>\n",
       "      <td>released</td>\n",
       "      <td>BA3245R</td>\n",
       "      <td>'--</td>\n",
       "      <td>'--</td>\n",
       "      <td>'--</td>\n",
       "      <td>Tumor</td>\n",
       "      <td>'--</td>\n",
       "      <td>'--</td>\n",
       "      <td>Recurrence</td>\n",
       "    </tr>\n",
       "    <tr>\n",
       "      <th>3</th>\n",
       "      <td>BEATAML1.0-COHORT</td>\n",
       "      <td>4bcb5c53-d625-43ac-9448-ebe07b9d705f</td>\n",
       "      <td>2829</td>\n",
       "      <td>'--</td>\n",
       "      <td>'--</td>\n",
       "      <td>'--</td>\n",
       "      <td>'--</td>\n",
       "      <td>'--</td>\n",
       "      <td>'--</td>\n",
       "      <td>'--</td>\n",
       "      <td>...</td>\n",
       "      <td>Peripheral Blood NOS</td>\n",
       "      <td>released</td>\n",
       "      <td>BA3245D</td>\n",
       "      <td>'--</td>\n",
       "      <td>'--</td>\n",
       "      <td>'--</td>\n",
       "      <td>Tumor</td>\n",
       "      <td>'--</td>\n",
       "      <td>'--</td>\n",
       "      <td>Recurrence</td>\n",
       "    </tr>\n",
       "    <tr>\n",
       "      <th>4</th>\n",
       "      <td>MP2PRT-ALL</td>\n",
       "      <td>508996da-a6e0-4451-ac47-7f927d90c809</td>\n",
       "      <td>MP2PRT-PATIRV</td>\n",
       "      <td>Bone Marrow</td>\n",
       "      <td>'--</td>\n",
       "      <td>'--</td>\n",
       "      <td>Whole Bone Marrow</td>\n",
       "      <td>'--</td>\n",
       "      <td>'--</td>\n",
       "      <td>'--</td>\n",
       "      <td>...</td>\n",
       "      <td>Whole Bone Marrow</td>\n",
       "      <td>released</td>\n",
       "      <td>MP2PRT-PATIRV-TMP1-A</td>\n",
       "      <td>'--</td>\n",
       "      <td>'--</td>\n",
       "      <td>'--</td>\n",
       "      <td>Tumor</td>\n",
       "      <td>'--</td>\n",
       "      <td>'--</td>\n",
       "      <td>Primary</td>\n",
       "    </tr>\n",
       "  </tbody>\n",
       "</table>\n",
       "<p>5 rows × 39 columns</p>\n",
       "</div>"
      ],
      "text/plain": [
       "  project.project_id                         cases.case_id cases.submitter_id  \\\n",
       "0         TARGET-AML  69b4ad12-4436-53bf-a552-cee9a1ae4025   TARGET-20-PATETC   \n",
       "1  BEATAML1.0-COHORT  4bcb5c53-d625-43ac-9448-ebe07b9d705f               2829   \n",
       "2  BEATAML1.0-COHORT  4bcb5c53-d625-43ac-9448-ebe07b9d705f               2829   \n",
       "3  BEATAML1.0-COHORT  4bcb5c53-d625-43ac-9448-ebe07b9d705f               2829   \n",
       "4         MP2PRT-ALL  508996da-a6e0-4451-ac47-7f927d90c809      MP2PRT-PATIRV   \n",
       "\n",
       "  samples.biospecimen_anatomic_site samples.biospecimen_laterality  \\\n",
       "0                               '--                            '--   \n",
       "1                               '--                            '--   \n",
       "2                               '--                            '--   \n",
       "3                               '--                            '--   \n",
       "4                       Bone Marrow                            '--   \n",
       "\n",
       "  samples.catalog_reference samples.composition samples.current_weight  \\\n",
       "0                       '--                 '--                    '--   \n",
       "1                       '--                 '--                    '--   \n",
       "2                       '--                 '--                    '--   \n",
       "3                       '--                 '--                    '--   \n",
       "4                       '--   Whole Bone Marrow                    '--   \n",
       "\n",
       "  samples.days_to_collection samples.days_to_sample_procurement  ...  \\\n",
       "0                        '--                                '--  ...   \n",
       "1                        '--                                '--  ...   \n",
       "2                        '--                                '--  ...   \n",
       "3                        '--                                '--  ...   \n",
       "4                        '--                                '--  ...   \n",
       "\n",
       "  samples.specimen_type samples.state  samples.submitter_id  \\\n",
       "0       Bone Marrow NOS      released  TARGET-20-PATETC-09A   \n",
       "1          Solid Tissue      released               BA3442D   \n",
       "2  Peripheral Blood NOS      released               BA3245R   \n",
       "3  Peripheral Blood NOS      released               BA3245D   \n",
       "4     Whole Bone Marrow      released  MP2PRT-PATIRV-TMP1-A   \n",
       "\n",
       "  samples.time_between_clamping_and_freezing  \\\n",
       "0                                        '--   \n",
       "1                                        '--   \n",
       "2                                        '--   \n",
       "3                                        '--   \n",
       "4                                        '--   \n",
       "\n",
       "  samples.time_between_excision_and_freezing samples.tissue_collection_type  \\\n",
       "0                                        '--                            '--   \n",
       "1                                        '--                            '--   \n",
       "2                                        '--                            '--   \n",
       "3                                        '--                            '--   \n",
       "4                                        '--                            '--   \n",
       "\n",
       "  samples.tissue_type            samples.tumor_code samples.tumor_code_id  \\\n",
       "0               Tumor  Acute myeloid leukemia (AML)                    20   \n",
       "1              Normal                           '--                   '--   \n",
       "2               Tumor                           '--                   '--   \n",
       "3               Tumor                           '--                   '--   \n",
       "4               Tumor                           '--                   '--   \n",
       "\n",
       "  samples.tumor_descriptor  \n",
       "0                  Primary  \n",
       "1           Not Applicable  \n",
       "2               Recurrence  \n",
       "3               Recurrence  \n",
       "4                  Primary  \n",
       "\n",
       "[5 rows x 39 columns]"
      ]
     },
     "execution_count": 30,
     "metadata": {},
     "output_type": "execute_result"
    }
   ],
   "source": [
    "sample_df.head()"
   ]
  },
  {
   "cell_type": "markdown",
   "id": "fc8983b2-db23-4255-871a-86738c83a84c",
   "metadata": {},
   "source": [
    "**There are many columns with majority values being '--**"
   ]
  },
  {
   "cell_type": "code",
   "execution_count": 51,
   "id": "0b0eefad-c165-4887-a803-f04b7d25cf77",
   "metadata": {},
   "outputs": [
    {
     "name": "stdout",
     "output_type": "stream",
     "text": [
      "Columns with a value '-- :'\n",
      "samples.biospecimen_anatomic_site\n",
      "samples.biospecimen_laterality\n",
      "samples.catalog_reference\n",
      "samples.composition\n",
      "samples.current_weight\n",
      "samples.days_to_collection\n",
      "samples.days_to_sample_procurement\n",
      "samples.diagnosis_pathologically_confirmed\n",
      "samples.distance_normal_to_tumor\n",
      "samples.distributor_reference\n",
      "samples.freezing_method\n",
      "samples.growth_rate\n",
      "samples.initial_weight\n",
      "samples.intermediate_dimension\n",
      "samples.is_ffpe\n",
      "samples.longest_dimension\n",
      "samples.method_of_sample_procurement\n",
      "samples.oct_embedded\n",
      "samples.passage_count\n",
      "samples.pathology_report_uuid\n",
      "samples.sample_ordinal\n",
      "samples.sample_type\n",
      "samples.sample_type_id\n",
      "samples.shortest_dimension\n",
      "samples.time_between_clamping_and_freezing\n",
      "samples.time_between_excision_and_freezing\n",
      "samples.tissue_collection_type\n",
      "samples.tumor_code\n",
      "samples.tumor_code_id\n"
     ]
    }
   ],
   "source": [
    "print(\"Columns with a value '-- :'\")\n",
    "for col in sample_df.columns:\n",
    "    if \"'--\" in sample_df[col].values:\n",
    "        print(col)    "
   ]
  },
  {
   "cell_type": "markdown",
   "id": "4dea783b-d676-4ecf-8cc4-3555325dc265",
   "metadata": {},
   "source": [
    "**Clean up those columns by replacing those values with None or np.nan based on the data type.**"
   ]
  },
  {
   "cell_type": "code",
   "execution_count": 52,
   "id": "378d5e32-701d-48c8-a9e8-c23cc09421e8",
   "metadata": {},
   "outputs": [],
   "source": [
    "# create a copy of the data\n",
    "sample_df2 = sample_df.copy()"
   ]
  },
  {
   "cell_type": "code",
   "execution_count": 62,
   "id": "2dcac32b-996b-4bd9-b14b-155f4dce843a",
   "metadata": {},
   "outputs": [],
   "source": [
    "cols_to_clean = []\n",
    "\n",
    "for col in sample_df2.columns:\n",
    "\n",
    "    # values with string only values\n",
    "    if \"'--\" in sample_df2[col].values:\n",
    "        cols_to_clean.append(col)\n",
    "\n",
    "    # now replace those values everywhere\n",
    "    sample_df2[cols_to_clean] = sample_df2[cols_to_clean].replace(\"'--'\", np.nan)\n",
    "\n",
    "# check again\n",
    "\n",
    "        \n",
    "        \n",
    "        \n",
    "            "
   ]
  },
  {
   "cell_type": "code",
   "execution_count": 83,
   "id": "a1348314-0dc0-4be3-9d71-eb08cdb04209",
   "metadata": {},
   "outputs": [
    {
     "data": {
      "text/plain": [
       "0        False\n",
       "1        False\n",
       "2        False\n",
       "3        False\n",
       "4        False\n",
       "         ...  \n",
       "88294    False\n",
       "88295    False\n",
       "88296    False\n",
       "88297    False\n",
       "88298    False\n",
       "Length: 88299, dtype: bool"
      ]
     },
     "execution_count": 83,
     "metadata": {},
     "output_type": "execute_result"
    }
   ],
   "source": [
    "sample_df2[['samples.freezing_method', 'samples.oct_embedded']].eq(\"'--'\").any(axis=1)"
   ]
  },
  {
   "cell_type": "markdown",
   "id": "4a1c96c2-60d0-4250-9915-fcf9e9afd9fc",
   "metadata": {},
   "source": [
    "**So majority columns have uniform, string data type and can be cleaned up. However 2 columns need further inspections.**"
   ]
  },
  {
   "cell_type": "code",
   "execution_count": 63,
   "id": "0130982d-7ad6-4a1b-9ffb-0e93b1211518",
   "metadata": {},
   "outputs": [
    {
     "data": {
      "text/plain": [
       "['samples.freezing_method', 'samples.oct_embedded']"
      ]
     },
     "execution_count": 63,
     "metadata": {},
     "output_type": "execute_result"
    }
   ],
   "source": [
    "problematic_cols"
   ]
  },
  {
   "cell_type": "markdown",
   "id": "e88ed0f2-1810-40f6-88c9-1b0713d5b61b",
   "metadata": {},
   "source": [
    "* No numeric data type columns that also have '-- values"
   ]
  },
  {
   "cell_type": "code",
   "execution_count": 64,
   "id": "c007973b-14bb-4676-9f96-d2e2ab796c99",
   "metadata": {},
   "outputs": [
    {
     "data": {
      "text/plain": [
       "[]"
      ]
     },
     "execution_count": 64,
     "metadata": {},
     "output_type": "execute_result"
    }
   ],
   "source": [
    "cols_to_clean_numeric"
   ]
  },
  {
   "cell_type": "code",
   "execution_count": 65,
   "id": "035cf00b-f3b8-400f-a170-aa5a4c4aba8a",
   "metadata": {
    "scrolled": true
   },
   "outputs": [
    {
     "data": {
      "text/plain": [
       "['samples.biospecimen_anatomic_site',\n",
       " 'samples.biospecimen_laterality',\n",
       " 'samples.catalog_reference',\n",
       " 'samples.composition',\n",
       " 'samples.current_weight',\n",
       " 'samples.days_to_collection',\n",
       " 'samples.days_to_sample_procurement',\n",
       " 'samples.diagnosis_pathologically_confirmed',\n",
       " 'samples.distance_normal_to_tumor',\n",
       " 'samples.distributor_reference',\n",
       " 'samples.growth_rate',\n",
       " 'samples.initial_weight',\n",
       " 'samples.intermediate_dimension',\n",
       " 'samples.is_ffpe',\n",
       " 'samples.longest_dimension',\n",
       " 'samples.method_of_sample_procurement',\n",
       " 'samples.passage_count',\n",
       " 'samples.pathology_report_uuid',\n",
       " 'samples.sample_ordinal',\n",
       " 'samples.sample_type',\n",
       " 'samples.sample_type_id',\n",
       " 'samples.shortest_dimension',\n",
       " 'samples.time_between_clamping_and_freezing',\n",
       " 'samples.time_between_excision_and_freezing',\n",
       " 'samples.tissue_collection_type',\n",
       " 'samples.tumor_code',\n",
       " 'samples.tumor_code_id']"
      ]
     },
     "execution_count": 65,
     "metadata": {},
     "output_type": "execute_result"
    }
   ],
   "source": [
    "cols_to_clean_string"
   ]
  },
  {
   "cell_type": "markdown",
   "id": "291c71c8-7890-45b9-825d-c13fa92b7b35",
   "metadata": {},
   "source": [
    "* Inspect the problematic ones."
   ]
  },
  {
   "cell_type": "code",
   "execution_count": 78,
   "id": "445ca4e8-232d-4d67-bc73-3d6923278cef",
   "metadata": {},
   "outputs": [
    {
     "data": {
      "text/plain": [
       "samples.freezing_method\n",
       "'--    73373\n",
       "NaN     9483\n",
       "LN2     3559\n",
       "-20     1783\n",
       "-80      101\n",
       "Name: count, dtype: int64"
      ]
     },
     "execution_count": 78,
     "metadata": {},
     "output_type": "execute_result"
    }
   ],
   "source": [
    "sample_df2['samples.freezing_method'].value_counts(dropna=False)"
   ]
  },
  {
   "cell_type": "code",
   "execution_count": 77,
   "id": "40146797-b287-4aec-ae8a-fd5bbc705c3b",
   "metadata": {},
   "outputs": [
    {
     "data": {
      "text/plain": [
       "Index([<class 'str'>, <class 'float'>], dtype='object', name='samples.freezing_method')"
      ]
     },
     "execution_count": 77,
     "metadata": {},
     "output_type": "execute_result"
    }
   ],
   "source": [
    "sample_df2['samples.freezing_method'].apply(type).value_counts().index"
   ]
  },
  {
   "cell_type": "code",
   "execution_count": 74,
   "id": "0b097673-d141-4227-81ed-fdedad5d8ef6",
   "metadata": {},
   "outputs": [
    {
     "data": {
      "text/plain": [
       "project.project_id                                                            TARGET-AML\n",
       "cases.case_id                                       69b4ad12-4436-53bf-a552-cee9a1ae4025\n",
       "cases.submitter_id                                                      TARGET-20-PATETC\n",
       "samples.biospecimen_anatomic_site                                                    '--\n",
       "samples.biospecimen_laterality                                                       '--\n",
       "samples.catalog_reference                                                            '--\n",
       "samples.composition                                                                  '--\n",
       "samples.current_weight                                                               '--\n",
       "samples.days_to_collection                                                           '--\n",
       "samples.days_to_sample_procurement                                                   '--\n",
       "samples.diagnosis_pathologically_confirmed                                           '--\n",
       "samples.distance_normal_to_tumor                                                     '--\n",
       "samples.distributor_reference                                                        '--\n",
       "samples.freezing_method                                                              NaN\n",
       "samples.growth_rate                                                                  '--\n",
       "samples.initial_weight                                                               '--\n",
       "samples.intermediate_dimension                                                       '--\n",
       "samples.is_ffpe                                                                      '--\n",
       "samples.longest_dimension                                                            '--\n",
       "samples.method_of_sample_procurement                                                 '--\n",
       "samples.oct_embedded                                                                 NaN\n",
       "samples.passage_count                                                                '--\n",
       "samples.pathology_report_uuid                                                        '--\n",
       "samples.preservation_method                                                      Unknown\n",
       "samples.sample_id                                   bc434767-5cfe-5947-8264-3b810d1acacc\n",
       "samples.sample_ordinal                                                               '--\n",
       "samples.sample_type                           Primary Blood Derived Cancer - Bone Marrow\n",
       "samples.sample_type_id                                                                09\n",
       "samples.shortest_dimension                                                           '--\n",
       "samples.specimen_type                                                    Bone Marrow NOS\n",
       "samples.state                                                                   released\n",
       "samples.submitter_id                                                TARGET-20-PATETC-09A\n",
       "samples.time_between_clamping_and_freezing                                           '--\n",
       "samples.time_between_excision_and_freezing                                           '--\n",
       "samples.tissue_collection_type                                                       '--\n",
       "samples.tissue_type                                                                Tumor\n",
       "samples.tumor_code                                          Acute myeloid leukemia (AML)\n",
       "samples.tumor_code_id                                                                 20\n",
       "samples.tumor_descriptor                                                         Primary\n",
       "Name: 0, dtype: object"
      ]
     },
     "execution_count": 74,
     "metadata": {},
     "output_type": "execute_result"
    }
   ],
   "source": [
    "sample_df2.iloc[0]"
   ]
  },
  {
   "cell_type": "code",
   "execution_count": 43,
   "id": "a2583b9d-59ae-44d5-bfed-93e5e4d8e684",
   "metadata": {},
   "outputs": [
    {
     "data": {
      "text/plain": [
       "samples.biospecimen_anatomic_site\n",
       "'--                      78713\n",
       "Blood                     3000\n",
       "Bone Marrow               1512\n",
       "Lung                       932\n",
       "Kidney                     622\n",
       "                         ...  \n",
       "Large Bowel                  1\n",
       "Chin                         1\n",
       "Testis                       1\n",
       "Lymph Node(s) Splenic        1\n",
       "Appendix                     1\n",
       "Name: count, Length: 106, dtype: int64"
      ]
     },
     "execution_count": 43,
     "metadata": {},
     "output_type": "execute_result"
    }
   ],
   "source": [
    "sample_df['samples.biospecimen_anatomic_site'].value_counts()"
   ]
  },
  {
   "cell_type": "code",
   "execution_count": null,
   "id": "85021ae9-e28e-440e-b72a-754cafba6039",
   "metadata": {},
   "outputs": [],
   "source": []
  }
 ],
 "metadata": {
  "kernelspec": {
   "display_name": "Python 3 (ipykernel)",
   "language": "python",
   "name": "python3"
  },
  "language_info": {
   "codemirror_mode": {
    "name": "ipython",
    "version": 3
   },
   "file_extension": ".py",
   "mimetype": "text/x-python",
   "name": "python",
   "nbconvert_exporter": "python",
   "pygments_lexer": "ipython3",
   "version": "3.12.4"
  }
 },
 "nbformat": 4,
 "nbformat_minor": 5
}
