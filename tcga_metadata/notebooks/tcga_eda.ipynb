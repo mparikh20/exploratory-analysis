{
 "cells": [
  {
   "cell_type": "markdown",
   "id": "e1ebdcac-5ec3-489d-b564-67454d30a0b4",
   "metadata": {},
   "source": [
    "# Overview"
   ]
  },
  {
   "cell_type": "markdown",
   "id": "79af0ce6-14e0-4be7-98d8-0d1458a5fdc1",
   "metadata": {},
   "source": [
    "Notebook to explore the TCGA metadata datasets and clean some of them for accurate upload in BigQuery."
   ]
  },
  {
   "cell_type": "markdown",
   "id": "a699220e-8220-47cd-a57f-5f714cacad3a",
   "metadata": {},
   "source": [
    "# Imports"
   ]
  },
  {
   "cell_type": "code",
   "execution_count": 3,
   "id": "3d1dfa7f-c688-4be7-98b5-d9e63fe06ba7",
   "metadata": {},
   "outputs": [],
   "source": [
    "import sys\n",
    "#add the data path\n",
    "sys.path.append('../data')"
   ]
  },
  {
   "cell_type": "code",
   "execution_count": 149,
   "id": "b20be2de-69ed-499b-903e-f08257f0bee5",
   "metadata": {},
   "outputs": [],
   "source": [
    "import numpy as np\n",
    "import pandas as pd\n",
    "pd.set_option('future.no_silent_downcasting', True)\n",
    "from pathlib import Path\n",
    "import plotly.express as px"
   ]
  },
  {
   "cell_type": "markdown",
   "id": "f18412be-9b2a-48b2-8926-0a5f657fc2af",
   "metadata": {},
   "source": [
    "# File paths"
   ]
  },
  {
   "cell_type": "code",
   "execution_count": 20,
   "id": "33b08340-632f-4cd4-abad-b69173384907",
   "metadata": {},
   "outputs": [],
   "source": [
    "data_dir = Path('../data/')"
   ]
  },
  {
   "cell_type": "code",
   "execution_count": 21,
   "id": "434efa0d-ff15-4cbc-8fa5-726f925cd89a",
   "metadata": {},
   "outputs": [],
   "source": [
    "samples_path = Path(data_dir / 'sample.tsv')\n",
    "slides_path = Path(data_dir / 'slide.tsv')"
   ]
  },
  {
   "cell_type": "markdown",
   "id": "a46580b0-9d19-49bb-85cb-a1540391c4f0",
   "metadata": {},
   "source": [
    "# EDA and cleanup of samples metadata"
   ]
  },
  {
   "cell_type": "code",
   "execution_count": 23,
   "id": "a2cb5ebd-ab77-418f-b290-97a1faf536f1",
   "metadata": {},
   "outputs": [],
   "source": [
    "sample_df = pd.read_csv(samples_path, sep='\\t')"
   ]
  },
  {
   "cell_type": "code",
   "execution_count": 30,
   "id": "86e45d15-adb3-4be9-a332-5f7f5df04314",
   "metadata": {},
   "outputs": [
    {
     "data": {
      "text/html": [
       "<div>\n",
       "<style scoped>\n",
       "    .dataframe tbody tr th:only-of-type {\n",
       "        vertical-align: middle;\n",
       "    }\n",
       "\n",
       "    .dataframe tbody tr th {\n",
       "        vertical-align: top;\n",
       "    }\n",
       "\n",
       "    .dataframe thead th {\n",
       "        text-align: right;\n",
       "    }\n",
       "</style>\n",
       "<table border=\"1\" class=\"dataframe\">\n",
       "  <thead>\n",
       "    <tr style=\"text-align: right;\">\n",
       "      <th></th>\n",
       "      <th>project.project_id</th>\n",
       "      <th>cases.case_id</th>\n",
       "      <th>cases.submitter_id</th>\n",
       "      <th>samples.biospecimen_anatomic_site</th>\n",
       "      <th>samples.biospecimen_laterality</th>\n",
       "      <th>samples.catalog_reference</th>\n",
       "      <th>samples.composition</th>\n",
       "      <th>samples.current_weight</th>\n",
       "      <th>samples.days_to_collection</th>\n",
       "      <th>samples.days_to_sample_procurement</th>\n",
       "      <th>...</th>\n",
       "      <th>samples.specimen_type</th>\n",
       "      <th>samples.state</th>\n",
       "      <th>samples.submitter_id</th>\n",
       "      <th>samples.time_between_clamping_and_freezing</th>\n",
       "      <th>samples.time_between_excision_and_freezing</th>\n",
       "      <th>samples.tissue_collection_type</th>\n",
       "      <th>samples.tissue_type</th>\n",
       "      <th>samples.tumor_code</th>\n",
       "      <th>samples.tumor_code_id</th>\n",
       "      <th>samples.tumor_descriptor</th>\n",
       "    </tr>\n",
       "  </thead>\n",
       "  <tbody>\n",
       "    <tr>\n",
       "      <th>0</th>\n",
       "      <td>TARGET-AML</td>\n",
       "      <td>69b4ad12-4436-53bf-a552-cee9a1ae4025</td>\n",
       "      <td>TARGET-20-PATETC</td>\n",
       "      <td>'--</td>\n",
       "      <td>'--</td>\n",
       "      <td>'--</td>\n",
       "      <td>'--</td>\n",
       "      <td>'--</td>\n",
       "      <td>'--</td>\n",
       "      <td>'--</td>\n",
       "      <td>...</td>\n",
       "      <td>Bone Marrow NOS</td>\n",
       "      <td>released</td>\n",
       "      <td>TARGET-20-PATETC-09A</td>\n",
       "      <td>'--</td>\n",
       "      <td>'--</td>\n",
       "      <td>'--</td>\n",
       "      <td>Tumor</td>\n",
       "      <td>Acute myeloid leukemia (AML)</td>\n",
       "      <td>20</td>\n",
       "      <td>Primary</td>\n",
       "    </tr>\n",
       "    <tr>\n",
       "      <th>1</th>\n",
       "      <td>BEATAML1.0-COHORT</td>\n",
       "      <td>4bcb5c53-d625-43ac-9448-ebe07b9d705f</td>\n",
       "      <td>2829</td>\n",
       "      <td>'--</td>\n",
       "      <td>'--</td>\n",
       "      <td>'--</td>\n",
       "      <td>'--</td>\n",
       "      <td>'--</td>\n",
       "      <td>'--</td>\n",
       "      <td>'--</td>\n",
       "      <td>...</td>\n",
       "      <td>Solid Tissue</td>\n",
       "      <td>released</td>\n",
       "      <td>BA3442D</td>\n",
       "      <td>'--</td>\n",
       "      <td>'--</td>\n",
       "      <td>'--</td>\n",
       "      <td>Normal</td>\n",
       "      <td>'--</td>\n",
       "      <td>'--</td>\n",
       "      <td>Not Applicable</td>\n",
       "    </tr>\n",
       "    <tr>\n",
       "      <th>2</th>\n",
       "      <td>BEATAML1.0-COHORT</td>\n",
       "      <td>4bcb5c53-d625-43ac-9448-ebe07b9d705f</td>\n",
       "      <td>2829</td>\n",
       "      <td>'--</td>\n",
       "      <td>'--</td>\n",
       "      <td>'--</td>\n",
       "      <td>'--</td>\n",
       "      <td>'--</td>\n",
       "      <td>'--</td>\n",
       "      <td>'--</td>\n",
       "      <td>...</td>\n",
       "      <td>Peripheral Blood NOS</td>\n",
       "      <td>released</td>\n",
       "      <td>BA3245R</td>\n",
       "      <td>'--</td>\n",
       "      <td>'--</td>\n",
       "      <td>'--</td>\n",
       "      <td>Tumor</td>\n",
       "      <td>'--</td>\n",
       "      <td>'--</td>\n",
       "      <td>Recurrence</td>\n",
       "    </tr>\n",
       "    <tr>\n",
       "      <th>3</th>\n",
       "      <td>BEATAML1.0-COHORT</td>\n",
       "      <td>4bcb5c53-d625-43ac-9448-ebe07b9d705f</td>\n",
       "      <td>2829</td>\n",
       "      <td>'--</td>\n",
       "      <td>'--</td>\n",
       "      <td>'--</td>\n",
       "      <td>'--</td>\n",
       "      <td>'--</td>\n",
       "      <td>'--</td>\n",
       "      <td>'--</td>\n",
       "      <td>...</td>\n",
       "      <td>Peripheral Blood NOS</td>\n",
       "      <td>released</td>\n",
       "      <td>BA3245D</td>\n",
       "      <td>'--</td>\n",
       "      <td>'--</td>\n",
       "      <td>'--</td>\n",
       "      <td>Tumor</td>\n",
       "      <td>'--</td>\n",
       "      <td>'--</td>\n",
       "      <td>Recurrence</td>\n",
       "    </tr>\n",
       "    <tr>\n",
       "      <th>4</th>\n",
       "      <td>MP2PRT-ALL</td>\n",
       "      <td>508996da-a6e0-4451-ac47-7f927d90c809</td>\n",
       "      <td>MP2PRT-PATIRV</td>\n",
       "      <td>Bone Marrow</td>\n",
       "      <td>'--</td>\n",
       "      <td>'--</td>\n",
       "      <td>Whole Bone Marrow</td>\n",
       "      <td>'--</td>\n",
       "      <td>'--</td>\n",
       "      <td>'--</td>\n",
       "      <td>...</td>\n",
       "      <td>Whole Bone Marrow</td>\n",
       "      <td>released</td>\n",
       "      <td>MP2PRT-PATIRV-TMP1-A</td>\n",
       "      <td>'--</td>\n",
       "      <td>'--</td>\n",
       "      <td>'--</td>\n",
       "      <td>Tumor</td>\n",
       "      <td>'--</td>\n",
       "      <td>'--</td>\n",
       "      <td>Primary</td>\n",
       "    </tr>\n",
       "  </tbody>\n",
       "</table>\n",
       "<p>5 rows × 39 columns</p>\n",
       "</div>"
      ],
      "text/plain": [
       "  project.project_id                         cases.case_id cases.submitter_id  \\\n",
       "0         TARGET-AML  69b4ad12-4436-53bf-a552-cee9a1ae4025   TARGET-20-PATETC   \n",
       "1  BEATAML1.0-COHORT  4bcb5c53-d625-43ac-9448-ebe07b9d705f               2829   \n",
       "2  BEATAML1.0-COHORT  4bcb5c53-d625-43ac-9448-ebe07b9d705f               2829   \n",
       "3  BEATAML1.0-COHORT  4bcb5c53-d625-43ac-9448-ebe07b9d705f               2829   \n",
       "4         MP2PRT-ALL  508996da-a6e0-4451-ac47-7f927d90c809      MP2PRT-PATIRV   \n",
       "\n",
       "  samples.biospecimen_anatomic_site samples.biospecimen_laterality  \\\n",
       "0                               '--                            '--   \n",
       "1                               '--                            '--   \n",
       "2                               '--                            '--   \n",
       "3                               '--                            '--   \n",
       "4                       Bone Marrow                            '--   \n",
       "\n",
       "  samples.catalog_reference samples.composition samples.current_weight  \\\n",
       "0                       '--                 '--                    '--   \n",
       "1                       '--                 '--                    '--   \n",
       "2                       '--                 '--                    '--   \n",
       "3                       '--                 '--                    '--   \n",
       "4                       '--   Whole Bone Marrow                    '--   \n",
       "\n",
       "  samples.days_to_collection samples.days_to_sample_procurement  ...  \\\n",
       "0                        '--                                '--  ...   \n",
       "1                        '--                                '--  ...   \n",
       "2                        '--                                '--  ...   \n",
       "3                        '--                                '--  ...   \n",
       "4                        '--                                '--  ...   \n",
       "\n",
       "  samples.specimen_type samples.state  samples.submitter_id  \\\n",
       "0       Bone Marrow NOS      released  TARGET-20-PATETC-09A   \n",
       "1          Solid Tissue      released               BA3442D   \n",
       "2  Peripheral Blood NOS      released               BA3245R   \n",
       "3  Peripheral Blood NOS      released               BA3245D   \n",
       "4     Whole Bone Marrow      released  MP2PRT-PATIRV-TMP1-A   \n",
       "\n",
       "  samples.time_between_clamping_and_freezing  \\\n",
       "0                                        '--   \n",
       "1                                        '--   \n",
       "2                                        '--   \n",
       "3                                        '--   \n",
       "4                                        '--   \n",
       "\n",
       "  samples.time_between_excision_and_freezing samples.tissue_collection_type  \\\n",
       "0                                        '--                            '--   \n",
       "1                                        '--                            '--   \n",
       "2                                        '--                            '--   \n",
       "3                                        '--                            '--   \n",
       "4                                        '--                            '--   \n",
       "\n",
       "  samples.tissue_type            samples.tumor_code samples.tumor_code_id  \\\n",
       "0               Tumor  Acute myeloid leukemia (AML)                    20   \n",
       "1              Normal                           '--                   '--   \n",
       "2               Tumor                           '--                   '--   \n",
       "3               Tumor                           '--                   '--   \n",
       "4               Tumor                           '--                   '--   \n",
       "\n",
       "  samples.tumor_descriptor  \n",
       "0                  Primary  \n",
       "1           Not Applicable  \n",
       "2               Recurrence  \n",
       "3               Recurrence  \n",
       "4                  Primary  \n",
       "\n",
       "[5 rows x 39 columns]"
      ]
     },
     "execution_count": 30,
     "metadata": {},
     "output_type": "execute_result"
    }
   ],
   "source": [
    "sample_df.head()"
   ]
  },
  {
   "cell_type": "markdown",
   "id": "fc8983b2-db23-4255-871a-86738c83a84c",
   "metadata": {},
   "source": [
    "**There are many columns with majority values being '--**"
   ]
  },
  {
   "cell_type": "code",
   "execution_count": 51,
   "id": "0b0eefad-c165-4887-a803-f04b7d25cf77",
   "metadata": {},
   "outputs": [
    {
     "name": "stdout",
     "output_type": "stream",
     "text": [
      "Columns with a value '-- :'\n",
      "samples.biospecimen_anatomic_site\n",
      "samples.biospecimen_laterality\n",
      "samples.catalog_reference\n",
      "samples.composition\n",
      "samples.current_weight\n",
      "samples.days_to_collection\n",
      "samples.days_to_sample_procurement\n",
      "samples.diagnosis_pathologically_confirmed\n",
      "samples.distance_normal_to_tumor\n",
      "samples.distributor_reference\n",
      "samples.freezing_method\n",
      "samples.growth_rate\n",
      "samples.initial_weight\n",
      "samples.intermediate_dimension\n",
      "samples.is_ffpe\n",
      "samples.longest_dimension\n",
      "samples.method_of_sample_procurement\n",
      "samples.oct_embedded\n",
      "samples.passage_count\n",
      "samples.pathology_report_uuid\n",
      "samples.sample_ordinal\n",
      "samples.sample_type\n",
      "samples.sample_type_id\n",
      "samples.shortest_dimension\n",
      "samples.time_between_clamping_and_freezing\n",
      "samples.time_between_excision_and_freezing\n",
      "samples.tissue_collection_type\n",
      "samples.tumor_code\n",
      "samples.tumor_code_id\n"
     ]
    }
   ],
   "source": [
    "print(\"Columns with a value '-- :'\")\n",
    "for col in sample_df.columns:\n",
    "    if \"'--\" in sample_df[col].values:\n",
    "        print(col)    "
   ]
  },
  {
   "cell_type": "markdown",
   "id": "4dea783b-d676-4ecf-8cc4-3555325dc265",
   "metadata": {},
   "source": [
    "**Clean up those columns by replacing those values with None or np.nan based on the data type.**"
   ]
  },
  {
   "cell_type": "code",
   "execution_count": 139,
   "id": "378d5e32-701d-48c8-a9e8-c23cc09421e8",
   "metadata": {},
   "outputs": [],
   "source": [
    "# create a copy of the data\n",
    "sample_df2 = sample_df.copy()"
   ]
  },
  {
   "cell_type": "code",
   "execution_count": 140,
   "id": "2dcac32b-996b-4bd9-b14b-155f4dce843a",
   "metadata": {},
   "outputs": [
    {
     "data": {
      "text/plain": [
       "samples.biospecimen_anatomic_site             False\n",
       "samples.biospecimen_laterality                False\n",
       "samples.catalog_reference                     False\n",
       "samples.composition                           False\n",
       "samples.current_weight                        False\n",
       "samples.days_to_collection                    False\n",
       "samples.days_to_sample_procurement            False\n",
       "samples.diagnosis_pathologically_confirmed    False\n",
       "samples.distance_normal_to_tumor              False\n",
       "samples.distributor_reference                 False\n",
       "samples.freezing_method                       False\n",
       "samples.growth_rate                           False\n",
       "samples.initial_weight                        False\n",
       "samples.intermediate_dimension                False\n",
       "samples.is_ffpe                               False\n",
       "samples.longest_dimension                     False\n",
       "samples.method_of_sample_procurement          False\n",
       "samples.oct_embedded                          False\n",
       "samples.passage_count                         False\n",
       "samples.pathology_report_uuid                 False\n",
       "samples.sample_ordinal                        False\n",
       "samples.sample_type                           False\n",
       "samples.sample_type_id                        False\n",
       "samples.shortest_dimension                    False\n",
       "samples.time_between_clamping_and_freezing    False\n",
       "samples.time_between_excision_and_freezing    False\n",
       "samples.tissue_collection_type                False\n",
       "samples.tumor_code                            False\n",
       "samples.tumor_code_id                         False\n",
       "dtype: bool"
      ]
     },
     "execution_count": 140,
     "metadata": {},
     "output_type": "execute_result"
    }
   ],
   "source": [
    "cols_to_clean = []\n",
    "\n",
    "for col in sample_df2.columns:\n",
    "\n",
    "    # values with string only values\n",
    "    if \"'--\" in sample_df2[col].values:\n",
    "        cols_to_clean.append(col)\n",
    "\n",
    "    # now replace those values everywhere\n",
    "    sample_df2[cols_to_clean] = sample_df2[cols_to_clean].replace(\"'--\", np.nan).infer_objects(copy=False)\n",
    "\n",
    "# check again\n",
    "# if any of the cols have the value still, it will show True\n",
    "(sample_df2[cols_to_clean] == \"'--\").any()"
   ]
  },
  {
   "cell_type": "markdown",
   "id": "c37a9529-60a8-4d7b-ad7a-df8461f79719",
   "metadata": {},
   "source": [
    "**The '-- values should be replaced now.**"
   ]
  },
  {
   "cell_type": "code",
   "execution_count": 141,
   "id": "41499e37-72a5-4be2-894f-62d8e4efe141",
   "metadata": {
    "scrolled": true
   },
   "outputs": [
    {
     "data": {
      "text/html": [
       "<div>\n",
       "<style scoped>\n",
       "    .dataframe tbody tr th:only-of-type {\n",
       "        vertical-align: middle;\n",
       "    }\n",
       "\n",
       "    .dataframe tbody tr th {\n",
       "        vertical-align: top;\n",
       "    }\n",
       "\n",
       "    .dataframe thead th {\n",
       "        text-align: right;\n",
       "    }\n",
       "</style>\n",
       "<table border=\"1\" class=\"dataframe\">\n",
       "  <thead>\n",
       "    <tr style=\"text-align: right;\">\n",
       "      <th></th>\n",
       "      <th>project.project_id</th>\n",
       "      <th>cases.case_id</th>\n",
       "      <th>cases.submitter_id</th>\n",
       "      <th>samples.biospecimen_anatomic_site</th>\n",
       "      <th>samples.biospecimen_laterality</th>\n",
       "      <th>samples.catalog_reference</th>\n",
       "      <th>samples.composition</th>\n",
       "      <th>samples.current_weight</th>\n",
       "      <th>samples.days_to_collection</th>\n",
       "      <th>samples.days_to_sample_procurement</th>\n",
       "      <th>...</th>\n",
       "      <th>samples.specimen_type</th>\n",
       "      <th>samples.state</th>\n",
       "      <th>samples.submitter_id</th>\n",
       "      <th>samples.time_between_clamping_and_freezing</th>\n",
       "      <th>samples.time_between_excision_and_freezing</th>\n",
       "      <th>samples.tissue_collection_type</th>\n",
       "      <th>samples.tissue_type</th>\n",
       "      <th>samples.tumor_code</th>\n",
       "      <th>samples.tumor_code_id</th>\n",
       "      <th>samples.tumor_descriptor</th>\n",
       "    </tr>\n",
       "  </thead>\n",
       "  <tbody>\n",
       "    <tr>\n",
       "      <th>0</th>\n",
       "      <td>TARGET-AML</td>\n",
       "      <td>69b4ad12-4436-53bf-a552-cee9a1ae4025</td>\n",
       "      <td>TARGET-20-PATETC</td>\n",
       "      <td>NaN</td>\n",
       "      <td>NaN</td>\n",
       "      <td>NaN</td>\n",
       "      <td>NaN</td>\n",
       "      <td>NaN</td>\n",
       "      <td>NaN</td>\n",
       "      <td>NaN</td>\n",
       "      <td>...</td>\n",
       "      <td>Bone Marrow NOS</td>\n",
       "      <td>released</td>\n",
       "      <td>TARGET-20-PATETC-09A</td>\n",
       "      <td>NaN</td>\n",
       "      <td>NaN</td>\n",
       "      <td>NaN</td>\n",
       "      <td>Tumor</td>\n",
       "      <td>Acute myeloid leukemia (AML)</td>\n",
       "      <td>20</td>\n",
       "      <td>Primary</td>\n",
       "    </tr>\n",
       "    <tr>\n",
       "      <th>1</th>\n",
       "      <td>BEATAML1.0-COHORT</td>\n",
       "      <td>4bcb5c53-d625-43ac-9448-ebe07b9d705f</td>\n",
       "      <td>2829</td>\n",
       "      <td>NaN</td>\n",
       "      <td>NaN</td>\n",
       "      <td>NaN</td>\n",
       "      <td>NaN</td>\n",
       "      <td>NaN</td>\n",
       "      <td>NaN</td>\n",
       "      <td>NaN</td>\n",
       "      <td>...</td>\n",
       "      <td>Solid Tissue</td>\n",
       "      <td>released</td>\n",
       "      <td>BA3442D</td>\n",
       "      <td>NaN</td>\n",
       "      <td>NaN</td>\n",
       "      <td>NaN</td>\n",
       "      <td>Normal</td>\n",
       "      <td>NaN</td>\n",
       "      <td>NaN</td>\n",
       "      <td>Not Applicable</td>\n",
       "    </tr>\n",
       "    <tr>\n",
       "      <th>2</th>\n",
       "      <td>BEATAML1.0-COHORT</td>\n",
       "      <td>4bcb5c53-d625-43ac-9448-ebe07b9d705f</td>\n",
       "      <td>2829</td>\n",
       "      <td>NaN</td>\n",
       "      <td>NaN</td>\n",
       "      <td>NaN</td>\n",
       "      <td>NaN</td>\n",
       "      <td>NaN</td>\n",
       "      <td>NaN</td>\n",
       "      <td>NaN</td>\n",
       "      <td>...</td>\n",
       "      <td>Peripheral Blood NOS</td>\n",
       "      <td>released</td>\n",
       "      <td>BA3245R</td>\n",
       "      <td>NaN</td>\n",
       "      <td>NaN</td>\n",
       "      <td>NaN</td>\n",
       "      <td>Tumor</td>\n",
       "      <td>NaN</td>\n",
       "      <td>NaN</td>\n",
       "      <td>Recurrence</td>\n",
       "    </tr>\n",
       "    <tr>\n",
       "      <th>3</th>\n",
       "      <td>BEATAML1.0-COHORT</td>\n",
       "      <td>4bcb5c53-d625-43ac-9448-ebe07b9d705f</td>\n",
       "      <td>2829</td>\n",
       "      <td>NaN</td>\n",
       "      <td>NaN</td>\n",
       "      <td>NaN</td>\n",
       "      <td>NaN</td>\n",
       "      <td>NaN</td>\n",
       "      <td>NaN</td>\n",
       "      <td>NaN</td>\n",
       "      <td>...</td>\n",
       "      <td>Peripheral Blood NOS</td>\n",
       "      <td>released</td>\n",
       "      <td>BA3245D</td>\n",
       "      <td>NaN</td>\n",
       "      <td>NaN</td>\n",
       "      <td>NaN</td>\n",
       "      <td>Tumor</td>\n",
       "      <td>NaN</td>\n",
       "      <td>NaN</td>\n",
       "      <td>Recurrence</td>\n",
       "    </tr>\n",
       "    <tr>\n",
       "      <th>4</th>\n",
       "      <td>MP2PRT-ALL</td>\n",
       "      <td>508996da-a6e0-4451-ac47-7f927d90c809</td>\n",
       "      <td>MP2PRT-PATIRV</td>\n",
       "      <td>Bone Marrow</td>\n",
       "      <td>NaN</td>\n",
       "      <td>NaN</td>\n",
       "      <td>Whole Bone Marrow</td>\n",
       "      <td>NaN</td>\n",
       "      <td>NaN</td>\n",
       "      <td>NaN</td>\n",
       "      <td>...</td>\n",
       "      <td>Whole Bone Marrow</td>\n",
       "      <td>released</td>\n",
       "      <td>MP2PRT-PATIRV-TMP1-A</td>\n",
       "      <td>NaN</td>\n",
       "      <td>NaN</td>\n",
       "      <td>NaN</td>\n",
       "      <td>Tumor</td>\n",
       "      <td>NaN</td>\n",
       "      <td>NaN</td>\n",
       "      <td>Primary</td>\n",
       "    </tr>\n",
       "    <tr>\n",
       "      <th>...</th>\n",
       "      <td>...</td>\n",
       "      <td>...</td>\n",
       "      <td>...</td>\n",
       "      <td>...</td>\n",
       "      <td>...</td>\n",
       "      <td>...</td>\n",
       "      <td>...</td>\n",
       "      <td>...</td>\n",
       "      <td>...</td>\n",
       "      <td>...</td>\n",
       "      <td>...</td>\n",
       "      <td>...</td>\n",
       "      <td>...</td>\n",
       "      <td>...</td>\n",
       "      <td>...</td>\n",
       "      <td>...</td>\n",
       "      <td>...</td>\n",
       "      <td>...</td>\n",
       "      <td>...</td>\n",
       "      <td>...</td>\n",
       "      <td>...</td>\n",
       "    </tr>\n",
       "    <tr>\n",
       "      <th>88294</th>\n",
       "      <td>TARGET-AML</td>\n",
       "      <td>2f3e5463-3243-4efc-b586-1788d57ccfad</td>\n",
       "      <td>TARGET-20-PAWIIK</td>\n",
       "      <td>NaN</td>\n",
       "      <td>NaN</td>\n",
       "      <td>NaN</td>\n",
       "      <td>NaN</td>\n",
       "      <td>NaN</td>\n",
       "      <td>NaN</td>\n",
       "      <td>NaN</td>\n",
       "      <td>...</td>\n",
       "      <td>Bone Marrow NOS</td>\n",
       "      <td>released</td>\n",
       "      <td>TARGET-20-PAWIIK-09A</td>\n",
       "      <td>NaN</td>\n",
       "      <td>NaN</td>\n",
       "      <td>NaN</td>\n",
       "      <td>Tumor</td>\n",
       "      <td>NaN</td>\n",
       "      <td>20</td>\n",
       "      <td>Primary</td>\n",
       "    </tr>\n",
       "    <tr>\n",
       "      <th>88295</th>\n",
       "      <td>TARGET-ALL-P2</td>\n",
       "      <td>5f1fddd5-6d05-5fe4-83e6-af3895ab1733</td>\n",
       "      <td>TARGET-10-PARFVZ</td>\n",
       "      <td>NaN</td>\n",
       "      <td>NaN</td>\n",
       "      <td>NaN</td>\n",
       "      <td>NaN</td>\n",
       "      <td>NaN</td>\n",
       "      <td>NaN</td>\n",
       "      <td>NaN</td>\n",
       "      <td>...</td>\n",
       "      <td>Bone Marrow NOS</td>\n",
       "      <td>released</td>\n",
       "      <td>TARGET-10-PARFVZ-04A</td>\n",
       "      <td>NaN</td>\n",
       "      <td>NaN</td>\n",
       "      <td>NaN</td>\n",
       "      <td>Tumor</td>\n",
       "      <td>Acute lymphoblastic leukemia (ALL)</td>\n",
       "      <td>10</td>\n",
       "      <td>Recurrence</td>\n",
       "    </tr>\n",
       "    <tr>\n",
       "      <th>88296</th>\n",
       "      <td>TARGET-ALL-P2</td>\n",
       "      <td>5f1fddd5-6d05-5fe4-83e6-af3895ab1733</td>\n",
       "      <td>TARGET-10-PARFVZ</td>\n",
       "      <td>NaN</td>\n",
       "      <td>NaN</td>\n",
       "      <td>NaN</td>\n",
       "      <td>NaN</td>\n",
       "      <td>NaN</td>\n",
       "      <td>NaN</td>\n",
       "      <td>NaN</td>\n",
       "      <td>...</td>\n",
       "      <td>Bone Marrow NOS</td>\n",
       "      <td>released</td>\n",
       "      <td>TARGET-10-PARFVZ-09A</td>\n",
       "      <td>NaN</td>\n",
       "      <td>NaN</td>\n",
       "      <td>NaN</td>\n",
       "      <td>Tumor</td>\n",
       "      <td>Acute lymphoblastic leukemia (ALL)</td>\n",
       "      <td>10</td>\n",
       "      <td>Primary</td>\n",
       "    </tr>\n",
       "    <tr>\n",
       "      <th>88297</th>\n",
       "      <td>FM-AD</td>\n",
       "      <td>678df8bb-1b71-4485-a700-7a4fc2734177</td>\n",
       "      <td>AD15396</td>\n",
       "      <td>NaN</td>\n",
       "      <td>NaN</td>\n",
       "      <td>NaN</td>\n",
       "      <td>NaN</td>\n",
       "      <td>NaN</td>\n",
       "      <td>NaN</td>\n",
       "      <td>NaN</td>\n",
       "      <td>...</td>\n",
       "      <td>Unknown</td>\n",
       "      <td>released</td>\n",
       "      <td>AD15396_sample</td>\n",
       "      <td>NaN</td>\n",
       "      <td>NaN</td>\n",
       "      <td>NaN</td>\n",
       "      <td>Tumor</td>\n",
       "      <td>NaN</td>\n",
       "      <td>NaN</td>\n",
       "      <td>Primary</td>\n",
       "    </tr>\n",
       "    <tr>\n",
       "      <th>88298</th>\n",
       "      <td>FM-AD</td>\n",
       "      <td>99f3cc02-8d7f-4f66-88a6-f545471b64f5</td>\n",
       "      <td>AD15116</td>\n",
       "      <td>NaN</td>\n",
       "      <td>NaN</td>\n",
       "      <td>NaN</td>\n",
       "      <td>NaN</td>\n",
       "      <td>NaN</td>\n",
       "      <td>NaN</td>\n",
       "      <td>NaN</td>\n",
       "      <td>...</td>\n",
       "      <td>Unknown</td>\n",
       "      <td>released</td>\n",
       "      <td>AD15116_sample</td>\n",
       "      <td>NaN</td>\n",
       "      <td>NaN</td>\n",
       "      <td>NaN</td>\n",
       "      <td>Tumor</td>\n",
       "      <td>NaN</td>\n",
       "      <td>NaN</td>\n",
       "      <td>Metastatic</td>\n",
       "    </tr>\n",
       "  </tbody>\n",
       "</table>\n",
       "<p>88299 rows × 39 columns</p>\n",
       "</div>"
      ],
      "text/plain": [
       "      project.project_id                         cases.case_id  \\\n",
       "0             TARGET-AML  69b4ad12-4436-53bf-a552-cee9a1ae4025   \n",
       "1      BEATAML1.0-COHORT  4bcb5c53-d625-43ac-9448-ebe07b9d705f   \n",
       "2      BEATAML1.0-COHORT  4bcb5c53-d625-43ac-9448-ebe07b9d705f   \n",
       "3      BEATAML1.0-COHORT  4bcb5c53-d625-43ac-9448-ebe07b9d705f   \n",
       "4             MP2PRT-ALL  508996da-a6e0-4451-ac47-7f927d90c809   \n",
       "...                  ...                                   ...   \n",
       "88294         TARGET-AML  2f3e5463-3243-4efc-b586-1788d57ccfad   \n",
       "88295      TARGET-ALL-P2  5f1fddd5-6d05-5fe4-83e6-af3895ab1733   \n",
       "88296      TARGET-ALL-P2  5f1fddd5-6d05-5fe4-83e6-af3895ab1733   \n",
       "88297              FM-AD  678df8bb-1b71-4485-a700-7a4fc2734177   \n",
       "88298              FM-AD  99f3cc02-8d7f-4f66-88a6-f545471b64f5   \n",
       "\n",
       "      cases.submitter_id samples.biospecimen_anatomic_site  \\\n",
       "0       TARGET-20-PATETC                               NaN   \n",
       "1                   2829                               NaN   \n",
       "2                   2829                               NaN   \n",
       "3                   2829                               NaN   \n",
       "4          MP2PRT-PATIRV                       Bone Marrow   \n",
       "...                  ...                               ...   \n",
       "88294   TARGET-20-PAWIIK                               NaN   \n",
       "88295   TARGET-10-PARFVZ                               NaN   \n",
       "88296   TARGET-10-PARFVZ                               NaN   \n",
       "88297            AD15396                               NaN   \n",
       "88298            AD15116                               NaN   \n",
       "\n",
       "      samples.biospecimen_laterality  samples.catalog_reference  \\\n",
       "0                                NaN                        NaN   \n",
       "1                                NaN                        NaN   \n",
       "2                                NaN                        NaN   \n",
       "3                                NaN                        NaN   \n",
       "4                                NaN                        NaN   \n",
       "...                              ...                        ...   \n",
       "88294                            NaN                        NaN   \n",
       "88295                            NaN                        NaN   \n",
       "88296                            NaN                        NaN   \n",
       "88297                            NaN                        NaN   \n",
       "88298                            NaN                        NaN   \n",
       "\n",
       "      samples.composition samples.current_weight samples.days_to_collection  \\\n",
       "0                     NaN                    NaN                        NaN   \n",
       "1                     NaN                    NaN                        NaN   \n",
       "2                     NaN                    NaN                        NaN   \n",
       "3                     NaN                    NaN                        NaN   \n",
       "4       Whole Bone Marrow                    NaN                        NaN   \n",
       "...                   ...                    ...                        ...   \n",
       "88294                 NaN                    NaN                        NaN   \n",
       "88295                 NaN                    NaN                        NaN   \n",
       "88296                 NaN                    NaN                        NaN   \n",
       "88297                 NaN                    NaN                        NaN   \n",
       "88298                 NaN                    NaN                        NaN   \n",
       "\n",
       "      samples.days_to_sample_procurement  ... samples.specimen_type  \\\n",
       "0                                    NaN  ...       Bone Marrow NOS   \n",
       "1                                    NaN  ...          Solid Tissue   \n",
       "2                                    NaN  ...  Peripheral Blood NOS   \n",
       "3                                    NaN  ...  Peripheral Blood NOS   \n",
       "4                                    NaN  ...     Whole Bone Marrow   \n",
       "...                                  ...  ...                   ...   \n",
       "88294                                NaN  ...       Bone Marrow NOS   \n",
       "88295                                NaN  ...       Bone Marrow NOS   \n",
       "88296                                NaN  ...       Bone Marrow NOS   \n",
       "88297                                NaN  ...               Unknown   \n",
       "88298                                NaN  ...               Unknown   \n",
       "\n",
       "       samples.state  samples.submitter_id  \\\n",
       "0           released  TARGET-20-PATETC-09A   \n",
       "1           released               BA3442D   \n",
       "2           released               BA3245R   \n",
       "3           released               BA3245D   \n",
       "4           released  MP2PRT-PATIRV-TMP1-A   \n",
       "...              ...                   ...   \n",
       "88294       released  TARGET-20-PAWIIK-09A   \n",
       "88295       released  TARGET-10-PARFVZ-04A   \n",
       "88296       released  TARGET-10-PARFVZ-09A   \n",
       "88297       released        AD15396_sample   \n",
       "88298       released        AD15116_sample   \n",
       "\n",
       "      samples.time_between_clamping_and_freezing  \\\n",
       "0                                            NaN   \n",
       "1                                            NaN   \n",
       "2                                            NaN   \n",
       "3                                            NaN   \n",
       "4                                            NaN   \n",
       "...                                          ...   \n",
       "88294                                        NaN   \n",
       "88295                                        NaN   \n",
       "88296                                        NaN   \n",
       "88297                                        NaN   \n",
       "88298                                        NaN   \n",
       "\n",
       "       samples.time_between_excision_and_freezing  \\\n",
       "0                                             NaN   \n",
       "1                                             NaN   \n",
       "2                                             NaN   \n",
       "3                                             NaN   \n",
       "4                                             NaN   \n",
       "...                                           ...   \n",
       "88294                                         NaN   \n",
       "88295                                         NaN   \n",
       "88296                                         NaN   \n",
       "88297                                         NaN   \n",
       "88298                                         NaN   \n",
       "\n",
       "      samples.tissue_collection_type samples.tissue_type  \\\n",
       "0                                NaN               Tumor   \n",
       "1                                NaN              Normal   \n",
       "2                                NaN               Tumor   \n",
       "3                                NaN               Tumor   \n",
       "4                                NaN               Tumor   \n",
       "...                              ...                 ...   \n",
       "88294                            NaN               Tumor   \n",
       "88295                            NaN               Tumor   \n",
       "88296                            NaN               Tumor   \n",
       "88297                            NaN               Tumor   \n",
       "88298                            NaN               Tumor   \n",
       "\n",
       "                       samples.tumor_code samples.tumor_code_id  \\\n",
       "0            Acute myeloid leukemia (AML)                    20   \n",
       "1                                     NaN                   NaN   \n",
       "2                                     NaN                   NaN   \n",
       "3                                     NaN                   NaN   \n",
       "4                                     NaN                   NaN   \n",
       "...                                   ...                   ...   \n",
       "88294                                 NaN                    20   \n",
       "88295  Acute lymphoblastic leukemia (ALL)                    10   \n",
       "88296  Acute lymphoblastic leukemia (ALL)                    10   \n",
       "88297                                 NaN                   NaN   \n",
       "88298                                 NaN                   NaN   \n",
       "\n",
       "      samples.tumor_descriptor  \n",
       "0                      Primary  \n",
       "1               Not Applicable  \n",
       "2                   Recurrence  \n",
       "3                   Recurrence  \n",
       "4                      Primary  \n",
       "...                        ...  \n",
       "88294                  Primary  \n",
       "88295               Recurrence  \n",
       "88296                  Primary  \n",
       "88297                  Primary  \n",
       "88298               Metastatic  \n",
       "\n",
       "[88299 rows x 39 columns]"
      ]
     },
     "execution_count": 141,
     "metadata": {},
     "output_type": "execute_result"
    }
   ],
   "source": [
    "sample_df2"
   ]
  },
  {
   "cell_type": "markdown",
   "id": "1e37f0c6-4713-4262-a0c3-a5d2ea3d2423",
   "metadata": {},
   "source": [
    "**Next, go through each column and change any value containing the abbreviation NOS to 'not otherwise specified'**"
   ]
  },
  {
   "cell_type": "code",
   "execution_count": 142,
   "id": "384181ab-bf73-46b9-80fa-cc6a0c2015ac",
   "metadata": {},
   "outputs": [],
   "source": [
    "def define_nos(value):\n",
    "    if type(value) == str and 'NOS' in value.split():\n",
    "        value = value.replace('NOS', 'not otherwise specified')\n",
    "    return value"
   ]
  },
  {
   "cell_type": "code",
   "execution_count": 143,
   "id": "3cbf826f",
   "metadata": {},
   "outputs": [],
   "source": [
    "sample_df2 = sample_df2.map(define_nos)"
   ]
  },
  {
   "cell_type": "code",
   "execution_count": 147,
   "id": "d285a28a-1c30-43dd-9b89-a50b477ebe93",
   "metadata": {
    "scrolled": true
   },
   "outputs": [
    {
     "data": {
      "text/plain": [
       "'Bone Marrow not otherwise specified'"
      ]
     },
     "execution_count": 147,
     "metadata": {},
     "output_type": "execute_result"
    }
   ],
   "source": [
    "# confirm change:\n",
    "sample_df2.iloc[0]['samples.specimen_type']"
   ]
  },
  {
   "cell_type": "markdown",
   "id": "5246e532-7bcf-4395-a7e3-21da61f2cd43",
   "metadata": {},
   "source": [
    "## Visualizations"
   ]
  },
  {
   "cell_type": "markdown",
   "id": "612f0115-bad9-4a52-ad29-6a05f66ec58b",
   "metadata": {},
   "source": [
    "### Breakdown of anatomic site of samples based on the project"
   ]
  },
  {
   "cell_type": "code",
   "execution_count": 231,
   "id": "24654198-03e7-4acc-a670-6a81b32092d0",
   "metadata": {},
   "outputs": [],
   "source": [
    "sites_df = sample_df2.groupby(['project.project_id', 'samples.biospecimen_anatomic_site'])['cases.case_id'].count().reset_index()"
   ]
  },
  {
   "cell_type": "code",
   "execution_count": 239,
   "id": "5463f5fd-1bca-4172-a394-619e73c98d46",
   "metadata": {
    "scrolled": true
   },
   "outputs": [
    {
     "data": {
      "text/plain": [
       "array(['Blood', 'Bone Marrow', 'Lung', 'Kidney', 'Uterus', 'Breast',\n",
       "       'Liver', 'Pancreas', 'Thyroid', 'Other', 'Brain', 'Prostate',\n",
       "       'Lymph Node', 'Frontal Lobe', 'Bone', 'Tongue', 'Soft Tissue',\n",
       "       'Cerebrum', 'Maxilla', 'Abdomen', 'Chest Wall',\n",
       "       'Lymph Node(s) Axilla', 'Abdominal Wall', 'Pelvis'], dtype=object)"
      ]
     },
     "execution_count": 239,
     "metadata": {},
     "output_type": "execute_result"
    }
   ],
   "source": [
    "# for effective visualization, take only cases > 10\n",
    "sites_df2 = sites_df.groupby('samples.biospecimen_anatomic_site')['cases.case_id'].sum().reset_index()\n",
    "sites_df2 = sites_df2.rename(columns={'cases.case_id':'total_number_cases'})\n",
    "\n",
    "selected_sites = sites_df2[sites_df2['total_number_cases']>=20]['samples.biospecimen_anatomic_site'].values\n",
    "axis_order = sites_df2[sites_df2['samples.biospecimen_anatomic_site'].isin(selected_sites)].sort_values(by='total_number_cases', ascending=False)\n",
    "axis_order['samples.biospecimen_anatomic_site'].values"
   ]
  },
  {
   "cell_type": "code",
   "execution_count": 240,
   "id": "b828a86c-0aee-41ca-aa79-1cdd6979bb81",
   "metadata": {},
   "outputs": [
    {
     "data": {
      "text/html": [
       "<div>\n",
       "<style scoped>\n",
       "    .dataframe tbody tr th:only-of-type {\n",
       "        vertical-align: middle;\n",
       "    }\n",
       "\n",
       "    .dataframe tbody tr th {\n",
       "        vertical-align: top;\n",
       "    }\n",
       "\n",
       "    .dataframe thead th {\n",
       "        text-align: right;\n",
       "    }\n",
       "</style>\n",
       "<table border=\"1\" class=\"dataframe\">\n",
       "  <thead>\n",
       "    <tr style=\"text-align: right;\">\n",
       "      <th></th>\n",
       "      <th>samples.biospecimen_anatomic_site</th>\n",
       "      <th>total_number_cases</th>\n",
       "    </tr>\n",
       "  </thead>\n",
       "  <tbody>\n",
       "    <tr>\n",
       "      <th>21</th>\n",
       "      <td>Chest Wall</td>\n",
       "      <td>35</td>\n",
       "    </tr>\n",
       "  </tbody>\n",
       "</table>\n",
       "</div>"
      ],
      "text/plain": [
       "   samples.biospecimen_anatomic_site  total_number_cases\n",
       "21                        Chest Wall                  35"
      ]
     },
     "execution_count": 240,
     "metadata": {},
     "output_type": "execute_result"
    }
   ],
   "source": [
    "sites_df2[sites_df2['samples.biospecimen_anatomic_site']=='Chest Wall']"
   ]
  },
  {
   "cell_type": "code",
   "execution_count": 242,
   "id": "00d0fa58-9deb-4277-b1d1-f21b34adc8e5",
   "metadata": {},
   "outputs": [
    {
     "data": {
      "application/vnd.plotly.v1+json": {
       "config": {
        "plotlyServerURL": "https://plot.ly"
       },
       "data": [
        {
         "alignmentgroup": "True",
         "hovertemplate": "project.project_id=CGCI-BLGSP<br>Anatomic site=%{x}<br>Number of cases=%{y}<extra></extra>",
         "legendgroup": "CGCI-BLGSP",
         "marker": {
          "color": "#636efa",
          "pattern": {
           "shape": ""
          }
         },
         "name": "CGCI-BLGSP",
         "offsetgroup": "CGCI-BLGSP",
         "orientation": "v",
         "showlegend": true,
         "textposition": "auto",
         "type": "bar",
         "x": [
          "Abdomen",
          "Bone Marrow",
          "Kidney",
          "Liver",
          "Lymph Node",
          "Lymph Node(s) Axilla",
          "Maxilla",
          "Other",
          "Soft Tissue",
          "Uterus"
         ],
         "xaxis": "x",
         "y": [
          9,
          9,
          3,
          8,
          10,
          3,
          47,
          29,
          3,
          1
         ],
         "yaxis": "y"
        },
        {
         "alignmentgroup": "True",
         "hovertemplate": "project.project_id=CMI-ASC<br>Anatomic site=%{x}<br>Number of cases=%{y}<extra></extra>",
         "legendgroup": "CMI-ASC",
         "marker": {
          "color": "#EF553B",
          "pattern": {
           "shape": ""
          }
         },
         "name": "CMI-ASC",
         "offsetgroup": "CMI-ASC",
         "orientation": "v",
         "showlegend": true,
         "textposition": "auto",
         "type": "bar",
         "x": [
          "Abdomen",
          "Blood",
          "Breast",
          "Chest Wall",
          "Lung",
          "Other"
         ],
         "xaxis": "x",
         "y": [
          1,
          5,
          26,
          5,
          2,
          32
         ],
         "yaxis": "y"
        },
        {
         "alignmentgroup": "True",
         "hovertemplate": "project.project_id=CMI-MBC<br>Anatomic site=%{x}<br>Number of cases=%{y}<extra></extra>",
         "legendgroup": "CMI-MBC",
         "marker": {
          "color": "#00cc96",
          "pattern": {
           "shape": ""
          }
         },
         "name": "CMI-MBC",
         "offsetgroup": "CMI-MBC",
         "orientation": "v",
         "showlegend": true,
         "textposition": "auto",
         "type": "bar",
         "x": [
          "Blood",
          "Bone",
          "Bone Marrow",
          "Brain",
          "Breast",
          "Chest Wall",
          "Liver",
          "Lung",
          "Lymph Node(s) Axilla",
          "Other",
          "Soft Tissue",
          "Thyroid"
         ],
         "xaxis": "x",
         "y": [
          1,
          19,
          1,
          7,
          369,
          6,
          14,
          4,
          21,
          179,
          3,
          1
         ],
         "yaxis": "y"
        },
        {
         "alignmentgroup": "True",
         "hovertemplate": "project.project_id=CMI-MPC<br>Anatomic site=%{x}<br>Number of cases=%{y}<extra></extra>",
         "legendgroup": "CMI-MPC",
         "marker": {
          "color": "#ab63fa",
          "pattern": {
           "shape": ""
          }
         },
         "name": "CMI-MPC",
         "offsetgroup": "CMI-MPC",
         "orientation": "v",
         "showlegend": true,
         "textposition": "auto",
         "type": "bar",
         "x": [
          "Prostate"
         ],
         "xaxis": "x",
         "y": [
          163
         ],
         "yaxis": "y"
        },
        {
         "alignmentgroup": "True",
         "hovertemplate": "project.project_id=CPTAC-3<br>Anatomic site=%{x}<br>Number of cases=%{y}<extra></extra>",
         "legendgroup": "CPTAC-3",
         "marker": {
          "color": "#FFA15A",
          "pattern": {
           "shape": ""
          }
         },
         "name": "CPTAC-3",
         "offsetgroup": "CPTAC-3",
         "orientation": "v",
         "showlegend": true,
         "textposition": "auto",
         "type": "bar",
         "x": [
          "Blood",
          "Brain",
          "Cerebrum",
          "Frontal Lobe",
          "Kidney",
          "Lung",
          "Pancreas",
          "Tongue",
          "Uterus"
         ],
         "xaxis": "x",
         "y": [
          1270,
          164,
          50,
          68,
          561,
          756,
          323,
          57,
          539
         ],
         "yaxis": "y"
        },
        {
         "alignmentgroup": "True",
         "hovertemplate": "project.project_id=MATCH-B<br>Anatomic site=%{x}<br>Number of cases=%{y}<extra></extra>",
         "legendgroup": "MATCH-B",
         "marker": {
          "color": "#19d3f3",
          "pattern": {
           "shape": ""
          }
         },
         "name": "MATCH-B",
         "offsetgroup": "MATCH-B",
         "orientation": "v",
         "showlegend": true,
         "textposition": "auto",
         "type": "bar",
         "x": [
          "Breast",
          "Liver",
          "Lung",
          "Lymph Node",
          "Soft Tissue"
         ],
         "xaxis": "x",
         "y": [
          2,
          27,
          5,
          6,
          6
         ],
         "yaxis": "y"
        },
        {
         "alignmentgroup": "True",
         "hovertemplate": "project.project_id=MATCH-C1<br>Anatomic site=%{x}<br>Number of cases=%{y}<extra></extra>",
         "legendgroup": "MATCH-C1",
         "marker": {
          "color": "#FF6692",
          "pattern": {
           "shape": ""
          }
         },
         "name": "MATCH-C1",
         "offsetgroup": "MATCH-C1",
         "orientation": "v",
         "showlegend": true,
         "textposition": "auto",
         "type": "bar",
         "x": [
          "Abdominal Wall",
          "Chest Wall",
          "Liver",
          "Lung"
         ],
         "xaxis": "x",
         "y": [
          2,
          2,
          7,
          5
         ],
         "yaxis": "y"
        },
        {
         "alignmentgroup": "True",
         "hovertemplate": "project.project_id=MATCH-H<br>Anatomic site=%{x}<br>Number of cases=%{y}<extra></extra>",
         "legendgroup": "MATCH-H",
         "marker": {
          "color": "#B6E880",
          "pattern": {
           "shape": ""
          }
         },
         "name": "MATCH-H",
         "offsetgroup": "MATCH-H",
         "orientation": "v",
         "showlegend": true,
         "textposition": "auto",
         "type": "bar",
         "x": [
          "Abdomen",
          "Abdominal Wall",
          "Brain",
          "Liver",
          "Lung",
          "Lymph Node"
         ],
         "xaxis": "x",
         "y": [
          2,
          4,
          4,
          14,
          4,
          4
         ],
         "yaxis": "y"
        },
        {
         "alignmentgroup": "True",
         "hovertemplate": "project.project_id=MATCH-I<br>Anatomic site=%{x}<br>Number of cases=%{y}<extra></extra>",
         "legendgroup": "MATCH-I",
         "marker": {
          "color": "#FF97FF",
          "pattern": {
           "shape": ""
          }
         },
         "name": "MATCH-I",
         "offsetgroup": "MATCH-I",
         "orientation": "v",
         "showlegend": true,
         "textposition": "auto",
         "type": "bar",
         "x": [
          "Abdominal Wall",
          "Chest Wall",
          "Liver",
          "Lung",
          "Lymph Node",
          "Pelvis",
          "Soft Tissue",
          "Uterus"
         ],
         "xaxis": "x",
         "y": [
          4,
          8,
          34,
          23,
          2,
          2,
          8,
          2
         ],
         "yaxis": "y"
        },
        {
         "alignmentgroup": "True",
         "hovertemplate": "project.project_id=MATCH-N<br>Anatomic site=%{x}<br>Number of cases=%{y}<extra></extra>",
         "legendgroup": "MATCH-N",
         "marker": {
          "color": "#FECB52",
          "pattern": {
           "shape": ""
          }
         },
         "name": "MATCH-N",
         "offsetgroup": "MATCH-N",
         "orientation": "v",
         "showlegend": true,
         "textposition": "auto",
         "type": "bar",
         "x": [
          "Chest Wall",
          "Frontal Lobe",
          "Liver",
          "Lung",
          "Pelvis",
          "Soft Tissue"
         ],
         "xaxis": "x",
         "y": [
          2,
          1,
          13,
          4,
          6,
          2
         ],
         "yaxis": "y"
        },
        {
         "alignmentgroup": "True",
         "hovertemplate": "project.project_id=MATCH-P<br>Anatomic site=%{x}<br>Number of cases=%{y}<extra></extra>",
         "legendgroup": "MATCH-P",
         "marker": {
          "color": "#636efa",
          "pattern": {
           "shape": ""
          }
         },
         "name": "MATCH-P",
         "offsetgroup": "MATCH-P",
         "orientation": "v",
         "showlegend": true,
         "textposition": "auto",
         "type": "bar",
         "x": [
          "Breast",
          "Liver",
          "Lung",
          "Lymph Node(s) Axilla",
          "Soft Tissue"
         ],
         "xaxis": "x",
         "y": [
          2,
          9,
          4,
          2,
          4
         ],
         "yaxis": "y"
        },
        {
         "alignmentgroup": "True",
         "hovertemplate": "project.project_id=MATCH-Q<br>Anatomic site=%{x}<br>Number of cases=%{y}<extra></extra>",
         "legendgroup": "MATCH-Q",
         "marker": {
          "color": "#EF553B",
          "pattern": {
           "shape": ""
          }
         },
         "name": "MATCH-Q",
         "offsetgroup": "MATCH-Q",
         "orientation": "v",
         "showlegend": true,
         "textposition": "auto",
         "type": "bar",
         "x": [
          "Frontal Lobe",
          "Liver",
          "Lung",
          "Lymph Node",
          "Pelvis",
          "Uterus"
         ],
         "xaxis": "x",
         "y": [
          2,
          21,
          17,
          4,
          2,
          2
         ],
         "yaxis": "y"
        },
        {
         "alignmentgroup": "True",
         "hovertemplate": "project.project_id=MATCH-R<br>Anatomic site=%{x}<br>Number of cases=%{y}<extra></extra>",
         "legendgroup": "MATCH-R",
         "marker": {
          "color": "#00cc96",
          "pattern": {
           "shape": ""
          }
         },
         "name": "MATCH-R",
         "offsetgroup": "MATCH-R",
         "orientation": "v",
         "showlegend": true,
         "textposition": "auto",
         "type": "bar",
         "x": [
          "Liver",
          "Lung",
          "Lymph Node",
          "Soft Tissue"
         ],
         "xaxis": "x",
         "y": [
          17,
          12,
          3,
          2
         ],
         "yaxis": "y"
        },
        {
         "alignmentgroup": "True",
         "hovertemplate": "project.project_id=MATCH-S1<br>Anatomic site=%{x}<br>Number of cases=%{y}<extra></extra>",
         "legendgroup": "MATCH-S1",
         "marker": {
          "color": "#ab63fa",
          "pattern": {
           "shape": ""
          }
         },
         "name": "MATCH-S1",
         "offsetgroup": "MATCH-S1",
         "orientation": "v",
         "showlegend": true,
         "textposition": "auto",
         "type": "bar",
         "x": [
          "Abdomen",
          "Bone",
          "Frontal Lobe",
          "Kidney",
          "Liver",
          "Lung",
          "Lymph Node"
         ],
         "xaxis": "x",
         "y": [
          2,
          2,
          4,
          2,
          21,
          10,
          2
         ],
         "yaxis": "y"
        },
        {
         "alignmentgroup": "True",
         "hovertemplate": "project.project_id=MATCH-S2<br>Anatomic site=%{x}<br>Number of cases=%{y}<extra></extra>",
         "legendgroup": "MATCH-S2",
         "marker": {
          "color": "#FFA15A",
          "pattern": {
           "shape": ""
          }
         },
         "name": "MATCH-S2",
         "offsetgroup": "MATCH-S2",
         "orientation": "v",
         "showlegend": true,
         "textposition": "auto",
         "type": "bar",
         "x": [
          "Lung"
         ],
         "xaxis": "x",
         "y": [
          2
         ],
         "yaxis": "y"
        },
        {
         "alignmentgroup": "True",
         "hovertemplate": "project.project_id=MATCH-U<br>Anatomic site=%{x}<br>Number of cases=%{y}<extra></extra>",
         "legendgroup": "MATCH-U",
         "marker": {
          "color": "#19d3f3",
          "pattern": {
           "shape": ""
          }
         },
         "name": "MATCH-U",
         "offsetgroup": "MATCH-U",
         "orientation": "v",
         "showlegend": true,
         "textposition": "auto",
         "type": "bar",
         "x": [
          "Abdomen",
          "Abdominal Wall",
          "Bone",
          "Brain",
          "Liver",
          "Lung",
          "Soft Tissue"
         ],
         "xaxis": "x",
         "y": [
          2,
          2,
          2,
          2,
          10,
          2,
          3
         ],
         "yaxis": "y"
        },
        {
         "alignmentgroup": "True",
         "hovertemplate": "project.project_id=MATCH-W<br>Anatomic site=%{x}<br>Number of cases=%{y}<extra></extra>",
         "legendgroup": "MATCH-W",
         "marker": {
          "color": "#FF6692",
          "pattern": {
           "shape": ""
          }
         },
         "name": "MATCH-W",
         "offsetgroup": "MATCH-W",
         "orientation": "v",
         "showlegend": true,
         "textposition": "auto",
         "type": "bar",
         "x": [
          "Abdomen",
          "Bone",
          "Breast",
          "Chest Wall",
          "Frontal Lobe",
          "Kidney",
          "Liver",
          "Lung",
          "Lymph Node",
          "Soft Tissue"
         ],
         "xaxis": "x",
         "y": [
          2,
          1,
          4,
          4,
          2,
          2,
          31,
          10,
          2,
          13
         ],
         "yaxis": "y"
        },
        {
         "alignmentgroup": "True",
         "hovertemplate": "project.project_id=MATCH-Y<br>Anatomic site=%{x}<br>Number of cases=%{y}<extra></extra>",
         "legendgroup": "MATCH-Y",
         "marker": {
          "color": "#B6E880",
          "pattern": {
           "shape": ""
          }
         },
         "name": "MATCH-Y",
         "offsetgroup": "MATCH-Y",
         "orientation": "v",
         "showlegend": true,
         "textposition": "auto",
         "type": "bar",
         "x": [
          "Abdomen",
          "Abdominal Wall",
          "Breast",
          "Chest Wall",
          "Liver",
          "Lung",
          "Lymph Node(s) Axilla",
          "Soft Tissue"
         ],
         "xaxis": "x",
         "y": [
          2,
          7,
          4,
          6,
          17,
          3,
          2,
          2
         ],
         "yaxis": "y"
        },
        {
         "alignmentgroup": "True",
         "hovertemplate": "project.project_id=MATCH-Z1A<br>Anatomic site=%{x}<br>Number of cases=%{y}<extra></extra>",
         "legendgroup": "MATCH-Z1A",
         "marker": {
          "color": "#FF97FF",
          "pattern": {
           "shape": ""
          }
         },
         "name": "MATCH-Z1A",
         "offsetgroup": "MATCH-Z1A",
         "orientation": "v",
         "showlegend": true,
         "textposition": "auto",
         "type": "bar",
         "x": [
          "Abdominal Wall",
          "Chest Wall",
          "Liver",
          "Lung",
          "Maxilla",
          "Pelvis",
          "Soft Tissue"
         ],
         "xaxis": "x",
         "y": [
          2,
          2,
          31,
          22,
          2,
          8,
          2
         ],
         "yaxis": "y"
        },
        {
         "alignmentgroup": "True",
         "hovertemplate": "project.project_id=MATCH-Z1B<br>Anatomic site=%{x}<br>Number of cases=%{y}<extra></extra>",
         "legendgroup": "MATCH-Z1B",
         "marker": {
          "color": "#FECB52",
          "pattern": {
           "shape": ""
          }
         },
         "name": "MATCH-Z1B",
         "offsetgroup": "MATCH-Z1B",
         "orientation": "v",
         "showlegend": true,
         "textposition": "auto",
         "type": "bar",
         "x": [
          "Abdomen",
          "Liver",
          "Lung",
          "Lymph Node",
          "Soft Tissue"
         ],
         "xaxis": "x",
         "y": [
          2,
          12,
          8,
          6,
          9
         ],
         "yaxis": "y"
        },
        {
         "alignmentgroup": "True",
         "hovertemplate": "project.project_id=MATCH-Z1D<br>Anatomic site=%{x}<br>Number of cases=%{y}<extra></extra>",
         "legendgroup": "MATCH-Z1D",
         "marker": {
          "color": "#636efa",
          "pattern": {
           "shape": ""
          }
         },
         "name": "MATCH-Z1D",
         "offsetgroup": "MATCH-Z1D",
         "orientation": "v",
         "showlegend": true,
         "textposition": "auto",
         "type": "bar",
         "x": [
          "Abdomen",
          "Abdominal Wall",
          "Brain",
          "Breast",
          "Liver",
          "Lung",
          "Lymph Node",
          "Other",
          "Prostate",
          "Uterus"
         ],
         "xaxis": "x",
         "y": [
          2,
          1,
          2,
          2,
          18,
          2,
          7,
          4,
          2,
          4
         ],
         "yaxis": "y"
        },
        {
         "alignmentgroup": "True",
         "hovertemplate": "project.project_id=MATCH-Z1I<br>Anatomic site=%{x}<br>Number of cases=%{y}<extra></extra>",
         "legendgroup": "MATCH-Z1I",
         "marker": {
          "color": "#EF553B",
          "pattern": {
           "shape": ""
          }
         },
         "name": "MATCH-Z1I",
         "offsetgroup": "MATCH-Z1I",
         "orientation": "v",
         "showlegend": true,
         "textposition": "auto",
         "type": "bar",
         "x": [
          "Abdominal Wall",
          "Liver",
          "Lung",
          "Lymph Node",
          "Other",
          "Pelvis"
         ],
         "xaxis": "x",
         "y": [
          2,
          20,
          10,
          6,
          2,
          4
         ],
         "yaxis": "y"
        },
        {
         "alignmentgroup": "True",
         "hovertemplate": "project.project_id=MP2PRT-ALL<br>Anatomic site=%{x}<br>Number of cases=%{y}<extra></extra>",
         "legendgroup": "MP2PRT-ALL",
         "marker": {
          "color": "#00cc96",
          "pattern": {
           "shape": ""
          }
         },
         "name": "MP2PRT-ALL",
         "offsetgroup": "MP2PRT-ALL",
         "orientation": "v",
         "showlegend": true,
         "textposition": "auto",
         "type": "bar",
         "x": [
          "Blood",
          "Bone Marrow"
         ],
         "xaxis": "x",
         "y": [
          1579,
          1502
         ],
         "yaxis": "y"
        },
        {
         "alignmentgroup": "True",
         "hovertemplate": "project.project_id=MP2PRT-WT<br>Anatomic site=%{x}<br>Number of cases=%{y}<extra></extra>",
         "legendgroup": "MP2PRT-WT",
         "marker": {
          "color": "#ab63fa",
          "pattern": {
           "shape": ""
          }
         },
         "name": "MP2PRT-WT",
         "offsetgroup": "MP2PRT-WT",
         "orientation": "v",
         "showlegend": true,
         "textposition": "auto",
         "type": "bar",
         "x": [
          "Abdomen",
          "Blood",
          "Brain",
          "Kidney",
          "Liver",
          "Lung"
         ],
         "xaxis": "x",
         "y": [
          21,
          44,
          1,
          54,
          2,
          27
         ],
         "yaxis": "y"
        },
        {
         "alignmentgroup": "True",
         "hovertemplate": "project.project_id=REBC-THYR<br>Anatomic site=%{x}<br>Number of cases=%{y}<extra></extra>",
         "legendgroup": "REBC-THYR",
         "marker": {
          "color": "#FFA15A",
          "pattern": {
           "shape": ""
          }
         },
         "name": "REBC-THYR",
         "offsetgroup": "REBC-THYR",
         "orientation": "v",
         "showlegend": true,
         "textposition": "auto",
         "type": "bar",
         "x": [
          "Thyroid"
         ],
         "xaxis": "x",
         "y": [
          254
         ],
         "yaxis": "y"
        },
        {
         "alignmentgroup": "True",
         "hovertemplate": "project.project_id=WCDT-MCRPC<br>Anatomic site=%{x}<br>Number of cases=%{y}<extra></extra>",
         "legendgroup": "WCDT-MCRPC",
         "marker": {
          "color": "#19d3f3",
          "pattern": {
           "shape": ""
          }
         },
         "name": "WCDT-MCRPC",
         "offsetgroup": "WCDT-MCRPC",
         "orientation": "v",
         "showlegend": true,
         "textposition": "auto",
         "type": "bar",
         "x": [
          "Blood",
          "Bone",
          "Liver",
          "Lymph Node",
          "Other"
         ],
         "xaxis": "x",
         "y": [
          101,
          53,
          10,
          38,
          8
         ],
         "yaxis": "y"
        }
       ],
       "layout": {
        "autosize": true,
        "barmode": "relative",
        "legend": {
         "title": {
          "text": "project.project_id"
         },
         "tracegroupgap": 0
        },
        "template": {
         "data": {
          "bar": [
           {
            "error_x": {
             "color": "#2a3f5f"
            },
            "error_y": {
             "color": "#2a3f5f"
            },
            "marker": {
             "line": {
              "color": "#E5ECF6",
              "width": 0.5
             },
             "pattern": {
              "fillmode": "overlay",
              "size": 10,
              "solidity": 0.2
             }
            },
            "type": "bar"
           }
          ],
          "barpolar": [
           {
            "marker": {
             "line": {
              "color": "#E5ECF6",
              "width": 0.5
             },
             "pattern": {
              "fillmode": "overlay",
              "size": 10,
              "solidity": 0.2
             }
            },
            "type": "barpolar"
           }
          ],
          "carpet": [
           {
            "aaxis": {
             "endlinecolor": "#2a3f5f",
             "gridcolor": "white",
             "linecolor": "white",
             "minorgridcolor": "white",
             "startlinecolor": "#2a3f5f"
            },
            "baxis": {
             "endlinecolor": "#2a3f5f",
             "gridcolor": "white",
             "linecolor": "white",
             "minorgridcolor": "white",
             "startlinecolor": "#2a3f5f"
            },
            "type": "carpet"
           }
          ],
          "choropleth": [
           {
            "colorbar": {
             "outlinewidth": 0,
             "ticks": ""
            },
            "type": "choropleth"
           }
          ],
          "contour": [
           {
            "colorbar": {
             "outlinewidth": 0,
             "ticks": ""
            },
            "colorscale": [
             [
              0,
              "#0d0887"
             ],
             [
              0.1111111111111111,
              "#46039f"
             ],
             [
              0.2222222222222222,
              "#7201a8"
             ],
             [
              0.3333333333333333,
              "#9c179e"
             ],
             [
              0.4444444444444444,
              "#bd3786"
             ],
             [
              0.5555555555555556,
              "#d8576b"
             ],
             [
              0.6666666666666666,
              "#ed7953"
             ],
             [
              0.7777777777777778,
              "#fb9f3a"
             ],
             [
              0.8888888888888888,
              "#fdca26"
             ],
             [
              1,
              "#f0f921"
             ]
            ],
            "type": "contour"
           }
          ],
          "contourcarpet": [
           {
            "colorbar": {
             "outlinewidth": 0,
             "ticks": ""
            },
            "type": "contourcarpet"
           }
          ],
          "heatmap": [
           {
            "colorbar": {
             "outlinewidth": 0,
             "ticks": ""
            },
            "colorscale": [
             [
              0,
              "#0d0887"
             ],
             [
              0.1111111111111111,
              "#46039f"
             ],
             [
              0.2222222222222222,
              "#7201a8"
             ],
             [
              0.3333333333333333,
              "#9c179e"
             ],
             [
              0.4444444444444444,
              "#bd3786"
             ],
             [
              0.5555555555555556,
              "#d8576b"
             ],
             [
              0.6666666666666666,
              "#ed7953"
             ],
             [
              0.7777777777777778,
              "#fb9f3a"
             ],
             [
              0.8888888888888888,
              "#fdca26"
             ],
             [
              1,
              "#f0f921"
             ]
            ],
            "type": "heatmap"
           }
          ],
          "heatmapgl": [
           {
            "colorbar": {
             "outlinewidth": 0,
             "ticks": ""
            },
            "colorscale": [
             [
              0,
              "#0d0887"
             ],
             [
              0.1111111111111111,
              "#46039f"
             ],
             [
              0.2222222222222222,
              "#7201a8"
             ],
             [
              0.3333333333333333,
              "#9c179e"
             ],
             [
              0.4444444444444444,
              "#bd3786"
             ],
             [
              0.5555555555555556,
              "#d8576b"
             ],
             [
              0.6666666666666666,
              "#ed7953"
             ],
             [
              0.7777777777777778,
              "#fb9f3a"
             ],
             [
              0.8888888888888888,
              "#fdca26"
             ],
             [
              1,
              "#f0f921"
             ]
            ],
            "type": "heatmapgl"
           }
          ],
          "histogram": [
           {
            "marker": {
             "pattern": {
              "fillmode": "overlay",
              "size": 10,
              "solidity": 0.2
             }
            },
            "type": "histogram"
           }
          ],
          "histogram2d": [
           {
            "colorbar": {
             "outlinewidth": 0,
             "ticks": ""
            },
            "colorscale": [
             [
              0,
              "#0d0887"
             ],
             [
              0.1111111111111111,
              "#46039f"
             ],
             [
              0.2222222222222222,
              "#7201a8"
             ],
             [
              0.3333333333333333,
              "#9c179e"
             ],
             [
              0.4444444444444444,
              "#bd3786"
             ],
             [
              0.5555555555555556,
              "#d8576b"
             ],
             [
              0.6666666666666666,
              "#ed7953"
             ],
             [
              0.7777777777777778,
              "#fb9f3a"
             ],
             [
              0.8888888888888888,
              "#fdca26"
             ],
             [
              1,
              "#f0f921"
             ]
            ],
            "type": "histogram2d"
           }
          ],
          "histogram2dcontour": [
           {
            "colorbar": {
             "outlinewidth": 0,
             "ticks": ""
            },
            "colorscale": [
             [
              0,
              "#0d0887"
             ],
             [
              0.1111111111111111,
              "#46039f"
             ],
             [
              0.2222222222222222,
              "#7201a8"
             ],
             [
              0.3333333333333333,
              "#9c179e"
             ],
             [
              0.4444444444444444,
              "#bd3786"
             ],
             [
              0.5555555555555556,
              "#d8576b"
             ],
             [
              0.6666666666666666,
              "#ed7953"
             ],
             [
              0.7777777777777778,
              "#fb9f3a"
             ],
             [
              0.8888888888888888,
              "#fdca26"
             ],
             [
              1,
              "#f0f921"
             ]
            ],
            "type": "histogram2dcontour"
           }
          ],
          "mesh3d": [
           {
            "colorbar": {
             "outlinewidth": 0,
             "ticks": ""
            },
            "type": "mesh3d"
           }
          ],
          "parcoords": [
           {
            "line": {
             "colorbar": {
              "outlinewidth": 0,
              "ticks": ""
             }
            },
            "type": "parcoords"
           }
          ],
          "pie": [
           {
            "automargin": true,
            "type": "pie"
           }
          ],
          "scatter": [
           {
            "fillpattern": {
             "fillmode": "overlay",
             "size": 10,
             "solidity": 0.2
            },
            "type": "scatter"
           }
          ],
          "scatter3d": [
           {
            "line": {
             "colorbar": {
              "outlinewidth": 0,
              "ticks": ""
             }
            },
            "marker": {
             "colorbar": {
              "outlinewidth": 0,
              "ticks": ""
             }
            },
            "type": "scatter3d"
           }
          ],
          "scattercarpet": [
           {
            "marker": {
             "colorbar": {
              "outlinewidth": 0,
              "ticks": ""
             }
            },
            "type": "scattercarpet"
           }
          ],
          "scattergeo": [
           {
            "marker": {
             "colorbar": {
              "outlinewidth": 0,
              "ticks": ""
             }
            },
            "type": "scattergeo"
           }
          ],
          "scattergl": [
           {
            "marker": {
             "colorbar": {
              "outlinewidth": 0,
              "ticks": ""
             }
            },
            "type": "scattergl"
           }
          ],
          "scattermapbox": [
           {
            "marker": {
             "colorbar": {
              "outlinewidth": 0,
              "ticks": ""
             }
            },
            "type": "scattermapbox"
           }
          ],
          "scatterpolar": [
           {
            "marker": {
             "colorbar": {
              "outlinewidth": 0,
              "ticks": ""
             }
            },
            "type": "scatterpolar"
           }
          ],
          "scatterpolargl": [
           {
            "marker": {
             "colorbar": {
              "outlinewidth": 0,
              "ticks": ""
             }
            },
            "type": "scatterpolargl"
           }
          ],
          "scatterternary": [
           {
            "marker": {
             "colorbar": {
              "outlinewidth": 0,
              "ticks": ""
             }
            },
            "type": "scatterternary"
           }
          ],
          "surface": [
           {
            "colorbar": {
             "outlinewidth": 0,
             "ticks": ""
            },
            "colorscale": [
             [
              0,
              "#0d0887"
             ],
             [
              0.1111111111111111,
              "#46039f"
             ],
             [
              0.2222222222222222,
              "#7201a8"
             ],
             [
              0.3333333333333333,
              "#9c179e"
             ],
             [
              0.4444444444444444,
              "#bd3786"
             ],
             [
              0.5555555555555556,
              "#d8576b"
             ],
             [
              0.6666666666666666,
              "#ed7953"
             ],
             [
              0.7777777777777778,
              "#fb9f3a"
             ],
             [
              0.8888888888888888,
              "#fdca26"
             ],
             [
              1,
              "#f0f921"
             ]
            ],
            "type": "surface"
           }
          ],
          "table": [
           {
            "cells": {
             "fill": {
              "color": "#EBF0F8"
             },
             "line": {
              "color": "white"
             }
            },
            "header": {
             "fill": {
              "color": "#C8D4E3"
             },
             "line": {
              "color": "white"
             }
            },
            "type": "table"
           }
          ]
         },
         "layout": {
          "annotationdefaults": {
           "arrowcolor": "#2a3f5f",
           "arrowhead": 0,
           "arrowwidth": 1
          },
          "autotypenumbers": "strict",
          "coloraxis": {
           "colorbar": {
            "outlinewidth": 0,
            "ticks": ""
           }
          },
          "colorscale": {
           "diverging": [
            [
             0,
             "#8e0152"
            ],
            [
             0.1,
             "#c51b7d"
            ],
            [
             0.2,
             "#de77ae"
            ],
            [
             0.3,
             "#f1b6da"
            ],
            [
             0.4,
             "#fde0ef"
            ],
            [
             0.5,
             "#f7f7f7"
            ],
            [
             0.6,
             "#e6f5d0"
            ],
            [
             0.7,
             "#b8e186"
            ],
            [
             0.8,
             "#7fbc41"
            ],
            [
             0.9,
             "#4d9221"
            ],
            [
             1,
             "#276419"
            ]
           ],
           "sequential": [
            [
             0,
             "#0d0887"
            ],
            [
             0.1111111111111111,
             "#46039f"
            ],
            [
             0.2222222222222222,
             "#7201a8"
            ],
            [
             0.3333333333333333,
             "#9c179e"
            ],
            [
             0.4444444444444444,
             "#bd3786"
            ],
            [
             0.5555555555555556,
             "#d8576b"
            ],
            [
             0.6666666666666666,
             "#ed7953"
            ],
            [
             0.7777777777777778,
             "#fb9f3a"
            ],
            [
             0.8888888888888888,
             "#fdca26"
            ],
            [
             1,
             "#f0f921"
            ]
           ],
           "sequentialminus": [
            [
             0,
             "#0d0887"
            ],
            [
             0.1111111111111111,
             "#46039f"
            ],
            [
             0.2222222222222222,
             "#7201a8"
            ],
            [
             0.3333333333333333,
             "#9c179e"
            ],
            [
             0.4444444444444444,
             "#bd3786"
            ],
            [
             0.5555555555555556,
             "#d8576b"
            ],
            [
             0.6666666666666666,
             "#ed7953"
            ],
            [
             0.7777777777777778,
             "#fb9f3a"
            ],
            [
             0.8888888888888888,
             "#fdca26"
            ],
            [
             1,
             "#f0f921"
            ]
           ]
          },
          "colorway": [
           "#636efa",
           "#EF553B",
           "#00cc96",
           "#ab63fa",
           "#FFA15A",
           "#19d3f3",
           "#FF6692",
           "#B6E880",
           "#FF97FF",
           "#FECB52"
          ],
          "font": {
           "color": "#2a3f5f"
          },
          "geo": {
           "bgcolor": "white",
           "lakecolor": "white",
           "landcolor": "#E5ECF6",
           "showlakes": true,
           "showland": true,
           "subunitcolor": "white"
          },
          "hoverlabel": {
           "align": "left"
          },
          "hovermode": "closest",
          "mapbox": {
           "style": "light"
          },
          "paper_bgcolor": "white",
          "plot_bgcolor": "#E5ECF6",
          "polar": {
           "angularaxis": {
            "gridcolor": "white",
            "linecolor": "white",
            "ticks": ""
           },
           "bgcolor": "#E5ECF6",
           "radialaxis": {
            "gridcolor": "white",
            "linecolor": "white",
            "ticks": ""
           }
          },
          "scene": {
           "xaxis": {
            "backgroundcolor": "#E5ECF6",
            "gridcolor": "white",
            "gridwidth": 2,
            "linecolor": "white",
            "showbackground": true,
            "ticks": "",
            "zerolinecolor": "white"
           },
           "yaxis": {
            "backgroundcolor": "#E5ECF6",
            "gridcolor": "white",
            "gridwidth": 2,
            "linecolor": "white",
            "showbackground": true,
            "ticks": "",
            "zerolinecolor": "white"
           },
           "zaxis": {
            "backgroundcolor": "#E5ECF6",
            "gridcolor": "white",
            "gridwidth": 2,
            "linecolor": "white",
            "showbackground": true,
            "ticks": "",
            "zerolinecolor": "white"
           }
          },
          "shapedefaults": {
           "line": {
            "color": "#2a3f5f"
           }
          },
          "ternary": {
           "aaxis": {
            "gridcolor": "white",
            "linecolor": "white",
            "ticks": ""
           },
           "baxis": {
            "gridcolor": "white",
            "linecolor": "white",
            "ticks": ""
           },
           "bgcolor": "#E5ECF6",
           "caxis": {
            "gridcolor": "white",
            "linecolor": "white",
            "ticks": ""
           }
          },
          "title": {
           "x": 0.05
          },
          "xaxis": {
           "automargin": true,
           "gridcolor": "white",
           "linecolor": "white",
           "ticks": "",
           "title": {
            "standoff": 15
           },
           "zerolinecolor": "white",
           "zerolinewidth": 2
          },
          "yaxis": {
           "automargin": true,
           "gridcolor": "white",
           "linecolor": "white",
           "ticks": "",
           "title": {
            "standoff": 15
           },
           "zerolinecolor": "white",
           "zerolinewidth": 2
          }
         }
        },
        "title": {
         "text": "Biospecimen anatomic site breakdown by projects from TCGA"
        },
        "xaxis": {
         "anchor": "y",
         "autorange": true,
         "categoryarray": [
          "Blood",
          "Bone Marrow",
          "Lung",
          "Kidney",
          "Uterus",
          "Breast",
          "Liver",
          "Pancreas",
          "Thyroid",
          "Other",
          "Brain",
          "Prostate",
          "Lymph Node",
          "Frontal Lobe",
          "Bone",
          "Tongue",
          "Soft Tissue",
          "Cerebrum",
          "Maxilla",
          "Abdomen",
          "Chest Wall",
          "Lymph Node(s) Axilla",
          "Abdominal Wall",
          "Pelvis"
         ],
         "categoryorder": "array",
         "domain": [
          0,
          1
         ],
         "range": [
          -0.5,
          23.5
         ],
         "title": {
          "text": "Anatomic site"
         },
         "type": "category"
        },
        "yaxis": {
         "anchor": "x",
         "autorange": true,
         "domain": [
          0,
          1
         ],
         "range": [
          0,
          3157.8947368421054
         ],
         "title": {
          "text": "Number of cases"
         },
         "type": "linear"
        }
       }
      },
      "image/png": "[encoded data removed]",
      "text/html": [
       "<div>                            <div id=\"934f92ef-1fa8-4d2c-b1a8-f512f061e080\" class=\"plotly-graph-div\" style=\"height:525px; width:100%;\"></div>            <script type=\"text/javascript\">                require([\"plotly\"], function(Plotly) {                    window.PLOTLYENV=window.PLOTLYENV || {};                                    if (document.getElementById(\"934f92ef-1fa8-4d2c-b1a8-f512f061e080\")) {                    Plotly.newPlot(                        \"934f92ef-1fa8-4d2c-b1a8-f512f061e080\",                        [{\"alignmentgroup\":\"True\",\"hovertemplate\":\"project.project_id=CGCI-BLGSP\\u003cbr\\u003eAnatomic site=%{x}\\u003cbr\\u003eNumber of cases=%{y}\\u003cextra\\u003e\\u003c\\u002fextra\\u003e\",\"legendgroup\":\"CGCI-BLGSP\",\"marker\":{\"color\":\"#636efa\",\"pattern\":{\"shape\":\"\"}},\"name\":\"CGCI-BLGSP\",\"offsetgroup\":\"CGCI-BLGSP\",\"orientation\":\"v\",\"showlegend\":true,\"textposition\":\"auto\",\"x\":[\"Abdomen\",\"Bone Marrow\",\"Kidney\",\"Liver\",\"Lymph Node\",\"Lymph Node(s) Axilla\",\"Maxilla\",\"Other\",\"Soft Tissue\",\"Uterus\"],\"xaxis\":\"x\",\"y\":[9,9,3,8,10,3,47,29,3,1],\"yaxis\":\"y\",\"type\":\"bar\"},{\"alignmentgroup\":\"True\",\"hovertemplate\":\"project.project_id=CMI-ASC\\u003cbr\\u003eAnatomic site=%{x}\\u003cbr\\u003eNumber of cases=%{y}\\u003cextra\\u003e\\u003c\\u002fextra\\u003e\",\"legendgroup\":\"CMI-ASC\",\"marker\":{\"color\":\"#EF553B\",\"pattern\":{\"shape\":\"\"}},\"name\":\"CMI-ASC\",\"offsetgroup\":\"CMI-ASC\",\"orientation\":\"v\",\"showlegend\":true,\"textposition\":\"auto\",\"x\":[\"Abdomen\",\"Blood\",\"Breast\",\"Chest Wall\",\"Lung\",\"Other\"],\"xaxis\":\"x\",\"y\":[1,5,26,5,2,32],\"yaxis\":\"y\",\"type\":\"bar\"},{\"alignmentgroup\":\"True\",\"hovertemplate\":\"project.project_id=CMI-MBC\\u003cbr\\u003eAnatomic site=%{x}\\u003cbr\\u003eNumber of cases=%{y}\\u003cextra\\u003e\\u003c\\u002fextra\\u003e\",\"legendgroup\":\"CMI-MBC\",\"marker\":{\"color\":\"#00cc96\",\"pattern\":{\"shape\":\"\"}},\"name\":\"CMI-MBC\",\"offsetgroup\":\"CMI-MBC\",\"orientation\":\"v\",\"showlegend\":true,\"textposition\":\"auto\",\"x\":[\"Blood\",\"Bone\",\"Bone Marrow\",\"Brain\",\"Breast\",\"Chest Wall\",\"Liver\",\"Lung\",\"Lymph Node(s) Axilla\",\"Other\",\"Soft Tissue\",\"Thyroid\"],\"xaxis\":\"x\",\"y\":[1,19,1,7,369,6,14,4,21,179,3,1],\"yaxis\":\"y\",\"type\":\"bar\"},{\"alignmentgroup\":\"True\",\"hovertemplate\":\"project.project_id=CMI-MPC\\u003cbr\\u003eAnatomic site=%{x}\\u003cbr\\u003eNumber of cases=%{y}\\u003cextra\\u003e\\u003c\\u002fextra\\u003e\",\"legendgroup\":\"CMI-MPC\",\"marker\":{\"color\":\"#ab63fa\",\"pattern\":{\"shape\":\"\"}},\"name\":\"CMI-MPC\",\"offsetgroup\":\"CMI-MPC\",\"orientation\":\"v\",\"showlegend\":true,\"textposition\":\"auto\",\"x\":[\"Prostate\"],\"xaxis\":\"x\",\"y\":[163],\"yaxis\":\"y\",\"type\":\"bar\"},{\"alignmentgroup\":\"True\",\"hovertemplate\":\"project.project_id=CPTAC-3\\u003cbr\\u003eAnatomic site=%{x}\\u003cbr\\u003eNumber of cases=%{y}\\u003cextra\\u003e\\u003c\\u002fextra\\u003e\",\"legendgroup\":\"CPTAC-3\",\"marker\":{\"color\":\"#FFA15A\",\"pattern\":{\"shape\":\"\"}},\"name\":\"CPTAC-3\",\"offsetgroup\":\"CPTAC-3\",\"orientation\":\"v\",\"showlegend\":true,\"textposition\":\"auto\",\"x\":[\"Blood\",\"Brain\",\"Cerebrum\",\"Frontal Lobe\",\"Kidney\",\"Lung\",\"Pancreas\",\"Tongue\",\"Uterus\"],\"xaxis\":\"x\",\"y\":[1270,164,50,68,561,756,323,57,539],\"yaxis\":\"y\",\"type\":\"bar\"},{\"alignmentgroup\":\"True\",\"hovertemplate\":\"project.project_id=MATCH-B\\u003cbr\\u003eAnatomic site=%{x}\\u003cbr\\u003eNumber of cases=%{y}\\u003cextra\\u003e\\u003c\\u002fextra\\u003e\",\"legendgroup\":\"MATCH-B\",\"marker\":{\"color\":\"#19d3f3\",\"pattern\":{\"shape\":\"\"}},\"name\":\"MATCH-B\",\"offsetgroup\":\"MATCH-B\",\"orientation\":\"v\",\"showlegend\":true,\"textposition\":\"auto\",\"x\":[\"Breast\",\"Liver\",\"Lung\",\"Lymph Node\",\"Soft Tissue\"],\"xaxis\":\"x\",\"y\":[2,27,5,6,6],\"yaxis\":\"y\",\"type\":\"bar\"},{\"alignmentgroup\":\"True\",\"hovertemplate\":\"project.project_id=MATCH-C1\\u003cbr\\u003eAnatomic site=%{x}\\u003cbr\\u003eNumber of cases=%{y}\\u003cextra\\u003e\\u003c\\u002fextra\\u003e\",\"legendgroup\":\"MATCH-C1\",\"marker\":{\"color\":\"#FF6692\",\"pattern\":{\"shape\":\"\"}},\"name\":\"MATCH-C1\",\"offsetgroup\":\"MATCH-C1\",\"orientation\":\"v\",\"showlegend\":true,\"textposition\":\"auto\",\"x\":[\"Abdominal Wall\",\"Chest Wall\",\"Liver\",\"Lung\"],\"xaxis\":\"x\",\"y\":[2,2,7,5],\"yaxis\":\"y\",\"type\":\"bar\"},{\"alignmentgroup\":\"True\",\"hovertemplate\":\"project.project_id=MATCH-H\\u003cbr\\u003eAnatomic site=%{x}\\u003cbr\\u003eNumber of cases=%{y}\\u003cextra\\u003e\\u003c\\u002fextra\\u003e\",\"legendgroup\":\"MATCH-H\",\"marker\":{\"color\":\"#B6E880\",\"pattern\":{\"shape\":\"\"}},\"name\":\"MATCH-H\",\"offsetgroup\":\"MATCH-H\",\"orientation\":\"v\",\"showlegend\":true,\"textposition\":\"auto\",\"x\":[\"Abdomen\",\"Abdominal Wall\",\"Brain\",\"Liver\",\"Lung\",\"Lymph Node\"],\"xaxis\":\"x\",\"y\":[2,4,4,14,4,4],\"yaxis\":\"y\",\"type\":\"bar\"},{\"alignmentgroup\":\"True\",\"hovertemplate\":\"project.project_id=MATCH-I\\u003cbr\\u003eAnatomic site=%{x}\\u003cbr\\u003eNumber of cases=%{y}\\u003cextra\\u003e\\u003c\\u002fextra\\u003e\",\"legendgroup\":\"MATCH-I\",\"marker\":{\"color\":\"#FF97FF\",\"pattern\":{\"shape\":\"\"}},\"name\":\"MATCH-I\",\"offsetgroup\":\"MATCH-I\",\"orientation\":\"v\",\"showlegend\":true,\"textposition\":\"auto\",\"x\":[\"Abdominal Wall\",\"Chest Wall\",\"Liver\",\"Lung\",\"Lymph Node\",\"Pelvis\",\"Soft Tissue\",\"Uterus\"],\"xaxis\":\"x\",\"y\":[4,8,34,23,2,2,8,2],\"yaxis\":\"y\",\"type\":\"bar\"},{\"alignmentgroup\":\"True\",\"hovertemplate\":\"project.project_id=MATCH-N\\u003cbr\\u003eAnatomic site=%{x}\\u003cbr\\u003eNumber of cases=%{y}\\u003cextra\\u003e\\u003c\\u002fextra\\u003e\",\"legendgroup\":\"MATCH-N\",\"marker\":{\"color\":\"#FECB52\",\"pattern\":{\"shape\":\"\"}},\"name\":\"MATCH-N\",\"offsetgroup\":\"MATCH-N\",\"orientation\":\"v\",\"showlegend\":true,\"textposition\":\"auto\",\"x\":[\"Chest Wall\",\"Frontal Lobe\",\"Liver\",\"Lung\",\"Pelvis\",\"Soft Tissue\"],\"xaxis\":\"x\",\"y\":[2,1,13,4,6,2],\"yaxis\":\"y\",\"type\":\"bar\"},{\"alignmentgroup\":\"True\",\"hovertemplate\":\"project.project_id=MATCH-P\\u003cbr\\u003eAnatomic site=%{x}\\u003cbr\\u003eNumber of cases=%{y}\\u003cextra\\u003e\\u003c\\u002fextra\\u003e\",\"legendgroup\":\"MATCH-P\",\"marker\":{\"color\":\"#636efa\",\"pattern\":{\"shape\":\"\"}},\"name\":\"MATCH-P\",\"offsetgroup\":\"MATCH-P\",\"orientation\":\"v\",\"showlegend\":true,\"textposition\":\"auto\",\"x\":[\"Breast\",\"Liver\",\"Lung\",\"Lymph Node(s) Axilla\",\"Soft Tissue\"],\"xaxis\":\"x\",\"y\":[2,9,4,2,4],\"yaxis\":\"y\",\"type\":\"bar\"},{\"alignmentgroup\":\"True\",\"hovertemplate\":\"project.project_id=MATCH-Q\\u003cbr\\u003eAnatomic site=%{x}\\u003cbr\\u003eNumber of cases=%{y}\\u003cextra\\u003e\\u003c\\u002fextra\\u003e\",\"legendgroup\":\"MATCH-Q\",\"marker\":{\"color\":\"#EF553B\",\"pattern\":{\"shape\":\"\"}},\"name\":\"MATCH-Q\",\"offsetgroup\":\"MATCH-Q\",\"orientation\":\"v\",\"showlegend\":true,\"textposition\":\"auto\",\"x\":[\"Frontal Lobe\",\"Liver\",\"Lung\",\"Lymph Node\",\"Pelvis\",\"Uterus\"],\"xaxis\":\"x\",\"y\":[2,21,17,4,2,2],\"yaxis\":\"y\",\"type\":\"bar\"},{\"alignmentgroup\":\"True\",\"hovertemplate\":\"project.project_id=MATCH-R\\u003cbr\\u003eAnatomic site=%{x}\\u003cbr\\u003eNumber of cases=%{y}\\u003cextra\\u003e\\u003c\\u002fextra\\u003e\",\"legendgroup\":\"MATCH-R\",\"marker\":{\"color\":\"#00cc96\",\"pattern\":{\"shape\":\"\"}},\"name\":\"MATCH-R\",\"offsetgroup\":\"MATCH-R\",\"orientation\":\"v\",\"showlegend\":true,\"textposition\":\"auto\",\"x\":[\"Liver\",\"Lung\",\"Lymph Node\",\"Soft Tissue\"],\"xaxis\":\"x\",\"y\":[17,12,3,2],\"yaxis\":\"y\",\"type\":\"bar\"},{\"alignmentgroup\":\"True\",\"hovertemplate\":\"project.project_id=MATCH-S1\\u003cbr\\u003eAnatomic site=%{x}\\u003cbr\\u003eNumber of cases=%{y}\\u003cextra\\u003e\\u003c\\u002fextra\\u003e\",\"legendgroup\":\"MATCH-S1\",\"marker\":{\"color\":\"#ab63fa\",\"pattern\":{\"shape\":\"\"}},\"name\":\"MATCH-S1\",\"offsetgroup\":\"MATCH-S1\",\"orientation\":\"v\",\"showlegend\":true,\"textposition\":\"auto\",\"x\":[\"Abdomen\",\"Bone\",\"Frontal Lobe\",\"Kidney\",\"Liver\",\"Lung\",\"Lymph Node\"],\"xaxis\":\"x\",\"y\":[2,2,4,2,21,10,2],\"yaxis\":\"y\",\"type\":\"bar\"},{\"alignmentgroup\":\"True\",\"hovertemplate\":\"project.project_id=MATCH-S2\\u003cbr\\u003eAnatomic site=%{x}\\u003cbr\\u003eNumber of cases=%{y}\\u003cextra\\u003e\\u003c\\u002fextra\\u003e\",\"legendgroup\":\"MATCH-S2\",\"marker\":{\"color\":\"#FFA15A\",\"pattern\":{\"shape\":\"\"}},\"name\":\"MATCH-S2\",\"offsetgroup\":\"MATCH-S2\",\"orientation\":\"v\",\"showlegend\":true,\"textposition\":\"auto\",\"x\":[\"Lung\"],\"xaxis\":\"x\",\"y\":[2],\"yaxis\":\"y\",\"type\":\"bar\"},{\"alignmentgroup\":\"True\",\"hovertemplate\":\"project.project_id=MATCH-U\\u003cbr\\u003eAnatomic site=%{x}\\u003cbr\\u003eNumber of cases=%{y}\\u003cextra\\u003e\\u003c\\u002fextra\\u003e\",\"legendgroup\":\"MATCH-U\",\"marker\":{\"color\":\"#19d3f3\",\"pattern\":{\"shape\":\"\"}},\"name\":\"MATCH-U\",\"offsetgroup\":\"MATCH-U\",\"orientation\":\"v\",\"showlegend\":true,\"textposition\":\"auto\",\"x\":[\"Abdomen\",\"Abdominal Wall\",\"Bone\",\"Brain\",\"Liver\",\"Lung\",\"Soft Tissue\"],\"xaxis\":\"x\",\"y\":[2,2,2,2,10,2,3],\"yaxis\":\"y\",\"type\":\"bar\"},{\"alignmentgroup\":\"True\",\"hovertemplate\":\"project.project_id=MATCH-W\\u003cbr\\u003eAnatomic site=%{x}\\u003cbr\\u003eNumber of cases=%{y}\\u003cextra\\u003e\\u003c\\u002fextra\\u003e\",\"legendgroup\":\"MATCH-W\",\"marker\":{\"color\":\"#FF6692\",\"pattern\":{\"shape\":\"\"}},\"name\":\"MATCH-W\",\"offsetgroup\":\"MATCH-W\",\"orientation\":\"v\",\"showlegend\":true,\"textposition\":\"auto\",\"x\":[\"Abdomen\",\"Bone\",\"Breast\",\"Chest Wall\",\"Frontal Lobe\",\"Kidney\",\"Liver\",\"Lung\",\"Lymph Node\",\"Soft Tissue\"],\"xaxis\":\"x\",\"y\":[2,1,4,4,2,2,31,10,2,13],\"yaxis\":\"y\",\"type\":\"bar\"},{\"alignmentgroup\":\"True\",\"hovertemplate\":\"project.project_id=MATCH-Y\\u003cbr\\u003eAnatomic site=%{x}\\u003cbr\\u003eNumber of cases=%{y}\\u003cextra\\u003e\\u003c\\u002fextra\\u003e\",\"legendgroup\":\"MATCH-Y\",\"marker\":{\"color\":\"#B6E880\",\"pattern\":{\"shape\":\"\"}},\"name\":\"MATCH-Y\",\"offsetgroup\":\"MATCH-Y\",\"orientation\":\"v\",\"showlegend\":true,\"textposition\":\"auto\",\"x\":[\"Abdomen\",\"Abdominal Wall\",\"Breast\",\"Chest Wall\",\"Liver\",\"Lung\",\"Lymph Node(s) Axilla\",\"Soft Tissue\"],\"xaxis\":\"x\",\"y\":[2,7,4,6,17,3,2,2],\"yaxis\":\"y\",\"type\":\"bar\"},{\"alignmentgroup\":\"True\",\"hovertemplate\":\"project.project_id=MATCH-Z1A\\u003cbr\\u003eAnatomic site=%{x}\\u003cbr\\u003eNumber of cases=%{y}\\u003cextra\\u003e\\u003c\\u002fextra\\u003e\",\"legendgroup\":\"MATCH-Z1A\",\"marker\":{\"color\":\"#FF97FF\",\"pattern\":{\"shape\":\"\"}},\"name\":\"MATCH-Z1A\",\"offsetgroup\":\"MATCH-Z1A\",\"orientation\":\"v\",\"showlegend\":true,\"textposition\":\"auto\",\"x\":[\"Abdominal Wall\",\"Chest Wall\",\"Liver\",\"Lung\",\"Maxilla\",\"Pelvis\",\"Soft Tissue\"],\"xaxis\":\"x\",\"y\":[2,2,31,22,2,8,2],\"yaxis\":\"y\",\"type\":\"bar\"},{\"alignmentgroup\":\"True\",\"hovertemplate\":\"project.project_id=MATCH-Z1B\\u003cbr\\u003eAnatomic site=%{x}\\u003cbr\\u003eNumber of cases=%{y}\\u003cextra\\u003e\\u003c\\u002fextra\\u003e\",\"legendgroup\":\"MATCH-Z1B\",\"marker\":{\"color\":\"#FECB52\",\"pattern\":{\"shape\":\"\"}},\"name\":\"MATCH-Z1B\",\"offsetgroup\":\"MATCH-Z1B\",\"orientation\":\"v\",\"showlegend\":true,\"textposition\":\"auto\",\"x\":[\"Abdomen\",\"Liver\",\"Lung\",\"Lymph Node\",\"Soft Tissue\"],\"xaxis\":\"x\",\"y\":[2,12,8,6,9],\"yaxis\":\"y\",\"type\":\"bar\"},{\"alignmentgroup\":\"True\",\"hovertemplate\":\"project.project_id=MATCH-Z1D\\u003cbr\\u003eAnatomic site=%{x}\\u003cbr\\u003eNumber of cases=%{y}\\u003cextra\\u003e\\u003c\\u002fextra\\u003e\",\"legendgroup\":\"MATCH-Z1D\",\"marker\":{\"color\":\"#636efa\",\"pattern\":{\"shape\":\"\"}},\"name\":\"MATCH-Z1D\",\"offsetgroup\":\"MATCH-Z1D\",\"orientation\":\"v\",\"showlegend\":true,\"textposition\":\"auto\",\"x\":[\"Abdomen\",\"Abdominal Wall\",\"Brain\",\"Breast\",\"Liver\",\"Lung\",\"Lymph Node\",\"Other\",\"Prostate\",\"Uterus\"],\"xaxis\":\"x\",\"y\":[2,1,2,2,18,2,7,4,2,4],\"yaxis\":\"y\",\"type\":\"bar\"},{\"alignmentgroup\":\"True\",\"hovertemplate\":\"project.project_id=MATCH-Z1I\\u003cbr\\u003eAnatomic site=%{x}\\u003cbr\\u003eNumber of cases=%{y}\\u003cextra\\u003e\\u003c\\u002fextra\\u003e\",\"legendgroup\":\"MATCH-Z1I\",\"marker\":{\"color\":\"#EF553B\",\"pattern\":{\"shape\":\"\"}},\"name\":\"MATCH-Z1I\",\"offsetgroup\":\"MATCH-Z1I\",\"orientation\":\"v\",\"showlegend\":true,\"textposition\":\"auto\",\"x\":[\"Abdominal Wall\",\"Liver\",\"Lung\",\"Lymph Node\",\"Other\",\"Pelvis\"],\"xaxis\":\"x\",\"y\":[2,20,10,6,2,4],\"yaxis\":\"y\",\"type\":\"bar\"},{\"alignmentgroup\":\"True\",\"hovertemplate\":\"project.project_id=MP2PRT-ALL\\u003cbr\\u003eAnatomic site=%{x}\\u003cbr\\u003eNumber of cases=%{y}\\u003cextra\\u003e\\u003c\\u002fextra\\u003e\",\"legendgroup\":\"MP2PRT-ALL\",\"marker\":{\"color\":\"#00cc96\",\"pattern\":{\"shape\":\"\"}},\"name\":\"MP2PRT-ALL\",\"offsetgroup\":\"MP2PRT-ALL\",\"orientation\":\"v\",\"showlegend\":true,\"textposition\":\"auto\",\"x\":[\"Blood\",\"Bone Marrow\"],\"xaxis\":\"x\",\"y\":[1579,1502],\"yaxis\":\"y\",\"type\":\"bar\"},{\"alignmentgroup\":\"True\",\"hovertemplate\":\"project.project_id=MP2PRT-WT\\u003cbr\\u003eAnatomic site=%{x}\\u003cbr\\u003eNumber of cases=%{y}\\u003cextra\\u003e\\u003c\\u002fextra\\u003e\",\"legendgroup\":\"MP2PRT-WT\",\"marker\":{\"color\":\"#ab63fa\",\"pattern\":{\"shape\":\"\"}},\"name\":\"MP2PRT-WT\",\"offsetgroup\":\"MP2PRT-WT\",\"orientation\":\"v\",\"showlegend\":true,\"textposition\":\"auto\",\"x\":[\"Abdomen\",\"Blood\",\"Brain\",\"Kidney\",\"Liver\",\"Lung\"],\"xaxis\":\"x\",\"y\":[21,44,1,54,2,27],\"yaxis\":\"y\",\"type\":\"bar\"},{\"alignmentgroup\":\"True\",\"hovertemplate\":\"project.project_id=REBC-THYR\\u003cbr\\u003eAnatomic site=%{x}\\u003cbr\\u003eNumber of cases=%{y}\\u003cextra\\u003e\\u003c\\u002fextra\\u003e\",\"legendgroup\":\"REBC-THYR\",\"marker\":{\"color\":\"#FFA15A\",\"pattern\":{\"shape\":\"\"}},\"name\":\"REBC-THYR\",\"offsetgroup\":\"REBC-THYR\",\"orientation\":\"v\",\"showlegend\":true,\"textposition\":\"auto\",\"x\":[\"Thyroid\"],\"xaxis\":\"x\",\"y\":[254],\"yaxis\":\"y\",\"type\":\"bar\"},{\"alignmentgroup\":\"True\",\"hovertemplate\":\"project.project_id=WCDT-MCRPC\\u003cbr\\u003eAnatomic site=%{x}\\u003cbr\\u003eNumber of cases=%{y}\\u003cextra\\u003e\\u003c\\u002fextra\\u003e\",\"legendgroup\":\"WCDT-MCRPC\",\"marker\":{\"color\":\"#19d3f3\",\"pattern\":{\"shape\":\"\"}},\"name\":\"WCDT-MCRPC\",\"offsetgroup\":\"WCDT-MCRPC\",\"orientation\":\"v\",\"showlegend\":true,\"textposition\":\"auto\",\"x\":[\"Blood\",\"Bone\",\"Liver\",\"Lymph Node\",\"Other\"],\"xaxis\":\"x\",\"y\":[101,53,10,38,8],\"yaxis\":\"y\",\"type\":\"bar\"}],                        {\"template\":{\"data\":{\"histogram2dcontour\":[{\"type\":\"histogram2dcontour\",\"colorbar\":{\"outlinewidth\":0,\"ticks\":\"\"},\"colorscale\":[[0.0,\"#0d0887\"],[0.1111111111111111,\"#46039f\"],[0.2222222222222222,\"#7201a8\"],[0.3333333333333333,\"#9c179e\"],[0.4444444444444444,\"#bd3786\"],[0.5555555555555556,\"#d8576b\"],[0.6666666666666666,\"#ed7953\"],[0.7777777777777778,\"#fb9f3a\"],[0.8888888888888888,\"#fdca26\"],[1.0,\"#f0f921\"]]}],\"choropleth\":[{\"type\":\"choropleth\",\"colorbar\":{\"outlinewidth\":0,\"ticks\":\"\"}}],\"histogram2d\":[{\"type\":\"histogram2d\",\"colorbar\":{\"outlinewidth\":0,\"ticks\":\"\"},\"colorscale\":[[0.0,\"#0d0887\"],[0.1111111111111111,\"#46039f\"],[0.2222222222222222,\"#7201a8\"],[0.3333333333333333,\"#9c179e\"],[0.4444444444444444,\"#bd3786\"],[0.5555555555555556,\"#d8576b\"],[0.6666666666666666,\"#ed7953\"],[0.7777777777777778,\"#fb9f3a\"],[0.8888888888888888,\"#fdca26\"],[1.0,\"#f0f921\"]]}],\"heatmap\":[{\"type\":\"heatmap\",\"colorbar\":{\"outlinewidth\":0,\"ticks\":\"\"},\"colorscale\":[[0.0,\"#0d0887\"],[0.1111111111111111,\"#46039f\"],[0.2222222222222222,\"#7201a8\"],[0.3333333333333333,\"#9c179e\"],[0.4444444444444444,\"#bd3786\"],[0.5555555555555556,\"#d8576b\"],[0.6666666666666666,\"#ed7953\"],[0.7777777777777778,\"#fb9f3a\"],[0.8888888888888888,\"#fdca26\"],[1.0,\"#f0f921\"]]}],\"heatmapgl\":[{\"type\":\"heatmapgl\",\"colorbar\":{\"outlinewidth\":0,\"ticks\":\"\"},\"colorscale\":[[0.0,\"#0d0887\"],[0.1111111111111111,\"#46039f\"],[0.2222222222222222,\"#7201a8\"],[0.3333333333333333,\"#9c179e\"],[0.4444444444444444,\"#bd3786\"],[0.5555555555555556,\"#d8576b\"],[0.6666666666666666,\"#ed7953\"],[0.7777777777777778,\"#fb9f3a\"],[0.8888888888888888,\"#fdca26\"],[1.0,\"#f0f921\"]]}],\"contourcarpet\":[{\"type\":\"contourcarpet\",\"colorbar\":{\"outlinewidth\":0,\"ticks\":\"\"}}],\"contour\":[{\"type\":\"contour\",\"colorbar\":{\"outlinewidth\":0,\"ticks\":\"\"},\"colorscale\":[[0.0,\"#0d0887\"],[0.1111111111111111,\"#46039f\"],[0.2222222222222222,\"#7201a8\"],[0.3333333333333333,\"#9c179e\"],[0.4444444444444444,\"#bd3786\"],[0.5555555555555556,\"#d8576b\"],[0.6666666666666666,\"#ed7953\"],[0.7777777777777778,\"#fb9f3a\"],[0.8888888888888888,\"#fdca26\"],[1.0,\"#f0f921\"]]}],\"surface\":[{\"type\":\"surface\",\"colorbar\":{\"outlinewidth\":0,\"ticks\":\"\"},\"colorscale\":[[0.0,\"#0d0887\"],[0.1111111111111111,\"#46039f\"],[0.2222222222222222,\"#7201a8\"],[0.3333333333333333,\"#9c179e\"],[0.4444444444444444,\"#bd3786\"],[0.5555555555555556,\"#d8576b\"],[0.6666666666666666,\"#ed7953\"],[0.7777777777777778,\"#fb9f3a\"],[0.8888888888888888,\"#fdca26\"],[1.0,\"#f0f921\"]]}],\"mesh3d\":[{\"type\":\"mesh3d\",\"colorbar\":{\"outlinewidth\":0,\"ticks\":\"\"}}],\"scatter\":[{\"fillpattern\":{\"fillmode\":\"overlay\",\"size\":10,\"solidity\":0.2},\"type\":\"scatter\"}],\"parcoords\":[{\"type\":\"parcoords\",\"line\":{\"colorbar\":{\"outlinewidth\":0,\"ticks\":\"\"}}}],\"scatterpolargl\":[{\"type\":\"scatterpolargl\",\"marker\":{\"colorbar\":{\"outlinewidth\":0,\"ticks\":\"\"}}}],\"bar\":[{\"error_x\":{\"color\":\"#2a3f5f\"},\"error_y\":{\"color\":\"#2a3f5f\"},\"marker\":{\"line\":{\"color\":\"#E5ECF6\",\"width\":0.5},\"pattern\":{\"fillmode\":\"overlay\",\"size\":10,\"solidity\":0.2}},\"type\":\"bar\"}],\"scattergeo\":[{\"type\":\"scattergeo\",\"marker\":{\"colorbar\":{\"outlinewidth\":0,\"ticks\":\"\"}}}],\"scatterpolar\":[{\"type\":\"scatterpolar\",\"marker\":{\"colorbar\":{\"outlinewidth\":0,\"ticks\":\"\"}}}],\"histogram\":[{\"marker\":{\"pattern\":{\"fillmode\":\"overlay\",\"size\":10,\"solidity\":0.2}},\"type\":\"histogram\"}],\"scattergl\":[{\"type\":\"scattergl\",\"marker\":{\"colorbar\":{\"outlinewidth\":0,\"ticks\":\"\"}}}],\"scatter3d\":[{\"type\":\"scatter3d\",\"line\":{\"colorbar\":{\"outlinewidth\":0,\"ticks\":\"\"}},\"marker\":{\"colorbar\":{\"outlinewidth\":0,\"ticks\":\"\"}}}],\"scattermapbox\":[{\"type\":\"scattermapbox\",\"marker\":{\"colorbar\":{\"outlinewidth\":0,\"ticks\":\"\"}}}],\"scatterternary\":[{\"type\":\"scatterternary\",\"marker\":{\"colorbar\":{\"outlinewidth\":0,\"ticks\":\"\"}}}],\"scattercarpet\":[{\"type\":\"scattercarpet\",\"marker\":{\"colorbar\":{\"outlinewidth\":0,\"ticks\":\"\"}}}],\"carpet\":[{\"aaxis\":{\"endlinecolor\":\"#2a3f5f\",\"gridcolor\":\"white\",\"linecolor\":\"white\",\"minorgridcolor\":\"white\",\"startlinecolor\":\"#2a3f5f\"},\"baxis\":{\"endlinecolor\":\"#2a3f5f\",\"gridcolor\":\"white\",\"linecolor\":\"white\",\"minorgridcolor\":\"white\",\"startlinecolor\":\"#2a3f5f\"},\"type\":\"carpet\"}],\"table\":[{\"cells\":{\"fill\":{\"color\":\"#EBF0F8\"},\"line\":{\"color\":\"white\"}},\"header\":{\"fill\":{\"color\":\"#C8D4E3\"},\"line\":{\"color\":\"white\"}},\"type\":\"table\"}],\"barpolar\":[{\"marker\":{\"line\":{\"color\":\"#E5ECF6\",\"width\":0.5},\"pattern\":{\"fillmode\":\"overlay\",\"size\":10,\"solidity\":0.2}},\"type\":\"barpolar\"}],\"pie\":[{\"automargin\":true,\"type\":\"pie\"}]},\"layout\":{\"autotypenumbers\":\"strict\",\"colorway\":[\"#636efa\",\"#EF553B\",\"#00cc96\",\"#ab63fa\",\"#FFA15A\",\"#19d3f3\",\"#FF6692\",\"#B6E880\",\"#FF97FF\",\"#FECB52\"],\"font\":{\"color\":\"#2a3f5f\"},\"hovermode\":\"closest\",\"hoverlabel\":{\"align\":\"left\"},\"paper_bgcolor\":\"white\",\"plot_bgcolor\":\"#E5ECF6\",\"polar\":{\"bgcolor\":\"#E5ECF6\",\"angularaxis\":{\"gridcolor\":\"white\",\"linecolor\":\"white\",\"ticks\":\"\"},\"radialaxis\":{\"gridcolor\":\"white\",\"linecolor\":\"white\",\"ticks\":\"\"}},\"ternary\":{\"bgcolor\":\"#E5ECF6\",\"aaxis\":{\"gridcolor\":\"white\",\"linecolor\":\"white\",\"ticks\":\"\"},\"baxis\":{\"gridcolor\":\"white\",\"linecolor\":\"white\",\"ticks\":\"\"},\"caxis\":{\"gridcolor\":\"white\",\"linecolor\":\"white\",\"ticks\":\"\"}},\"coloraxis\":{\"colorbar\":{\"outlinewidth\":0,\"ticks\":\"\"}},\"colorscale\":{\"sequential\":[[0.0,\"#0d0887\"],[0.1111111111111111,\"#46039f\"],[0.2222222222222222,\"#7201a8\"],[0.3333333333333333,\"#9c179e\"],[0.4444444444444444,\"#bd3786\"],[0.5555555555555556,\"#d8576b\"],[0.6666666666666666,\"#ed7953\"],[0.7777777777777778,\"#fb9f3a\"],[0.8888888888888888,\"#fdca26\"],[1.0,\"#f0f921\"]],\"sequentialminus\":[[0.0,\"#0d0887\"],[0.1111111111111111,\"#46039f\"],[0.2222222222222222,\"#7201a8\"],[0.3333333333333333,\"#9c179e\"],[0.4444444444444444,\"#bd3786\"],[0.5555555555555556,\"#d8576b\"],[0.6666666666666666,\"#ed7953\"],[0.7777777777777778,\"#fb9f3a\"],[0.8888888888888888,\"#fdca26\"],[1.0,\"#f0f921\"]],\"diverging\":[[0,\"#8e0152\"],[0.1,\"#c51b7d\"],[0.2,\"#de77ae\"],[0.3,\"#f1b6da\"],[0.4,\"#fde0ef\"],[0.5,\"#f7f7f7\"],[0.6,\"#e6f5d0\"],[0.7,\"#b8e186\"],[0.8,\"#7fbc41\"],[0.9,\"#4d9221\"],[1,\"#276419\"]]},\"xaxis\":{\"gridcolor\":\"white\",\"linecolor\":\"white\",\"ticks\":\"\",\"title\":{\"standoff\":15},\"zerolinecolor\":\"white\",\"automargin\":true,\"zerolinewidth\":2},\"yaxis\":{\"gridcolor\":\"white\",\"linecolor\":\"white\",\"ticks\":\"\",\"title\":{\"standoff\":15},\"zerolinecolor\":\"white\",\"automargin\":true,\"zerolinewidth\":2},\"scene\":{\"xaxis\":{\"backgroundcolor\":\"#E5ECF6\",\"gridcolor\":\"white\",\"linecolor\":\"white\",\"showbackground\":true,\"ticks\":\"\",\"zerolinecolor\":\"white\",\"gridwidth\":2},\"yaxis\":{\"backgroundcolor\":\"#E5ECF6\",\"gridcolor\":\"white\",\"linecolor\":\"white\",\"showbackground\":true,\"ticks\":\"\",\"zerolinecolor\":\"white\",\"gridwidth\":2},\"zaxis\":{\"backgroundcolor\":\"#E5ECF6\",\"gridcolor\":\"white\",\"linecolor\":\"white\",\"showbackground\":true,\"ticks\":\"\",\"zerolinecolor\":\"white\",\"gridwidth\":2}},\"shapedefaults\":{\"line\":{\"color\":\"#2a3f5f\"}},\"annotationdefaults\":{\"arrowcolor\":\"#2a3f5f\",\"arrowhead\":0,\"arrowwidth\":1},\"geo\":{\"bgcolor\":\"white\",\"landcolor\":\"#E5ECF6\",\"subunitcolor\":\"white\",\"showland\":true,\"showlakes\":true,\"lakecolor\":\"white\"},\"title\":{\"x\":0.05},\"mapbox\":{\"style\":\"light\"}}},\"xaxis\":{\"anchor\":\"y\",\"domain\":[0.0,1.0],\"title\":{\"text\":\"Anatomic site\"},\"categoryorder\":\"array\",\"categoryarray\":[\"Blood\",\"Bone Marrow\",\"Lung\",\"Kidney\",\"Uterus\",\"Breast\",\"Liver\",\"Pancreas\",\"Thyroid\",\"Other\",\"Brain\",\"Prostate\",\"Lymph Node\",\"Frontal Lobe\",\"Bone\",\"Tongue\",\"Soft Tissue\",\"Cerebrum\",\"Maxilla\",\"Abdomen\",\"Chest Wall\",\"Lymph Node(s) Axilla\",\"Abdominal Wall\",\"Pelvis\"]},\"yaxis\":{\"anchor\":\"x\",\"domain\":[0.0,1.0],\"title\":{\"text\":\"Number of cases\"}},\"legend\":{\"title\":{\"text\":\"project.project_id\"},\"tracegroupgap\":0},\"title\":{\"text\":\"Biospecimen anatomic site breakdown by projects from TCGA\"},\"barmode\":\"relative\"},                        {\"responsive\": true}                    ).then(function(){\n",
       "                            \n",
       "var gd = document.getElementById('934f92ef-1fa8-4d2c-b1a8-f512f061e080');\n",
       "var x = new MutationObserver(function (mutations, observer) {{\n",
       "        var display = window.getComputedStyle(gd).display;\n",
       "        if (!display || display === 'none') {{\n",
       "            console.log([gd, 'removed!']);\n",
       "            Plotly.purge(gd);\n",
       "            observer.disconnect();\n",
       "        }}\n",
       "}});\n",
       "\n",
       "// Listen for the removal of the full notebook cells\n",
       "var notebookContainer = gd.closest('#notebook-container');\n",
       "if (notebookContainer) {{\n",
       "    x.observe(notebookContainer, {childList: true});\n",
       "}}\n",
       "\n",
       "// Listen for the clearing of the current output cell\n",
       "var outputEl = gd.closest('.output');\n",
       "if (outputEl) {{\n",
       "    x.observe(outputEl, {childList: true});\n",
       "}}\n",
       "\n",
       "                        })                };                });            </script>        </div>"
      ]
     },
     "metadata": {},
     "output_type": "display_data"
    }
   ],
   "source": [
    "fig = px.bar(sites_df[sites_df['samples.biospecimen_anatomic_site'].isin(selected_sites)], \n",
    "             x='samples.biospecimen_anatomic_site', \n",
    "             y='cases.case_id',\n",
    "             color='project.project_id',\n",
    "             category_orders={'samples.biospecimen_anatomic_site': axis_order['samples.biospecimen_anatomic_site'].values},\n",
    "             title='Biospecimen anatomic site breakdown by projects from TCGA',\n",
    "             labels={'cases.case_id': 'Number of cases', 'samples.biospecimen_anatomic_site': 'Anatomic site'})\n",
    "fig.show()"
   ]
  },
  {
   "cell_type": "code",
   "execution_count": null,
   "id": "577a0c21-696e-47aa-a3e8-26e962189b97",
   "metadata": {},
   "outputs": [],
   "source": []
  }
 ],
 "metadata": {
  "kernelspec": {
   "display_name": "Python 3 (ipykernel)",
   "language": "python",
   "name": "python3"
  },
  "language_info": {
   "codemirror_mode": {
    "name": "ipython",
    "version": 3
   },
   "file_extension": ".py",
   "mimetype": "text/x-python",
   "name": "python",
   "nbconvert_exporter": "python",
   "pygments_lexer": "ipython3",
   "version": "3.12.4"
  }
 },
 "nbformat": 4,
 "nbformat_minor": 5
}
